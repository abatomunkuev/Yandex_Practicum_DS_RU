{
 "cells": [
  {
   "cell_type": "markdown",
   "metadata": {},
   "source": [
    "<div class=\"alert alert-success\">\n",
    "<h2> Комментарий ревьюера </h2>\n",
    "\n",
    "Привет! Спасибо, что прислал задание:) Поздравляю с приближением к концу первого модуля. Меня зовут Слепцов Артем и я буду проверять твой проект) Ты проделал большую работу над проектом, однако его еще можно улучшить. Будет здорово, если ты, надеюсь, не против, если я буду на ты,  будешь отвечать на комментарии и участвовать в диалоге. \n",
    "\n",
    "Мои комментарии обозначены пометкой **Комментарий ревьюера**. Далее в файле ты сможешь найти их в похожих ячейках (если фон комментария <font color=green>зелёный</font> - всё сделано правильно. Рекомендации укажу таким же цветом; <font color=orange>оранжевый</font> - некритичные замечания. Если таких замечаний меньше трех - проект может быть принят без их отработки; <font color=red>красный</font> - нужно переделать). Не удаляй эти комментарии и постарайся учесть их в ходе выполнения данного проекта. \n",
    "</div>"
   ]
  },
  {
   "cell_type": "markdown",
   "metadata": {},
   "source": [
    "# Сборный проект"
   ]
  },
  {
   "cell_type": "markdown",
   "metadata": {},
   "source": [
    "<br>"
   ]
  },
  {
   "cell_type": "markdown",
   "metadata": {},
   "source": [
    "# Проект \"Выявление закономерностей определяющие успешность игры\""
   ]
  },
  {
   "cell_type": "markdown",
   "metadata": {},
   "source": [
    "## Описание проекта\n",
    "В нашем распоряжении данные с открытых источников о продажах игр, оценки пользователей и экспертов, жанры и платформы. Необходимо помочь глобальному интернет-магазину \"Стримчик\" найти потенциально популярный продукт, что позволит им спланировать рекламные кампании.\n",
    "\n",
    "Входные данные с открытых источников 2016 года - исторические данные о продажах игр, оценки пользователей и экспертов, жанры и платформы. \n",
    "\n",
    "## Цель проекта\n",
    "Необходимо выявить определяющие успешность игры закономерности. "
   ]
  },
  {
   "cell_type": "markdown",
   "metadata": {},
   "source": [
    "## План работы\n",
    "1. [Обзор данных](#review)\n",
    "2. [Предобработка данных](#data-preprocessing)\n",
    "    * [Обработка столбцов](#columns)\n",
    "    * [Обработка пропущенных значений](#missingValues)\n",
    "    * [Обработка дупликатов](#duplicatedValues)\n",
    "    * [Изменение типов данных](#changingDataTypes)\n",
    "    * [Поиск и обработка аномальных значений](#abnormalValues1)\n",
    "    * [Дополнительная подготовка данных к исследованию](#extraDataPreparation)\n",
    "3. [Проведение исследовательского анализа данных](#eda)\n",
    "    * [Сколько игр выпускалось в разные годы](#howManyPerYear)\n",
    "    * [Как менялись продажи по платформам](#diffPlatformPerSales)\n",
    "    * [Определение актуального периода](#demandPeriod)\n",
    "    * [Лидирующие платформы, поиск перспективных платформ](#leaderPlatform&SearchProspective)\n",
    "    * [Распределение по глобальным продажам в разбивке по платформам](#distGlobalSalesPerPlatform)\n",
    "    * [Влияние отзывов пользователей и критиков на продажи](#userCritcScoreImpact)\n",
    "    * [Распределение игр по жанрам](#gameDistPerGenre)\n",
    "4. [Проведение статистического анализа данных](#sda)\n",
    "    * [Портрет пользователя каждого региона](#userPortrait)\n",
    "    * [Топ-5 популярных платформ по регионам](#top5_platforms_regions)\n",
    "    * [Топ-5 популярных жанров по регионам](#top_5_genres_regions)\n",
    "    * [Влияет ли рейтинг ESRB на продажи ?](#esrb_impact_sales)\n",
    "5. [Проверка гипотез](#hypotheses)\n",
    "    * [Средние пользовательские рейтинги платформ Xbox One и PC равны](#averageUserScore_XOne_PC)\n",
    "    * [Средние пользовательские рейтинги жанров Action и Sports разные](#averageUserScore_Action_Sports)\n",
    "6. [Результаты исследования](#results)"
   ]
  },
  {
   "cell_type": "markdown",
   "metadata": {},
   "source": [
    "<br>"
   ]
  },
  {
   "cell_type": "markdown",
   "metadata": {},
   "source": [
    "<div class=\"alert alert-success\">\n",
    "<h2> Комментарий ревьюера</h2>\n",
    "\n",
    "Вступление в работу очень важно. Так ты поясняешь то, чему она посвящена. Стоит также описать те данные, с которыми мы работаем. Описание мы знаем еще до считывания данных.\n",
    "</div>"
   ]
  },
  {
   "cell_type": "markdown",
   "metadata": {},
   "source": [
    "<div class=\"alert alert-info\"> <b>Комментарий студента:</b> Добрый день Артем! Передвинул описание данных наверх.(раньше описание данных было в 1-ом этапе) </div>"
   ]
  },
  {
   "cell_type": "markdown",
   "metadata": {},
   "source": [
    "<a id=\"review\"></a>\n",
    "# Этап 1 - Обзор данных"
   ]
  },
  {
   "cell_type": "markdown",
   "metadata": {},
   "source": [
    "## Импорт библиотек"
   ]
  },
  {
   "cell_type": "code",
   "execution_count": 1,
   "metadata": {},
   "outputs": [],
   "source": [
    "import pandas as pd\n",
    "import numpy as np\n",
    "# Для чтения файла\n",
    "import os \n",
    "from pathlib import Path\n",
    "import urllib\n",
    "# Для визуализации графиков\n",
    "import matplotlib.pyplot as plt\n",
    "import seaborn as sns\n",
    "# Для проверки гипотез\n",
    "from scipy import stats as st"
   ]
  },
  {
   "cell_type": "markdown",
   "metadata": {},
   "source": [
    "<div class=\"alert alert-success\">\n",
    "<h2> Комментарий ревьюера</h2>\n",
    "\n",
    "Правильно, что весь импорт ты проводишь в первой ячейке работы. Так твой коллега, запускающий работу, будет в курсе используемых в ней библиотек и сможет при необходимости быстро настроить окружение. \n",
    "\n",
    "</div>"
   ]
  },
  {
   "cell_type": "markdown",
   "metadata": {},
   "source": [
    "Прочитаем предоставленный файл. Сохраним их в соотвествующую переменную."
   ]
  },
  {
   "cell_type": "code",
   "execution_count": 2,
   "metadata": {},
   "outputs": [],
   "source": [
    "Path('datasets').mkdir(parents=True, exist_ok=True)\n",
    "\n",
    "#Создаем функцию для чтения файла\n",
    "def get_file(file_name, url):\n",
    "    # Проверяем есть ли файл\n",
    "    if not os.path.exists(file_name):\n",
    "        print(file_name,'файл не найден, будет загружен из сети')\n",
    "        # качаем файл по ссылке url, кладем по пути file_name\n",
    "        # загружаем с помощью библиотеки urllib\n",
    "        _ = urllib.request.urlretrieve(url, file_name)\n",
    "\n",
    "# Словарь с именем файла и ссылкой на него\n",
    "urls = {\n",
    "    'data': ('datasets/games.csv', 'https://code.s3.yandex.net/datasets/games.csv')\n",
    "}\n",
    "[get_file(*urls[k]) for k in urls]\n",
    "[get_file(urls[k][0], urls[k][1]) for k in urls]\n",
    "\n",
    "# сохраним полученный из файла датафрейм в \"game_stats\"\n",
    "games_stats = pd.read_csv(urls['data'][0],sep=',')"
   ]
  },
  {
   "cell_type": "markdown",
   "metadata": {},
   "source": [
    "Изучим наши данные. Выведем первые 10 строк."
   ]
  },
  {
   "cell_type": "code",
   "execution_count": 3,
   "metadata": {},
   "outputs": [
    {
     "data": {
      "text/html": [
       "<div>\n",
       "<style scoped>\n",
       "    .dataframe tbody tr th:only-of-type {\n",
       "        vertical-align: middle;\n",
       "    }\n",
       "\n",
       "    .dataframe tbody tr th {\n",
       "        vertical-align: top;\n",
       "    }\n",
       "\n",
       "    .dataframe thead th {\n",
       "        text-align: right;\n",
       "    }\n",
       "</style>\n",
       "<table border=\"1\" class=\"dataframe\">\n",
       "  <thead>\n",
       "    <tr style=\"text-align: right;\">\n",
       "      <th></th>\n",
       "      <th>Name</th>\n",
       "      <th>Platform</th>\n",
       "      <th>Year_of_Release</th>\n",
       "      <th>Genre</th>\n",
       "      <th>NA_sales</th>\n",
       "      <th>EU_sales</th>\n",
       "      <th>JP_sales</th>\n",
       "      <th>Other_sales</th>\n",
       "      <th>Critic_Score</th>\n",
       "      <th>User_Score</th>\n",
       "      <th>Rating</th>\n",
       "    </tr>\n",
       "  </thead>\n",
       "  <tbody>\n",
       "    <tr>\n",
       "      <td>0</td>\n",
       "      <td>Wii Sports</td>\n",
       "      <td>Wii</td>\n",
       "      <td>2006.0</td>\n",
       "      <td>Sports</td>\n",
       "      <td>41.36</td>\n",
       "      <td>28.96</td>\n",
       "      <td>3.77</td>\n",
       "      <td>8.45</td>\n",
       "      <td>76.0</td>\n",
       "      <td>8</td>\n",
       "      <td>E</td>\n",
       "    </tr>\n",
       "    <tr>\n",
       "      <td>1</td>\n",
       "      <td>Super Mario Bros.</td>\n",
       "      <td>NES</td>\n",
       "      <td>1985.0</td>\n",
       "      <td>Platform</td>\n",
       "      <td>29.08</td>\n",
       "      <td>3.58</td>\n",
       "      <td>6.81</td>\n",
       "      <td>0.77</td>\n",
       "      <td>NaN</td>\n",
       "      <td>NaN</td>\n",
       "      <td>NaN</td>\n",
       "    </tr>\n",
       "    <tr>\n",
       "      <td>2</td>\n",
       "      <td>Mario Kart Wii</td>\n",
       "      <td>Wii</td>\n",
       "      <td>2008.0</td>\n",
       "      <td>Racing</td>\n",
       "      <td>15.68</td>\n",
       "      <td>12.76</td>\n",
       "      <td>3.79</td>\n",
       "      <td>3.29</td>\n",
       "      <td>82.0</td>\n",
       "      <td>8.3</td>\n",
       "      <td>E</td>\n",
       "    </tr>\n",
       "    <tr>\n",
       "      <td>3</td>\n",
       "      <td>Wii Sports Resort</td>\n",
       "      <td>Wii</td>\n",
       "      <td>2009.0</td>\n",
       "      <td>Sports</td>\n",
       "      <td>15.61</td>\n",
       "      <td>10.93</td>\n",
       "      <td>3.28</td>\n",
       "      <td>2.95</td>\n",
       "      <td>80.0</td>\n",
       "      <td>8</td>\n",
       "      <td>E</td>\n",
       "    </tr>\n",
       "    <tr>\n",
       "      <td>4</td>\n",
       "      <td>Pokemon Red/Pokemon Blue</td>\n",
       "      <td>GB</td>\n",
       "      <td>1996.0</td>\n",
       "      <td>Role-Playing</td>\n",
       "      <td>11.27</td>\n",
       "      <td>8.89</td>\n",
       "      <td>10.22</td>\n",
       "      <td>1.00</td>\n",
       "      <td>NaN</td>\n",
       "      <td>NaN</td>\n",
       "      <td>NaN</td>\n",
       "    </tr>\n",
       "    <tr>\n",
       "      <td>5</td>\n",
       "      <td>Tetris</td>\n",
       "      <td>GB</td>\n",
       "      <td>1989.0</td>\n",
       "      <td>Puzzle</td>\n",
       "      <td>23.20</td>\n",
       "      <td>2.26</td>\n",
       "      <td>4.22</td>\n",
       "      <td>0.58</td>\n",
       "      <td>NaN</td>\n",
       "      <td>NaN</td>\n",
       "      <td>NaN</td>\n",
       "    </tr>\n",
       "    <tr>\n",
       "      <td>6</td>\n",
       "      <td>New Super Mario Bros.</td>\n",
       "      <td>DS</td>\n",
       "      <td>2006.0</td>\n",
       "      <td>Platform</td>\n",
       "      <td>11.28</td>\n",
       "      <td>9.14</td>\n",
       "      <td>6.50</td>\n",
       "      <td>2.88</td>\n",
       "      <td>89.0</td>\n",
       "      <td>8.5</td>\n",
       "      <td>E</td>\n",
       "    </tr>\n",
       "    <tr>\n",
       "      <td>7</td>\n",
       "      <td>Wii Play</td>\n",
       "      <td>Wii</td>\n",
       "      <td>2006.0</td>\n",
       "      <td>Misc</td>\n",
       "      <td>13.96</td>\n",
       "      <td>9.18</td>\n",
       "      <td>2.93</td>\n",
       "      <td>2.84</td>\n",
       "      <td>58.0</td>\n",
       "      <td>6.6</td>\n",
       "      <td>E</td>\n",
       "    </tr>\n",
       "    <tr>\n",
       "      <td>8</td>\n",
       "      <td>New Super Mario Bros. Wii</td>\n",
       "      <td>Wii</td>\n",
       "      <td>2009.0</td>\n",
       "      <td>Platform</td>\n",
       "      <td>14.44</td>\n",
       "      <td>6.94</td>\n",
       "      <td>4.70</td>\n",
       "      <td>2.24</td>\n",
       "      <td>87.0</td>\n",
       "      <td>8.4</td>\n",
       "      <td>E</td>\n",
       "    </tr>\n",
       "    <tr>\n",
       "      <td>9</td>\n",
       "      <td>Duck Hunt</td>\n",
       "      <td>NES</td>\n",
       "      <td>1984.0</td>\n",
       "      <td>Shooter</td>\n",
       "      <td>26.93</td>\n",
       "      <td>0.63</td>\n",
       "      <td>0.28</td>\n",
       "      <td>0.47</td>\n",
       "      <td>NaN</td>\n",
       "      <td>NaN</td>\n",
       "      <td>NaN</td>\n",
       "    </tr>\n",
       "  </tbody>\n",
       "</table>\n",
       "</div>"
      ],
      "text/plain": [
       "                        Name Platform  Year_of_Release         Genre  \\\n",
       "0                 Wii Sports      Wii           2006.0        Sports   \n",
       "1          Super Mario Bros.      NES           1985.0      Platform   \n",
       "2             Mario Kart Wii      Wii           2008.0        Racing   \n",
       "3          Wii Sports Resort      Wii           2009.0        Sports   \n",
       "4   Pokemon Red/Pokemon Blue       GB           1996.0  Role-Playing   \n",
       "5                     Tetris       GB           1989.0        Puzzle   \n",
       "6      New Super Mario Bros.       DS           2006.0      Platform   \n",
       "7                   Wii Play      Wii           2006.0          Misc   \n",
       "8  New Super Mario Bros. Wii      Wii           2009.0      Platform   \n",
       "9                  Duck Hunt      NES           1984.0       Shooter   \n",
       "\n",
       "   NA_sales  EU_sales  JP_sales  Other_sales  Critic_Score User_Score Rating  \n",
       "0     41.36     28.96      3.77         8.45          76.0          8      E  \n",
       "1     29.08      3.58      6.81         0.77           NaN        NaN    NaN  \n",
       "2     15.68     12.76      3.79         3.29          82.0        8.3      E  \n",
       "3     15.61     10.93      3.28         2.95          80.0          8      E  \n",
       "4     11.27      8.89     10.22         1.00           NaN        NaN    NaN  \n",
       "5     23.20      2.26      4.22         0.58           NaN        NaN    NaN  \n",
       "6     11.28      9.14      6.50         2.88          89.0        8.5      E  \n",
       "7     13.96      9.18      2.93         2.84          58.0        6.6      E  \n",
       "8     14.44      6.94      4.70         2.24          87.0        8.4      E  \n",
       "9     26.93      0.63      0.28         0.47           NaN        NaN    NaN  "
      ]
     },
     "execution_count": 3,
     "metadata": {},
     "output_type": "execute_result"
    }
   ],
   "source": [
    "pd.set_option('display.max_columns', None)\n",
    "games_stats.head(10)"
   ]
  },
  {
   "cell_type": "markdown",
   "metadata": {},
   "source": [
    "Выведем общую информацию о таблице"
   ]
  },
  {
   "cell_type": "code",
   "execution_count": 4,
   "metadata": {},
   "outputs": [
    {
     "name": "stdout",
     "output_type": "stream",
     "text": [
      "<class 'pandas.core.frame.DataFrame'>\n",
      "RangeIndex: 16715 entries, 0 to 16714\n",
      "Data columns (total 11 columns):\n",
      "Name               16713 non-null object\n",
      "Platform           16715 non-null object\n",
      "Year_of_Release    16446 non-null float64\n",
      "Genre              16713 non-null object\n",
      "NA_sales           16715 non-null float64\n",
      "EU_sales           16715 non-null float64\n",
      "JP_sales           16715 non-null float64\n",
      "Other_sales        16715 non-null float64\n",
      "Critic_Score       8137 non-null float64\n",
      "User_Score         10014 non-null object\n",
      "Rating             9949 non-null object\n",
      "dtypes: float64(6), object(5)\n",
      "memory usage: 1.4+ MB\n"
     ]
    }
   ],
   "source": [
    "games_stats.info()"
   ]
  },
  {
   "cell_type": "markdown",
   "metadata": {},
   "source": [
    "Рассмотрим информацию по подробнее. Всего в таблице 11 столбцов. Типы данных различаются между столбцами (`float64, object`).Разберем какие столбцы в нашей таблице и какую информацию они содержат:\n",
    "* `Name` - название игры\n",
    "* `Platform` - платформа\n",
    "* `Year_of_Release` - год выпуска\n",
    "* `Genre` - жанр игры\n",
    "* `NA_sales` - продажи в Северной Америке (миллионы проданных копий)\n",
    "* `EU_sales` - продажи в Европе (миллионы проданных копий)\n",
    "* `JP_sales` - продажи в Японии (миллионы проданных копий)\n",
    "* `Other_sales` - продажи в других странах (миллионы проданных копий)\n",
    "* `Critic_Score` - оценка критиков (максимум 100)\n",
    "* `User_Score` - оценка пользователей (максимум 10)\n",
    "* `Rating` - рейтинг организации ESRB (Entertainment Software Rating Board), определяющая рейтинг игры и подходящую возрастную категорию"
   ]
  },
  {
   "cell_type": "markdown",
   "metadata": {},
   "source": [
    "## Вывод"
   ]
  },
  {
   "cell_type": "markdown",
   "metadata": {},
   "source": [
    "На первый взгляд видно ,что необходимо обработать пропущенные значения, особенно в столбцах: *Critic_Score*,*User_Score*,*Rating*.Пропущенные значения говорят нам о том, что у нас есть проблема в записи данных и выгрузке данных Необходимо понять природу пропущенных значений, чем они вызваны. Скорее всего для столбцов *Critic_Score* и *User_Score* - пропуски не случайны, скорее всего игра еще не получила оценку от пользователей и критиков. Отрицательных значений вроде бы нет, однако, следует проверить. Количество значений в столбцах различается. Также, необходимо проверить есть ли дупликаты. По поводу столбцов, столбцы записаны в разном регистре, необходимо привести все столбцы в один регистр. Обратим внимание на столбец *Year_of_Release*,год записан в виде строки необходимо заменить тип данных. Столбец *User_Score* содержит значения с плавающей точкой(*float*), хотя тип данных у столбца *object*.  Проблемы которые нужно решить:\n",
    "\n",
    "1. Обработать столбцы.\n",
    "2. Обработать пропущенные значения.\n",
    "3. Обработать дупликаты, если есть.\n",
    "4. Заменить типы данных."
   ]
  },
  {
   "cell_type": "markdown",
   "metadata": {},
   "source": [
    "Каждая строка таблицы представляет информацию о видеоигре: название, платформа, год выпуска, жанр игры, продажи в странах, оценка критиков и пользователей, рейтинг организации ESRB (возрастная категория)."
   ]
  },
  {
   "cell_type": "markdown",
   "metadata": {},
   "source": [
    "<br>"
   ]
  },
  {
   "cell_type": "markdown",
   "metadata": {},
   "source": [
    "---"
   ]
  },
  {
   "cell_type": "markdown",
   "metadata": {},
   "source": [
    "<div class=\"alert alert-success\">\n",
    "<h2> Комментарий ревьюера </h2>\n",
    "\n",
    "Подумай также о возможных причинах появления пропусков, а также о том, являются ли они случайными или нет. Можно высказать предварительные варианты их обработки. \n",
    "\n",
    "Первый взгляд на таблицу выполнен.\n",
    "\n",
    "</div>"
   ]
  },
  {
   "cell_type": "markdown",
   "metadata": {},
   "source": [
    "<div class=\"alert alert-info\"> <b>Комментарий студента:</b> Добавил в вывод причины пропущенных данных. </div>"
   ]
  },
  {
   "cell_type": "markdown",
   "metadata": {},
   "source": [
    "<a id=\"data-preprocessing\"></a>\n",
    "# Этап 2 - Предобработка данных"
   ]
  },
  {
   "cell_type": "markdown",
   "metadata": {},
   "source": [
    "Давайте устраним наши первые проблемы:обработаем столбцы и пропущенные значения,найдем и обработаем дупликаты, заменим типы данных."
   ]
  },
  {
   "cell_type": "markdown",
   "metadata": {},
   "source": [
    "<a id=\"columns\"></a>\n",
    "## Обработка столбцов"
   ]
  },
  {
   "cell_type": "markdown",
   "metadata": {},
   "source": [
    "Выведем все столбцы из таблицы"
   ]
  },
  {
   "cell_type": "code",
   "execution_count": 5,
   "metadata": {},
   "outputs": [
    {
     "data": {
      "text/plain": [
       "Index(['Name', 'Platform', 'Year_of_Release', 'Genre', 'NA_sales', 'EU_sales',\n",
       "       'JP_sales', 'Other_sales', 'Critic_Score', 'User_Score', 'Rating'],\n",
       "      dtype='object')"
      ]
     },
     "execution_count": 5,
     "metadata": {},
     "output_type": "execute_result"
    }
   ],
   "source": [
    "games_stats.columns"
   ]
  },
  {
   "cell_type": "markdown",
   "metadata": {},
   "source": [
    "Все столбцы записаны в разном регистре. Воспользуемся методом *rename()*. "
   ]
  },
  {
   "cell_type": "code",
   "execution_count": 6,
   "metadata": {},
   "outputs": [],
   "source": [
    "games_stats = games_stats.rename(columns={\"Name\":\"name\",\"Platform\":\"platform\",\"Year_of_Release\":\"year_of_release\",\"Genre\":\"genre\",\"NA_sales\":\"na_sales\",\"EU_sales\":\"eu_sales\",\"JP_sales\":\"jp_sales\"\n",
    "                           ,\"Other_sales\":\"other_sales\",\"Critic_Score\":\"critic_score\",\"User_Score\":\"user_score\",\"Rating\":\"rating\"})"
   ]
  },
  {
   "cell_type": "markdown",
   "metadata": {},
   "source": [
    "<div class=\"alert alert-warning\">\n",
    "<h2> Комментарий ревьюера </h2>\n",
    "\n",
    "Не надо переименовывать столбцы через атрибут columns, потому что так ты неявно учитываешь порядок столбцов. Если порядок столбцов поменяется, код перестанет работать. Используй вместо этого метод rename().\n",
    "    \n",
    "</div>"
   ]
  },
  {
   "cell_type": "markdown",
   "metadata": {},
   "source": [
    "Проверим результат."
   ]
  },
  {
   "cell_type": "code",
   "execution_count": 7,
   "metadata": {},
   "outputs": [
    {
     "data": {
      "text/plain": [
       "Index(['name', 'platform', 'year_of_release', 'genre', 'na_sales', 'eu_sales',\n",
       "       'jp_sales', 'other_sales', 'critic_score', 'user_score', 'rating'],\n",
       "      dtype='object')"
      ]
     },
     "execution_count": 7,
     "metadata": {},
     "output_type": "execute_result"
    }
   ],
   "source": [
    "games_stats.columns"
   ]
  },
  {
   "cell_type": "markdown",
   "metadata": {},
   "source": [
    "Отлично! Все наименования столбцов в одном регистре."
   ]
  },
  {
   "cell_type": "markdown",
   "metadata": {},
   "source": [
    "<a id=\"missingValues\"></a>\n",
    "## Обработка пропущенных значений"
   ]
  },
  {
   "cell_type": "markdown",
   "metadata": {},
   "source": [
    "Проверим данные на наличие пропущенных значений. В каких именно столбцах есть пропущенные значения. Воспользуемся набором методов *isna()* и *sum()*. "
   ]
  },
  {
   "cell_type": "code",
   "execution_count": 8,
   "metadata": {},
   "outputs": [
    {
     "data": {
      "text/plain": [
       "name                  2\n",
       "platform              0\n",
       "year_of_release     269\n",
       "genre                 2\n",
       "na_sales              0\n",
       "eu_sales              0\n",
       "jp_sales              0\n",
       "other_sales           0\n",
       "critic_score       8578\n",
       "user_score         6701\n",
       "rating             6766\n",
       "dtype: int64"
      ]
     },
     "execution_count": 8,
     "metadata": {},
     "output_type": "execute_result"
    }
   ],
   "source": [
    "games_stats.isna().sum()"
   ]
  },
  {
   "cell_type": "markdown",
   "metadata": {},
   "source": [
    "Много пропущенных значений...Мы узнали в каких столбцах есть пропущенные значения. Рассмотрим более внимательно столбцы: *year_of_release*,*critic_score*,*user_score*,*rating* и обработаем их. Что касается 2-х пропущенных строчек в столбцах: *name*,*genre*, мы можем их удалить. "
   ]
  },
  {
   "cell_type": "markdown",
   "metadata": {},
   "source": [
    "Напишем функцию, которая будет выводить количество строк с пропущенными значениями."
   ]
  },
  {
   "cell_type": "code",
   "execution_count": 9,
   "metadata": {},
   "outputs": [],
   "source": [
    "def checkMissingValues(columnName,df):\n",
    "    print(columnName,\"проверка на пропущенные значения, кол-во строк с пропущенным значением: \",len(df[df[columnName].isna()]))"
   ]
  },
  {
   "cell_type": "markdown",
   "metadata": {},
   "source": [
    "Также напишем функцию, которая будет создавать словарь."
   ]
  },
  {
   "cell_type": "code",
   "execution_count": 10,
   "metadata": {},
   "outputs": [],
   "source": [
    "def makeDict(df,columnName,by):\n",
    "    return df.set_index(by)[columnName].to_dict()"
   ]
  },
  {
   "cell_type": "markdown",
   "metadata": {},
   "source": [
    "Начнем с столбца *year_of_release*. Выведем 10 пропущенных значений, может быть найдем какие-то закономерности и ,основываясь на этих закономерностях, обработаем пропущеные значения."
   ]
  },
  {
   "cell_type": "code",
   "execution_count": 11,
   "metadata": {},
   "outputs": [
    {
     "data": {
      "text/html": [
       "<div>\n",
       "<style scoped>\n",
       "    .dataframe tbody tr th:only-of-type {\n",
       "        vertical-align: middle;\n",
       "    }\n",
       "\n",
       "    .dataframe tbody tr th {\n",
       "        vertical-align: top;\n",
       "    }\n",
       "\n",
       "    .dataframe thead th {\n",
       "        text-align: right;\n",
       "    }\n",
       "</style>\n",
       "<table border=\"1\" class=\"dataframe\">\n",
       "  <thead>\n",
       "    <tr style=\"text-align: right;\">\n",
       "      <th></th>\n",
       "      <th>name</th>\n",
       "      <th>platform</th>\n",
       "      <th>year_of_release</th>\n",
       "      <th>genre</th>\n",
       "      <th>na_sales</th>\n",
       "      <th>eu_sales</th>\n",
       "      <th>jp_sales</th>\n",
       "      <th>other_sales</th>\n",
       "      <th>critic_score</th>\n",
       "      <th>user_score</th>\n",
       "      <th>rating</th>\n",
       "    </tr>\n",
       "  </thead>\n",
       "  <tbody>\n",
       "    <tr>\n",
       "      <td>183</td>\n",
       "      <td>Madden NFL 2004</td>\n",
       "      <td>PS2</td>\n",
       "      <td>NaN</td>\n",
       "      <td>Sports</td>\n",
       "      <td>4.26</td>\n",
       "      <td>0.26</td>\n",
       "      <td>0.01</td>\n",
       "      <td>0.71</td>\n",
       "      <td>94.0</td>\n",
       "      <td>8.5</td>\n",
       "      <td>E</td>\n",
       "    </tr>\n",
       "    <tr>\n",
       "      <td>377</td>\n",
       "      <td>FIFA Soccer 2004</td>\n",
       "      <td>PS2</td>\n",
       "      <td>NaN</td>\n",
       "      <td>Sports</td>\n",
       "      <td>0.59</td>\n",
       "      <td>2.36</td>\n",
       "      <td>0.04</td>\n",
       "      <td>0.51</td>\n",
       "      <td>84.0</td>\n",
       "      <td>6.4</td>\n",
       "      <td>E</td>\n",
       "    </tr>\n",
       "    <tr>\n",
       "      <td>456</td>\n",
       "      <td>LEGO Batman: The Videogame</td>\n",
       "      <td>Wii</td>\n",
       "      <td>NaN</td>\n",
       "      <td>Action</td>\n",
       "      <td>1.80</td>\n",
       "      <td>0.97</td>\n",
       "      <td>0.00</td>\n",
       "      <td>0.29</td>\n",
       "      <td>74.0</td>\n",
       "      <td>7.9</td>\n",
       "      <td>E10+</td>\n",
       "    </tr>\n",
       "    <tr>\n",
       "      <td>475</td>\n",
       "      <td>wwe Smackdown vs. Raw 2006</td>\n",
       "      <td>PS2</td>\n",
       "      <td>NaN</td>\n",
       "      <td>Fighting</td>\n",
       "      <td>1.57</td>\n",
       "      <td>1.02</td>\n",
       "      <td>0.00</td>\n",
       "      <td>0.41</td>\n",
       "      <td>NaN</td>\n",
       "      <td>NaN</td>\n",
       "      <td>NaN</td>\n",
       "    </tr>\n",
       "    <tr>\n",
       "      <td>609</td>\n",
       "      <td>Space Invaders</td>\n",
       "      <td>2600</td>\n",
       "      <td>NaN</td>\n",
       "      <td>Shooter</td>\n",
       "      <td>2.36</td>\n",
       "      <td>0.14</td>\n",
       "      <td>0.00</td>\n",
       "      <td>0.03</td>\n",
       "      <td>NaN</td>\n",
       "      <td>NaN</td>\n",
       "      <td>NaN</td>\n",
       "    </tr>\n",
       "    <tr>\n",
       "      <td>627</td>\n",
       "      <td>Rock Band</td>\n",
       "      <td>X360</td>\n",
       "      <td>NaN</td>\n",
       "      <td>Misc</td>\n",
       "      <td>1.93</td>\n",
       "      <td>0.33</td>\n",
       "      <td>0.00</td>\n",
       "      <td>0.21</td>\n",
       "      <td>92.0</td>\n",
       "      <td>8.2</td>\n",
       "      <td>T</td>\n",
       "    </tr>\n",
       "    <tr>\n",
       "      <td>657</td>\n",
       "      <td>Frogger's Adventures: Temple of the Frog</td>\n",
       "      <td>GBA</td>\n",
       "      <td>NaN</td>\n",
       "      <td>Adventure</td>\n",
       "      <td>2.15</td>\n",
       "      <td>0.18</td>\n",
       "      <td>0.00</td>\n",
       "      <td>0.07</td>\n",
       "      <td>73.0</td>\n",
       "      <td>tbd</td>\n",
       "      <td>E</td>\n",
       "    </tr>\n",
       "    <tr>\n",
       "      <td>678</td>\n",
       "      <td>LEGO Indiana Jones: The Original Adventures</td>\n",
       "      <td>Wii</td>\n",
       "      <td>NaN</td>\n",
       "      <td>Action</td>\n",
       "      <td>1.51</td>\n",
       "      <td>0.61</td>\n",
       "      <td>0.00</td>\n",
       "      <td>0.21</td>\n",
       "      <td>78.0</td>\n",
       "      <td>6.6</td>\n",
       "      <td>E10+</td>\n",
       "    </tr>\n",
       "    <tr>\n",
       "      <td>719</td>\n",
       "      <td>Call of Duty 3</td>\n",
       "      <td>Wii</td>\n",
       "      <td>NaN</td>\n",
       "      <td>Shooter</td>\n",
       "      <td>1.17</td>\n",
       "      <td>0.84</td>\n",
       "      <td>0.00</td>\n",
       "      <td>0.23</td>\n",
       "      <td>69.0</td>\n",
       "      <td>6.7</td>\n",
       "      <td>T</td>\n",
       "    </tr>\n",
       "    <tr>\n",
       "      <td>805</td>\n",
       "      <td>Rock Band</td>\n",
       "      <td>Wii</td>\n",
       "      <td>NaN</td>\n",
       "      <td>Misc</td>\n",
       "      <td>1.33</td>\n",
       "      <td>0.56</td>\n",
       "      <td>0.00</td>\n",
       "      <td>0.20</td>\n",
       "      <td>80.0</td>\n",
       "      <td>6.3</td>\n",
       "      <td>T</td>\n",
       "    </tr>\n",
       "  </tbody>\n",
       "</table>\n",
       "</div>"
      ],
      "text/plain": [
       "                                            name platform  year_of_release  \\\n",
       "183                              Madden NFL 2004      PS2              NaN   \n",
       "377                             FIFA Soccer 2004      PS2              NaN   \n",
       "456                   LEGO Batman: The Videogame      Wii              NaN   \n",
       "475                   wwe Smackdown vs. Raw 2006      PS2              NaN   \n",
       "609                               Space Invaders     2600              NaN   \n",
       "627                                    Rock Band     X360              NaN   \n",
       "657     Frogger's Adventures: Temple of the Frog      GBA              NaN   \n",
       "678  LEGO Indiana Jones: The Original Adventures      Wii              NaN   \n",
       "719                               Call of Duty 3      Wii              NaN   \n",
       "805                                    Rock Band      Wii              NaN   \n",
       "\n",
       "         genre  na_sales  eu_sales  jp_sales  other_sales  critic_score  \\\n",
       "183     Sports      4.26      0.26      0.01         0.71          94.0   \n",
       "377     Sports      0.59      2.36      0.04         0.51          84.0   \n",
       "456     Action      1.80      0.97      0.00         0.29          74.0   \n",
       "475   Fighting      1.57      1.02      0.00         0.41           NaN   \n",
       "609    Shooter      2.36      0.14      0.00         0.03           NaN   \n",
       "627       Misc      1.93      0.33      0.00         0.21          92.0   \n",
       "657  Adventure      2.15      0.18      0.00         0.07          73.0   \n",
       "678     Action      1.51      0.61      0.00         0.21          78.0   \n",
       "719    Shooter      1.17      0.84      0.00         0.23          69.0   \n",
       "805       Misc      1.33      0.56      0.00         0.20          80.0   \n",
       "\n",
       "    user_score rating  \n",
       "183        8.5      E  \n",
       "377        6.4      E  \n",
       "456        7.9   E10+  \n",
       "475        NaN    NaN  \n",
       "609        NaN    NaN  \n",
       "627        8.2      T  \n",
       "657        tbd      E  \n",
       "678        6.6   E10+  \n",
       "719        6.7      T  \n",
       "805        6.3      T  "
      ]
     },
     "execution_count": 11,
     "metadata": {},
     "output_type": "execute_result"
    }
   ],
   "source": [
    "games_stats[games_stats['year_of_release'].isna()].head(10)"
   ]
  },
  {
   "cell_type": "markdown",
   "metadata": {},
   "source": [
    "У нас есть название игры. Можно сделать словарь из названий игр и год выпуска. Заполнить пропущенные значения в столбце *year_of_release* значениями из словаря. Уберём cтроки с пропущенным значением. "
   ]
  },
  {
   "cell_type": "markdown",
   "metadata": {},
   "source": [
    "Создадим функцию, которая будет возвращать DataFrame со строками без пропущенных значений."
   ]
  },
  {
   "cell_type": "code",
   "execution_count": 12,
   "metadata": {},
   "outputs": [],
   "source": [
    "def non_nan_column(df, column):\n",
    "    return df[df[column].notna()]"
   ]
  },
  {
   "cell_type": "code",
   "execution_count": 13,
   "metadata": {},
   "outputs": [],
   "source": [
    "year_of_release_non_nan = non_nan_column(games_stats,'year_of_release')"
   ]
  },
  {
   "cell_type": "markdown",
   "metadata": {},
   "source": [
    "Создадим словарь с названием игры и годом выпуска."
   ]
  },
  {
   "cell_type": "code",
   "execution_count": 14,
   "metadata": {},
   "outputs": [],
   "source": [
    "games_year_dict = makeDict(year_of_release_non_nan,'year_of_release','name')"
   ]
  },
  {
   "cell_type": "markdown",
   "metadata": {},
   "source": [
    "Присваиваем значения из полученного словаря к строкам где есть пропущенное значение столбца *year_of_release*."
   ]
  },
  {
   "cell_type": "code",
   "execution_count": 15,
   "metadata": {},
   "outputs": [],
   "source": [
    "games_stats['year_of_release'] = games_stats.year_of_release.fillna(games_stats.name.map(games_year_dict))"
   ]
  },
  {
   "cell_type": "markdown",
   "metadata": {},
   "source": [
    "Проверим результат."
   ]
  },
  {
   "cell_type": "code",
   "execution_count": 16,
   "metadata": {},
   "outputs": [
    {
     "name": "stdout",
     "output_type": "stream",
     "text": [
      "year_of_release проверка на пропущенные значения, кол-во строк с пропущенным значением:  146\n"
     ]
    }
   ],
   "source": [
    "checkMissingValues('year_of_release',games_stats)"
   ]
  },
  {
   "cell_type": "markdown",
   "metadata": {},
   "source": [
    "146 пропущенных значений... Удалим их так как они не повлияют в целом на результат исследования. Доля этих значении составляет меньше **1%**."
   ]
  },
  {
   "cell_type": "code",
   "execution_count": 17,
   "metadata": {},
   "outputs": [],
   "source": [
    "games_stats = games_stats.dropna(subset=['year_of_release']).reset_index(drop=True)"
   ]
  },
  {
   "cell_type": "markdown",
   "metadata": {},
   "source": [
    "Посмотрим на столбцы, где есть два пропущенных значения."
   ]
  },
  {
   "cell_type": "code",
   "execution_count": 18,
   "metadata": {},
   "outputs": [
    {
     "data": {
      "text/html": [
       "<div>\n",
       "<style scoped>\n",
       "    .dataframe tbody tr th:only-of-type {\n",
       "        vertical-align: middle;\n",
       "    }\n",
       "\n",
       "    .dataframe tbody tr th {\n",
       "        vertical-align: top;\n",
       "    }\n",
       "\n",
       "    .dataframe thead th {\n",
       "        text-align: right;\n",
       "    }\n",
       "</style>\n",
       "<table border=\"1\" class=\"dataframe\">\n",
       "  <thead>\n",
       "    <tr style=\"text-align: right;\">\n",
       "      <th></th>\n",
       "      <th>name</th>\n",
       "      <th>platform</th>\n",
       "      <th>year_of_release</th>\n",
       "      <th>genre</th>\n",
       "      <th>na_sales</th>\n",
       "      <th>eu_sales</th>\n",
       "      <th>jp_sales</th>\n",
       "      <th>other_sales</th>\n",
       "      <th>critic_score</th>\n",
       "      <th>user_score</th>\n",
       "      <th>rating</th>\n",
       "    </tr>\n",
       "  </thead>\n",
       "  <tbody>\n",
       "    <tr>\n",
       "      <td>656</td>\n",
       "      <td>NaN</td>\n",
       "      <td>GEN</td>\n",
       "      <td>1993.0</td>\n",
       "      <td>NaN</td>\n",
       "      <td>1.78</td>\n",
       "      <td>0.53</td>\n",
       "      <td>0.00</td>\n",
       "      <td>0.08</td>\n",
       "      <td>NaN</td>\n",
       "      <td>NaN</td>\n",
       "      <td>NaN</td>\n",
       "    </tr>\n",
       "    <tr>\n",
       "      <td>14127</td>\n",
       "      <td>NaN</td>\n",
       "      <td>GEN</td>\n",
       "      <td>1993.0</td>\n",
       "      <td>NaN</td>\n",
       "      <td>0.00</td>\n",
       "      <td>0.00</td>\n",
       "      <td>0.03</td>\n",
       "      <td>0.00</td>\n",
       "      <td>NaN</td>\n",
       "      <td>NaN</td>\n",
       "      <td>NaN</td>\n",
       "    </tr>\n",
       "  </tbody>\n",
       "</table>\n",
       "</div>"
      ],
      "text/plain": [
       "      name platform  year_of_release genre  na_sales  eu_sales  jp_sales  \\\n",
       "656    NaN      GEN           1993.0   NaN      1.78      0.53      0.00   \n",
       "14127  NaN      GEN           1993.0   NaN      0.00      0.00      0.03   \n",
       "\n",
       "       other_sales  critic_score user_score rating  \n",
       "656           0.08           NaN        NaN    NaN  \n",
       "14127         0.00           NaN        NaN    NaN  "
      ]
     },
     "execution_count": 18,
     "metadata": {},
     "output_type": "execute_result"
    }
   ],
   "source": [
    "games_stats[games_stats['name'].isna()]"
   ]
  },
  {
   "cell_type": "markdown",
   "metadata": {},
   "source": [
    "Удалим эти строки."
   ]
  },
  {
   "cell_type": "code",
   "execution_count": 19,
   "metadata": {},
   "outputs": [],
   "source": [
    "games_stats = games_stats.dropna(subset=['name']).reset_index(drop=True)"
   ]
  },
  {
   "cell_type": "markdown",
   "metadata": {},
   "source": [
    "Перейдем к столбцу *critic_score*. Сгруппируем данные по жанру и платформе, заполним пропущенные значения медианой. "
   ]
  },
  {
   "cell_type": "code",
   "execution_count": 20,
   "metadata": {},
   "outputs": [
    {
     "name": "stderr",
     "output_type": "stream",
     "text": [
      "/opt/anaconda3/envs/practicum/lib/python3.7/site-packages/numpy/lib/nanfunctions.py:1113: RuntimeWarning: Mean of empty slice\n",
      "  return np.nanmean(a, axis, out=out, keepdims=keepdims)\n"
     ]
    }
   ],
   "source": [
    "games_stats['critic_score'] = games_stats.groupby(['platform','genre'])['critic_score'].transform(lambda x: x.fillna(value=x.median()))"
   ]
  },
  {
   "cell_type": "code",
   "execution_count": 21,
   "metadata": {},
   "outputs": [
    {
     "name": "stdout",
     "output_type": "stream",
     "text": [
      "critic_score проверка на пропущенные значения, кол-во строк с пропущенным значением:  1114\n"
     ]
    }
   ],
   "source": [
    "checkMissingValues('critic_score',games_stats)"
   ]
  },
  {
   "cell_type": "markdown",
   "metadata": {},
   "source": [
    "<div class=\"alert alert-success\">\n",
    "<h2> Комментарий ревьюера </h2>\n",
    "\n",
    "Круто, что ты создал собственные методы для знакомства с данными. \n",
    "    \n",
    "</div>"
   ]
  },
  {
   "cell_type": "markdown",
   "metadata": {},
   "source": [
    "Остались 1114 строк с пропущенным значением. Посмотрим их."
   ]
  },
  {
   "cell_type": "code",
   "execution_count": 22,
   "metadata": {},
   "outputs": [
    {
     "data": {
      "text/html": [
       "<div>\n",
       "<style scoped>\n",
       "    .dataframe tbody tr th:only-of-type {\n",
       "        vertical-align: middle;\n",
       "    }\n",
       "\n",
       "    .dataframe tbody tr th {\n",
       "        vertical-align: top;\n",
       "    }\n",
       "\n",
       "    .dataframe thead th {\n",
       "        text-align: right;\n",
       "    }\n",
       "</style>\n",
       "<table border=\"1\" class=\"dataframe\">\n",
       "  <thead>\n",
       "    <tr style=\"text-align: right;\">\n",
       "      <th></th>\n",
       "      <th>name</th>\n",
       "      <th>platform</th>\n",
       "      <th>year_of_release</th>\n",
       "      <th>genre</th>\n",
       "      <th>na_sales</th>\n",
       "      <th>eu_sales</th>\n",
       "      <th>jp_sales</th>\n",
       "      <th>other_sales</th>\n",
       "      <th>critic_score</th>\n",
       "      <th>user_score</th>\n",
       "      <th>rating</th>\n",
       "    </tr>\n",
       "  </thead>\n",
       "  <tbody>\n",
       "    <tr>\n",
       "      <td>1</td>\n",
       "      <td>Super Mario Bros.</td>\n",
       "      <td>NES</td>\n",
       "      <td>1985.0</td>\n",
       "      <td>Platform</td>\n",
       "      <td>29.08</td>\n",
       "      <td>3.58</td>\n",
       "      <td>6.81</td>\n",
       "      <td>0.77</td>\n",
       "      <td>NaN</td>\n",
       "      <td>NaN</td>\n",
       "      <td>NaN</td>\n",
       "    </tr>\n",
       "    <tr>\n",
       "      <td>4</td>\n",
       "      <td>Pokemon Red/Pokemon Blue</td>\n",
       "      <td>GB</td>\n",
       "      <td>1996.0</td>\n",
       "      <td>Role-Playing</td>\n",
       "      <td>11.27</td>\n",
       "      <td>8.89</td>\n",
       "      <td>10.22</td>\n",
       "      <td>1.00</td>\n",
       "      <td>NaN</td>\n",
       "      <td>NaN</td>\n",
       "      <td>NaN</td>\n",
       "    </tr>\n",
       "    <tr>\n",
       "      <td>5</td>\n",
       "      <td>Tetris</td>\n",
       "      <td>GB</td>\n",
       "      <td>1989.0</td>\n",
       "      <td>Puzzle</td>\n",
       "      <td>23.20</td>\n",
       "      <td>2.26</td>\n",
       "      <td>4.22</td>\n",
       "      <td>0.58</td>\n",
       "      <td>NaN</td>\n",
       "      <td>NaN</td>\n",
       "      <td>NaN</td>\n",
       "    </tr>\n",
       "    <tr>\n",
       "      <td>9</td>\n",
       "      <td>Duck Hunt</td>\n",
       "      <td>NES</td>\n",
       "      <td>1984.0</td>\n",
       "      <td>Shooter</td>\n",
       "      <td>26.93</td>\n",
       "      <td>0.63</td>\n",
       "      <td>0.28</td>\n",
       "      <td>0.47</td>\n",
       "      <td>NaN</td>\n",
       "      <td>NaN</td>\n",
       "      <td>NaN</td>\n",
       "    </tr>\n",
       "    <tr>\n",
       "      <td>12</td>\n",
       "      <td>Pokemon Gold/Pokemon Silver</td>\n",
       "      <td>GB</td>\n",
       "      <td>1999.0</td>\n",
       "      <td>Role-Playing</td>\n",
       "      <td>9.00</td>\n",
       "      <td>6.18</td>\n",
       "      <td>7.20</td>\n",
       "      <td>0.71</td>\n",
       "      <td>NaN</td>\n",
       "      <td>NaN</td>\n",
       "      <td>NaN</td>\n",
       "    </tr>\n",
       "  </tbody>\n",
       "</table>\n",
       "</div>"
      ],
      "text/plain": [
       "                           name platform  year_of_release         genre  \\\n",
       "1             Super Mario Bros.      NES           1985.0      Platform   \n",
       "4      Pokemon Red/Pokemon Blue       GB           1996.0  Role-Playing   \n",
       "5                        Tetris       GB           1989.0        Puzzle   \n",
       "9                     Duck Hunt      NES           1984.0       Shooter   \n",
       "12  Pokemon Gold/Pokemon Silver       GB           1999.0  Role-Playing   \n",
       "\n",
       "    na_sales  eu_sales  jp_sales  other_sales  critic_score user_score rating  \n",
       "1      29.08      3.58      6.81         0.77           NaN        NaN    NaN  \n",
       "4      11.27      8.89     10.22         1.00           NaN        NaN    NaN  \n",
       "5      23.20      2.26      4.22         0.58           NaN        NaN    NaN  \n",
       "9      26.93      0.63      0.28         0.47           NaN        NaN    NaN  \n",
       "12      9.00      6.18      7.20         0.71           NaN        NaN    NaN  "
      ]
     },
     "execution_count": 22,
     "metadata": {},
     "output_type": "execute_result"
    }
   ],
   "source": [
    "games_stats[games_stats['critic_score'].isna()].head()"
   ]
  },
  {
   "cell_type": "markdown",
   "metadata": {},
   "source": [
    "Много пропущенных значений. Если удалим, потеряем важную информацию, следовательно, нам нужно оставить пропущенные значения. При дальнейшем анализе будем фильтровать данные."
   ]
  },
  {
   "cell_type": "markdown",
   "metadata": {},
   "source": [
    "Перейдем к столбцу *user_score*. Посмотрим на уникальные значения в этом столбце."
   ]
  },
  {
   "cell_type": "code",
   "execution_count": 23,
   "metadata": {},
   "outputs": [
    {
     "data": {
      "text/plain": [
       "tbd    2394\n",
       "7.8     324\n",
       "8       288\n",
       "8.2     279\n",
       "8.3     253\n",
       "       ... \n",
       "0.7       2\n",
       "1.1       2\n",
       "9.6       2\n",
       "0         1\n",
       "9.7       1\n",
       "Name: user_score, Length: 96, dtype: int64"
      ]
     },
     "execution_count": 23,
     "metadata": {},
     "output_type": "execute_result"
    }
   ],
   "source": [
    "games_stats['user_score'].value_counts()"
   ]
  },
  {
   "cell_type": "markdown",
   "metadata": {},
   "source": [
    "Стоит обратить внимание на значение **tbd**. https://dictionary.cambridge.org/dictionary/english/tbd TBD - означает \"будет определено\" (To be determined) - следовательно, 2394 игр не получили оценки от пользователей. Заменим значения с *tbd* на *-1*, которая будет указывать, что данная видеоигра еще не получила оценку от пользователей."
   ]
  },
  {
   "cell_type": "code",
   "execution_count": 24,
   "metadata": {},
   "outputs": [],
   "source": [
    "games_stats.loc[games_stats['user_score'] == \"tbd\",'user_score'] = -1"
   ]
  },
  {
   "cell_type": "markdown",
   "metadata": {},
   "source": [
    "<div class=\"alert alert-success\">\n",
    "<h2> Комментарий ревьюера </h2>\n",
    "\n",
    "Верно, по своей сути tbd и является пропуском. Отлично, что определяешь неявные пропущенные значения.\n",
    "\n",
    "</div>"
   ]
  },
  {
   "cell_type": "markdown",
   "metadata": {},
   "source": [
    "Сгруппируем данные по жанру и платформе, заполним пропущенные значения медианой. "
   ]
  },
  {
   "cell_type": "code",
   "execution_count": 25,
   "metadata": {},
   "outputs": [],
   "source": [
    "games_stats['user_score'] = games_stats.groupby(['platform','genre'])['user_score'].transform(lambda x: x.fillna(value=x.median()))"
   ]
  },
  {
   "cell_type": "markdown",
   "metadata": {},
   "source": [
    "Проверим результат"
   ]
  },
  {
   "cell_type": "code",
   "execution_count": 26,
   "metadata": {},
   "outputs": [
    {
     "name": "stdout",
     "output_type": "stream",
     "text": [
      "user_score проверка на пропущенные значения, кол-во строк с пропущенным значением:  1107\n"
     ]
    }
   ],
   "source": [
    "checkMissingValues('user_score',games_stats)"
   ]
  },
  {
   "cell_type": "markdown",
   "metadata": {},
   "source": [
    "Здесь тоже много пропущенных значений. Если удалим, потеряем важную информацию, следовательно, нам нужно оставить пропущенные значения. При дальнейшем анализе будем фильтровать данные."
   ]
  },
  {
   "cell_type": "markdown",
   "metadata": {},
   "source": [
    "<div class=\"alert alert-warning\">\n",
    "<h2> Комментарий ревьюера </h2>\n",
    "\n",
    "Пропуски можно оставить. Смотри, это нереальные данные, которыми мы помечаем пропуски. В итоге при анализе данных столбцов мы должны каждый раз отфильтровывать такие значения, т.к. анализировать их не надо. В итоге, в одном из пунктов можно забыть про такие значения и случайно включить маркерные значения в анализ, что вызовет ошибку в результатах работы.\n",
    "\n",
    "</div>"
   ]
  },
  {
   "cell_type": "markdown",
   "metadata": {},
   "source": [
    "<div class=\"alert alert-info\"> <b>Комментарий студента:</b> Оставил пропущенные значения. </div>"
   ]
  },
  {
   "cell_type": "markdown",
   "metadata": {},
   "source": [
    "Рассмотрим столбец *rating*."
   ]
  },
  {
   "cell_type": "markdown",
   "metadata": {},
   "source": [
    "Выведем уникальные значения этого столбца методом *value_counts()*."
   ]
  },
  {
   "cell_type": "code",
   "execution_count": 27,
   "metadata": {},
   "outputs": [
    {
     "data": {
      "text/plain": [
       "E       3958\n",
       "T       2930\n",
       "M       1554\n",
       "E10+    1412\n",
       "EC         8\n",
       "K-A        3\n",
       "RP         2\n",
       "AO         1\n",
       "Name: rating, dtype: int64"
      ]
     },
     "execution_count": 27,
     "metadata": {},
     "output_type": "execute_result"
    }
   ],
   "source": [
    "games_stats['rating'].value_counts()"
   ]
  },
  {
   "cell_type": "markdown",
   "metadata": {},
   "source": [
    "Посмотрим что означают эти рейтинги. https://www.esrb.org/ratings-guide/ | https://en.wikipedia.org/wiki/Entertainment_Software_Rating_Board "
   ]
  },
  {
   "cell_type": "markdown",
   "metadata": {},
   "source": [
    "Создадим словарь с key - буквенное значение (*E*,*T*,*M*,*E10+*,*EC* и т.д), value - возрастная категория (численное значение)."
   ]
  },
  {
   "cell_type": "markdown",
   "metadata": {},
   "source": [
    "1. RP - **-1** - игра еще не получила финальный рейтинг от ESRB.\n",
    "2. EC - **0** - игры с таким рейтингом содержат контент, ориентированный на дошкольную аудиторию.\n",
    "3. E - **1** - игры с таким рейтингом содержат контент, который, по мнению ESRB, \"в целом подходит для всех возрастов\".\n",
    "4. K-A - **1** - тоже самое, что и E\n",
    "5. E10+ - **2** - игры с таким рейтингом содержат контент, который, по мнению ESRB, в целом подходит для людей в возрасте от 10 лет и старше.\n",
    "6. T - **3** - игры с таким рейтингом содержат контент, который, по мнению ESRB, в целом подходит для людей в возрасте 13 лет и старше\n",
    "7. M - **4** - игры с таким рейтингом содержат контент, который, по мнению ESRB, в целом подходит для лиц в возрасте 17 лет и старше.\n",
    "8. A0 - **5** - игры с таким рейтингом содержат контент, который, по мнению ESRB, подходит только для тех, кому исполнилось 18 лет и старше."
   ]
  },
  {
   "cell_type": "code",
   "execution_count": 28,
   "metadata": {},
   "outputs": [],
   "source": [
    "ratingDict = {\n",
    "    'RP': -1,\n",
    "    'EC': 0,\n",
    "    'E': 1,\n",
    "    'E10+': 2,\n",
    "    'T': 3,\n",
    "    'M': 4,\n",
    "    'A0': 5,  \n",
    "}"
   ]
  },
  {
   "cell_type": "markdown",
   "metadata": {},
   "source": [
    "Заменим значения с рейтингом *K-A* на *E* так как они означают тот же самый возрастной рейтинг."
   ]
  },
  {
   "cell_type": "code",
   "execution_count": 29,
   "metadata": {},
   "outputs": [],
   "source": [
    "games_stats.loc[games_stats['rating'] == \"K-A\",'rating'] = 'E'"
   ]
  },
  {
   "cell_type": "markdown",
   "metadata": {},
   "source": [
    "Возьмем dataframe без пропущенных значений в столбце *rating*."
   ]
  },
  {
   "cell_type": "code",
   "execution_count": 30,
   "metadata": {},
   "outputs": [],
   "source": [
    "rating_non_nan = non_nan_column(games_stats,'rating').reset_index(drop=True)"
   ]
  },
  {
   "cell_type": "markdown",
   "metadata": {},
   "source": [
    "Создадим функцию, которая будет возвращать численное значение, основываясь на буквенном значении. "
   ]
  },
  {
   "cell_type": "code",
   "execution_count": 31,
   "metadata": {},
   "outputs": [],
   "source": [
    "def ratingNum(row):\n",
    "    rating = row['rating']\n",
    "    if rating == 'RP':\n",
    "        return ratingDict['RP']\n",
    "    elif rating == 'EC':\n",
    "        return ratingDict['EC']\n",
    "    elif rating == 'E':\n",
    "        return ratingDict['E']\n",
    "    elif rating == 'E10+':\n",
    "        return ratingDict['E10+']\n",
    "    elif rating == 'T':\n",
    "        return ratingDict['T']\n",
    "    elif rating == 'M':\n",
    "        return ratingDict['M']\n",
    "    elif rating == 'A0':\n",
    "        return ratingDict['A0']\n",
    "    # Если буквенное значение не нашлось, возвращаем численное значение рейтинга RP (игра еще не получила финальный рейтинг от ESRB.)\n",
    "    return ratingDict['RP']"
   ]
  },
  {
   "cell_type": "code",
   "execution_count": 32,
   "metadata": {},
   "outputs": [],
   "source": [
    "games_stats['rating_num'] = games_stats.apply(ratingNum,axis=1)"
   ]
  },
  {
   "cell_type": "code",
   "execution_count": 33,
   "metadata": {},
   "outputs": [],
   "source": [
    "rating_dict  = makeDict(rating_non_nan,'rating','name')"
   ]
  },
  {
   "cell_type": "code",
   "execution_count": 34,
   "metadata": {},
   "outputs": [],
   "source": [
    "games_stats['rating'] = games_stats.rating.fillna(games_stats.name.map(rating_dict))"
   ]
  },
  {
   "cell_type": "code",
   "execution_count": 35,
   "metadata": {},
   "outputs": [
    {
     "name": "stdout",
     "output_type": "stream",
     "text": [
      "rating проверка на пропущенные значения, кол-во строк с пропущенным значением:  6262\n"
     ]
    }
   ],
   "source": [
    "checkMissingValues('rating',games_stats)"
   ]
  },
  {
   "cell_type": "markdown",
   "metadata": {},
   "source": [
    "Заполнилось малое количество данных. Если удалим, то потеряем много полезной информации, поэтому оставим пропущенные значения. При дальнейшем анализе мы будем фильтровать данные."
   ]
  },
  {
   "cell_type": "code",
   "execution_count": 36,
   "metadata": {},
   "outputs": [],
   "source": [
    "#games_stats['rating'] = games_stats['rating'].fillna('RP')"
   ]
  },
  {
   "cell_type": "markdown",
   "metadata": {},
   "source": [
    "Проверка"
   ]
  },
  {
   "cell_type": "code",
   "execution_count": 37,
   "metadata": {},
   "outputs": [
    {
     "name": "stdout",
     "output_type": "stream",
     "text": [
      "rating проверка на пропущенные значения, кол-во строк с пропущенным значением:  6262\n"
     ]
    }
   ],
   "source": [
    "checkMissingValues('rating',games_stats)"
   ]
  },
  {
   "cell_type": "markdown",
   "metadata": {},
   "source": [
    "Итак проверим результаты предобработки пропущенных значений с помощью набора методов isna() и sum()."
   ]
  },
  {
   "cell_type": "code",
   "execution_count": 38,
   "metadata": {},
   "outputs": [
    {
     "data": {
      "text/plain": [
       "name                  0\n",
       "platform              0\n",
       "year_of_release       0\n",
       "genre                 0\n",
       "na_sales              0\n",
       "eu_sales              0\n",
       "jp_sales              0\n",
       "other_sales           0\n",
       "critic_score       1114\n",
       "user_score         1107\n",
       "rating             6262\n",
       "rating_num            0\n",
       "dtype: int64"
      ]
     },
     "execution_count": 38,
     "metadata": {},
     "output_type": "execute_result"
    }
   ],
   "source": [
    "games_stats.isna().sum()"
   ]
  },
  {
   "cell_type": "markdown",
   "metadata": {},
   "source": [
    "Разобрались с пропущенными значениями. Перейдем к обработке дупликатов."
   ]
  },
  {
   "cell_type": "markdown",
   "metadata": {},
   "source": [
    "<a id=\"duplicatedValues\"></a>\n",
    "\n",
    "## Обработка дупликатов"
   ]
  },
  {
   "cell_type": "markdown",
   "metadata": {},
   "source": [
    "Необходимо установить наличие дупликатов. Если появятся дупликаты - удаляем их, иначе наше исследование может привести к некорректным результатам. Воспользуемся набором методов *duplicated()* и *sum()*."
   ]
  },
  {
   "cell_type": "code",
   "execution_count": 39,
   "metadata": {},
   "outputs": [
    {
     "data": {
      "text/plain": [
       "0"
      ]
     },
     "execution_count": 39,
     "metadata": {},
     "output_type": "execute_result"
    }
   ],
   "source": [
    "games_stats.duplicated().sum()"
   ]
  },
  {
   "cell_type": "markdown",
   "metadata": {},
   "source": [
    "Посмотрим категориальные переменные: *platform*,*genre*. Выведем уникальные значения методом  *unique()*, посмотрим есть ли дупликаты,которые не были обнаружены методом *duplicated()*."
   ]
  },
  {
   "cell_type": "code",
   "execution_count": 40,
   "metadata": {},
   "outputs": [
    {
     "data": {
      "text/plain": [
       "array(['Wii', 'NES', 'GB', 'DS', 'X360', 'PS3', 'PS2', 'SNES', 'GBA',\n",
       "       'PS4', '3DS', 'N64', 'PS', 'XB', 'PC', '2600', 'PSP', 'XOne',\n",
       "       'WiiU', 'GC', 'GEN', 'DC', 'PSV', 'SAT', 'SCD', 'WS', 'NG', 'TG16',\n",
       "       '3DO', 'GG', 'PCFX'], dtype=object)"
      ]
     },
     "execution_count": 40,
     "metadata": {},
     "output_type": "execute_result"
    }
   ],
   "source": [
    "games_stats['platform'].unique()"
   ]
  },
  {
   "cell_type": "markdown",
   "metadata": {},
   "source": [
    "Вроде бы со значениями в столбце *platform* все впорядке. Дупликатов нету."
   ]
  },
  {
   "cell_type": "markdown",
   "metadata": {},
   "source": [
    "Проверим столбец *genre*. Также выведем уникальные значения с помощью *unique()*."
   ]
  },
  {
   "cell_type": "code",
   "execution_count": 41,
   "metadata": {},
   "outputs": [
    {
     "data": {
      "text/plain": [
       "array(['Sports', 'Platform', 'Racing', 'Role-Playing', 'Puzzle', 'Misc',\n",
       "       'Shooter', 'Simulation', 'Action', 'Fighting', 'Adventure',\n",
       "       'Strategy'], dtype=object)"
      ]
     },
     "execution_count": 41,
     "metadata": {},
     "output_type": "execute_result"
    }
   ],
   "source": [
    "games_stats['genre'].unique()"
   ]
  },
  {
   "cell_type": "markdown",
   "metadata": {},
   "source": [
    "С жанрами тоже все впорядке. Дупликаты не обнаружены."
   ]
  },
  {
   "cell_type": "markdown",
   "metadata": {},
   "source": [
    "<a id=\"changingDataTypes\"></a>\n",
    "## Изменение типов данных"
   ]
  },
  {
   "cell_type": "markdown",
   "metadata": {},
   "source": [
    "На этапе обзора данных мы заметили:\n",
    "1. Cтолбец Year_of_Release,год записан в виде строки необходимо заменить тип данных. \n",
    "2. Столбец User_Score содержит значения *float*, хотя тип данных у столбца *object*.\n",
    "\n",
    "Проверим какие столбцы необходимо перевести в другой тип данных. Воспользуемся аттрибутом *dtypes*."
   ]
  },
  {
   "cell_type": "code",
   "execution_count": 42,
   "metadata": {},
   "outputs": [
    {
     "data": {
      "text/plain": [
       "name                object\n",
       "platform            object\n",
       "year_of_release    float64\n",
       "genre               object\n",
       "na_sales           float64\n",
       "eu_sales           float64\n",
       "jp_sales           float64\n",
       "other_sales        float64\n",
       "critic_score       float64\n",
       "user_score          object\n",
       "rating              object\n",
       "rating_num           int64\n",
       "dtype: object"
      ]
     },
     "execution_count": 42,
     "metadata": {},
     "output_type": "execute_result"
    }
   ],
   "source": [
    "games_stats.dtypes"
   ]
  },
  {
   "cell_type": "markdown",
   "metadata": {},
   "source": [
    "Заменим столбцы: *year_of_release*,*critic_score* на тип данных *int*."
   ]
  },
  {
   "cell_type": "code",
   "execution_count": 43,
   "metadata": {},
   "outputs": [
    {
     "name": "stdout",
     "output_type": "stream",
     "text": [
      "Проверьте есть ли пропущенные значения. Типы NaN не конвертируются в int\n"
     ]
    }
   ],
   "source": [
    "for column in ['year_of_release','critic_score',]:\n",
    "    try:\n",
    "        games_stats[column] = games_stats[column].astype('int')\n",
    "    except:\n",
    "        print('Проверьте есть ли пропущенные значения. Типы NaN не конвертируются в int')"
   ]
  },
  {
   "cell_type": "markdown",
   "metadata": {},
   "source": [
    "Заменим столбец *user_score* на тип данных *float64*."
   ]
  },
  {
   "cell_type": "code",
   "execution_count": 44,
   "metadata": {},
   "outputs": [],
   "source": [
    "try:\n",
    "    games_stats['user_score'] = games_stats['user_score'].astype('float')\n",
    "except:\n",
    "    print('Проверьте есть ли пропущенные значения. Типы NaN не конвертируются в float')"
   ]
  },
  {
   "cell_type": "code",
   "execution_count": 45,
   "metadata": {},
   "outputs": [
    {
     "data": {
      "text/plain": [
       "name                object\n",
       "platform            object\n",
       "year_of_release      int64\n",
       "genre               object\n",
       "na_sales           float64\n",
       "eu_sales           float64\n",
       "jp_sales           float64\n",
       "other_sales        float64\n",
       "critic_score       float64\n",
       "user_score         float64\n",
       "rating              object\n",
       "rating_num           int64\n",
       "dtype: object"
      ]
     },
     "execution_count": 45,
     "metadata": {},
     "output_type": "execute_result"
    }
   ],
   "source": [
    "games_stats.dtypes"
   ]
  },
  {
   "cell_type": "markdown",
   "metadata": {},
   "source": [
    "Отлично! Типы данных соответствуют столбцам. Перейдем к поиску аномальных значений."
   ]
  },
  {
   "cell_type": "markdown",
   "metadata": {},
   "source": [
    "<a id=\"abnormalValues1\"></a>\n",
    "## Поиск и обработка аномальных значений"
   ]
  },
  {
   "cell_type": "markdown",
   "metadata": {},
   "source": [
    "Займемся поиском и обработкой аномальных значений."
   ]
  },
  {
   "cell_type": "markdown",
   "metadata": {},
   "source": [
    "Посмотрим на значения в нашем DataFrame с помощью метода *describe()*"
   ]
  },
  {
   "cell_type": "code",
   "execution_count": 46,
   "metadata": {},
   "outputs": [
    {
     "data": {
      "text/html": [
       "<div>\n",
       "<style scoped>\n",
       "    .dataframe tbody tr th:only-of-type {\n",
       "        vertical-align: middle;\n",
       "    }\n",
       "\n",
       "    .dataframe tbody tr th {\n",
       "        vertical-align: top;\n",
       "    }\n",
       "\n",
       "    .dataframe thead th {\n",
       "        text-align: right;\n",
       "    }\n",
       "</style>\n",
       "<table border=\"1\" class=\"dataframe\">\n",
       "  <thead>\n",
       "    <tr style=\"text-align: right;\">\n",
       "      <th></th>\n",
       "      <th>count</th>\n",
       "      <th>mean</th>\n",
       "      <th>std</th>\n",
       "      <th>min</th>\n",
       "      <th>25%</th>\n",
       "      <th>50%</th>\n",
       "      <th>75%</th>\n",
       "      <th>max</th>\n",
       "    </tr>\n",
       "  </thead>\n",
       "  <tbody>\n",
       "    <tr>\n",
       "      <td>year_of_release</td>\n",
       "      <td>16567.0</td>\n",
       "      <td>2006.491036</td>\n",
       "      <td>5.862650</td>\n",
       "      <td>1980.0</td>\n",
       "      <td>2003.0</td>\n",
       "      <td>2007.00</td>\n",
       "      <td>2010.00</td>\n",
       "      <td>2016.00</td>\n",
       "    </tr>\n",
       "    <tr>\n",
       "      <td>na_sales</td>\n",
       "      <td>16567.0</td>\n",
       "      <td>0.263975</td>\n",
       "      <td>0.816474</td>\n",
       "      <td>0.0</td>\n",
       "      <td>0.0</td>\n",
       "      <td>0.08</td>\n",
       "      <td>0.24</td>\n",
       "      <td>41.36</td>\n",
       "    </tr>\n",
       "    <tr>\n",
       "      <td>eu_sales</td>\n",
       "      <td>16567.0</td>\n",
       "      <td>0.145814</td>\n",
       "      <td>0.505364</td>\n",
       "      <td>0.0</td>\n",
       "      <td>0.0</td>\n",
       "      <td>0.02</td>\n",
       "      <td>0.11</td>\n",
       "      <td>28.96</td>\n",
       "    </tr>\n",
       "    <tr>\n",
       "      <td>jp_sales</td>\n",
       "      <td>16567.0</td>\n",
       "      <td>0.078020</td>\n",
       "      <td>0.310068</td>\n",
       "      <td>0.0</td>\n",
       "      <td>0.0</td>\n",
       "      <td>0.00</td>\n",
       "      <td>0.04</td>\n",
       "      <td>10.22</td>\n",
       "    </tr>\n",
       "    <tr>\n",
       "      <td>other_sales</td>\n",
       "      <td>16567.0</td>\n",
       "      <td>0.047567</td>\n",
       "      <td>0.187476</td>\n",
       "      <td>0.0</td>\n",
       "      <td>0.0</td>\n",
       "      <td>0.01</td>\n",
       "      <td>0.03</td>\n",
       "      <td>10.57</td>\n",
       "    </tr>\n",
       "    <tr>\n",
       "      <td>critic_score</td>\n",
       "      <td>15453.0</td>\n",
       "      <td>68.881479</td>\n",
       "      <td>10.813260</td>\n",
       "      <td>13.0</td>\n",
       "      <td>63.0</td>\n",
       "      <td>69.50</td>\n",
       "      <td>75.00</td>\n",
       "      <td>98.00</td>\n",
       "    </tr>\n",
       "    <tr>\n",
       "      <td>user_score</td>\n",
       "      <td>15460.0</td>\n",
       "      <td>5.175336</td>\n",
       "      <td>3.646950</td>\n",
       "      <td>-1.0</td>\n",
       "      <td>2.8</td>\n",
       "      <td>7.00</td>\n",
       "      <td>7.80</td>\n",
       "      <td>9.70</td>\n",
       "    </tr>\n",
       "    <tr>\n",
       "      <td>rating_num</td>\n",
       "      <td>16567.0</td>\n",
       "      <td>0.910787</td>\n",
       "      <td>1.802150</td>\n",
       "      <td>-1.0</td>\n",
       "      <td>-1.0</td>\n",
       "      <td>1.00</td>\n",
       "      <td>3.00</td>\n",
       "      <td>4.00</td>\n",
       "    </tr>\n",
       "  </tbody>\n",
       "</table>\n",
       "</div>"
      ],
      "text/plain": [
       "                   count         mean        std     min     25%      50%  \\\n",
       "year_of_release  16567.0  2006.491036   5.862650  1980.0  2003.0  2007.00   \n",
       "na_sales         16567.0     0.263975   0.816474     0.0     0.0     0.08   \n",
       "eu_sales         16567.0     0.145814   0.505364     0.0     0.0     0.02   \n",
       "jp_sales         16567.0     0.078020   0.310068     0.0     0.0     0.00   \n",
       "other_sales      16567.0     0.047567   0.187476     0.0     0.0     0.01   \n",
       "critic_score     15453.0    68.881479  10.813260    13.0    63.0    69.50   \n",
       "user_score       15460.0     5.175336   3.646950    -1.0     2.8     7.00   \n",
       "rating_num       16567.0     0.910787   1.802150    -1.0    -1.0     1.00   \n",
       "\n",
       "                     75%      max  \n",
       "year_of_release  2010.00  2016.00  \n",
       "na_sales            0.24    41.36  \n",
       "eu_sales            0.11    28.96  \n",
       "jp_sales            0.04    10.22  \n",
       "other_sales         0.03    10.57  \n",
       "critic_score       75.00    98.00  \n",
       "user_score          7.80     9.70  \n",
       "rating_num          3.00     4.00  "
      ]
     },
     "execution_count": 46,
     "metadata": {},
     "output_type": "execute_result"
    }
   ],
   "source": [
    "games_stats.describe().T"
   ]
  },
  {
   "cell_type": "markdown",
   "metadata": {},
   "source": [
    "Разберём каждую строку. \n",
    "1. Начнем с  *year_of_release*. Со столбцом все впорядке. Не видно никаких аномальных значений. \n",
    "2. Обратим внимание на строки: *na_sales*,*eu_sales*,*jp_sales*,*other_sales*. Минимальное значение равно 0, следовательно, либо у нас есть проблемы в записи данных (данные некорректно загрузились), либо есть игры которые не продались вообще. \n",
    "3. *critic_score*, *user_score* - не видно аномальных значений. Присутствуют значения -1, которые обозначают,что игра еще не получила оценку от критиков и пользователей."
   ]
  },
  {
   "cell_type": "markdown",
   "metadata": {},
   "source": [
    "Посмотрим данные, где значения *na_sales*,*eu_sales*,*jp_sales*,*other_sales* равны 0."
   ]
  },
  {
   "cell_type": "code",
   "execution_count": 47,
   "metadata": {},
   "outputs": [
    {
     "data": {
      "text/html": [
       "<div>\n",
       "<style scoped>\n",
       "    .dataframe tbody tr th:only-of-type {\n",
       "        vertical-align: middle;\n",
       "    }\n",
       "\n",
       "    .dataframe tbody tr th {\n",
       "        vertical-align: top;\n",
       "    }\n",
       "\n",
       "    .dataframe thead th {\n",
       "        text-align: right;\n",
       "    }\n",
       "</style>\n",
       "<table border=\"1\" class=\"dataframe\">\n",
       "  <thead>\n",
       "    <tr style=\"text-align: right;\">\n",
       "      <th></th>\n",
       "      <th>name</th>\n",
       "      <th>platform</th>\n",
       "      <th>year_of_release</th>\n",
       "      <th>genre</th>\n",
       "      <th>na_sales</th>\n",
       "      <th>eu_sales</th>\n",
       "      <th>jp_sales</th>\n",
       "      <th>other_sales</th>\n",
       "      <th>critic_score</th>\n",
       "      <th>user_score</th>\n",
       "      <th>rating</th>\n",
       "      <th>rating_num</th>\n",
       "    </tr>\n",
       "  </thead>\n",
       "  <tbody>\n",
       "    <tr>\n",
       "      <td>215</td>\n",
       "      <td>Monster Hunter Freedom 3</td>\n",
       "      <td>PSP</td>\n",
       "      <td>2010</td>\n",
       "      <td>Role-Playing</td>\n",
       "      <td>0.0</td>\n",
       "      <td>0.00</td>\n",
       "      <td>4.87</td>\n",
       "      <td>0.00</td>\n",
       "      <td>68.0</td>\n",
       "      <td>7.65</td>\n",
       "      <td>NaN</td>\n",
       "      <td>-1</td>\n",
       "    </tr>\n",
       "    <tr>\n",
       "      <td>340</td>\n",
       "      <td>Friend Collection</td>\n",
       "      <td>DS</td>\n",
       "      <td>2009</td>\n",
       "      <td>Misc</td>\n",
       "      <td>0.0</td>\n",
       "      <td>0.00</td>\n",
       "      <td>3.67</td>\n",
       "      <td>0.00</td>\n",
       "      <td>66.5</td>\n",
       "      <td>-1.00</td>\n",
       "      <td>NaN</td>\n",
       "      <td>-1</td>\n",
       "    </tr>\n",
       "    <tr>\n",
       "      <td>385</td>\n",
       "      <td>Monster Hunter 4</td>\n",
       "      <td>3DS</td>\n",
       "      <td>2013</td>\n",
       "      <td>Role-Playing</td>\n",
       "      <td>0.0</td>\n",
       "      <td>0.00</td>\n",
       "      <td>3.44</td>\n",
       "      <td>0.00</td>\n",
       "      <td>74.0</td>\n",
       "      <td>7.80</td>\n",
       "      <td>NaN</td>\n",
       "      <td>-1</td>\n",
       "    </tr>\n",
       "    <tr>\n",
       "      <td>403</td>\n",
       "      <td>English Training: Have Fun Improving Your Skills!</td>\n",
       "      <td>DS</td>\n",
       "      <td>2006</td>\n",
       "      <td>Misc</td>\n",
       "      <td>0.0</td>\n",
       "      <td>0.99</td>\n",
       "      <td>2.32</td>\n",
       "      <td>0.02</td>\n",
       "      <td>66.5</td>\n",
       "      <td>-1.00</td>\n",
       "      <td>NaN</td>\n",
       "      <td>-1</td>\n",
       "    </tr>\n",
       "    <tr>\n",
       "      <td>428</td>\n",
       "      <td>Dragon Quest VI: Maboroshi no Daichi</td>\n",
       "      <td>SNES</td>\n",
       "      <td>1995</td>\n",
       "      <td>Role-Playing</td>\n",
       "      <td>0.0</td>\n",
       "      <td>0.00</td>\n",
       "      <td>3.19</td>\n",
       "      <td>0.00</td>\n",
       "      <td>NaN</td>\n",
       "      <td>NaN</td>\n",
       "      <td>NaN</td>\n",
       "      <td>-1</td>\n",
       "    </tr>\n",
       "  </tbody>\n",
       "</table>\n",
       "</div>"
      ],
      "text/plain": [
       "                                                  name platform  \\\n",
       "215                           Monster Hunter Freedom 3      PSP   \n",
       "340                                  Friend Collection       DS   \n",
       "385                                   Monster Hunter 4      3DS   \n",
       "403  English Training: Have Fun Improving Your Skills!       DS   \n",
       "428               Dragon Quest VI: Maboroshi no Daichi     SNES   \n",
       "\n",
       "     year_of_release         genre  na_sales  eu_sales  jp_sales  other_sales  \\\n",
       "215             2010  Role-Playing       0.0      0.00      4.87         0.00   \n",
       "340             2009          Misc       0.0      0.00      3.67         0.00   \n",
       "385             2013  Role-Playing       0.0      0.00      3.44         0.00   \n",
       "403             2006          Misc       0.0      0.99      2.32         0.02   \n",
       "428             1995  Role-Playing       0.0      0.00      3.19         0.00   \n",
       "\n",
       "     critic_score  user_score rating  rating_num  \n",
       "215          68.0        7.65    NaN          -1  \n",
       "340          66.5       -1.00    NaN          -1  \n",
       "385          74.0        7.80    NaN          -1  \n",
       "403          66.5       -1.00    NaN          -1  \n",
       "428           NaN         NaN    NaN          -1  "
      ]
     },
     "execution_count": 47,
     "metadata": {},
     "output_type": "execute_result"
    }
   ],
   "source": [
    "games_stats.query('na_sales == 0').head()"
   ]
  },
  {
   "cell_type": "code",
   "execution_count": 48,
   "metadata": {},
   "outputs": [
    {
     "data": {
      "text/html": [
       "<div>\n",
       "<style scoped>\n",
       "    .dataframe tbody tr th:only-of-type {\n",
       "        vertical-align: middle;\n",
       "    }\n",
       "\n",
       "    .dataframe tbody tr th {\n",
       "        vertical-align: top;\n",
       "    }\n",
       "\n",
       "    .dataframe thead th {\n",
       "        text-align: right;\n",
       "    }\n",
       "</style>\n",
       "<table border=\"1\" class=\"dataframe\">\n",
       "  <thead>\n",
       "    <tr style=\"text-align: right;\">\n",
       "      <th></th>\n",
       "      <th>name</th>\n",
       "      <th>platform</th>\n",
       "      <th>year_of_release</th>\n",
       "      <th>genre</th>\n",
       "      <th>na_sales</th>\n",
       "      <th>eu_sales</th>\n",
       "      <th>jp_sales</th>\n",
       "      <th>other_sales</th>\n",
       "      <th>critic_score</th>\n",
       "      <th>user_score</th>\n",
       "      <th>rating</th>\n",
       "      <th>rating_num</th>\n",
       "    </tr>\n",
       "  </thead>\n",
       "  <tbody>\n",
       "    <tr>\n",
       "      <td>148</td>\n",
       "      <td>Final Fantasy XII</td>\n",
       "      <td>PS2</td>\n",
       "      <td>2006</td>\n",
       "      <td>Role-Playing</td>\n",
       "      <td>1.88</td>\n",
       "      <td>0.0</td>\n",
       "      <td>2.33</td>\n",
       "      <td>1.74</td>\n",
       "      <td>92.0</td>\n",
       "      <td>7.60</td>\n",
       "      <td>T</td>\n",
       "      <td>3</td>\n",
       "    </tr>\n",
       "    <tr>\n",
       "      <td>215</td>\n",
       "      <td>Monster Hunter Freedom 3</td>\n",
       "      <td>PSP</td>\n",
       "      <td>2010</td>\n",
       "      <td>Role-Playing</td>\n",
       "      <td>0.00</td>\n",
       "      <td>0.0</td>\n",
       "      <td>4.87</td>\n",
       "      <td>0.00</td>\n",
       "      <td>68.0</td>\n",
       "      <td>7.65</td>\n",
       "      <td>NaN</td>\n",
       "      <td>-1</td>\n",
       "    </tr>\n",
       "    <tr>\n",
       "      <td>268</td>\n",
       "      <td>Metal Gear Solid 3: Snake Eater</td>\n",
       "      <td>PS2</td>\n",
       "      <td>2004</td>\n",
       "      <td>Action</td>\n",
       "      <td>1.46</td>\n",
       "      <td>0.0</td>\n",
       "      <td>0.83</td>\n",
       "      <td>1.93</td>\n",
       "      <td>91.0</td>\n",
       "      <td>9.30</td>\n",
       "      <td>M</td>\n",
       "      <td>4</td>\n",
       "    </tr>\n",
       "    <tr>\n",
       "      <td>284</td>\n",
       "      <td>Half-Life</td>\n",
       "      <td>PC</td>\n",
       "      <td>1997</td>\n",
       "      <td>Shooter</td>\n",
       "      <td>4.03</td>\n",
       "      <td>0.0</td>\n",
       "      <td>0.09</td>\n",
       "      <td>0.00</td>\n",
       "      <td>96.0</td>\n",
       "      <td>9.10</td>\n",
       "      <td>M</td>\n",
       "      <td>4</td>\n",
       "    </tr>\n",
       "    <tr>\n",
       "      <td>316</td>\n",
       "      <td>Dragon Warrior III</td>\n",
       "      <td>NES</td>\n",
       "      <td>1988</td>\n",
       "      <td>Role-Playing</td>\n",
       "      <td>0.10</td>\n",
       "      <td>0.0</td>\n",
       "      <td>3.77</td>\n",
       "      <td>0.00</td>\n",
       "      <td>NaN</td>\n",
       "      <td>NaN</td>\n",
       "      <td>NaN</td>\n",
       "      <td>-1</td>\n",
       "    </tr>\n",
       "  </tbody>\n",
       "</table>\n",
       "</div>"
      ],
      "text/plain": [
       "                                name platform  year_of_release         genre  \\\n",
       "148                Final Fantasy XII      PS2             2006  Role-Playing   \n",
       "215         Monster Hunter Freedom 3      PSP             2010  Role-Playing   \n",
       "268  Metal Gear Solid 3: Snake Eater      PS2             2004        Action   \n",
       "284                        Half-Life       PC             1997       Shooter   \n",
       "316               Dragon Warrior III      NES             1988  Role-Playing   \n",
       "\n",
       "     na_sales  eu_sales  jp_sales  other_sales  critic_score  user_score  \\\n",
       "148      1.88       0.0      2.33         1.74          92.0        7.60   \n",
       "215      0.00       0.0      4.87         0.00          68.0        7.65   \n",
       "268      1.46       0.0      0.83         1.93          91.0        9.30   \n",
       "284      4.03       0.0      0.09         0.00          96.0        9.10   \n",
       "316      0.10       0.0      3.77         0.00           NaN         NaN   \n",
       "\n",
       "    rating  rating_num  \n",
       "148      T           3  \n",
       "215    NaN          -1  \n",
       "268      M           4  \n",
       "284      M           4  \n",
       "316    NaN          -1  "
      ]
     },
     "execution_count": 48,
     "metadata": {},
     "output_type": "execute_result"
    }
   ],
   "source": [
    "games_stats.query('eu_sales == 0').head()"
   ]
  },
  {
   "cell_type": "code",
   "execution_count": 49,
   "metadata": {},
   "outputs": [
    {
     "data": {
      "text/html": [
       "<div>\n",
       "<style scoped>\n",
       "    .dataframe tbody tr th:only-of-type {\n",
       "        vertical-align: middle;\n",
       "    }\n",
       "\n",
       "    .dataframe tbody tr th {\n",
       "        vertical-align: top;\n",
       "    }\n",
       "\n",
       "    .dataframe thead th {\n",
       "        text-align: right;\n",
       "    }\n",
       "</style>\n",
       "<table border=\"1\" class=\"dataframe\">\n",
       "  <thead>\n",
       "    <tr style=\"text-align: right;\">\n",
       "      <th></th>\n",
       "      <th>name</th>\n",
       "      <th>platform</th>\n",
       "      <th>year_of_release</th>\n",
       "      <th>genre</th>\n",
       "      <th>na_sales</th>\n",
       "      <th>eu_sales</th>\n",
       "      <th>jp_sales</th>\n",
       "      <th>other_sales</th>\n",
       "      <th>critic_score</th>\n",
       "      <th>user_score</th>\n",
       "      <th>rating</th>\n",
       "      <th>rating_num</th>\n",
       "    </tr>\n",
       "  </thead>\n",
       "  <tbody>\n",
       "    <tr>\n",
       "      <td>61</td>\n",
       "      <td>Just Dance 3</td>\n",
       "      <td>Wii</td>\n",
       "      <td>2011</td>\n",
       "      <td>Misc</td>\n",
       "      <td>5.95</td>\n",
       "      <td>3.11</td>\n",
       "      <td>0.0</td>\n",
       "      <td>1.06</td>\n",
       "      <td>74.0</td>\n",
       "      <td>7.8</td>\n",
       "      <td>E10+</td>\n",
       "      <td>2</td>\n",
       "    </tr>\n",
       "    <tr>\n",
       "      <td>85</td>\n",
       "      <td>The Sims 3</td>\n",
       "      <td>PC</td>\n",
       "      <td>2009</td>\n",
       "      <td>Simulation</td>\n",
       "      <td>0.99</td>\n",
       "      <td>6.42</td>\n",
       "      <td>0.0</td>\n",
       "      <td>0.60</td>\n",
       "      <td>86.0</td>\n",
       "      <td>7.6</td>\n",
       "      <td>T</td>\n",
       "      <td>3</td>\n",
       "    </tr>\n",
       "    <tr>\n",
       "      <td>89</td>\n",
       "      <td>Pac-Man</td>\n",
       "      <td>2600</td>\n",
       "      <td>1982</td>\n",
       "      <td>Puzzle</td>\n",
       "      <td>7.28</td>\n",
       "      <td>0.45</td>\n",
       "      <td>0.0</td>\n",
       "      <td>0.08</td>\n",
       "      <td>NaN</td>\n",
       "      <td>NaN</td>\n",
       "      <td>NaN</td>\n",
       "      <td>-1</td>\n",
       "    </tr>\n",
       "    <tr>\n",
       "      <td>100</td>\n",
       "      <td>Call of Duty: World at War</td>\n",
       "      <td>X360</td>\n",
       "      <td>2008</td>\n",
       "      <td>Shooter</td>\n",
       "      <td>4.81</td>\n",
       "      <td>1.88</td>\n",
       "      <td>0.0</td>\n",
       "      <td>0.69</td>\n",
       "      <td>84.0</td>\n",
       "      <td>7.6</td>\n",
       "      <td>M</td>\n",
       "      <td>4</td>\n",
       "    </tr>\n",
       "    <tr>\n",
       "      <td>103</td>\n",
       "      <td>Just Dance</td>\n",
       "      <td>Wii</td>\n",
       "      <td>2009</td>\n",
       "      <td>Misc</td>\n",
       "      <td>3.48</td>\n",
       "      <td>2.99</td>\n",
       "      <td>0.0</td>\n",
       "      <td>0.73</td>\n",
       "      <td>49.0</td>\n",
       "      <td>8.0</td>\n",
       "      <td>E10+</td>\n",
       "      <td>2</td>\n",
       "    </tr>\n",
       "  </tbody>\n",
       "</table>\n",
       "</div>"
      ],
      "text/plain": [
       "                           name platform  year_of_release       genre  \\\n",
       "61                 Just Dance 3      Wii             2011        Misc   \n",
       "85                   The Sims 3       PC             2009  Simulation   \n",
       "89                      Pac-Man     2600             1982      Puzzle   \n",
       "100  Call of Duty: World at War     X360             2008     Shooter   \n",
       "103                  Just Dance      Wii             2009        Misc   \n",
       "\n",
       "     na_sales  eu_sales  jp_sales  other_sales  critic_score  user_score  \\\n",
       "61       5.95      3.11       0.0         1.06          74.0         7.8   \n",
       "85       0.99      6.42       0.0         0.60          86.0         7.6   \n",
       "89       7.28      0.45       0.0         0.08           NaN         NaN   \n",
       "100      4.81      1.88       0.0         0.69          84.0         7.6   \n",
       "103      3.48      2.99       0.0         0.73          49.0         8.0   \n",
       "\n",
       "    rating  rating_num  \n",
       "61    E10+           2  \n",
       "85       T           3  \n",
       "89     NaN          -1  \n",
       "100      M           4  \n",
       "103   E10+           2  "
      ]
     },
     "execution_count": 49,
     "metadata": {},
     "output_type": "execute_result"
    }
   ],
   "source": [
    "games_stats.query('jp_sales == 0').head()"
   ]
  },
  {
   "cell_type": "code",
   "execution_count": 50,
   "metadata": {},
   "outputs": [
    {
     "data": {
      "text/html": [
       "<div>\n",
       "<style scoped>\n",
       "    .dataframe tbody tr th:only-of-type {\n",
       "        vertical-align: middle;\n",
       "    }\n",
       "\n",
       "    .dataframe tbody tr th {\n",
       "        vertical-align: top;\n",
       "    }\n",
       "\n",
       "    .dataframe thead th {\n",
       "        text-align: right;\n",
       "    }\n",
       "</style>\n",
       "<table border=\"1\" class=\"dataframe\">\n",
       "  <thead>\n",
       "    <tr style=\"text-align: right;\">\n",
       "      <th></th>\n",
       "      <th>name</th>\n",
       "      <th>platform</th>\n",
       "      <th>year_of_release</th>\n",
       "      <th>genre</th>\n",
       "      <th>na_sales</th>\n",
       "      <th>eu_sales</th>\n",
       "      <th>jp_sales</th>\n",
       "      <th>other_sales</th>\n",
       "      <th>critic_score</th>\n",
       "      <th>user_score</th>\n",
       "      <th>rating</th>\n",
       "      <th>rating_num</th>\n",
       "    </tr>\n",
       "  </thead>\n",
       "  <tbody>\n",
       "    <tr>\n",
       "      <td>138</td>\n",
       "      <td>World of Warcraft</td>\n",
       "      <td>PC</td>\n",
       "      <td>2004</td>\n",
       "      <td>Role-Playing</td>\n",
       "      <td>0.08</td>\n",
       "      <td>6.21</td>\n",
       "      <td>0.00</td>\n",
       "      <td>0.0</td>\n",
       "      <td>93.0</td>\n",
       "      <td>7.30</td>\n",
       "      <td>T</td>\n",
       "      <td>3</td>\n",
       "    </tr>\n",
       "    <tr>\n",
       "      <td>215</td>\n",
       "      <td>Monster Hunter Freedom 3</td>\n",
       "      <td>PSP</td>\n",
       "      <td>2010</td>\n",
       "      <td>Role-Playing</td>\n",
       "      <td>0.00</td>\n",
       "      <td>0.00</td>\n",
       "      <td>4.87</td>\n",
       "      <td>0.0</td>\n",
       "      <td>68.0</td>\n",
       "      <td>7.65</td>\n",
       "      <td>NaN</td>\n",
       "      <td>-1</td>\n",
       "    </tr>\n",
       "    <tr>\n",
       "      <td>284</td>\n",
       "      <td>Half-Life</td>\n",
       "      <td>PC</td>\n",
       "      <td>1997</td>\n",
       "      <td>Shooter</td>\n",
       "      <td>4.03</td>\n",
       "      <td>0.00</td>\n",
       "      <td>0.09</td>\n",
       "      <td>0.0</td>\n",
       "      <td>96.0</td>\n",
       "      <td>9.10</td>\n",
       "      <td>M</td>\n",
       "      <td>4</td>\n",
       "    </tr>\n",
       "    <tr>\n",
       "      <td>288</td>\n",
       "      <td>World of Warcraft: The Burning Crusade</td>\n",
       "      <td>PC</td>\n",
       "      <td>2007</td>\n",
       "      <td>Role-Playing</td>\n",
       "      <td>2.57</td>\n",
       "      <td>1.52</td>\n",
       "      <td>0.00</td>\n",
       "      <td>0.0</td>\n",
       "      <td>91.0</td>\n",
       "      <td>7.90</td>\n",
       "      <td>T</td>\n",
       "      <td>3</td>\n",
       "    </tr>\n",
       "    <tr>\n",
       "      <td>316</td>\n",
       "      <td>Dragon Warrior III</td>\n",
       "      <td>NES</td>\n",
       "      <td>1988</td>\n",
       "      <td>Role-Playing</td>\n",
       "      <td>0.10</td>\n",
       "      <td>0.00</td>\n",
       "      <td>3.77</td>\n",
       "      <td>0.0</td>\n",
       "      <td>NaN</td>\n",
       "      <td>NaN</td>\n",
       "      <td>NaN</td>\n",
       "      <td>-1</td>\n",
       "    </tr>\n",
       "  </tbody>\n",
       "</table>\n",
       "</div>"
      ],
      "text/plain": [
       "                                       name platform  year_of_release  \\\n",
       "138                       World of Warcraft       PC             2004   \n",
       "215                Monster Hunter Freedom 3      PSP             2010   \n",
       "284                               Half-Life       PC             1997   \n",
       "288  World of Warcraft: The Burning Crusade       PC             2007   \n",
       "316                      Dragon Warrior III      NES             1988   \n",
       "\n",
       "            genre  na_sales  eu_sales  jp_sales  other_sales  critic_score  \\\n",
       "138  Role-Playing      0.08      6.21      0.00          0.0          93.0   \n",
       "215  Role-Playing      0.00      0.00      4.87          0.0          68.0   \n",
       "284       Shooter      4.03      0.00      0.09          0.0          96.0   \n",
       "288  Role-Playing      2.57      1.52      0.00          0.0          91.0   \n",
       "316  Role-Playing      0.10      0.00      3.77          0.0           NaN   \n",
       "\n",
       "     user_score rating  rating_num  \n",
       "138        7.30      T           3  \n",
       "215        7.65    NaN          -1  \n",
       "284        9.10      M           4  \n",
       "288        7.90      T           3  \n",
       "316         NaN    NaN          -1  "
      ]
     },
     "execution_count": 50,
     "metadata": {},
     "output_type": "execute_result"
    }
   ],
   "source": [
    "games_stats.query('other_sales == 0').head()"
   ]
  },
  {
   "cell_type": "markdown",
   "metadata": {},
   "source": [
    "Взглянув на данные, можно сделать вывод, что проблем с данными нет, есть игры которые, не продаются в других странах. Например, рассмотрим первую таблицу.  *Monster Hunter Freedom 3*,*Friend Collection*,*Monster Hunter 4* продаются только на рынке Японии. https://en.wikipedia.org/wiki/Monster_Hunter_4 . Игра сначала была выпущена в Японии в 2013 году. Позже в 2015 году, появилась версия для Америки и Европы *Monster Hunter 4 Ultimate*. "
   ]
  },
  {
   "cell_type": "markdown",
   "metadata": {},
   "source": [
    "<a id=\"extraDataPreparation\"></a>\n",
    "## Дополнительная подготовка данных к исследованию"
   ]
  },
  {
   "cell_type": "markdown",
   "metadata": {},
   "source": [
    "На этом этапе нам необходимо посчитать, суммарные продажи во всех регионах. "
   ]
  },
  {
   "cell_type": "code",
   "execution_count": 51,
   "metadata": {},
   "outputs": [],
   "source": [
    "games_stats['total_sales'] = games_stats['na_sales'] + games_stats['eu_sales'] + games_stats['jp_sales'] + games_stats['other_sales']"
   ]
  },
  {
   "cell_type": "markdown",
   "metadata": {},
   "source": [
    "## Вывод"
   ]
  },
  {
   "cell_type": "markdown",
   "metadata": {},
   "source": [
    "На этапе предобработки данных мы:\n",
    "1. Обработали столбцы, привели все столбцы к нижнему регистру.\n",
    "2. Обработали пропущенные значения. В некоторых столбцах (*user_score*,*critic_score*) мы оставили пропущенные значения, так как нам важно сохранить полезную информацию. При дальнейшем анализе будем фильтровать данные.\n",
    "3. Проверили данные на наличие дупликатов. Дупликаты не были обнаружены.\n",
    "4. Заменили типы данных в некоторых столбцах. \n",
    "5. Проверили данные на наличие аномальных значений. Во время этого этапа, мы заметили, что есть игры которые, не продаются в других странах. Привели пример игры *Monster Hunter 4*, которая сначала продавалась только в Японии и затем в 2015 году выпустилась для рынка Америки и Европы.\n",
    "6. Посчитали суммарные продажи во всех регионах.\n",
    "\n",
    "Данные готовы для дальнейшей работы."
   ]
  },
  {
   "cell_type": "markdown",
   "metadata": {},
   "source": [
    "<br>"
   ]
  },
  {
   "cell_type": "markdown",
   "metadata": {},
   "source": [
    "---"
   ]
  },
  {
   "cell_type": "markdown",
   "metadata": {},
   "source": [
    "<div class=\"alert alert-success\">\n",
    "<h2> Комментарий ревьюера </h2>\n",
    "\n",
    "Да, восстановить пропущенные значения мы не можем. Данных для этого недостаточно. Лучше работать с меньшим количеством данных хорошего качества.\n",
    "    \n",
    "Ошибки в данных устранены. Данные подготовлены к дальнейшему анализу. \n",
    "\n",
    "</div>"
   ]
  },
  {
   "cell_type": "markdown",
   "metadata": {},
   "source": [
    "<a id=\"eda\"></a>\n",
    "# Этап 3 - Проведение исследовательского анализа данных"
   ]
  },
  {
   "cell_type": "markdown",
   "metadata": {},
   "source": [
    "На этом этапе необходимо:\n",
    "1. Посчитать, сколько игр выпускалось в разные годы и определить нужны ли нам данные за все периоды.\n",
    "2. Посмотреть, как менялись продажи по платформам и установить срок актуальности платформы.\n",
    "3. Определить актуальный период.\n",
    "4. Установить какие платформы лидируют по продажам и найти потенциально прибыльные платформы.\n",
    "5. Описать глобальные продажи игр в разбивке по платформам.\n",
    "6. Посмотреть, как влияют на продажи внутри одной платформы отзывы пользователей и критиков.\n",
    "7. Посмотреть на общее распределение игр по жанрам."
   ]
  },
  {
   "cell_type": "markdown",
   "metadata": {},
   "source": [
    "Построим графики, найдем закономерности."
   ]
  },
  {
   "cell_type": "markdown",
   "metadata": {},
   "source": [
    "<a id=\"howManyPerYear\"></a>\n",
    "## Сколько игр выпускалось в разные годы"
   ]
  },
  {
   "cell_type": "markdown",
   "metadata": {},
   "source": [
    "Посчитаем сколько игр выпускалось в разные годы. И ответим на вопрос о необходимости данных за все периоды."
   ]
  },
  {
   "cell_type": "markdown",
   "metadata": {},
   "source": [
    "Сгруппируем данные по годам и посчитаем сколько значений в каждом годе с помощью *pivot_table*."
   ]
  },
  {
   "cell_type": "code",
   "execution_count": 52,
   "metadata": {},
   "outputs": [],
   "source": [
    "games_per_year_pivot = games_stats.pivot_table(index='year_of_release', values='name',aggfunc='count')"
   ]
  },
  {
   "cell_type": "code",
   "execution_count": 53,
   "metadata": {},
   "outputs": [
    {
     "data": {
      "text/html": [
       "<div>\n",
       "<style scoped>\n",
       "    .dataframe tbody tr th:only-of-type {\n",
       "        vertical-align: middle;\n",
       "    }\n",
       "\n",
       "    .dataframe tbody tr th {\n",
       "        vertical-align: top;\n",
       "    }\n",
       "\n",
       "    .dataframe thead th {\n",
       "        text-align: right;\n",
       "    }\n",
       "</style>\n",
       "<table border=\"1\" class=\"dataframe\">\n",
       "  <thead>\n",
       "    <tr style=\"text-align: right;\">\n",
       "      <th></th>\n",
       "      <th>name</th>\n",
       "    </tr>\n",
       "    <tr>\n",
       "      <th>year_of_release</th>\n",
       "      <th></th>\n",
       "    </tr>\n",
       "  </thead>\n",
       "  <tbody>\n",
       "    <tr>\n",
       "      <td>1980</td>\n",
       "      <td>9</td>\n",
       "    </tr>\n",
       "    <tr>\n",
       "      <td>1981</td>\n",
       "      <td>46</td>\n",
       "    </tr>\n",
       "    <tr>\n",
       "      <td>1982</td>\n",
       "      <td>36</td>\n",
       "    </tr>\n",
       "    <tr>\n",
       "      <td>1983</td>\n",
       "      <td>17</td>\n",
       "    </tr>\n",
       "    <tr>\n",
       "      <td>1984</td>\n",
       "      <td>14</td>\n",
       "    </tr>\n",
       "    <tr>\n",
       "      <td>1985</td>\n",
       "      <td>14</td>\n",
       "    </tr>\n",
       "    <tr>\n",
       "      <td>1986</td>\n",
       "      <td>21</td>\n",
       "    </tr>\n",
       "    <tr>\n",
       "      <td>1987</td>\n",
       "      <td>16</td>\n",
       "    </tr>\n",
       "    <tr>\n",
       "      <td>1988</td>\n",
       "      <td>15</td>\n",
       "    </tr>\n",
       "    <tr>\n",
       "      <td>1989</td>\n",
       "      <td>17</td>\n",
       "    </tr>\n",
       "    <tr>\n",
       "      <td>1990</td>\n",
       "      <td>16</td>\n",
       "    </tr>\n",
       "    <tr>\n",
       "      <td>1991</td>\n",
       "      <td>41</td>\n",
       "    </tr>\n",
       "    <tr>\n",
       "      <td>1992</td>\n",
       "      <td>43</td>\n",
       "    </tr>\n",
       "    <tr>\n",
       "      <td>1993</td>\n",
       "      <td>60</td>\n",
       "    </tr>\n",
       "    <tr>\n",
       "      <td>1994</td>\n",
       "      <td>121</td>\n",
       "    </tr>\n",
       "    <tr>\n",
       "      <td>1995</td>\n",
       "      <td>219</td>\n",
       "    </tr>\n",
       "    <tr>\n",
       "      <td>1996</td>\n",
       "      <td>263</td>\n",
       "    </tr>\n",
       "    <tr>\n",
       "      <td>1997</td>\n",
       "      <td>290</td>\n",
       "    </tr>\n",
       "    <tr>\n",
       "      <td>1998</td>\n",
       "      <td>379</td>\n",
       "    </tr>\n",
       "    <tr>\n",
       "      <td>1999</td>\n",
       "      <td>339</td>\n",
       "    </tr>\n",
       "    <tr>\n",
       "      <td>2000</td>\n",
       "      <td>350</td>\n",
       "    </tr>\n",
       "    <tr>\n",
       "      <td>2001</td>\n",
       "      <td>484</td>\n",
       "    </tr>\n",
       "    <tr>\n",
       "      <td>2002</td>\n",
       "      <td>845</td>\n",
       "    </tr>\n",
       "    <tr>\n",
       "      <td>2003</td>\n",
       "      <td>785</td>\n",
       "    </tr>\n",
       "    <tr>\n",
       "      <td>2004</td>\n",
       "      <td>765</td>\n",
       "    </tr>\n",
       "    <tr>\n",
       "      <td>2005</td>\n",
       "      <td>948</td>\n",
       "    </tr>\n",
       "    <tr>\n",
       "      <td>2006</td>\n",
       "      <td>1019</td>\n",
       "    </tr>\n",
       "    <tr>\n",
       "      <td>2007</td>\n",
       "      <td>1202</td>\n",
       "    </tr>\n",
       "    <tr>\n",
       "      <td>2008</td>\n",
       "      <td>1440</td>\n",
       "    </tr>\n",
       "    <tr>\n",
       "      <td>2009</td>\n",
       "      <td>1431</td>\n",
       "    </tr>\n",
       "    <tr>\n",
       "      <td>2010</td>\n",
       "      <td>1270</td>\n",
       "    </tr>\n",
       "    <tr>\n",
       "      <td>2011</td>\n",
       "      <td>1153</td>\n",
       "    </tr>\n",
       "    <tr>\n",
       "      <td>2012</td>\n",
       "      <td>662</td>\n",
       "    </tr>\n",
       "    <tr>\n",
       "      <td>2013</td>\n",
       "      <td>547</td>\n",
       "    </tr>\n",
       "    <tr>\n",
       "      <td>2014</td>\n",
       "      <td>582</td>\n",
       "    </tr>\n",
       "    <tr>\n",
       "      <td>2015</td>\n",
       "      <td>606</td>\n",
       "    </tr>\n",
       "    <tr>\n",
       "      <td>2016</td>\n",
       "      <td>502</td>\n",
       "    </tr>\n",
       "  </tbody>\n",
       "</table>\n",
       "</div>"
      ],
      "text/plain": [
       "                 name\n",
       "year_of_release      \n",
       "1980                9\n",
       "1981               46\n",
       "1982               36\n",
       "1983               17\n",
       "1984               14\n",
       "1985               14\n",
       "1986               21\n",
       "1987               16\n",
       "1988               15\n",
       "1989               17\n",
       "1990               16\n",
       "1991               41\n",
       "1992               43\n",
       "1993               60\n",
       "1994              121\n",
       "1995              219\n",
       "1996              263\n",
       "1997              290\n",
       "1998              379\n",
       "1999              339\n",
       "2000              350\n",
       "2001              484\n",
       "2002              845\n",
       "2003              785\n",
       "2004              765\n",
       "2005              948\n",
       "2006             1019\n",
       "2007             1202\n",
       "2008             1440\n",
       "2009             1431\n",
       "2010             1270\n",
       "2011             1153\n",
       "2012              662\n",
       "2013              547\n",
       "2014              582\n",
       "2015              606\n",
       "2016              502"
      ]
     },
     "execution_count": 53,
     "metadata": {},
     "output_type": "execute_result"
    }
   ],
   "source": [
    "games_per_year_pivot"
   ]
  },
  {
   "cell_type": "markdown",
   "metadata": {},
   "source": [
    "Для удобности, построим график. Для начала, cоздадим функцию drawPlot, который поможет нам в постройке графиков."
   ]
  },
  {
   "cell_type": "code",
   "execution_count": 54,
   "metadata": {},
   "outputs": [],
   "source": [
    "def drawPlot (dataframe,title,kind,sizeMax,sizeMin,xlabel,ylabel,ylimMax):\n",
    "    dataframe.plot(title=title,kind=kind,figsize=(sizeMax,sizeMin))\n",
    "    plt.xlabel(xlabel)\n",
    "    plt.ylabel(ylabel)\n",
    "    plt.ylim(0,ylimMax)\n",
    "    plt.show()"
   ]
  },
  {
   "cell_type": "code",
   "execution_count": 55,
   "metadata": {},
   "outputs": [
    {
     "data": {
      "image/png": "[encoded data removed]",
      "text/plain": [
       "<Figure size 1080x288 with 1 Axes>"
      ]
     },
     "metadata": {
      "needs_background": "light"
     },
     "output_type": "display_data"
    }
   ],
   "source": [
    "drawPlot(games_per_year_pivot,title='Количество игр за каждый год', kind='bar',sizeMax=15,sizeMin=4,xlabel='Год',ylabel='Количетсво игр',ylimMax=1800)"
   ]
  },
  {
   "cell_type": "markdown",
   "metadata": {},
   "source": [
    "График имеет положительный тренд до *2008 года*, после идет спад. Последние 4 года, количество игр колеблиться в пределах 500-600 в год. Трудно определить, сколько в среднем выпускается игр в месяц, однако, можно смело утверждать, что со временем количество игр увеличивалось. За 28 лет (1980 *минимальное количество* - 2008 *максимальное количетсво*) количество игр увеличилось в **160** раз. Спад после 2008 года образовался из-за кризиса 2008 года.  Нашел очень хорошую статью про спад после 2008 года. https://dtf.ru/gameindustry/65407-igrovaya-industriya-i-finansovyy-krizis-2008-goda"
   ]
  },
  {
   "cell_type": "markdown",
   "metadata": {},
   "source": [
    "<div class=\"alert alert-success\">\n",
    "<h2> Комментарий ревьюера </h2>\n",
    "\n",
    "Как думаешь, какова причина спада в индустрии последних лет?\n",
    "\n",
    "</div>"
   ]
  },
  {
   "cell_type": "markdown",
   "metadata": {},
   "source": [
    "<div class=\"alert alert-info\"> <b>Комментарий студента:</b> Добавил немного комментариев по поводу спада 2008 года </div>"
   ]
  },
  {
   "cell_type": "markdown",
   "metadata": {},
   "source": [
    "Брать данные за все периоды будет нерациональным решением. Возьмем данные начиная с *2002* года, потому что в этом году произошел довольно ощутимый скачок +300 игр по сравнению с 2001 годом. Можно утверждать, что в этом году произошел бум в игровой индустрии. http://news.bbc.co.uk/hi/russian/sci/tech/newsid_2065000/2065475.stm"
   ]
  },
  {
   "cell_type": "code",
   "execution_count": 56,
   "metadata": {},
   "outputs": [],
   "source": [
    "games_stats = games_stats.query('year_of_release >= 2002')"
   ]
  },
  {
   "cell_type": "markdown",
   "metadata": {},
   "source": [
    "<a id=\"diffPlatformPerSales\"></a>\n",
    "## Как менялись продажи по платформам"
   ]
  },
  {
   "cell_type": "markdown",
   "metadata": {},
   "source": [
    "Посмотрим как менялись продажи по платформам и установим срок актуальности платформы. Выберим платформы с наибольшими суммарными продажами и построим графики распределение по годам."
   ]
  },
  {
   "cell_type": "markdown",
   "metadata": {},
   "source": [
    "Создадим функцию для отрисовки графиков"
   ]
  },
  {
   "cell_type": "code",
   "execution_count": 57,
   "metadata": {},
   "outputs": [],
   "source": [
    "def drawPlotAdvanced(df,suptitle_param,x_param,y_param,hue_param,xlabel_param,ylabel_param,plotKind):\n",
    "    if plotKind == \"lineplot\":\n",
    "        sns.set(rc={'figure.figsize':(14,5)})\n",
    "        plt.suptitle(suptitle_param)\n",
    "        ax = sns.lineplot(x = x_param,y=y_param,data=df,hue = hue_param,palette=('Set1'),linewidth=2)\n",
    "        ax.set(xlabel=xlabel_param,ylabel=ylabel_param)\n",
    "        plt.show()\n",
    "    elif plotKind == \"boxplot\":\n",
    "        sns.set(rc={'figure.figsize':(14,5)})\n",
    "        plt.suptitle(suptitle_param)\n",
    "        ax = sns.boxplot(x = x_param,y=y_param,data=df)\n",
    "        ax.set(xlabel=xlabel_param,ylabel=ylabel_param)\n",
    "        plt.show()"
   ]
  },
  {
   "cell_type": "markdown",
   "metadata": {},
   "source": [
    "Сгруппируем данные по платформам, посчитаем суммарные продажи с помощью *pivot_table* и отсортируем их по суммарным продажам с помощью метода *sort_values()*."
   ]
  },
  {
   "cell_type": "code",
   "execution_count": 58,
   "metadata": {},
   "outputs": [],
   "source": [
    "platform_total_sale_pivot = games_stats.pivot_table(index='platform',values='total_sales',aggfunc='sum')\n",
    "platform_total_sale_pivot_sorted  = platform_total_sale_pivot.sort_values(by='total_sales',ascending=False)"
   ]
  },
  {
   "cell_type": "markdown",
   "metadata": {},
   "source": [
    "Возьмём топ-5 платформ с наибольшими суммарными продажами."
   ]
  },
  {
   "cell_type": "code",
   "execution_count": 59,
   "metadata": {},
   "outputs": [
    {
     "data": {
      "text/html": [
       "<div>\n",
       "<style scoped>\n",
       "    .dataframe tbody tr th:only-of-type {\n",
       "        vertical-align: middle;\n",
       "    }\n",
       "\n",
       "    .dataframe tbody tr th {\n",
       "        vertical-align: top;\n",
       "    }\n",
       "\n",
       "    .dataframe thead th {\n",
       "        text-align: right;\n",
       "    }\n",
       "</style>\n",
       "<table border=\"1\" class=\"dataframe\">\n",
       "  <thead>\n",
       "    <tr style=\"text-align: right;\">\n",
       "      <th></th>\n",
       "      <th>total_sales</th>\n",
       "    </tr>\n",
       "    <tr>\n",
       "      <th>platform</th>\n",
       "      <th></th>\n",
       "    </tr>\n",
       "  </thead>\n",
       "  <tbody>\n",
       "    <tr>\n",
       "      <td>PS2</td>\n",
       "      <td>1040.61</td>\n",
       "    </tr>\n",
       "    <tr>\n",
       "      <td>X360</td>\n",
       "      <td>966.61</td>\n",
       "    </tr>\n",
       "    <tr>\n",
       "      <td>PS3</td>\n",
       "      <td>935.19</td>\n",
       "    </tr>\n",
       "    <tr>\n",
       "      <td>Wii</td>\n",
       "      <td>903.31</td>\n",
       "    </tr>\n",
       "    <tr>\n",
       "      <td>DS</td>\n",
       "      <td>804.26</td>\n",
       "    </tr>\n",
       "  </tbody>\n",
       "</table>\n",
       "</div>"
      ],
      "text/plain": [
       "          total_sales\n",
       "platform             \n",
       "PS2           1040.61\n",
       "X360           966.61\n",
       "PS3            935.19\n",
       "Wii            903.31\n",
       "DS             804.26"
      ]
     },
     "execution_count": 59,
     "metadata": {},
     "output_type": "execute_result"
    }
   ],
   "source": [
    "platform_total_sale_pivot_sorted.head()"
   ]
  },
  {
   "cell_type": "markdown",
   "metadata": {},
   "source": [
    "Сделаем отдельные генеральные совокупности по каждой из топ-5 платформ."
   ]
  },
  {
   "cell_type": "code",
   "execution_count": 60,
   "metadata": {},
   "outputs": [],
   "source": [
    "ps2_total_sales = games_stats.query('platform == \"PS2\"').loc[:,['platform','name','year_of_release','total_sales']].reset_index(drop=True)\n",
    "x360_total_sales = games_stats.query('platform == \"X360\"').loc[:,['platform','name','year_of_release','total_sales']].reset_index(drop=True)\n",
    "ps3_total_sales = games_stats.query('platform == \"PS3\"').loc[:,['platform','name','year_of_release','total_sales']].reset_index(drop=True)\n",
    "wii_total_sales = games_stats.query('platform == \"Wii\"').loc[:,['platform','name','year_of_release','total_sales']].reset_index(drop=True)\n",
    "ds_total_sales = games_stats.query('platform == \"DS\"').loc[:,['platform','name','year_of_release','total_sales']].reset_index(drop=True)"
   ]
  },
  {
   "cell_type": "markdown",
   "metadata": {},
   "source": [
    "Соединим их в общий *dataframe*."
   ]
  },
  {
   "cell_type": "code",
   "execution_count": 61,
   "metadata": {},
   "outputs": [],
   "source": [
    "top_5_platform_sales = ps2_total_sales.append(x360_total_sales,ignore_index=True)\n",
    "top_5_platform_sales = top_5_platform_sales.append(ps3_total_sales,ignore_index=True)\n",
    "top_5_platform_sales = top_5_platform_sales.append(wii_total_sales,ignore_index=True)\n",
    "top_5_platform_sales = top_5_platform_sales.append(ds_total_sales,ignore_index=True)"
   ]
  },
  {
   "cell_type": "markdown",
   "metadata": {},
   "source": [
    "Сгруппируем данные по платформе и год выпуска игры, посчитаем суммарные продажи."
   ]
  },
  {
   "cell_type": "code",
   "execution_count": 62,
   "metadata": {},
   "outputs": [],
   "source": [
    "top_5_platform_sales_pivot = top_5_platform_sales.pivot_table(index=['platform','year_of_release']\n",
    "                                                              ,values='total_sales'\n",
    "                                                             ,aggfunc='sum').reset_index()"
   ]
  },
  {
   "cell_type": "markdown",
   "metadata": {},
   "source": [
    "Посторим график."
   ]
  },
  {
   "cell_type": "code",
   "execution_count": 63,
   "metadata": {},
   "outputs": [
    {
     "data": {
      "image/png": "[encoded data removed]",
      "text/plain": [
       "<Figure size 1008x360 with 1 Axes>"
      ]
     },
     "metadata": {},
     "output_type": "display_data"
    }
   ],
   "source": [
    "drawPlotAdvanced(top_5_platform_sales_pivot,\"Распределение суммарных продаж по годам\",'year_of_release','total_sales','platform',\"год\",\"продажи млн. копий\",\"lineplot\")"
   ]
  },
  {
   "cell_type": "markdown",
   "metadata": {},
   "source": [
    "Разберем каждую платформу."
   ]
  },
  {
   "cell_type": "markdown",
   "metadata": {},
   "source": [
    "### DS\n",
    "\n",
    "Продажи резко возрасли до ~2007 (максимальная суммарная продажа 150млн). После, последовал спад в продажах. Скорее всего, консоль стала невостребованной после 2008 года."
   ]
  },
  {
   "cell_type": "markdown",
   "metadata": {},
   "source": [
    "### PS2\n",
    "В периоде 2000-2004 был взрывной рост. Консоль начала завоёвывать рынок в этот период. После ~2004 года, рост продаж пошел на спад, потому что появились новые игроки(консоли) на рынке. "
   ]
  },
  {
   "cell_type": "markdown",
   "metadata": {},
   "source": [
    "### PS3 и Xbox 360\n",
    "Сюдя по графику, можно сделать вывод, что обе консоли имели похожие продажи на протяжении 10 лет. Пик популярности 2010 год - *Xbox 360*. Пик популярности ~2011-12 - *PS3*. После пиков идет спад в продажах."
   ]
  },
  {
   "cell_type": "markdown",
   "metadata": {},
   "source": [
    "### Wii\n",
    "Продажи стартовали с отметки 150млн копий в ~2006. Рост продаж идет до 2008 года(пик популярности), после идет резкий спад. "
   ]
  },
  {
   "cell_type": "markdown",
   "metadata": {},
   "source": [
    "<br>"
   ]
  },
  {
   "cell_type": "markdown",
   "metadata": {},
   "source": [
    "Чтобы определить срок актуальности платформы, применим правило 3-х сигм. В частности, возьмем промежуток ($\\mu$ + $\\sigma$) ($\\mu$ - $\\sigma$) - большинство значений будут находиться в этом промежутке, следовательно, можно предположить, что в этот промежуток и есть - срок востребованности платформы.\n"
   ]
  },
  {
   "cell_type": "markdown",
   "metadata": {},
   "source": [
    "Напишем функцию, которая будет возвращать срок востребованности платформы."
   ]
  },
  {
   "cell_type": "code",
   "execution_count": 64,
   "metadata": {},
   "outputs": [],
   "source": [
    "def demandPeriod(df):\n",
    "    return int((df['year_of_release'].mean() + df['year_of_release'].std()) - \n",
    "                     (df['year_of_release'].mean() - df['year_of_release'].std()))"
   ]
  },
  {
   "cell_type": "code",
   "execution_count": 65,
   "metadata": {},
   "outputs": [],
   "source": [
    "ps2_sales = top_5_platform_sales_pivot.query('platform == \"PS2\"')\n",
    "ps3_sales = top_5_platform_sales_pivot.query('platform == \"PS3\"')\n",
    "wii_sales = top_5_platform_sales_pivot.query('platform == \"Wii\"')\n",
    "x360_sales = top_5_platform_sales_pivot.query('platform == \"X360\"')\n",
    "ds_sales = top_5_platform_sales_pivot.query('platform == \"DS\"')\n",
    "# Срок востребованности платформы - PS2\n",
    "ps2_demand_period = demandPeriod(ps2_sales)\n",
    "# Срок востребованности платформы - PS3\n",
    "ps3_demand_period = demandPeriod(ps3_sales)\n",
    "# Срок востребованности платформы - Wii\n",
    "wii_demand_period = demandPeriod(wii_sales)\n",
    "# Срок востребованности платформы - Xbox 360\n",
    "x360_demand_period = demandPeriod(x360_sales)\n",
    "# Срок востребованности платформы - DS\n",
    "ds_demand_period = demandPeriod(ds_sales)"
   ]
  },
  {
   "cell_type": "markdown",
   "metadata": {},
   "source": [
    "Создадим *dataframe* - срок актуальности платформ."
   ]
  },
  {
   "cell_type": "code",
   "execution_count": 66,
   "metadata": {},
   "outputs": [
    {
     "data": {
      "text/html": [
       "<div>\n",
       "<style scoped>\n",
       "    .dataframe tbody tr th:only-of-type {\n",
       "        vertical-align: middle;\n",
       "    }\n",
       "\n",
       "    .dataframe tbody tr th {\n",
       "        vertical-align: top;\n",
       "    }\n",
       "\n",
       "    .dataframe thead th {\n",
       "        text-align: right;\n",
       "    }\n",
       "</style>\n",
       "<table border=\"1\" class=\"dataframe\">\n",
       "  <thead>\n",
       "    <tr style=\"text-align: right;\">\n",
       "      <th></th>\n",
       "      <th>платформа</th>\n",
       "      <th>срок</th>\n",
       "    </tr>\n",
       "  </thead>\n",
       "  <tbody>\n",
       "    <tr>\n",
       "      <td>0</td>\n",
       "      <td>PS2</td>\n",
       "      <td>6</td>\n",
       "    </tr>\n",
       "    <tr>\n",
       "      <td>1</td>\n",
       "      <td>PS3</td>\n",
       "      <td>7</td>\n",
       "    </tr>\n",
       "    <tr>\n",
       "      <td>2</td>\n",
       "      <td>Wii</td>\n",
       "      <td>6</td>\n",
       "    </tr>\n",
       "    <tr>\n",
       "      <td>3</td>\n",
       "      <td>Xbox 360</td>\n",
       "      <td>7</td>\n",
       "    </tr>\n",
       "    <tr>\n",
       "      <td>4</td>\n",
       "      <td>DS</td>\n",
       "      <td>6</td>\n",
       "    </tr>\n",
       "  </tbody>\n",
       "</table>\n",
       "</div>"
      ],
      "text/plain": [
       "  платформа  срок\n",
       "0       PS2     6\n",
       "1       PS3     7\n",
       "2       Wii     6\n",
       "3  Xbox 360     7\n",
       "4        DS     6"
      ]
     },
     "execution_count": 66,
     "metadata": {},
     "output_type": "execute_result"
    }
   ],
   "source": [
    "demandPeriod_df = pd.DataFrame({'платформа': ['PS2','PS3','Wii','Xbox 360','DS'], 'срок': [ps2_demand_period,ps3_demand_period\n",
    "                                                                                           ,wii_demand_period,x360_demand_period\n",
    "                                                                                          ,ds_demand_period]})\n",
    "demandPeriod_df"
   ]
  },
  {
   "cell_type": "code",
   "execution_count": 67,
   "metadata": {},
   "outputs": [
    {
     "name": "stdout",
     "output_type": "stream",
     "text": [
      "Средний срок актуальности платформы:  6.0\n"
     ]
    }
   ],
   "source": [
    "print('Средний срок актуальности платформы: ',round(demandPeriod_df['срок'].mean()))"
   ]
  },
  {
   "cell_type": "markdown",
   "metadata": {},
   "source": [
    "Мы определили срок актуальности платформы - **6 лет**."
   ]
  },
  {
   "cell_type": "markdown",
   "metadata": {},
   "source": [
    "<div class=\"alert alert-success\">\n",
    "<h2> Комментарий ревьюера </h2>\n",
    "\n",
    "Здорово, показатель жизни платформ рассчитан. Верно, что ты не включил в расчеты актуальные на настоящий момент платформы. \n",
    "\n",
    "</div>"
   ]
  },
  {
   "cell_type": "markdown",
   "metadata": {},
   "source": [
    "<a id=\"demandPeriod\"></a>\n",
    "## Определение актуального периода"
   ]
  },
  {
   "cell_type": "markdown",
   "metadata": {},
   "source": [
    "Основываясь на выводах предыдущих вопросах, возьмем данные за последние 6 лет (средний срок актуальности платформы). Тем самым сохраним важную информацию, так как мы можем увидеть в этом периоде пик продаж, рост и падение."
   ]
  },
  {
   "cell_type": "markdown",
   "metadata": {},
   "source": [
    "Возьмём совокупность за последние 6 лет, т.е начиная с 2011 года."
   ]
  },
  {
   "cell_type": "code",
   "execution_count": 68,
   "metadata": {},
   "outputs": [],
   "source": [
    "games_stats_2011 = games_stats.query('year_of_release >= 2011')"
   ]
  },
  {
   "cell_type": "code",
   "execution_count": 69,
   "metadata": {},
   "outputs": [
    {
     "data": {
      "text/plain": [
       "name                  0\n",
       "platform              0\n",
       "year_of_release       0\n",
       "genre                 0\n",
       "na_sales              0\n",
       "eu_sales              0\n",
       "jp_sales              0\n",
       "other_sales           0\n",
       "critic_score         11\n",
       "user_score            4\n",
       "rating             1533\n",
       "rating_num            0\n",
       "total_sales           0\n",
       "dtype: int64"
      ]
     },
     "execution_count": 69,
     "metadata": {},
     "output_type": "execute_result"
    }
   ],
   "source": [
    "games_stats_2011.isna().sum()"
   ]
  },
  {
   "cell_type": "markdown",
   "metadata": {},
   "source": [
    "За этот период мы сможем увидеть падение текущих для того периода консолей и рост продаж новых консолей."
   ]
  },
  {
   "cell_type": "markdown",
   "metadata": {},
   "source": [
    "<div class=\"alert alert-success\">\n",
    "<h2> Комментарий ревьюера </h2>\n",
    "\n",
    "Актуальный период назван. Так в рассмотрение попадут только последние поколения платформ, а также будем рассматривать только конечный на данный момент интервал развития игровой индустрии. \n",
    "\n",
    "</div>"
   ]
  },
  {
   "cell_type": "markdown",
   "metadata": {},
   "source": [
    "<a id=\"leaderPlatform&SearchProspective\"></a>\n",
    "## Лидирующие платформы, поиск перспективных платформ"
   ]
  },
  {
   "cell_type": "markdown",
   "metadata": {},
   "source": [
    "Необходимо найти лидирующие платформы за актуальный период."
   ]
  },
  {
   "cell_type": "code",
   "execution_count": 70,
   "metadata": {},
   "outputs": [
    {
     "data": {
      "text/html": [
       "<div>\n",
       "<style scoped>\n",
       "    .dataframe tbody tr th:only-of-type {\n",
       "        vertical-align: middle;\n",
       "    }\n",
       "\n",
       "    .dataframe tbody tr th {\n",
       "        vertical-align: top;\n",
       "    }\n",
       "\n",
       "    .dataframe thead th {\n",
       "        text-align: right;\n",
       "    }\n",
       "</style>\n",
       "<table border=\"1\" class=\"dataframe\">\n",
       "  <thead>\n",
       "    <tr style=\"text-align: right;\">\n",
       "      <th></th>\n",
       "      <th>total_sales</th>\n",
       "    </tr>\n",
       "    <tr>\n",
       "      <th>platform</th>\n",
       "      <th></th>\n",
       "    </tr>\n",
       "  </thead>\n",
       "  <tbody>\n",
       "    <tr>\n",
       "      <td>PS3</td>\n",
       "      <td>447.69</td>\n",
       "    </tr>\n",
       "    <tr>\n",
       "      <td>X360</td>\n",
       "      <td>382.75</td>\n",
       "    </tr>\n",
       "    <tr>\n",
       "      <td>PS4</td>\n",
       "      <td>314.14</td>\n",
       "    </tr>\n",
       "    <tr>\n",
       "      <td>3DS</td>\n",
       "      <td>258.21</td>\n",
       "    </tr>\n",
       "    <tr>\n",
       "      <td>XOne</td>\n",
       "      <td>159.32</td>\n",
       "    </tr>\n",
       "    <tr>\n",
       "      <td>PC</td>\n",
       "      <td>98.67</td>\n",
       "    </tr>\n",
       "    <tr>\n",
       "      <td>Wii</td>\n",
       "      <td>96.39</td>\n",
       "    </tr>\n",
       "    <tr>\n",
       "      <td>WiiU</td>\n",
       "      <td>82.19</td>\n",
       "    </tr>\n",
       "    <tr>\n",
       "      <td>PSV</td>\n",
       "      <td>53.81</td>\n",
       "    </tr>\n",
       "    <tr>\n",
       "      <td>DS</td>\n",
       "      <td>39.54</td>\n",
       "    </tr>\n",
       "  </tbody>\n",
       "</table>\n",
       "</div>"
      ],
      "text/plain": [
       "          total_sales\n",
       "platform             \n",
       "PS3            447.69\n",
       "X360           382.75\n",
       "PS4            314.14\n",
       "3DS            258.21\n",
       "XOne           159.32\n",
       "PC              98.67\n",
       "Wii             96.39\n",
       "WiiU            82.19\n",
       "PSV             53.81\n",
       "DS              39.54"
      ]
     },
     "execution_count": 70,
     "metadata": {},
     "output_type": "execute_result"
    }
   ],
   "source": [
    "leader_platforms = games_stats_2011.pivot_table(index='platform',values='total_sales',aggfunc='sum')\n",
    "leader_platforms_sorted = leader_platforms.sort_values(by='total_sales',ascending = False)\n",
    "leader_platforms_sorted.head(10)"
   ]
  },
  {
   "cell_type": "markdown",
   "metadata": {},
   "source": [
    "Топ-5 лидирующих платформ: *PS3*,*Xbox 360*,*PS4*,*3DS*,*XOne*. 3 корпорации возглавляют рынок игровой индустрии:\n",
    "1. Sony\n",
    "2. Microsoft\n",
    "3. Nintendo"
   ]
  },
  {
   "cell_type": "markdown",
   "metadata": {},
   "source": [
    "Сгруппируем данные по платформе и год выпуска игры, посчитаем суммарные продажи."
   ]
  },
  {
   "cell_type": "code",
   "execution_count": 71,
   "metadata": {},
   "outputs": [],
   "source": [
    "leader_platforms_pivot = games_stats_2011.pivot_table(index=['platform','year_of_release']\n",
    "                                                              ,values='total_sales'\n",
    "                                                             ,aggfunc='sum').reset_index()"
   ]
  },
  {
   "cell_type": "markdown",
   "metadata": {},
   "source": [
    "Построим график."
   ]
  },
  {
   "cell_type": "code",
   "execution_count": 72,
   "metadata": {},
   "outputs": [
    {
     "data": {
      "image/png": "[encoded data removed]",
      "text/plain": [
       "<Figure size 1008x360 with 1 Axes>"
      ]
     },
     "metadata": {},
     "output_type": "display_data"
    }
   ],
   "source": [
    "drawPlotAdvanced(leader_platforms_pivot,\"Распределение суммарных продаж c 2011 года по текущий год\",'year_of_release','total_sales','platform',\"год\",\"продажи млн. копий\",\"lineplot\")"
   ]
  },
  {
   "cell_type": "markdown",
   "metadata": {},
   "source": [
    "Основываясь на графике, можно сделать вывод:\n",
    "1. Консоли прошлого поколения становятся неактульными. Если посмотреть на график *PS3* и *Xbox 360*, *Wii*, рост продаж падает с каждым годом.\n",
    "2. Консоли нового поколения показывают актуальность: *PS4*, *Xbox One*,*WiiU*.\n",
    "\n",
    "Посмотрим более внимательно на консоли прошлого поколения и нового поколения."
   ]
  },
  {
   "cell_type": "markdown",
   "metadata": {},
   "source": [
    "<div class=\"alert alert-success\">\n",
    "<h2> Комментарий ревьюера </h2>\n",
    "\n",
    "Да, именно эти платформы мы и можем назвать перспективными на 2017 год. \n",
    "\n",
    "</div>"
   ]
  },
  {
   "cell_type": "markdown",
   "metadata": {},
   "source": [
    "### Консоли прошлого поколения"
   ]
  },
  {
   "cell_type": "code",
   "execution_count": 73,
   "metadata": {},
   "outputs": [],
   "source": [
    "ps3_sales_2011 = games_stats_2011.query('platform == \"PS3\"')\n",
    "xbox360_sales_2011 = games_stats_2011.query('platform == \"X360\"')\n",
    "wii_sales_2011 = games_stats_2011.query('platform == \"Wii\"')"
   ]
  },
  {
   "cell_type": "markdown",
   "metadata": {},
   "source": [
    "Сгруппируем данные году выпуска игры, посчитаем суммарные продажи."
   ]
  },
  {
   "cell_type": "code",
   "execution_count": 74,
   "metadata": {},
   "outputs": [],
   "source": [
    "ps3_sales_2011_pivot = ps3_sales_2011.pivot_table(index='year_of_release',values='total_sales',aggfunc='sum')\n",
    "xbox360_sales_2011_pivot = xbox360_sales_2011.pivot_table(index='year_of_release',values='total_sales',aggfunc='sum')\n",
    "wii_sales_2011_pivot = wii_sales_2011.pivot_table(index='year_of_release',values='total_sales',aggfunc='sum')"
   ]
  },
  {
   "cell_type": "markdown",
   "metadata": {},
   "source": [
    "Воспользуемся функцией *drawplot()*. Построим графики для каждой платформы."
   ]
  },
  {
   "cell_type": "code",
   "execution_count": 75,
   "metadata": {},
   "outputs": [
    {
     "data": {
      "image/png": "[encoded data removed]",
      "text/plain": [
       "<Figure size 1080x288 with 1 Axes>"
      ]
     },
     "metadata": {},
     "output_type": "display_data"
    },
    {
     "data": {
      "image/png": "[encoded data removed]",
      "text/plain": [
       "<Figure size 1080x288 with 1 Axes>"
      ]
     },
     "metadata": {},
     "output_type": "display_data"
    },
    {
     "data": {
      "image/png": "[encoded data removed]",
      "text/plain": [
       "<Figure size 1080x288 with 1 Axes>"
      ]
     },
     "metadata": {},
     "output_type": "display_data"
    }
   ],
   "source": [
    "old_platforms = {\n",
    "    'PS3': ps3_sales_2011_pivot,\n",
    "    'Xbox360': xbox360_sales_2011_pivot,\n",
    "    'Wii': wii_sales_2011_pivot\n",
    "}\n",
    "\n",
    "for platform in old_platforms.keys():\n",
    "    drawPlot(old_platforms[platform],title=f'Распределение суммарных продаж c 2011 года по текущий год {platform}', kind='bar'\n",
    "             ,sizeMax=15,sizeMin=4,xlabel='Год',ylabel='продажи млн. копий',ylimMax=200)"
   ]
  },
  {
   "cell_type": "markdown",
   "metadata": {},
   "source": [
    "Как мы видим, продажи с каждым годом падают, следовательно популярность тоже падает. Рассмотрим консоли нового поколения."
   ]
  },
  {
   "cell_type": "markdown",
   "metadata": {},
   "source": [
    "### Консоли нового поколения"
   ]
  },
  {
   "cell_type": "code",
   "execution_count": 76,
   "metadata": {},
   "outputs": [],
   "source": [
    "ps4_sales_2011 = games_stats_2011.query('platform == \"PS4\"')\n",
    "xboxOne_sales_2011 = games_stats_2011.query('platform == \"XOne\"')\n",
    "wiiU_sales_2011 = games_stats_2011.query('platform == \"WiiU\"')"
   ]
  },
  {
   "cell_type": "markdown",
   "metadata": {},
   "source": [
    "Сгруппируем данные году выпуска игры, посчитаем суммарные продажи."
   ]
  },
  {
   "cell_type": "code",
   "execution_count": 77,
   "metadata": {},
   "outputs": [],
   "source": [
    "ps4_sales_2011_pivot = ps4_sales_2011.pivot_table(index='year_of_release',values='total_sales',aggfunc='sum')\n",
    "xboxOne_sales_2011_pivot = xboxOne_sales_2011.pivot_table(index='year_of_release',values='total_sales',aggfunc='sum')\n",
    "wiiU_sales_2011_pivot = wiiU_sales_2011.pivot_table(index='year_of_release',values='total_sales',aggfunc='sum')"
   ]
  },
  {
   "cell_type": "markdown",
   "metadata": {},
   "source": [
    "Воспользуемся функцией *drawplot()*. Построим графики для каждой платформы."
   ]
  },
  {
   "cell_type": "code",
   "execution_count": 78,
   "metadata": {},
   "outputs": [
    {
     "data": {
      "image/png": "[encoded data removed]",
      "text/plain": [
       "<Figure size 1080x288 with 1 Axes>"
      ]
     },
     "metadata": {},
     "output_type": "display_data"
    },
    {
     "data": {
      "image/png": "[encoded data removed]",
      "text/plain": [
       "<Figure size 1080x288 with 1 Axes>"
      ]
     },
     "metadata": {},
     "output_type": "display_data"
    },
    {
     "data": {
      "image/png": "[encoded data removed]",
      "text/plain": [
       "<Figure size 1080x288 with 1 Axes>"
      ]
     },
     "metadata": {},
     "output_type": "display_data"
    }
   ],
   "source": [
    "new_platforms = {\n",
    "    'PS4': ps4_sales_2011_pivot,\n",
    "    'XboxOne': xboxOne_sales_2011_pivot,\n",
    "    'WiiU': wiiU_sales_2011_pivot \n",
    "}\n",
    "\n",
    "for platform in new_platforms.keys():\n",
    "    drawPlot(new_platforms[platform],title=f'Распределение суммарных продаж c 2011 года по текущий год {platform}', kind='bar'\n",
    "             ,sizeMax=15,sizeMin=4,xlabel='Год',ylabel='продажи млн. копий',ylimMax=200)"
   ]
  },
  {
   "cell_type": "markdown",
   "metadata": {},
   "source": [
    "Ситуация с консолями нового поколения различается. Продажи показали рост и небольшой спад. Консоли нового поколения можно считать перспективными платформами. Прошло не так уж и много времени для срока актуальности. Возможно эти консоли покажут прибыль в следующем году, может игры новые выйдут тем самым продажа для этих консолей увеличиться."
   ]
  },
  {
   "cell_type": "markdown",
   "metadata": {},
   "source": [
    "<a id=\"distGlobalSalesPerPlatform\"></a>\n",
    "## Распределение по глобальным продажам в разбивке по платформам"
   ]
  },
  {
   "cell_type": "markdown",
   "metadata": {},
   "source": [
    "Посмотрим на распределение по глобальным продажами в разбивке платформам."
   ]
  },
  {
   "cell_type": "code",
   "execution_count": 79,
   "metadata": {},
   "outputs": [],
   "source": [
    "platform_global_sales = games_stats_2011.pivot_table(index=['platform','year_of_release'],values='total_sales',aggfunc='sum').reset_index()"
   ]
  },
  {
   "cell_type": "markdown",
   "metadata": {},
   "source": [
    "Построим диаграмму размаха."
   ]
  },
  {
   "cell_type": "code",
   "execution_count": 80,
   "metadata": {},
   "outputs": [
    {
     "data": {
      "image/png": "[encoded data removed]",
      "text/plain": [
       "<Figure size 1008x360 with 1 Axes>"
      ]
     },
     "metadata": {},
     "output_type": "display_data"
    }
   ],
   "source": [
    "drawPlotAdvanced(platform_global_sales, \"Распределение глобальных продаж\",'total_sales','platform',None,\"продажи млн. $\",\"платформа\",\"boxplot\")"
   ]
  },
  {
   "cell_type": "markdown",
   "metadata": {},
   "source": [
    "Лидеры по глобальным продажам: *Xbox 360*,*PS3*. Большинство значений лежит в диапазоне от 25млн до 115 млн копий. В среднем Xbox 360 - 60млн. копий, PS3 - 80млн. копий. Консоли нового поколения не отстают в продажах. *3DS* - глобальные продажи похожи схожи с продажами на *Xbox One*. Менее популярные платформы: *PSP*,*PSV*,*WiiU* - \"портативные консоли\""
   ]
  },
  {
   "cell_type": "markdown",
   "metadata": {},
   "source": [
    "Посмотрим на распределение по глобальным продажами в разбивке по перспективным платформам. Построим диаграмму размаха."
   ]
  },
  {
   "cell_type": "code",
   "execution_count": 81,
   "metadata": {},
   "outputs": [],
   "source": [
    "perspective_platforms = ps4_sales_2011.append(xboxOne_sales_2011,ignore_index=True)\n",
    "perspective_platforms = perspective_platforms.append(wiiU_sales_2011,ignore_index=True)\n",
    "# Сгруппируем данные по платформе и году выпуска игры.\n",
    "perspective_platforms_global_sales = perspective_platforms.pivot_table(index=['platform','year_of_release']\n",
    "                                                              ,values='total_sales'\n",
    "                                                             ,aggfunc='sum').reset_index()"
   ]
  },
  {
   "cell_type": "code",
   "execution_count": 82,
   "metadata": {},
   "outputs": [
    {
     "data": {
      "image/png": "[encoded data removed]",
      "text/plain": [
       "<Figure size 1008x360 with 1 Axes>"
      ]
     },
     "metadata": {},
     "output_type": "display_data"
    }
   ],
   "source": [
    "drawPlotAdvanced(perspective_platforms_global_sales, \"Распределение глобальных продаж - потенциальные платформы\",'total_sales','platform',None,\"продажи млн. копий\",\"платформа\",\"boxplot\")"
   ]
  },
  {
   "cell_type": "markdown",
   "metadata": {},
   "source": [
    "1. PS4 - большинство продаж лежит в диапазоне от 60 до 105 млн. долларов. В среднем около 84 млн долларов. PS4 является самой прибыльной платформой по сравнению с другими платформами.\n",
    "2. WiiU - суммарное число продаж не доходит до 25млн. копий. Следовательно, можем считать её менее прибыльной. Может быть какие-нибудь игры от известных студий улучшат ситуацию.\n",
    "3. Xbox One - Большинство продаж лежит в диапазоне от 23млн до 57 млн копий. В среднем около 40 млн копий - каждый год продается на этой платформе. \n",
    "\n",
    "WiiU - менее прибыльная платформа, так как целом портативные платформы(консоли) менее популярны. Что насчёт остальных платформ, PS4 оказался самой популярной платформой из-за большого количества эксклюзивных игр. У Sony есть собственный набор эксклюзивных игр, которые не доступны на Xbox One: Uncharted 4, Gran Turismo Sport, God of War, Death Stranding, Persona 5, Street Fighter V, The Last Guardian и многие другие. Тем временем, Xbox One может похвастаться доступностью к библиотеке игр с прошлого поколения, чего нет ни в одной консоли в мире.\n",
    "\n",
    "В следующем году можно сделать упор на новые приставки *Xbox One* и *PS4*. Также не стоит забывать о WiiU, несмотря на то что у этой платформы пока малые продажи, но вдруг что-то произойдет и ситуация улучшиться (хотя это мало вероятно). "
   ]
  },
  {
   "cell_type": "markdown",
   "metadata": {},
   "source": [
    "<div class=\"alert alert-warning\">\n",
    "<h2> Комментарий ревьюера</h2>\n",
    " \n",
    "Подумай, из-за чего формируется разница между платформами. Старайся не только описывать результат, но и трактовать его. \n",
    "\n",
    "</div>"
   ]
  },
  {
   "cell_type": "markdown",
   "metadata": {},
   "source": [
    "<div class=\"alert alert-info\"> <b>Комментарий студента:</b> Добавил обьяснение почему PS4 оказалась самой популярной консолью. Также добавил немного комментариев о WiiU и Xbox One</div>"
   ]
  },
  {
   "cell_type": "markdown",
   "metadata": {},
   "source": [
    "<a id=\"userCritcScoreImpact\"></a>\n",
    "## Влияние отзывов пользователей и критиков на продажи"
   ]
  },
  {
   "cell_type": "markdown",
   "metadata": {},
   "source": [
    "Нам нужно понять влияют ли оценки пользователей и критиков на продажи."
   ]
  },
  {
   "cell_type": "markdown",
   "metadata": {},
   "source": [
    "Возьмем наиболее перспективную платформу, в данном случае возьмем PS4 . Посмотрим корреляцию между оценками (пользователей и критиков) и продажами."
   ]
  },
  {
   "cell_type": "markdown",
   "metadata": {},
   "source": [
    "Напишем функцию, которая будет рисовать диаграммы рассеяния."
   ]
  },
  {
   "cell_type": "code",
   "execution_count": 83,
   "metadata": {},
   "outputs": [],
   "source": [
    "def drawCorrDiagram(df,x_param,y_param,kind_param,alpha_param,legend_param,title_param):\n",
    "    df.plot(x=x_param,y=y_param,kind=kind_param,alpha=alpha_param,legend=legend_param,title=title_param)\n",
    "    plt.show()"
   ]
  },
  {
   "cell_type": "markdown",
   "metadata": {},
   "source": [
    "Посмотрим корреляцию между оценками пользователей и продажами."
   ]
  },
  {
   "cell_type": "markdown",
   "metadata": {},
   "source": [
    "Так как у нас есть пропущенные значения в столбцах *user_score* и *critic_score*. Отфильтруем данные. Возьмем выборку без пропущенных значений и исключим те строки, где рейтинг не был определен."
   ]
  },
  {
   "cell_type": "code",
   "execution_count": 84,
   "metadata": {},
   "outputs": [],
   "source": [
    "ps4_sales_2011_non_nan_user_score = non_nan_column(ps4_sales_2011,'user_score').reset_index(drop=True).query('user_score > 0')\n",
    "ps4_sales_2011_non_nan_critic_score = non_nan_column(ps4_sales_2011,'critic_score').reset_index(drop=True).query('critic_score > 0')"
   ]
  },
  {
   "cell_type": "code",
   "execution_count": 85,
   "metadata": {},
   "outputs": [
    {
     "name": "stderr",
     "output_type": "stream",
     "text": [
      "'c' argument looks like a single numeric RGB or RGBA sequence, which should be avoided as value-mapping will have precedence in case its length matches with 'x' & 'y'.  Please use a 2-D array with a single row if you really want to specify the same RGB or RGBA value for all points.\n"
     ]
    },
    {
     "data": {
      "image/png": "[encoded data removed]",
      "text/plain": [
       "<Figure size 1008x360 with 1 Axes>"
      ]
     },
     "metadata": {},
     "output_type": "display_data"
    }
   ],
   "source": [
    "drawCorrDiagram(df=ps4_sales_2011_non_nan_user_score,x_param='user_score',y_param='total_sales',kind_param='scatter'\n",
    "                ,alpha_param=0.03,legend_param=True,title_param='Корреляция между продажами и оценкой пользователей - PS4')"
   ]
  },
  {
   "cell_type": "markdown",
   "metadata": {},
   "source": [
    "Исходя из графика, можно сделать вывод, что оценки пользователей и продажи не коррелируют между собой. Посмотрим на коэффициент Пирсона."
   ]
  },
  {
   "cell_type": "code",
   "execution_count": 86,
   "metadata": {},
   "outputs": [
    {
     "name": "stdout",
     "output_type": "stream",
     "text": [
      "-0.07278107378195338\n"
     ]
    }
   ],
   "source": [
    "print(ps4_sales_2011_non_nan_user_score['total_sales'].corr(ps4_sales_2011_non_nan_user_score['user_score']))"
   ]
  },
  {
   "cell_type": "markdown",
   "metadata": {},
   "source": [
    "Коэффициент Пирсона близок к нулю, значит связь слабая, либо отсутствует вовсе. "
   ]
  },
  {
   "cell_type": "markdown",
   "metadata": {},
   "source": [
    "Посмотрим корреляцию между оценками критиков и продажами."
   ]
  },
  {
   "cell_type": "code",
   "execution_count": 87,
   "metadata": {},
   "outputs": [
    {
     "name": "stderr",
     "output_type": "stream",
     "text": [
      "'c' argument looks like a single numeric RGB or RGBA sequence, which should be avoided as value-mapping will have precedence in case its length matches with 'x' & 'y'.  Please use a 2-D array with a single row if you really want to specify the same RGB or RGBA value for all points.\n"
     ]
    },
    {
     "data": {
      "image/png": "[encoded data removed]",
      "text/plain": [
       "<Figure size 1008x360 with 1 Axes>"
      ]
     },
     "metadata": {},
     "output_type": "display_data"
    }
   ],
   "source": [
    "drawCorrDiagram(df=ps4_sales_2011_non_nan_critic_score,x_param='critic_score',y_param='total_sales',kind_param='scatter'\n",
    "                ,alpha_param=0.03,legend_param=True,title_param='Корреляция между продажами и оценкой критиков - PS4')"
   ]
  },
  {
   "cell_type": "markdown",
   "metadata": {},
   "source": [
    "По графику видно, что оценки критиков и продажи меньше коррелируют между собой. Посмотрим на коэффициент Пирсона."
   ]
  },
  {
   "cell_type": "code",
   "execution_count": 88,
   "metadata": {},
   "outputs": [
    {
     "name": "stdout",
     "output_type": "stream",
     "text": [
      "0.33476893281096876\n"
     ]
    }
   ],
   "source": [
    "print(ps4_sales_2011_non_nan_critic_score['total_sales'].corr(ps4_sales_2011_non_nan_critic_score['critic_score']))"
   ]
  },
  {
   "cell_type": "markdown",
   "metadata": {},
   "source": [
    "Коэффициент Пирсона равен 0.33 - есть связь, но она слабая. Следовательно, оценки критиков не всегда влияют на продажи игры."
   ]
  },
  {
   "cell_type": "markdown",
   "metadata": {},
   "source": [
    "Что насчёт других консолей? Такая ситуация только у PS4? Посмотрим на корреляцию в других потенциальных консолей. Возьмём Xbox One."
   ]
  },
  {
   "cell_type": "markdown",
   "metadata": {},
   "source": [
    "Так как у нас есть пропущенные значения в столбцах *user_score* и *critic_score*. Отфильтруем данные. Возьмем выборку без пропущенных значений и исключим те строки, где рейтинг не был определен."
   ]
  },
  {
   "cell_type": "code",
   "execution_count": 89,
   "metadata": {},
   "outputs": [],
   "source": [
    "xboxOne_sales_2011_non_nan_user_score = non_nan_column(xboxOne_sales_2011,'user_score').reset_index(drop=True).query('user_score > 0')\n",
    "xboxOne_sales_2011_non_nan_critic_score = non_nan_column(xboxOne_sales_2011,'critic_score').reset_index(drop=True).query('critic_score > 0')"
   ]
  },
  {
   "cell_type": "code",
   "execution_count": 90,
   "metadata": {},
   "outputs": [
    {
     "name": "stderr",
     "output_type": "stream",
     "text": [
      "'c' argument looks like a single numeric RGB or RGBA sequence, which should be avoided as value-mapping will have precedence in case its length matches with 'x' & 'y'.  Please use a 2-D array with a single row if you really want to specify the same RGB or RGBA value for all points.\n"
     ]
    },
    {
     "data": {
      "image/png": "[encoded data removed]",
      "text/plain": [
       "<Figure size 1008x360 with 1 Axes>"
      ]
     },
     "metadata": {},
     "output_type": "display_data"
    }
   ],
   "source": [
    "drawCorrDiagram(df=xboxOne_sales_2011_non_nan_user_score,x_param='user_score',y_param='total_sales',kind_param='scatter'\n",
    "                ,alpha_param=0.03,legend_param=True,title_param='Корреляция между продажами и оценкой пользователей - Xbox One')"
   ]
  },
  {
   "cell_type": "markdown",
   "metadata": {},
   "source": [
    "Видим практические ту же ситуацию с PS4. Посмотрим на коэффициент Пирсона."
   ]
  },
  {
   "cell_type": "code",
   "execution_count": 91,
   "metadata": {},
   "outputs": [
    {
     "name": "stdout",
     "output_type": "stream",
     "text": [
      "-0.06876720540266656\n"
     ]
    }
   ],
   "source": [
    "print(xboxOne_sales_2011_non_nan_user_score['total_sales'].corr(xboxOne_sales_2011_non_nan_user_score['user_score']))"
   ]
  },
  {
   "cell_type": "markdown",
   "metadata": {},
   "source": [
    "Коэффициент Пирсона близок к 0, связь очень слабая либо её вовсе нету."
   ]
  },
  {
   "cell_type": "markdown",
   "metadata": {},
   "source": [
    "Посмотрим корреляцию между оценками критиков и продажами."
   ]
  },
  {
   "cell_type": "code",
   "execution_count": 92,
   "metadata": {},
   "outputs": [
    {
     "name": "stderr",
     "output_type": "stream",
     "text": [
      "'c' argument looks like a single numeric RGB or RGBA sequence, which should be avoided as value-mapping will have precedence in case its length matches with 'x' & 'y'.  Please use a 2-D array with a single row if you really want to specify the same RGB or RGBA value for all points.\n"
     ]
    },
    {
     "data": {
      "image/png": "[encoded data removed]",
      "text/plain": [
       "<Figure size 1008x360 with 1 Axes>"
      ]
     },
     "metadata": {},
     "output_type": "display_data"
    }
   ],
   "source": [
    "drawCorrDiagram(df=xboxOne_sales_2011_non_nan_critic_score,x_param='critic_score',y_param='total_sales',kind_param='scatter'\n",
    "                ,alpha_param=0.03,legend_param=True,title_param='Корреляция между продажами и оценкой критиков - Xbox One')"
   ]
  },
  {
   "cell_type": "markdown",
   "metadata": {},
   "source": [
    "Тоже самое. Видно слабую корреляцию. Рассмотрим коэффициент Пирсона."
   ]
  },
  {
   "cell_type": "code",
   "execution_count": 93,
   "metadata": {},
   "outputs": [
    {
     "name": "stdout",
     "output_type": "stream",
     "text": [
      "0.33155145507232087\n"
     ]
    }
   ],
   "source": [
    "print(xboxOne_sales_2011_non_nan_critic_score['critic_score'].corr(xboxOne_sales_2011_non_nan_critic_score['total_sales']))"
   ]
  },
  {
   "cell_type": "markdown",
   "metadata": {},
   "source": [
    "Коэффициент Пирсона равен 0.33 - есть связь, но она слабая. Следовательно, оценки критиков не всегда влияют на продажи игры для платформы *Xbox*."
   ]
  },
  {
   "cell_type": "markdown",
   "metadata": {},
   "source": [
    "В целом, оценки пользователей не влияют на суммарные продажи игр для перспективных консолей.Тем временем, оценки критиков влияют, но не всегда."
   ]
  },
  {
   "cell_type": "markdown",
   "metadata": {},
   "source": [
    "<div class=\"alert alert-danger\">\n",
    "<h2> Комментарий ревьюера</h2>\n",
    " \n",
    "Именно по этой причине и не стоило заполнять пропуски неревльным значением. Ты включил значения -1 в анализ. Это сильно сказывается на получаемых результатах. Исправь данную ситуацию.\n",
    "\n",
    "</div>"
   ]
  },
  {
   "cell_type": "markdown",
   "metadata": {},
   "source": [
    "<div class=\"alert alert-info\"> <b>Комментарий студента:</b> Пропущенные значения я оставил, как вы сказали. Отфильтровал данные. Однако, получил практически тот же самый результат. Хорошо ли это? </div>"
   ]
  },
  {
   "cell_type": "markdown",
   "metadata": {},
   "source": [
    "<a id=\"gameDistPerGenre\"></a>\n",
    "## Распределение игр по жанрам"
   ]
  },
  {
   "cell_type": "markdown",
   "metadata": {},
   "source": [
    "Нам необходимо посмотреть на общее распределение игр по жанрам. Найдем прибыльные жанры. Какие жанры имеют высокую продаваемость а какие низкую? "
   ]
  },
  {
   "cell_type": "markdown",
   "metadata": {},
   "source": [
    "Сгруппируем данные по жанру, и посчитаем суммарные продажи."
   ]
  },
  {
   "cell_type": "code",
   "execution_count": 94,
   "metadata": {},
   "outputs": [
    {
     "data": {
      "text/html": [
       "<div>\n",
       "<style scoped>\n",
       "    .dataframe tbody tr th:only-of-type {\n",
       "        vertical-align: middle;\n",
       "    }\n",
       "\n",
       "    .dataframe tbody tr th {\n",
       "        vertical-align: top;\n",
       "    }\n",
       "\n",
       "    .dataframe thead th {\n",
       "        text-align: right;\n",
       "    }\n",
       "</style>\n",
       "<table border=\"1\" class=\"dataframe\">\n",
       "  <thead>\n",
       "    <tr style=\"text-align: right;\">\n",
       "      <th></th>\n",
       "      <th>total_sales</th>\n",
       "    </tr>\n",
       "    <tr>\n",
       "      <th>genre</th>\n",
       "      <th></th>\n",
       "    </tr>\n",
       "  </thead>\n",
       "  <tbody>\n",
       "    <tr>\n",
       "      <td>Action</td>\n",
       "      <td>565.22</td>\n",
       "    </tr>\n",
       "    <tr>\n",
       "      <td>Adventure</td>\n",
       "      <td>45.04</td>\n",
       "    </tr>\n",
       "    <tr>\n",
       "      <td>Fighting</td>\n",
       "      <td>66.90</td>\n",
       "    </tr>\n",
       "    <tr>\n",
       "      <td>Misc</td>\n",
       "      <td>139.91</td>\n",
       "    </tr>\n",
       "    <tr>\n",
       "      <td>Platform</td>\n",
       "      <td>88.68</td>\n",
       "    </tr>\n",
       "    <tr>\n",
       "      <td>Puzzle</td>\n",
       "      <td>9.85</td>\n",
       "    </tr>\n",
       "    <tr>\n",
       "      <td>Racing</td>\n",
       "      <td>88.31</td>\n",
       "    </tr>\n",
       "    <tr>\n",
       "      <td>Role-Playing</td>\n",
       "      <td>245.63</td>\n",
       "    </tr>\n",
       "    <tr>\n",
       "      <td>Shooter</td>\n",
       "      <td>402.96</td>\n",
       "    </tr>\n",
       "    <tr>\n",
       "      <td>Simulation</td>\n",
       "      <td>50.26</td>\n",
       "    </tr>\n",
       "    <tr>\n",
       "      <td>Sports</td>\n",
       "      <td>237.40</td>\n",
       "    </tr>\n",
       "    <tr>\n",
       "      <td>Strategy</td>\n",
       "      <td>22.51</td>\n",
       "    </tr>\n",
       "  </tbody>\n",
       "</table>\n",
       "</div>"
      ],
      "text/plain": [
       "              total_sales\n",
       "genre                    \n",
       "Action             565.22\n",
       "Adventure           45.04\n",
       "Fighting            66.90\n",
       "Misc               139.91\n",
       "Platform            88.68\n",
       "Puzzle               9.85\n",
       "Racing              88.31\n",
       "Role-Playing       245.63\n",
       "Shooter            402.96\n",
       "Simulation          50.26\n",
       "Sports             237.40\n",
       "Strategy            22.51"
      ]
     },
     "execution_count": 94,
     "metadata": {},
     "output_type": "execute_result"
    }
   ],
   "source": [
    "games_genre_dist = games_stats_2011.pivot_table(index='genre',values='total_sales',aggfunc='sum')\n",
    "games_genre_dist"
   ]
  },
  {
   "cell_type": "markdown",
   "metadata": {},
   "source": [
    "Отсортируем, найдем прибыльные жанры."
   ]
  },
  {
   "cell_type": "code",
   "execution_count": 95,
   "metadata": {},
   "outputs": [
    {
     "data": {
      "text/html": [
       "<div>\n",
       "<style scoped>\n",
       "    .dataframe tbody tr th:only-of-type {\n",
       "        vertical-align: middle;\n",
       "    }\n",
       "\n",
       "    .dataframe tbody tr th {\n",
       "        vertical-align: top;\n",
       "    }\n",
       "\n",
       "    .dataframe thead th {\n",
       "        text-align: right;\n",
       "    }\n",
       "</style>\n",
       "<table border=\"1\" class=\"dataframe\">\n",
       "  <thead>\n",
       "    <tr style=\"text-align: right;\">\n",
       "      <th></th>\n",
       "      <th>total_sales</th>\n",
       "    </tr>\n",
       "    <tr>\n",
       "      <th>genre</th>\n",
       "      <th></th>\n",
       "    </tr>\n",
       "  </thead>\n",
       "  <tbody>\n",
       "    <tr>\n",
       "      <td>Action</td>\n",
       "      <td>565.22</td>\n",
       "    </tr>\n",
       "    <tr>\n",
       "      <td>Shooter</td>\n",
       "      <td>402.96</td>\n",
       "    </tr>\n",
       "    <tr>\n",
       "      <td>Role-Playing</td>\n",
       "      <td>245.63</td>\n",
       "    </tr>\n",
       "    <tr>\n",
       "      <td>Sports</td>\n",
       "      <td>237.40</td>\n",
       "    </tr>\n",
       "    <tr>\n",
       "      <td>Misc</td>\n",
       "      <td>139.91</td>\n",
       "    </tr>\n",
       "    <tr>\n",
       "      <td>Platform</td>\n",
       "      <td>88.68</td>\n",
       "    </tr>\n",
       "    <tr>\n",
       "      <td>Racing</td>\n",
       "      <td>88.31</td>\n",
       "    </tr>\n",
       "    <tr>\n",
       "      <td>Fighting</td>\n",
       "      <td>66.90</td>\n",
       "    </tr>\n",
       "    <tr>\n",
       "      <td>Simulation</td>\n",
       "      <td>50.26</td>\n",
       "    </tr>\n",
       "    <tr>\n",
       "      <td>Adventure</td>\n",
       "      <td>45.04</td>\n",
       "    </tr>\n",
       "    <tr>\n",
       "      <td>Strategy</td>\n",
       "      <td>22.51</td>\n",
       "    </tr>\n",
       "    <tr>\n",
       "      <td>Puzzle</td>\n",
       "      <td>9.85</td>\n",
       "    </tr>\n",
       "  </tbody>\n",
       "</table>\n",
       "</div>"
      ],
      "text/plain": [
       "              total_sales\n",
       "genre                    \n",
       "Action             565.22\n",
       "Shooter            402.96\n",
       "Role-Playing       245.63\n",
       "Sports             237.40\n",
       "Misc               139.91\n",
       "Platform            88.68\n",
       "Racing              88.31\n",
       "Fighting            66.90\n",
       "Simulation          50.26\n",
       "Adventure           45.04\n",
       "Strategy            22.51\n",
       "Puzzle               9.85"
      ]
     },
     "execution_count": 95,
     "metadata": {},
     "output_type": "execute_result"
    }
   ],
   "source": [
    "games_genre_dist_sorted = games_genre_dist.sort_values(by='total_sales',ascending=False)\n",
    "games_genre_dist_sorted"
   ]
  },
  {
   "cell_type": "markdown",
   "metadata": {},
   "source": [
    "Построим график для наглядности."
   ]
  },
  {
   "cell_type": "code",
   "execution_count": 96,
   "metadata": {},
   "outputs": [
    {
     "data": {
      "image/png": "[encoded data removed]",
      "text/plain": [
       "<Figure size 1080x288 with 1 Axes>"
      ]
     },
     "metadata": {},
     "output_type": "display_data"
    }
   ],
   "source": [
    "drawPlot(games_genre_dist_sorted,title='Распределение игр по жанрам', kind='bar'\n",
    "             ,sizeMax=15,sizeMin=4,xlabel='жанр',ylabel='продажи млн. копий',ylimMax=800)"
   ]
  },
  {
   "cell_type": "markdown",
   "metadata": {},
   "source": [
    "Возглавляют распределение жанры: *Action*, *Shooter* и *Sports* - легкие жанры для усвоения. Например, *Action* - простой гемплей, несколько кнопок - (передвижение, стрельба, и дополнительные действия). В жанре *Action* - сюжет не такой комплексный, как в жанре *Role-Playing*. В жанре *Shooter* - тоже простой геймплей и управление. *Sports* - много болельщиков спорта, которые хотят поиграть за свои любимые команды(например Fifa) и этот жанр прост в усвоении. Самыми успешными серии игр жанров *Action* и *Shooter* - являются AAA проекты: *Grand Theft Auto и Call of Duty*. https://zen.yandex.ru/media/gabestore/aa-aaa-aaaa-chto-oboznachaiut-aabbreviatury-v-geimdeve-5ca5dafa53239a00b3a77571 - крутая статья про AAA проекты, где рассказывается почему так дорого стоят эти проекты и почему они получают огромную выручку.\n",
    "\n",
    "Менее прибыльные жанры: *Adventure*,*Strategy*,*Puzzle*.*Strategy* - из-за своей специфике жанра, порог вхождения выше чем у остальных жанрах. *Puzzle* - в этом жанре практически нет крупных проектов. *Adventure* - скорее всего подразумевается как квесты. В этом жанре очень мало или вообще нету крупных релизов.\n",
    "\n"
   ]
  },
  {
   "cell_type": "markdown",
   "metadata": {},
   "source": [
    "<div class=\"alert alert-success\">\n",
    "<h2> Комментарий ревьюера </h2>\n",
    "\n",
    "Анализ популярности жанров проведен. Однако не стоит забывать, что производство игр в жанрах Action или Shooter обходится сильно дороже, чем производство Puzzle-игр. \n",
    "\n",
    "</div>"
   ]
  },
  {
   "cell_type": "markdown",
   "metadata": {},
   "source": [
    "## Вывод"
   ]
  },
  {
   "cell_type": "markdown",
   "metadata": {},
   "source": [
    "Во время проведения исследовательского анализа данных мы :\n",
    "1. Посчитали сколько игр выпускалось в разные годы. Последние 4 года, количество игр колеблиться в пределах 500-600 в год. Трудно определить, сколько в среднем выпускается игр в месяц, однако, можно смело утверждать, что со временем количество игр увеличивалось. За 28 лет количество игр увеличилось в **160** раз. После 2008 года, произошел спад в разработке игр. Спад после 2008 года образовался из-за кризиса 2008 года.  Нашел очень хорошую статью про спад после 2008 года. https://dtf.ru/gameindustry/65407-igrovaya-industriya-i-finansovyy-krizis-2008-goda\n",
    "2. Определили рациональный период для выборки. Взяли данные начиная с *2002* года, потому что в этом году произошел довольно ощутимый скачок +300 игр по сравнению с 2001 годом. Можно утверждать, что в этом году произошел бум в игровой индустрии.\n",
    "3. Посмотрели как менялись продажи по платформам. \n",
    "    - **DS** - Продажи резко возрасли до ~2007 (максимальная суммарная продажа 150млн). После, последовал спад в продажах. Скорее всего, консоль стала невостребованной после 2008 года.\n",
    "    - **PS2** - В периоде 2000-2003 был взрывной рост. Консоль начала завоёвывать рынок в этот период. После ~2004 года, рост продаж пошел на спад, потому что появились новые игроки(консоли) на рынке. \n",
    "    - **PS3 и Xbox 360** - обе консоли имели похожие продажи на протяжении 10 лет. Пик популярности 2010 год - *Xbox 360*. Пик популярности ~2011-12 - *PS3*. После пиков идет спад в продажах.\n",
    "    - **Wii** - Продажи стартовали с отметки 150млн копии в ~2006. Рост продаж идет до 2008 года(пик популярности), после идет резкий спад. \n",
    "  \n",
    "4. Определили срок актуальности платформы - 6 лет. За этот период мы сможем увидеть падение текущих для того периода консолей и рост продаж новых консолей.\n",
    "5. Определили лидирующие платформы. Топ-5 лидирующих платформ: *PS3*,*Xbox 360*,*PS4*,*3DS*,*Wii*. 3 корпорации возглавляют рынок игровой индустрии:\n",
    "    - Sony\n",
    "    - Microsoft\n",
    "    - Nintendo\n",
    "6. Построили график распределения продаж и выявили:\n",
    "    - Консоли прошлого поколения становятся неактульными. Если посмотреть на график *PS3* и *Xbox 360*, *Wii*, рост продаж падает с каждым годом.\n",
    "    - Консоли нового поколения показывают актуальность: *PS4*, *Xbox One*,*WiiU*. Их можно считать перспективными платформами. Прошло не так уж и много времени для срока актуальности. Возможно эти консоли покажут прибыль в следующем году, может игры новые выйдут тем самым продажа для этих консолей увеличиться.\n",
    "7. Посмотрели распределение по продажам в разбивке по платформам. Лидеры по глобальным продажам: *Xbox 360*,*PS3*. Большинство значений лежит в диапазоне от 25млн до 115 млн копий. В среднем Xbox 360 - 60млн. копий, PS3 - 80млн. копий. Консоли нового поколения не отстают в продажах. *3DS* - глобальные продажи похожи схожи с продажами на *Xbox One*. Менее популярные платформы: *PSP*,*PSV*,*WiiU* - \"портативные консоли\". PS4 - большинство продаж лежит в диапазоне от 60 до 105 млн. долларов. В среднем около 84 млн долларов. PS4 является самой прибыльной платформой по сравнению с другими платформами. WiiU - суммарное число продаж не доходит до 25млн. копий. Следовательно, можем считать её менее прибыльной. Может быть какие-нибудь игры от известных студий улучшат ситуацию. Xbox One - Большинство продаж лежит в диапазоне от 23млн до 57 млн копий. В среднем около 40 млн копий - каждый год продается на этой платформе. Следовательно, в следующем году можно сделать упор на новые приставки *Xbox One* и *PS4*. WiiU - менее прибыльная платформа, так как целом портативные платформы(консоли) менее популярны. Что насчёт остальных платформ, PS4 оказался самой популярной платформой из-за большого количества эксклюзивных игр. У Sony есть собственный набор эксклюзивных игр, которые не доступны на Xbox One: Uncharted 4, Gran Turismo Sport, God of War, Death Stranding, Persona 5, Street Fighter V, The Last Guardian и многие другие. Тем временем, Xbox One может похвастаться доступностью к библиотеке игр с прошлого поколения, чего нет ни в одной консоли в мире.\n",
    "8. Рассмотрели корреляцию оценок пользователей и критиков на продажи игры. Мы выяснили, что в целом, оценки пользователей не влияют на суммарные продажи игр для перспективных консолей.Тем временем, оценки критиков влияют, но не всегда.\n",
    "9. Также рассмотрели распределение игр по жанрам. Возглавляют распределение жанры: *Action*, *Shooter* и *Sports* - легкие жанры для усвоения. Например, *Action* - простой гемплей, несколько кнопок - (передвижение, стрельба, и дополнительные действия). В жанре *Action* - сюжет не такой комплексный, как в жанре *Role-Playing*. В жанре *Shooter* - тоже простой геймплей и управление. *Sports* - много болельщиков спорта, которые хотят поиграть за свои любимые команды(например Fifa) и этот жанр прост в усвоении.  Самыми успешными серии игр жанров *Action* и *Shooter* - являются AAA проекты: *Grand Theft Auto и Call of Duty*. https://zen.yandex.ru/media/gabestore/aa-aaa-aaaa-chto-oboznachaiut-aabbreviatury-v-geimdeve-5ca5dafa53239a00b3a77571 - крутая статья про AAA проекты, где рассказывается почему так дорого стоят эти проекты и почему они получают огромную выручку. Менее прибыльные жанры: *Adventure*,*Strategy*,*Puzzle*.*Strategy* - из-за своей специфике жанра, порог вхождения выше чем у остальных жанрах. *Puzzle* - в этом жанре практически нет крупных проектов. *Adventure* - скорее всего подразумевается как квесты. В этом жанре очень мало или вообще нету крупных релизов.\n"
   ]
  },
  {
   "cell_type": "markdown",
   "metadata": {},
   "source": [
    "Перейдем к статистическому анализу данных."
   ]
  },
  {
   "cell_type": "markdown",
   "metadata": {},
   "source": [
    "<br>"
   ]
  },
  {
   "cell_type": "markdown",
   "metadata": {},
   "source": [
    "<div class=\"alert alert-success\">\n",
    "<h2> Комментарий ревьюера </h2>\n",
    "\n",
    "Здорово, что ты делаешь промежуточные выводы по каждому пункту работы. \n",
    "\n",
    "</div>"
   ]
  },
  {
   "cell_type": "markdown",
   "metadata": {},
   "source": [
    "<div class=\"alert alert-info\"> <b>Комментарий студента:</b> Обновил вывод </div>"
   ]
  },
  {
   "cell_type": "markdown",
   "metadata": {},
   "source": [
    "---"
   ]
  },
  {
   "cell_type": "markdown",
   "metadata": {},
   "source": [
    "<a id=\"sda\"></a>\n",
    "# Этап 4 - Проведение статистического анализа данных"
   ]
  },
  {
   "cell_type": "markdown",
   "metadata": {},
   "source": [
    "На этом этапе нам нужно составить портрет пользователя каждого региона."
   ]
  },
  {
   "cell_type": "markdown",
   "metadata": {},
   "source": [
    "<a id=\"userPortrait\"></a>\n",
    "## Портрет пользователя каждого региона"
   ]
  },
  {
   "cell_type": "markdown",
   "metadata": {},
   "source": [
    "Необходимо разделить пользователей каждого региона: *NA*,*EU*,*JP* и выделить топ-5 популярных платформ и топ-5 популярных жанров. Определить влияет ли рейтинг ESRB на продажи в отдельном регионе. "
   ]
  },
  {
   "cell_type": "markdown",
   "metadata": {},
   "source": [
    "Разделим пользователей по регионам: *NA*,*EU*,*JP*."
   ]
  },
  {
   "cell_type": "code",
   "execution_count": 97,
   "metadata": {},
   "outputs": [],
   "source": [
    "na_users = games_stats_2011.loc[:,['name','platform','year_of_release','genre','na_sales','critic_score','user_score','rating','rating_num']].query('na_sales > 0').reset_index(drop=True)\n",
    "eu_users = games_stats_2011.loc[:,['name','platform','year_of_release','genre','eu_sales','critic_score','user_score','rating','rating_num']].query('eu_sales > 0').reset_index(drop=True)\n",
    "jp_users = games_stats_2011.loc[:,['name','platform','year_of_release','genre','jp_sales','critic_score','user_score','rating','rating_num']].query('jp_sales > 0').reset_index(drop=True)"
   ]
  },
  {
   "cell_type": "markdown",
   "metadata": {},
   "source": [
    "<a id=\"top5_platforms_regions\"></a>\n",
    "### Топ-5 популярных платформ по регионам"
   ]
  },
  {
   "cell_type": "markdown",
   "metadata": {},
   "source": [
    "Сгруппируем данные по платформе и суммируем продажи."
   ]
  },
  {
   "cell_type": "code",
   "execution_count": 98,
   "metadata": {},
   "outputs": [],
   "source": [
    "na_users_platform = na_users.pivot_table(index='platform', values='na_sales',aggfunc='sum').sort_values(by='na_sales',ascending=False)\n",
    "eu_users_platform = eu_users.pivot_table(index='platform', values='eu_sales',aggfunc='sum').sort_values(by='eu_sales',ascending=False)\n",
    "jp_users_platform = jp_users.pivot_table(index='platform', values='jp_sales',aggfunc='sum').sort_values(by='jp_sales',ascending=False)\n",
    "# Создадим словарь\n",
    "top_platforms_region = {\n",
    "    \"Северная Америка\": na_users_platform,\n",
    "    \"Европа\": eu_users_platform,\n",
    "    \"Япония\": jp_users_platform\n",
    "}"
   ]
  },
  {
   "cell_type": "markdown",
   "metadata": {},
   "source": [
    "Построим графики"
   ]
  },
  {
   "cell_type": "code",
   "execution_count": 99,
   "metadata": {},
   "outputs": [
    {
     "data": {
      "image/png": "[encoded data removed]",
      "text/plain": [
       "<Figure size 1080x288 with 1 Axes>"
      ]
     },
     "metadata": {},
     "output_type": "display_data"
    },
    {
     "data": {
      "image/png": "[encoded data removed]",
      "text/plain": [
       "<Figure size 1080x288 with 1 Axes>"
      ]
     },
     "metadata": {},
     "output_type": "display_data"
    },
    {
     "data": {
      "image/png": "[encoded data removed]",
      "text/plain": [
       "<Figure size 1080x288 with 1 Axes>"
      ]
     },
     "metadata": {},
     "output_type": "display_data"
    }
   ],
   "source": [
    "for region in top_platforms_region.keys():\n",
    "    drawPlot(top_platforms_region[region],title=f'Распределение игр по платформам - {region}', kind='bar'\n",
    "             ,sizeMax=15,sizeMin=4,xlabel='жанр',ylabel='продажи млн. копий',ylimMax=300)"
   ]
  },
  {
   "cell_type": "markdown",
   "metadata": {},
   "source": [
    "#### Северная Америка - топ-5 популярных платформ\n",
    "1. Xbox 360\n",
    "2. PS3\n",
    "3. PS4\n",
    "4. Xbox One\n",
    "5. 3DS\n",
    "\n",
    "В Америке больше всего любят *Microsoft* (*Xbox 360*), следом идет *Sony* (*PS3,PS4*), заключают 5-ку продукт *Microsoft Xbox One* и *Nintendo 3DS*."
   ]
  },
  {
   "cell_type": "markdown",
   "metadata": {},
   "source": [
    "#### Европа - топ-5 популярных платформ\n",
    "1. PS3\n",
    "2. PS4\n",
    "3. Xbox 360\n",
    "4. 3DS\n",
    "5. PC\n",
    "\n",
    "В Европе возглавляет лидерство компания *Sony* (*PS3, PS4*), затем идет *Microsoft* с *Xbox 360*, *Nintendo 3DS* и удивительно в 5-ку попал *PC*."
   ]
  },
  {
   "cell_type": "markdown",
   "metadata": {},
   "source": [
    "#### Япония - топ-5 популярных платформ\n",
    "1. 3DS\n",
    "2. PS3\n",
    "3. PSP\n",
    "4. PSV\n",
    "5. PS4\n",
    "\n",
    "В Японии совсем другая ситуация, *Microsoft* менее популярен на рынке Японии. Японцы предпочитают отечественные продукты такие как *Nintendo 3DS*,*PS3*,*PSP*,*PSV*,*PS4*."
   ]
  },
  {
   "cell_type": "markdown",
   "metadata": {},
   "source": [
    "Рассмотрим жанры."
   ]
  },
  {
   "cell_type": "markdown",
   "metadata": {},
   "source": [
    "<a id=\"top_5_genres_regions\"></a>\n",
    "### Топ-5 популярных жанров по регионам"
   ]
  },
  {
   "cell_type": "markdown",
   "metadata": {},
   "source": [
    "Сгруппируем данные по жанру и суммируем продажи."
   ]
  },
  {
   "cell_type": "code",
   "execution_count": 100,
   "metadata": {},
   "outputs": [],
   "source": [
    "na_users_genre = na_users.pivot_table(index='genre', values='na_sales',aggfunc='sum').sort_values(by='na_sales',ascending=False)\n",
    "eu_users_genre = eu_users.pivot_table(index='genre', values='eu_sales',aggfunc='sum').sort_values(by='eu_sales',ascending=False)\n",
    "jp_users_genre = jp_users.pivot_table(index='genre', values='jp_sales',aggfunc='sum').sort_values(by='jp_sales',ascending=False)\n",
    "# Создадим словарь\n",
    "top_genres_regions = {\n",
    "    \"Северная Америка\": na_users_genre,\n",
    "    \"Европа\": eu_users_genre,\n",
    "    \"Япония\": jp_users_genre\n",
    "}"
   ]
  },
  {
   "cell_type": "markdown",
   "metadata": {},
   "source": [
    "Построим графики"
   ]
  },
  {
   "cell_type": "code",
   "execution_count": 101,
   "metadata": {},
   "outputs": [
    {
     "data": {
      "image/png": "[encoded data removed]",
      "text/plain": [
       "<Figure size 1080x288 with 1 Axes>"
      ]
     },
     "metadata": {},
     "output_type": "display_data"
    },
    {
     "data": {
      "image/png": "[encoded data removed]",
      "text/plain": [
       "<Figure size 1080x288 with 1 Axes>"
      ]
     },
     "metadata": {},
     "output_type": "display_data"
    },
    {
     "data": {
      "image/png": "[encoded data removed]",
      "text/plain": [
       "<Figure size 1080x288 with 1 Axes>"
      ]
     },
     "metadata": {},
     "output_type": "display_data"
    }
   ],
   "source": [
    "for region in top_genres_regions.keys():\n",
    "    drawPlot(top_genres_regions[region],title=f'Распределение игр по жанрам - {region}', kind='bar'\n",
    "             ,sizeMax=15,sizeMin=4,xlabel='жанр',ylabel='продажи млн. копий',ylimMax=300)"
   ]
  },
  {
   "cell_type": "markdown",
   "metadata": {},
   "source": [
    "#### Северная Америка - топ-5 популярных жанров\n",
    "1. Action\n",
    "2. Shooter\n",
    "3. Sports\n",
    "4. Role-Playing\n",
    "5. Misc\n",
    "\n",
    "Возглавляет 5-ку жанр - *Action*. Жанры: *Action*, *Shooter* и *Sports* - легкие жанры для усвоения. На западном рынке самыми успешными серии игр жанров *Action* и *Shooter* - являются Grand Theft Auto и Call of Duty. *Role-Playing* и *Misc* - закрывают 5-ку популярных жанров."
   ]
  },
  {
   "cell_type": "markdown",
   "metadata": {},
   "source": [
    "#### Европа - топ-5 популярных жанров\n",
    "1. Action\n",
    "2. Shooter\n",
    "3. Sports\n",
    "4. Role-Playing\n",
    "5. Racing\n",
    "\n",
    "топ-5 похож на рынок Северной Америки. Однако, закрывает 5-ку жанр - *Racing*. Европейцы любят погонять."
   ]
  },
  {
   "cell_type": "markdown",
   "metadata": {},
   "source": [
    "#### Япония - топ-5 популярных жанров\n",
    "1. Role-Playing\n",
    "2. Action\n",
    "3. Misc\n",
    "4. Fightning\n",
    "5. Adventure\n",
    "\n",
    "Возглавляет 5-ку жанр - *Role-Playing*. Большинство игр имеют жанр *Role-Playing*. В Японии есть поджанр *RPG* - *JRPG* https://en.wikipedia.org/wiki/List_of_best-selling_Japanese_role-playing_game_franchises . Япония - родина таких серий файтингов как Street Fighter, Soul Calibur, Dead or alive. Японский рынок игр отличается от других из-за менталитета этого региона. Большинство отечественных игр сфокусированы на жанре RPG. Японцы предпочитают отечественные игры."
   ]
  },
  {
   "cell_type": "markdown",
   "metadata": {},
   "source": [
    "<div class=\"alert alert-success\">\n",
    "<h2> Комментарий ревьюера </h2>\n",
    " \n",
    "Из-за чего японский рынок игр так сильно отличается от других? \n",
    "\n",
    "</div>"
   ]
  },
  {
   "cell_type": "markdown",
   "metadata": {},
   "source": [
    "<div class=\"alert alert-info\"> <b>Комментарий студента:</b> Пришла одна идея почему Японский рынок отличается - скорее всего из-за ментатлитета этого региона </div>"
   ]
  },
  {
   "cell_type": "markdown",
   "metadata": {},
   "source": [
    "<a id=\"esrb_impact_sales\"></a>\n",
    "### Влияет ли рейтинг ESRB на продажи ? "
   ]
  },
  {
   "cell_type": "markdown",
   "metadata": {},
   "source": [
    "Посмотрим влияет ли рейтинг ESRB на продажи в отдельных регионах."
   ]
  },
  {
   "cell_type": "markdown",
   "metadata": {},
   "source": [
    "1. RP - **-1** - игра еще не получила финальный рейтинг от ESRB.\n",
    "2. EC - **0** - игры с таким рейтингом содержат контент, ориентированный на дошкольную аудиторию.\n",
    "3. E - **1** - игры с таким рейтингом содержат контент, который, по мнению ESRB, \"в целом подходит для всех возрастов\".\n",
    "4. K-A - **1** - тоже самое, что и E\n",
    "5. E10+ - **2** - игры с таким рейтингом содержат контент, который, по мнению ESRB, в целом подходит для людей в возрасте от 10 лет и старше.\n",
    "6. T - **3** - игры с таким рейтингом содержат контент, который, по мнению ESRB, в целом подходит для людей в возрасте 13 лет и старше\n",
    "7. M - **4** - игры с таким рейтингом содержат контент, который, по мнению ESRB, в целом подходит для лиц в возрасте 17 лет и старше.\n",
    "8. A0 - **5** - игры с таким рейтингом содержат контент, который, по мнению ESRB, подходит только для тех, кому исполнилось 18 лет и старше."
   ]
  },
  {
   "cell_type": "markdown",
   "metadata": {},
   "source": [
    "#### Северная Америка"
   ]
  },
  {
   "cell_type": "markdown",
   "metadata": {},
   "source": [
    "Построим графики распределения игр по каждой возрастной категории. "
   ]
  },
  {
   "cell_type": "markdown",
   "metadata": {},
   "source": [
    "Так как у нас есть пропущенные данные. Возьмём выборку без пропущенных значений."
   ]
  },
  {
   "cell_type": "code",
   "execution_count": 102,
   "metadata": {},
   "outputs": [],
   "source": [
    "na_users_non_nan = non_nan_column(na_users,'rating')"
   ]
  },
  {
   "cell_type": "code",
   "execution_count": 103,
   "metadata": {},
   "outputs": [],
   "source": [
    "na_users_esrb_rating = na_users_non_nan.pivot_table(index='rating',values='na_sales',aggfunc='sum').sort_values(by='na_sales',ascending=False)"
   ]
  },
  {
   "cell_type": "code",
   "execution_count": 104,
   "metadata": {},
   "outputs": [
    {
     "data": {
      "image/png": "[encoded data removed]",
      "text/plain": [
       "<Figure size 1080x288 with 1 Axes>"
      ]
     },
     "metadata": {},
     "output_type": "display_data"
    }
   ],
   "source": [
    "drawPlot(na_users_esrb_rating,title='Распределение игр по ESRB рейтингу - Северная Америка', kind='bar'\n",
    "             ,sizeMax=15,sizeMin=4,xlabel='рейтинг ESRB',ylabel='продажи млн. копий',ylimMax=500)"
   ]
  },
  {
   "cell_type": "markdown",
   "metadata": {},
   "source": [
    "На графике видно, что большинство игр имеют рейтинг M (игры с таким рейтингом содержат контент, который, по мнению ESRB, в целом подходит для лиц в возрасте 17 лет и старше.). Большинство популярных игр имеют рейтинг М. Например, такие популярные серии игр: *Grand Theft Auto*, *Call Of Duty*. На втором месте идет рейтинг E - (игры с таким рейтингом содержат контент, который, по мнению ESRB, \"в целом подходит для всех возрастов\")."
   ]
  },
  {
   "cell_type": "markdown",
   "metadata": {},
   "source": [
    "#### Европа"
   ]
  },
  {
   "cell_type": "markdown",
   "metadata": {},
   "source": [
    "Те же самые действия сделаем для региона - Европа."
   ]
  },
  {
   "cell_type": "code",
   "execution_count": 105,
   "metadata": {},
   "outputs": [],
   "source": [
    "eu_users_non_nan = non_nan_column(eu_users,'rating')"
   ]
  },
  {
   "cell_type": "code",
   "execution_count": 106,
   "metadata": {},
   "outputs": [
    {
     "data": {
      "image/png": "[encoded data removed]",
      "text/plain": [
       "<Figure size 1080x288 with 1 Axes>"
      ]
     },
     "metadata": {},
     "output_type": "display_data"
    }
   ],
   "source": [
    "eu_users_esrb_rating = eu_users_non_nan.pivot_table(index='rating',values='eu_sales',aggfunc='sum').sort_values(by='eu_sales',ascending=False)\n",
    "drawPlot(eu_users_esrb_rating,title='Распределение игр по ESRB рейтингу - Европа', kind='bar'\n",
    "             ,sizeMax=15,sizeMin=4,xlabel='рейтинг ESRB',ylabel='продажи млн. копий',ylimMax=500)"
   ]
  },
  {
   "cell_type": "markdown",
   "metadata": {},
   "source": [
    "График похож на рынок Северной Америки, за исключением, рейтинги Т и E10+ поменялись местами."
   ]
  },
  {
   "cell_type": "markdown",
   "metadata": {},
   "source": [
    "#### Япония"
   ]
  },
  {
   "cell_type": "code",
   "execution_count": 107,
   "metadata": {},
   "outputs": [],
   "source": [
    "jp_users_non_nan = non_nan_column(jp_users,'rating')"
   ]
  },
  {
   "cell_type": "code",
   "execution_count": 108,
   "metadata": {},
   "outputs": [
    {
     "data": {
      "image/png": "[encoded data removed]",
      "text/plain": [
       "<Figure size 1080x288 with 1 Axes>"
      ]
     },
     "metadata": {},
     "output_type": "display_data"
    }
   ],
   "source": [
    "jp_users_esrb_rating = jp_users_non_nan.pivot_table(index='rating',values='jp_sales',aggfunc='sum').sort_values(by='jp_sales',ascending=False)\n",
    "drawPlot(jp_users_esrb_rating,title='Распределение игр по ESRB рейтингу - Япония', kind='bar'\n",
    "             ,sizeMax=15,sizeMin=4,xlabel='рейтинг ESRB',ylabel='продажи млн. копий',ylimMax=500)"
   ]
  },
  {
   "cell_type": "markdown",
   "metadata": {},
   "source": [
    "Все категории примерно равны при распределении продаж. Скорее всего, это из-за того,что у нас мало данных получилось по Японии. В Японии популярностью преобладают игры с рейтингами T и E. "
   ]
  },
  {
   "cell_type": "markdown",
   "metadata": {},
   "source": [
    "Построим общий график."
   ]
  },
  {
   "cell_type": "code",
   "execution_count": 109,
   "metadata": {},
   "outputs": [],
   "source": [
    "na_users_esrb_rating = na_users_esrb_rating.reset_index()\n",
    "eu_users_esrb_rating = eu_users_esrb_rating.reset_index()\n",
    "jp_users_esrb_rating = jp_users_esrb_rating.reset_index()\n",
    "# Обьеденим таблицы\n",
    "esrb_rating = na_users_esrb_rating.append(eu_users_esrb_rating,ignore_index=True,sort=False)\n",
    "esrb_rating = esrb_rating.append(jp_users_esrb_rating,ignore_index=True,sort=False)"
   ]
  },
  {
   "cell_type": "code",
   "execution_count": 110,
   "metadata": {},
   "outputs": [],
   "source": [
    "esrb_rating = esrb_rating.reset_index(drop=True)\n",
    "esrb_rating_pivot = esrb_rating.pivot_table(index='rating',values=['na_sales','eu_sales','jp_sales'],aggfunc='sum')\n",
    "esrb_rating_pivot = esrb_rating_pivot.reset_index().sort_values(by=['na_sales','eu_sales','jp_sales'],ascending=False)"
   ]
  },
  {
   "cell_type": "code",
   "execution_count": 111,
   "metadata": {},
   "outputs": [
    {
     "data": {
      "image/png": "[encoded data removed]",
      "text/plain": [
       "<Figure size 1080x360 with 1 Axes>"
      ]
     },
     "metadata": {},
     "output_type": "display_data"
    }
   ],
   "source": [
    "ax = esrb_rating_pivot.reset_index().plot(x='rating',y='na_sales',color='blue',kind='bar',figsize=(15,5), alpha=.7, linewidth = 3,label=\"Северная Америка\",rot=0)\n",
    "ax = esrb_rating_pivot.reset_index().plot(x='rating',y='eu_sales',color='purple',kind='bar',figsize=(15,5), alpha=.7, linewidth = 3,label=\"Европа\",ax=ax,rot=0)\n",
    "esrb_rating_pivot.reset_index().plot(x='rating',y='jp_sales',color='darkblue',kind='bar',figsize=(15,5), alpha=.7, linewidth = 3,label=\"Япония\",ax=ax,rot=0)\n",
    "plt.suptitle('Топ возрастных рейтингов по регионам')\n",
    "plt.ylabel('Количество проданных копий')\n",
    "plt.xlabel('Возрастной рейтинг')\n",
    "plt.show()"
   ]
  },
  {
   "cell_type": "markdown",
   "metadata": {},
   "source": [
    "Основываясь на графиках, можно сделать вывод, что рейтинг ESRB влияет на продажи. Самый популярный возрастной рейтинг - М (игры с таким рейтингом содержат контент, который, по мнению ESRB, в целом подходит для лиц в возрасте 17 лет и старше.). Самая популярная игра - *Grand Theft Auto 5* имеет возрастной рейтинг *М*. 2-ой по популярности рейтинг - E (игры с таким рейтингом содержат контент, который, по мнению ESRB, \"в целом подходит для всех возрастов\"). Можно сделать вывод, что для успешности игры - игра должна иметь возрастной рейтинг **М**."
   ]
  },
  {
   "cell_type": "markdown",
   "metadata": {},
   "source": [
    "<div class=\"alert alert-danger\">\n",
    "<h2> Комментарий ревьюера </h2>\n",
    " \n",
    "Корреляция при работе с категориальными данными нам не поможет. При обозначении групп другими числами ты бы получил другие значения. Приведи такие же графики, что и выше. Посмотри на продажи по каждому рейтингу в каждом регионе. \n",
    "\n",
    "</div>"
   ]
  },
  {
   "cell_type": "markdown",
   "metadata": {},
   "source": [
    "<div class=\"alert alert-info\"> <b>Комментарий студента:</b> Переделал. Построил графики распределений. Как сделать чтобы столбцы были side-by-side а не stacked, отдельные столбцы: \"Северная Америка, Европа, Япония\"? </div>"
   ]
  },
  {
   "cell_type": "markdown",
   "metadata": {},
   "source": [
    "## Вывод"
   ]
  },
  {
   "cell_type": "markdown",
   "metadata": {},
   "source": [
    "На этапе статистического анализа данных мы составили портрет пользователя каждого региона выделили топ-5 популярных платформ и топ-5 популярных жанров.\n",
    "#### Северная Америка - топ-5 популярных платформ\n",
    "1. Xbox 360\n",
    "2. PS3\n",
    "3. PS4\n",
    "4. Xbox One\n",
    "5. 3DS\n",
    "\n",
    "В Америке больше всего любят *Microsoft* (*Xbox 360*), следом идет *Sony* (*PS3,PS4*), заключают 5-ку продукт *Microsoft Xbox One* и *Nintendo 3DS*.\n",
    "\n",
    "#### Европа - топ-5 популярных платформ\n",
    "1. PS3\n",
    "2. PS4\n",
    "3. Xbox 360\n",
    "4. 3DS\n",
    "5. PC\n",
    "\n",
    "В Европе возглавляет лидерство компания *Sony* (*PS3, PS4*), затем идет *Microsoft* с *Xbox 360*, *Nintendo 3DS* и удивительно в 5-ку попал *PC*.\n",
    "\n",
    "#### Япония - топ-5 популярных платформ\n",
    "1. 3DS\n",
    "2. PS3\n",
    "3. PSP\n",
    "4. PSV\n",
    "5. PS4\n",
    "\n",
    "В Японии совсем другая ситуация, *Microsoft* менее популярен на рынке Японии. Японцы предпочитают отечественные продукты такие как *Nintendo 3DS*,*PS3*,*PSP*,*PSV*,*PS4*.\n",
    "\n",
    "#### Северная Америка - топ-5 популярных жанров\n",
    "1. Action\n",
    "2. Shooter\n",
    "3. Sports\n",
    "4. Role-Playing\n",
    "5. Misc\n",
    "\n",
    "Возглавляет 5-ку жанр - *Action*. Жанры: *Action*, *Shooter* и *Sports* - легкие жанры для усвоения. На западном рынке самыми успешными серии игр жанров *Action* и *Shooter* - являются Grand Theft Auto и Call of Duty. *Role-Playing* и *Misc* - закрывают 5-ку популярных жанров.\n",
    "\n",
    "\n",
    "#### Европа - топ-5 популярных жанров\n",
    "1. Action\n",
    "2. Shooter\n",
    "3. Sports\n",
    "4. Role-Playing\n",
    "5. Racing\n",
    "\n",
    "топ-5 похож на рынок Северной Америки. Однако, закрывает 5-ку жанр - *Racing*. Европейцы любят погонять.\n",
    "\n",
    "#### Япония - топ-5 популярных жанров\n",
    "1. Role-Playing\n",
    "2. Action\n",
    "3. Misc\n",
    "4. Fightning\n",
    "5. Platform\n",
    "\n",
    "Возглавляет 5-ку жанр - *Role-Playing*. Большинство игр имеют жанр *Role-Playing*. В Японии есть поджанр *RPG* - *JRPG* https://en.wikipedia.org/wiki/List_of_best-selling_Japanese_role-playing_game_franchises . Япония - родина таких серий файтингов как Street Fighter, Soul Calibur, Dead or alive.  Японский рынок игр отличается от других из-за менталитета этого региона. Большинство отечественных игр сфокусированы на жанре RPG. Японцы предпочитают отечественные игры.\n",
    "\n",
    "Мы выяснили, что рейтинг ESRB влияет на продажи в отдельных регионах. Самый популярный возрастной рейтинг - *М* (игры с таким рейтингом содержат контент, который, по мнению ESRB, в целом подходит для лиц в возрасте 17 лет и старше.). Самая популярная игра - *Grand Theft Auto 5* имеет возрастной рейтинг *М*. 2-ой по популярности рейтинг - *E* (игры с таким рейтингом содержат контент, который, по мнению ESRB, \"в целом подходит для всех возрастов\"). Можно сделать вывод, для успешности игры - игра должна иметь возрастной рейтинг **М**."
   ]
  },
  {
   "cell_type": "markdown",
   "metadata": {},
   "source": [
    "<br>"
   ]
  },
  {
   "cell_type": "markdown",
   "metadata": {},
   "source": [
    "<div class=\"alert alert-success\">\n",
    "<h2> Комментарий ревьюера </h2>\n",
    "\n",
    "Портрет типичного пользователя каждого из регионов получен. Приведены все необходимые графики. Здорово, что отмечены индивидуальные особенности каждого региона. \n",
    "\n",
    "</div>"
   ]
  },
  {
   "cell_type": "markdown",
   "metadata": {},
   "source": [
    "---"
   ]
  },
  {
   "cell_type": "markdown",
   "metadata": {},
   "source": [
    "<a id=\"hypotheses\"></a>\n",
    "# Этап 5 - Проверка гипотез"
   ]
  },
  {
   "cell_type": "markdown",
   "metadata": {},
   "source": [
    "На этом этапе, нам нужно проверить несколько гипотез:\n",
    "1. Cредние пользовательские рейтинги платформ Xbox One и PC равны\n",
    "2. Средние пользовательские рейтинги жанров  *Action* и *Sports* разные"
   ]
  },
  {
   "cell_type": "markdown",
   "metadata": {},
   "source": [
    "<a id=\"averageUserScore_XOne_PC\"></a>\n",
    "## Средние пользовательские рейтинги платформ Xbox One и PC равны"
   ]
  },
  {
   "cell_type": "markdown",
   "metadata": {},
   "source": [
    "Для проверки гипотезы, возьмем генеральную совокупность из пользователей платформы *Xbox One*. Также возьмем генеральную совокупность из пользователей платформы *PC*."
   ]
  },
  {
   "cell_type": "code",
   "execution_count": 112,
   "metadata": {},
   "outputs": [],
   "source": [
    "xbox_one_users = xboxOne_sales_2011.reset_index(drop=True)\n",
    "pc_users = games_stats_2011.query('platform == \"PC\"').reset_index(drop=True)"
   ]
  },
  {
   "cell_type": "markdown",
   "metadata": {},
   "source": [
    "Начнём с формулировки нулевой гипотезы H₀ **«среднии пользовательские рейтинги платформ Xbox One и PC равны»**. Исходя из H₀ формулируем альтернативную гипотезу H₁ **«среднии рейтинги пользователей платформ Xbox One и PC различаются»**."
   ]
  },
  {
   "cell_type": "markdown",
   "metadata": {},
   "source": [
    "Перед тем как проверить наши гипотезы, необходимо удостовериться в гомогенности дисперсий.Для проверки соблюдения допущения о гомогенности дисперсий воспользуемся тестом Левена. Сформулируем нулевую гипотезу H₀ в тесте Левена **«обе выборки имеют одинаковую дисперсию»**.  Исходя из H₀ формулируем альтернативную гипотезу H₁ **«дисперсия в выборках различается»**."
   ]
  },
  {
   "cell_type": "markdown",
   "metadata": {},
   "source": [
    "Используем метод `levene()` из библиотеки *scipy* для проверки гомогенности дисперсий."
   ]
  },
  {
   "cell_type": "code",
   "execution_count": 113,
   "metadata": {},
   "outputs": [
    {
     "name": "stdout",
     "output_type": "stream",
     "text": [
      "p значение: 0.0003135793614668444\n",
      "Отвергаем нулевую гипотезу\n"
     ]
    }
   ],
   "source": [
    "# Задаем критический уровень статистической значимости\n",
    "alpha = 0.05 # общепринятое пороговое значение\n",
    "# Фильтруем значения, так как есть пропущенные значения. Также уберем те строки, где рейтинг не был определен\n",
    "xbox_users_score_non_nan = non_nan_column(xbox_one_users,'user_score').query('user_score > 0')\n",
    "pc_users_score_non_nan = non_nan_column(pc_users,'user_score').query('user_score > 0')\n",
    "xbox_one_users_score = xbox_users_score_non_nan['user_score']\n",
    "pc_users_score = pc_users_score_non_nan['user_score']\n",
    "results = st.levene(xbox_one_users_score,pc_users_score,center='mean')\n",
    "print('p значение:', results.pvalue)\n",
    "\n",
    "if(results.pvalue < alpha):\n",
    "    print('Отвергаем нулевую гипотезу')\n",
    "else:\n",
    "    print('Не получилось отвергнуть нулевую гипотезу')"
   ]
  },
  {
   "cell_type": "markdown",
   "metadata": {},
   "source": [
    "P значение меньше порогового (alpha). Следовательно, дисперсия в выборках различается."
   ]
  },
  {
   "cell_type": "markdown",
   "metadata": {},
   "source": [
    "<div class=\"alert alert-success\">\n",
    "<h2> Комментарий ревьюера </h2>\n",
    "\n",
    "Здорово, что ты знаешь о стат. тесте по проверке равенства дисперсий. \n",
    "\n",
    "</div>"
   ]
  },
  {
   "cell_type": "markdown",
   "metadata": {},
   "source": [
    "Проведём статистический тест (t-тест).Воспользуемся методом `scipy.stats.ttest_ind` из библиотеки *scipy*. Сравним две генеральные совокупности (пользователи платформы *Xbox One* и пользователи платформы *PC*). Заметим, что дисперсия двух выборок различается, передадим в параметр equal_var значение False."
   ]
  },
  {
   "cell_type": "code",
   "execution_count": 114,
   "metadata": {},
   "outputs": [
    {
     "name": "stdout",
     "output_type": "stream",
     "text": [
      "p значение: 0.8805124325191567\n",
      "Не получилось отвергнуть нулевую гипотезу\n"
     ]
    }
   ],
   "source": [
    "# Задаем критический уровень статистической значимости\n",
    "alpha = 0.05 # общепринятое пороговое значение\n",
    "results = st.ttest_ind(xbox_one_users_score,pc_users_score,equal_var=False)\n",
    "print('p значение:', results.pvalue)\n",
    "\n",
    "if(results.pvalue < alpha):\n",
    "    print('Отвергаем нулевую гипотезу')\n",
    "else:\n",
    "    print('Не получилось отвергнуть нулевую гипотезу')"
   ]
  },
  {
   "cell_type": "markdown",
   "metadata": {},
   "source": [
    "Уровень статистической значимости равен 88%. Эмпирически полученные данные не противоречат нулевой гипотезе. Средние пользовательские рейтинги платформ Xbox One и PC равны. "
   ]
  },
  {
   "cell_type": "markdown",
   "metadata": {},
   "source": [
    "Проверим другую гипотезу."
   ]
  },
  {
   "cell_type": "markdown",
   "metadata": {},
   "source": [
    "<div class=\"alert alert-warning\">\n",
    "<h2> Комментарий ревьюера </h2>\n",
    "\n",
    "Ты верно проводишь статистические тесты. Однако важно понимать, что p-value нельзя интерпретировать как вероятность того, что наблюдения получены случайно. Если ты помотришь логику расчета результатов t-теста, то увидишь, что p-value это, в сущности, уровень статистической значимости, который нужен для того, чтобы нулевая гипотеза выполнялась для полученного наблюдения. Внутри стат. теста p-value расчитывается в предположении, что Н0 верна - это не мера случайности полученного результата, а мера того, насколько нужно раздвинуть доверительный интервал, чтобы в него попало полученное наблюдение.\n",
    "\n",
    "</div>"
   ]
  },
  {
   "cell_type": "markdown",
   "metadata": {},
   "source": [
    "<div class=\"alert alert-info\"> <b>Комментарий студента:</b> По поводу уровня статистической значимости,не понял как правильно сделать вывод. Прочитал определение статистической значимости: \" Уровень значимости — это суммарная вероятность того, что измеренное эмпирически значение окажется далеко от среднего.\" https://praktikum.yandex.ru/learn/data-scientist/courses/d5780d7e-c8a3-4640-b860-72f9058cc556/sprints/2641/topics/6a15eb98-135d-45b3-afa2-36b531bab06e/lessons/b7fc33b3-fed9-4656-8031-38271a7702fd/ </div>"
   ]
  },
  {
   "cell_type": "markdown",
   "metadata": {},
   "source": [
    "<a id=\"averageUserScore_Action_Sports\"></a>\n",
    "## Средние пользовательские рейтинги жанров Action и Sports разные"
   ]
  },
  {
   "cell_type": "markdown",
   "metadata": {},
   "source": [
    "Для проверки гипотезы, возьмем генеральную совокупность жанра *Action*. Также возьмем генеральную совокупность - жанр *Sports*."
   ]
  },
  {
   "cell_type": "code",
   "execution_count": 115,
   "metadata": {},
   "outputs": [],
   "source": [
    "action_genre = games_stats_2011.query('genre == \"Action\"').reset_index(drop=True)\n",
    "sports_genre = games_stats_2011.query('genre == \"Sports\"').reset_index(drop=True)"
   ]
  },
  {
   "cell_type": "markdown",
   "metadata": {},
   "source": [
    "Также как и в проверке первой гипотезы, необходимо сначала проверить на гомогенность дисперсий из полученных выборок. Воспользуемся тестом Левена. Сформулируем нулевую гипотезу H₀ в тесте Левена **«обе выборки имеют одинаковую дисперсию»**.  Исходя из H₀ формулируем альтернативную гипотезу H₁ **«дисперсия в выборках различается»**."
   ]
  },
  {
   "cell_type": "markdown",
   "metadata": {},
   "source": [
    "Используем метод `levene()` из библиотеки *scipy* для проверки гомогенности дисперсий."
   ]
  },
  {
   "cell_type": "code",
   "execution_count": 116,
   "metadata": {},
   "outputs": [
    {
     "name": "stdout",
     "output_type": "stream",
     "text": [
      "p значение: 3.9772510109800373e-25\n",
      "Отвергаем нулевую гипотезу\n"
     ]
    }
   ],
   "source": [
    "# Задаем критический уровень статистической значимости\n",
    "alpha = 0.05 # общепринятое пороговое значение\n",
    "# Фильтруем значения, так как есть пропущенные значения. Также уберем те строки, где рейтинг не был определен\n",
    "action_users_score_non_nan = non_nan_column(action_genre,'user_score').query('user_score > 0')\n",
    "sports_users_score_non_nan = non_nan_column(sports_genre,'user_score').query('user_score > 0')\n",
    "action_users_score = action_users_score_non_nan['user_score']\n",
    "sports_users_score = sports_users_score_non_nan['user_score']\n",
    "\n",
    "results = st.levene(action_users_score,sports_users_score,center='mean')\n",
    "print('p значение:', results.pvalue)\n",
    "\n",
    "if(results.pvalue < alpha):\n",
    "    print('Отвергаем нулевую гипотезу')\n",
    "else:\n",
    "    print('Не получилось отвергнуть нулевую гипотезу')"
   ]
  },
  {
   "cell_type": "markdown",
   "metadata": {},
   "source": [
    "P значение меньше порогового (alpha). Следовательно, дисперсия в выборках различается."
   ]
  },
  {
   "cell_type": "markdown",
   "metadata": {},
   "source": [
    "Сформулируем нулевую гипотезу H₀  **«среднии пользовательские рейтинги жанров Action и Sports равны»**. Исходя из H₀ формулируем альтернативную гипотезу H₁ **«среднии рейтинги пользователей жанров Action и Sports различаются»**."
   ]
  },
  {
   "cell_type": "markdown",
   "metadata": {},
   "source": [
    "Проведём статистический тест (t-тест).Воспользуемся методом `scipy.stats.ttest_ind` из библиотеки *scipy*. Заметим, что дисперсия двух выборок различается, передадим в параметр *equal_var* значение *False*."
   ]
  },
  {
   "cell_type": "code",
   "execution_count": 117,
   "metadata": {},
   "outputs": [
    {
     "name": "stdout",
     "output_type": "stream",
     "text": [
      "p значение: 2.50925055138252e-25\n",
      "Отвергаем нулевую гипотезу\n"
     ]
    }
   ],
   "source": [
    "# Задаем критический уровень статистической значимости\n",
    "alpha = 0.05 # общепринятое пороговое значение\n",
    "results = st.ttest_ind(action_users_score,sports_users_score,equal_var=False)\n",
    "print('p значение:', results.pvalue)\n",
    "\n",
    "if(results.pvalue < alpha):\n",
    "    print('Отвергаем нулевую гипотезу')\n",
    "else:\n",
    "    print('Не получилось отвергнуть нулевую гипотезу')"
   ]
  },
  {
   "cell_type": "markdown",
   "metadata": {},
   "source": [
    "Исходя из p-значения(**0%** *вероятность получить результат чтобы среднии рейтинги жанров Action и Sports равны*), мы можем сделать вывод, что среднии пользовательские рейтинги жанров *Action* и *Sports* различаются."
   ]
  },
  {
   "cell_type": "markdown",
   "metadata": {},
   "source": [
    "<div class=\"alert alert-success\">\n",
    "<h2> Комментарий ревьюера </h2>\n",
    "\n",
    "Проверка второй гипотезы выполнена без нареканий. Уточнение параметра equal_var позволяет нам увеличить точность проводимого теста. \n",
    "\n",
    "</div>"
   ]
  },
  {
   "cell_type": "code",
   "execution_count": 118,
   "metadata": {},
   "outputs": [
    {
     "data": {
      "text/plain": [
       "205     1.6\n",
       "1165    2.0\n",
       "1248    2.3\n",
       "1134    2.4\n",
       "648     2.5\n",
       "       ... \n",
       "208     8.8\n",
       "535     8.8\n",
       "28      8.9\n",
       "39      9.0\n",
       "6       9.1\n",
       "Name: user_score, Length: 1182, dtype: float64"
      ]
     },
     "execution_count": 118,
     "metadata": {},
     "output_type": "execute_result"
    }
   ],
   "source": [
    "# Код ревьюера\n",
    "action_users_score.sort_values()"
   ]
  },
  {
   "cell_type": "markdown",
   "metadata": {},
   "source": [
    "<div class=\"alert alert-danger\">\n",
    "<h2> Комментарий ревьюера </h2>\n",
    "\n",
    "Однако при проверках всех гипотез у тебя также попали маркеры -1 в анализ. Исправь это. Работать стоит только с реальными данными. \n",
    "</div>"
   ]
  },
  {
   "cell_type": "markdown",
   "metadata": {},
   "source": [
    "<div class=\"alert alert-info\"> <b>Комментарий студента:</b> Исправил. Отфильтровал данные: убрал пропущенные значения и те строки, где рейтинг не был определен.  </div>"
   ]
  },
  {
   "cell_type": "markdown",
   "metadata": {},
   "source": [
    "## Вывод"
   ]
  },
  {
   "cell_type": "markdown",
   "metadata": {},
   "source": [
    "Мы провели проверку гипотез с помощью статистического тестирования. Гипотезы которые мы проверили:\n",
    "1. Cредние пользовательские рейтинги платформ Xbox One и PC равны - проверку прошла. Есть вероятность 88%,эмпирически полученные данные не противоречат нулевой гипотезе. Cредние пользовательские рейтинги платформ Xbox One и PC равны. \n",
    "2. Средние пользовательские рейтинги жанров  *Action* и *Sports* разные - проверку прошла. Среднии пользовательские рейтинги жанров Action и Sports различаются."
   ]
  },
  {
   "cell_type": "markdown",
   "metadata": {},
   "source": [
    "<br>"
   ]
  },
  {
   "cell_type": "markdown",
   "metadata": {},
   "source": [
    "---"
   ]
  },
  {
   "cell_type": "markdown",
   "metadata": {},
   "source": [
    "<a id=\"results\"></a>\n",
    "# Этап 6 - Результаты исследования"
   ]
  },
  {
   "cell_type": "markdown",
   "metadata": {},
   "source": [
    "В ходе сборного проекта мы выявили закономерности определяющие успешность игры. Интересная информация, которую мы нашли:\n",
    "1. Последние 4 года, количество игр колеблиться в пределах 500-600 в год. Трудно определить, сколько в среднем выпускается игр в месяц, однако, можно смело утверждать, что со временем количество игр увеличивалось. За 28 лет количество игр увеличилось в **160** раз.  После 2008 года, произошел спад в разработке игр. Спад после 2008 года образовался из-за кризиса 2008 года.  Нашел очень хорошую статью про спад после 2008 года. https://dtf.ru/gameindustry/65407-igrovaya-industriya-i-finansovyy-krizis-2008-goda . После спада количество игр колеблиться в пределах 500-600 в год.\n",
    "2. Определили срок актуальности платформы - **6 лет**. За этот период мы сможем увидеть падение текущих для того периода консолей и рост продаж новых консолей.\n",
    "5. Определили лидирующие платформы. Топ-5 лидирующих платформ: *PS3*,*Xbox 360*,*PS4*,*3DS*,*Wii*. 3 корпорации возглавляют рынок игровой индустрии:\n",
    "    - Sony\n",
    "    - Microsoft\n",
    "    - Nintendo\n",
    "6. Построили график распределения продаж и выявили:\n",
    "    - Консоли прошлого поколения становятся неактульными.*PS3* и *Xbox 360*, *Wii* - рост продаж падает с каждым годом.\n",
    "    - Консоли нового поколения показывают актуальность: *PS4*, *Xbox One*,*WiiU*. Их можно считать перспективными платформами. Прошло не так уж и много времени для срока актуальности. Возможно эти консоли покажут прибыль в следующем году, может игры новые выйдут тем самым продажа для этих консолей увеличиться.\n",
    "7. Посмотрели распределение по продажам в разбивке по платформам. Лидеры по глобальным продажам: *Xbox 360*,*PS3*. Большинство значений лежит в диапазоне от 25млн до 115 млн копий. В среднем Xbox 360 - 60млн. копий, PS3 - 80млн. копий. Консоли нового поколения не отстают в продажах. *3DS* - глобальные продажи похожи схожи с продажами на *Xbox One*. Менее популярные платформы: *PSP*,*PSV*,*WiiU* - \"портативные консоли\". PS4 - большинство продаж лежит в диапазоне от 60 до 105 млн. долларов. В среднем около 84 млн долларов. PS4 является самой прибыльной платформой по сравнению с другими платформами. WiiU - суммарное число продаж не доходит до 25млн. копий. Следовательно, можем считать её менее прибыльной. Может быть какие-нибудь игры от известных студий улучшат ситуацию. Xbox One - Большинство продаж лежит в диапазоне от 23млн до 57 млн копий. В среднем около 40 млн копий - каждый год продается на этой платформе. **Следовательно, в следующем году можно сделать упор на новые приставки *Xbox One* и *PS4*.**  WiiU - менее прибыльная платформа, так как целом портативные платформы(консоли) менее популярны. Что насчёт остальных платформ, PS4 оказался самой популярной платформой из-за большого количества эксклюзивных игр. У Sony есть собственный набор эксклюзивных игр, которые не доступны на Xbox One: Uncharted 4, Gran Turismo Sport, God of War, Death Stranding, Persona 5, Street Fighter V, The Last Guardian и многие другие. Тем временем, Xbox One может похвастаться доступностью к библиотеке игр с прошлого поколения, чего нет ни в одной консоли в мире.\n",
    "8. Рассмотрели корреляцию оценок пользователей и критиков на продажи игры. Мы выяснили, что в целом, **оценки пользователей не влияют на суммарные продажи игр для перспективных консолей.Тем временем, оценки критиков влияют, но не всегда.**\n",
    "9. Также рассмотрели распределение игр по жанрам. Возглавляют распределение жанры: *Action*, *Shooter* и *Sports* - легкие жанры для усвоения. Например, *Action* - простой гемплей, несколько кнопок - (передвижение, стрельба, и дополнительные действия). В жанре *Action* - сюжет не такой комплексный, как в жанре *Role-Playing*. В жанре *Shooter* - тоже простой геймплей и управление.  Самыми успешными серии игр жанров *Action* и *Shooter* - являются AAA проекты: *Grand Theft Auto и Call of Duty*. https://zen.yandex.ru/media/gabestore/aa-aaa-aaaa-chto-oboznachaiut-aabbreviatury-v-geimdeve-5ca5dafa53239a00b3a77571 - крутая статья про AAA проекты, где рассказывается почему так дорого стоят эти проекты и почему они получают огромную выручку. *Sports* - много болельщиков спорта, которые хотят поиграть за свои любимые команды(например Fifa) и этот жанр прост в усвоении. Менее прибыльные жанры: *Adventure*,*Strategy*,*Puzzle*.*Strategy* - из-за своей специфике жанра, порог вхождения выше чем у остальных жанрах. *Puzzle* - в этом жанре практически нет крупных проектов. *Adventure* - скорее всего подразумевается как квесты. В этом жанре очень мало или вообще нету крупных релизов.\n",
    "10. Мы построили портрет пользователя в каждом регионе и выделили топ-5 популярных платформ и топ-5 популярных жанров\n",
    "\n",
    "#### Северная Америка - топ-5 популярных платформ\n",
    "1. Xbox 360\n",
    "2. PS3\n",
    "3. PS4\n",
    "4. Xbox One\n",
    "5. 3DS\n",
    "\n",
    "В Америке больше всего любят *Microsoft* (*Xbox 360*), следом идет *Sony* (*PS3,PS4*), заключают 5-ку продукт *Microsoft Xbox One* и *Nintendo 3DS*.\n",
    "\n",
    "#### Европа - топ-5 популярных платформ\n",
    "1. PS3\n",
    "2. PS4\n",
    "3. Xbox 360\n",
    "4. 3DS\n",
    "5. PC\n",
    "\n",
    "В Европе возглавляет лидерство компания *Sony* (*PS3, PS4*), затем идет *Microsoft* с *Xbox 360*, *Nintendo 3DS* и удивительно в 5-ку попал *PC*.\n",
    "\n",
    "#### Япония - топ-5 популярных платформ\n",
    "1. 3DS\n",
    "2. PS3\n",
    "3. PSP\n",
    "4. PSV\n",
    "5. PS4\n",
    "\n",
    "В Японии совсем другая ситуация, *Microsoft* менее популярен на рынке Японии. Японцы предпочитают отечественные продукты такие как *Nintendo 3DS*,*PS3*,*PSP*,*PSV*,*PS4*.\n",
    "\n",
    "#### Северная Америка - топ-5 популярных жанров\n",
    "1. Action\n",
    "2. Shooter\n",
    "3. Sports\n",
    "4. Role-Playing\n",
    "5. Misc\n",
    "\n",
    "Возглавляет 5-ку жанр - *Action*. Жанры: *Action*, *Shooter* и *Sports* - легкие жанры для усвоения. На западном рынке самая успешная серия игр жанров *Action* и *Shooter* - является Grand Theft Auto и Call of Duty. *Role-Playing* и *Misc* - закрывают 5-ку популярных жанров.\n",
    "\n",
    "\n",
    "#### Европа - топ-5 популярных жанров\n",
    "1. Action\n",
    "2. Shooter\n",
    "3. Sports\n",
    "4. Role-Playing\n",
    "5. Racing\n",
    "\n",
    "топ-5 похож на рынок Северной Америки. Однако, закрывает 5-ку жанр - *Racing*. Европейцы любят погонять.\n",
    "\n",
    "#### Япония - топ-5 популярных жанров\n",
    "1. Role-Playing\n",
    "2. Action\n",
    "3. Misc\n",
    "4. Fightning\n",
    "5. Platform\n",
    "\n",
    "Возглавляет 5-ку жанр - *Role-Playing*. Большинство игр имеют жанр *Role-Playing*. В Японии есть поджанр *RPG* - *JRPG* https://en.wikipedia.org/wiki/List_of_best-selling_Japanese_role-playing_game_franchises . Япония - родина таких серий файтингов как Street Fighter, Soul Calibur, Dead or alive.  Японский рынок игр отличается от других из-за менталитета этого региона. Большинство отечественных игр сфокусированы на жанре RPG. Японцы предпочитают отечественные игры.\n",
    "\n",
    "Мы выяснили, что рейтинг ESRB влияет на продажи. Самый популярный возрастной рейтинг - М (игры с таким рейтингом содержат контент, который, по мнению ESRB, в целом подходит для лиц в возрасте 17 лет и старше.). 2-ой по популярности рейтинг - E (игры с таким рейтингом содержат контент, который, по мнению ESRB, \"в целом подходит для всех возрастов\"). Можно сделать вывод, что для успешности игры - игра должна иметь возрастной рейтинг **М**.\n",
    "\n",
    "Мы проверили несколько гипотез и выяснили:\n",
    "1. Eсть вероятность 54% получить событие, где средние пользовательские рейтинги платформ Xbox One и PC равны \n",
    "2. Среднии пользовательские рейтинги жанров Action и Sports различаются.\n",
    "\n",
    "### Метрики которые определяют успешность игры:\n",
    "1. Актуальность платформы для которая игра была выпущена. \n",
    "2. Лидирующие платформы и большие корпорации возглавляющие рынок игровой индустрии.\n",
    "3. Игры должны выходить на консолях нового поколения.\n",
    "4. Оценки критиков частично влияют на продажи.\n",
    "5. Для успешности игры - игра должна иметь возрастной рейтинг *М*.\n",
    "6. Жанр игры должен быть простым для усвоения и популярным. \n",
    "7. Геомаркетинг, необходимо учитывать регионы, так как вкусы людей из разных регионов различаются.\n",
    "\n",
    "### Рекомендации по дальнейшим действиям:\n",
    "Основываясь на метриках, которые определяют успешность игры, можно дать рекомендации по дальнейшим действиям. Интернет-магазину \"Стримчик\" необходимо найти игру, которая будет соответствовать метрикам выше: \n",
    "1. Актуальность платформы - игра должна быть свежей, вышедшей для консолей нового поколения(*PS4*,*Xbox One*).\n",
    "2. Лидирующие платформы - игра должна быть выпущена для популярных платформ такие как: *PS4*,*Xbox One*.\n",
    "3. Необходимо учесть оценку критиков при выборе игры. Посмотреть обзоры от ютуберов-геймеров, например. \n",
    "4. Большинство популярных игр имеют возрастной рейтинг *M*. Самая популярная игра - *Grand Theft Auto 5* имеет возрастной рейтинг *М*. Следовательно, необходимо учесть этот показатель.\n",
    "5. Жанр игры должен быть простым для усвоения и популярным. Популярные жанры: *Action*,*Shooter*. Самыми успешными серии игр жанров *Action* и *Shooter* - являются AAA проекты: *Grand Theft Auto и Call of Duty*. \n",
    "6. Стоит обратить внимание на геолокацию пользователей. У каждого региона разные вкусы. Например,  Японский рынок игр отличается от других из-за менталитета этого региона. Большинство отечественных игр сфокусированы на жанре RPG. Японцы предпочитают отечественные игры, также они предпочитают отечественные продукты такие как *Nintendo 3DS*,*PS3*,*PSP*,*PSV*,*PS4*."
   ]
  },
  {
   "cell_type": "markdown",
   "metadata": {},
   "source": [
    "<div class=\"alert alert-success\">\n",
    "<h2> Комментарий ревьюера </h2>\n",
    "\n",
    "Выводы описаны грамотно. Приведены ответы на главные вопросы проекта. В выводах можно приводить полученные ранее значения. Также можно расписать все, что было сделано в ходе проведения работы. Еще лучше будет, если приведешь рекомендации для компании по дальнейшим действиям. \n",
    "\n",
    "</div>"
   ]
  },
  {
   "cell_type": "markdown",
   "metadata": {},
   "source": [
    "<div class=\"alert alert-info\"> <b>Комментарий студента:</b> Обновил вывод, добавил рекомендации по дальнейшим действиям </div>"
   ]
  },
  {
   "cell_type": "markdown",
   "metadata": {},
   "source": [
    "<div class=\"alert alert-warning\">\n",
    "<h2> Комментарий ревьюера </h2>\n",
    "\n",
    "Если тебе нравится тема визуализации, то можешь изучить другие методы библиотеки seaborn. Она позволяет строить довольно презентабельные графики.\n",
    "\n",
    "Ты выполнил все пункты работы, молодец! Критических замечаний немного. Однако с ними важно поработать и их исправить. Также есть достаточное число желтых комментариев, которые стоит исправить. Думаю, ты справишься с этим быстро. Жду твою работу :)\n",
    "\n",
    "</div>"
   ]
  },
  {
   "cell_type": "markdown",
   "metadata": {},
   "source": [
    "<div class=\"alert alert-info\"> <b>Комментарий студента:</b> Что по рекомендуете прочитать(cтатьи) по seaborn или видео в youtube?  </div>"
   ]
  }
 ],
 "metadata": {
  "kernelspec": {
   "display_name": "Python 3",
   "language": "python",
   "name": "python3"
  },
  "language_info": {
   "codemirror_mode": {
    "name": "ipython",
    "version": 3
   },
   "file_extension": ".py",
   "mimetype": "text/x-python",
   "name": "python",
   "nbconvert_exporter": "python",
   "pygments_lexer": "ipython3",
   "version": "3.7.8"
  }
 },
 "nbformat": 4,
 "nbformat_minor": 4
}
