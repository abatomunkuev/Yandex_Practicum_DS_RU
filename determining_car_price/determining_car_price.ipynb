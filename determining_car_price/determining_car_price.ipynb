{
 "cells": [
  {
   "cell_type": "markdown",
   "metadata": {},
   "source": [
    "# Вступление"
   ]
  },
  {
   "cell_type": "markdown",
   "metadata": {},
   "source": [
    "Этот проект показывает: \n",
    "- способность писать структурированный код на Python. \n",
    "- возможность использования существующих утилит(библиотек) для обработки и анализа данных.\n",
    "- навыки анализа и предварительной обработки данных\n",
    "- использование моделей Машинного Обучения:\n",
    "    - CatBoost\n",
    "    - XGBoost\n",
    "    - LightGBM"
   ]
  },
  {
   "cell_type": "markdown",
   "metadata": {},
   "source": [
    "Проект включает в себя:\n",
    "1. Предварительная обработка данных\n",
    "2. Исследование моделей машинного обучения:\n",
    "    - Подбор параметров моделей\n",
    "    - Выбор лучшей моделей для решения задачи"
   ]
  },
  {
   "cell_type": "markdown",
   "metadata": {},
   "source": [
    "Проект из учебного курса \"[Специалист по Data Science](https://praktikum.yandex.ru/data-scientist)\" от [Яндекс Практикум](https://practicum.yandex.ru/)."
   ]
  },
  {
   "cell_type": "markdown",
   "metadata": {},
   "source": [
    "# Подготовка проекта"
   ]
  },
  {
   "cell_type": "code",
   "execution_count": 1,
   "metadata": {},
   "outputs": [
    {
     "data": {
      "text/html": [
       "<style>\n",
       "table {float:left}\n",
       "</style>\n"
      ],
      "text/plain": [
       "<IPython.core.display.HTML object>"
      ]
     },
     "metadata": {},
     "output_type": "display_data"
    }
   ],
   "source": [
    "%%html\n",
    "<style>\n",
    "table {float:left}\n",
    "</style>"
   ]
  },
  {
   "cell_type": "code",
   "execution_count": 2,
   "metadata": {},
   "outputs": [
    {
     "name": "stdout",
     "output_type": "stream",
     "text": [
      "Requirement already satisfied: xgboost in /opt/anaconda3/envs/practicum/lib/python3.7/site-packages (1.3.3)\n",
      "Requirement already satisfied: numpy in /opt/anaconda3/envs/practicum/lib/python3.7/site-packages (from xgboost) (1.18.3)\n",
      "Requirement already satisfied: scipy in /opt/anaconda3/envs/practicum/lib/python3.7/site-packages (from xgboost) (1.4.1)\n"
     ]
    }
   ],
   "source": [
    "!pip install xgboost"
   ]
  },
  {
   "cell_type": "code",
   "execution_count": 3,
   "metadata": {},
   "outputs": [
    {
     "name": "stdout",
     "output_type": "stream",
     "text": [
      "Requirement already satisfied: lightgbm in /opt/anaconda3/envs/practicum/lib/python3.7/site-packages (3.1.1)\n",
      "Requirement already satisfied: wheel in /opt/anaconda3/envs/practicum/lib/python3.7/site-packages (from lightgbm) (0.35.1)\n",
      "Requirement already satisfied: scikit-learn!=0.22.0 in /opt/anaconda3/envs/practicum/lib/python3.7/site-packages (from lightgbm) (0.21.2)\n",
      "Requirement already satisfied: numpy in /opt/anaconda3/envs/practicum/lib/python3.7/site-packages (from lightgbm) (1.18.3)\n",
      "Requirement already satisfied: scipy in /opt/anaconda3/envs/practicum/lib/python3.7/site-packages (from lightgbm) (1.4.1)\n",
      "Requirement already satisfied: joblib>=0.11 in /opt/anaconda3/envs/practicum/lib/python3.7/site-packages (from scikit-learn!=0.22.0->lightgbm) (0.17.0)\n"
     ]
    }
   ],
   "source": [
    "!pip install lightgbm"
   ]
  },
  {
   "cell_type": "code",
   "execution_count": 4,
   "metadata": {},
   "outputs": [
    {
     "name": "stdout",
     "output_type": "stream",
     "text": [
      "Requirement already satisfied: catboost in /opt/anaconda3/envs/practicum/lib/python3.7/site-packages (0.24.4)\n",
      "Requirement already satisfied: graphviz in /opt/anaconda3/envs/practicum/lib/python3.7/site-packages (from catboost) (0.16)\n",
      "Requirement already satisfied: plotly in /opt/anaconda3/envs/practicum/lib/python3.7/site-packages (from catboost) (4.1.0)\n",
      "Requirement already satisfied: six in /opt/anaconda3/envs/practicum/lib/python3.7/site-packages (from catboost) (1.15.0)\n",
      "Requirement already satisfied: scipy in /opt/anaconda3/envs/practicum/lib/python3.7/site-packages (from catboost) (1.4.1)\n",
      "Requirement already satisfied: matplotlib in /opt/anaconda3/envs/practicum/lib/python3.7/site-packages (from catboost) (3.1.0)\n",
      "Requirement already satisfied: pandas>=0.24.0 in /opt/anaconda3/envs/practicum/lib/python3.7/site-packages (from catboost) (0.25.1)\n",
      "Requirement already satisfied: numpy>=1.16.0 in /opt/anaconda3/envs/practicum/lib/python3.7/site-packages (from catboost) (1.18.3)\n",
      "Requirement already satisfied: retrying>=1.3.3 in /opt/anaconda3/envs/practicum/lib/python3.7/site-packages (from plotly->catboost) (1.3.3)\n",
      "Requirement already satisfied: cycler>=0.10 in /opt/anaconda3/envs/practicum/lib/python3.7/site-packages (from matplotlib->catboost) (0.10.0)\n",
      "Requirement already satisfied: pyparsing!=2.0.4,!=2.1.2,!=2.1.6,>=2.0.1 in /opt/anaconda3/envs/practicum/lib/python3.7/site-packages (from matplotlib->catboost) (2.4.7)\n",
      "Requirement already satisfied: kiwisolver>=1.0.1 in /opt/anaconda3/envs/practicum/lib/python3.7/site-packages (from matplotlib->catboost) (1.2.0)\n",
      "Requirement already satisfied: python-dateutil>=2.1 in /opt/anaconda3/envs/practicum/lib/python3.7/site-packages (from matplotlib->catboost) (2.8.1)\n",
      "Requirement already satisfied: pytz>=2017.2 in /opt/anaconda3/envs/practicum/lib/python3.7/site-packages (from pandas>=0.24.0->catboost) (2020.1)\n"
     ]
    }
   ],
   "source": [
    "!pip install catboost"
   ]
  },
  {
   "cell_type": "markdown",
   "metadata": {},
   "source": [
    "## Импорт библиотек"
   ]
  },
  {
   "cell_type": "code",
   "execution_count": 5,
   "metadata": {},
   "outputs": [],
   "source": [
    "import numpy as np\n",
    "import pandas as pd\n",
    "from scipy import stats as st\n",
    "import time\n",
    "import warnings\n",
    "import datetime\n",
    "# Для чтения файла\n",
    "import os \n",
    "from pathlib import Path\n",
    "import urllib\n",
    "# Модели машинного обучения для задач регрессии\n",
    "from sklearn.linear_model import LinearRegression\n",
    "from sklearn.tree import DecisionTreeRegressor\n",
    "from sklearn.ensemble import RandomForestRegressor\n",
    "import xgboost as xgb\n",
    "import lightgbm as lgb\n",
    "from catboost import Pool, CatBoostRegressor\n",
    "# Для предобработки данных\n",
    "from sklearn.impute import SimpleImputer\n",
    "# Метрики регрессии - оценка моделей\n",
    "from sklearn.metrics import mean_squared_error, r2_score, mean_absolute_error,make_scorer\n",
    "# Для масшатбирования признаков\n",
    "# Для масшатбирования признаков, кодирования\n",
    "from sklearn.preprocessing import StandardScaler, OrdinalEncoder,MinMaxScaler\n",
    "from sklearn.compose import ColumnTransformer\n",
    "from sklearn.pipeline import Pipeline\n",
    "# Проверка моделей на вменяемость\n",
    "from sklearn.dummy import DummyRegressor\n",
    "# Для разделения данных на обучающий, валидационный, тестовый набор данных. \n",
    "from sklearn.model_selection import train_test_split, GridSearchCV, RandomizedSearchCV, cross_val_score\n",
    "# Для визуализации графиков\n",
    "import matplotlib as mpl\n",
    "import matplotlib.pyplot as plt\n",
    "import matplotlib.ticker as ticker\n",
    "import seaborn as sns"
   ]
  },
  {
   "cell_type": "markdown",
   "metadata": {},
   "source": [
    "## Настройка matplotlib"
   ]
  },
  {
   "cell_type": "code",
   "execution_count": 6,
   "metadata": {},
   "outputs": [],
   "source": [
    "%matplotlib inline\n",
    "small, medium, large = 14, 16, 22\n",
    "params = {'figure.figsize':   (14, 5),\n",
    "          'figure.titlesize': medium,\n",
    "          'legend.fontsize':  small,\n",
    "          'axes.titlesize':   small,\n",
    "          'axes.labelsize':   small,\n",
    "          'xtick.labelsize':  small,\n",
    "          'ytick.labelsize':  small,\n",
    "          'legend.loc':       'best'}\n",
    "plt.rcParams.update(params)"
   ]
  },
  {
   "cell_type": "code",
   "execution_count": 7,
   "metadata": {},
   "outputs": [],
   "source": [
    "# повышение четкости на больших экранах\n",
    "%config InlineBackend.figure_format = 'retina'"
   ]
  },
  {
   "cell_type": "code",
   "execution_count": 8,
   "metadata": {},
   "outputs": [],
   "source": [
    "# отключим всякие предупреждения Anaconda\n",
    "warnings.filterwarnings('ignore')"
   ]
  },
  {
   "cell_type": "code",
   "execution_count": 9,
   "metadata": {},
   "outputs": [],
   "source": [
    "# уберём экспоненциальную запись\n",
    "pd.options.display.float_format = '{:.3f}'.format"
   ]
  },
  {
   "cell_type": "markdown",
   "metadata": {},
   "source": [
    "# Численные методы"
   ]
  },
  {
   "cell_type": "markdown",
   "metadata": {},
   "source": [
    "# Проект \"Определение стоимости автомобиля\""
   ]
  },
  {
   "cell_type": "markdown",
   "metadata": {},
   "source": [
    "## Описание проекта \n",
    "\n",
    "Сервис по продаже автомобилей с пробегом разрабатывает приложение, где можно узнать рыночную стоимость своего автомобиля. Необходимо построить модель Машинного Обучения для быстрого определения стоимости автомобиля.\n",
    "\n",
    "## Детали задачи\n",
    "Заказчику важны:\n",
    "- качество предсказания\n",
    "- скорость предсказания\n",
    "- время обучения\n",
    "\n",
    "\n",
    "## Описание данных\n",
    "\n",
    "Предоставлены данные - исторические данные: технические характеристики, комплектации и цены автомобилей.\n",
    "\n",
    "\n",
    "\n",
    " |Столбец            |Описание          |Тип столбца\n",
    " |:---------------|:------------------------|:-------------|\n",
    " |DateCrawled     | дата скачивания анкеты из базы|features      |\n",
    " |VehicleType     | тип автомобильного кузова   |features      |\n",
    " |RegistrationYear       | год регистрации автомобиля|features     |\n",
    " |Gearbox       | тип коробки передач|features     |\n",
    " |Power       | мощность (л. с.)|features     |\n",
    " |Model      | модель автомобиля|features     |\n",
    " |Kilometer      | пробег (км)|features     |\n",
    " |RegistrationMonth      | месяц регистрации автомобиля|features     |\n",
    " |FuelType       | тип топлива|features     |\n",
    " |Brand       | марка автомобиля|features     |\n",
    " |NotRepaired       | была машина в ремонте или нет|features     |\n",
    " |DateCreated      | дата создания анкеты|features     |\n",
    " |NumberOfPictures | количество фотографий автомобиля|features     |\n",
    " |PostalCode      | почтовый индекс владельца анкеты (пользователя)|features     |\n",
    " |LastSeen    | дата последней активности пользователя|features     |\n",
    " |Price       | цена (евро)    | target | "
   ]
  },
  {
   "cell_type": "markdown",
   "metadata": {},
   "source": [
    "## Цель проекта"
   ]
  },
  {
   "cell_type": "markdown",
   "metadata": {},
   "source": [
    "Необходимо построить модель Машинного Обучения для быстрого определения стоимости автомобиля."
   ]
  },
  {
   "cell_type": "markdown",
   "metadata": {},
   "source": [
    "## План работы\n",
    "1. [Обзор данных](#review)\n",
    "2. [Предобработка данных](#dataPreprocessing)\n",
    "    - [Обработка столбцов](#columnsProcessing)\n",
    "    - [Удаление лишних столбцов](#removeColumns)\n",
    "    - [Обработка пропущенных значений](#missingValues)\n",
    "    - [Обработка дупликатов](#duplicateValues)\n",
    "    - [Обработка аномальных значений](#abnormalValues)\n",
    "    - [Кодирование](#encoding)\n",
    "    - [Разделение данных](#dataSeparation)\n",
    "    - [Стандартизация](#standardization)\n",
    "3. [Исследование моделей машинного обучения](#MLmodelResearch)\n",
    "    - [Результаты исследования моделей машинного обучения](#resultsRearchModel)\n",
    "4. [Анализ скорость работы и качество моделей](#resultsRearchModel)\n",
    "5. [Результаты работы](#results)"
   ]
  },
  {
   "cell_type": "markdown",
   "metadata": {},
   "source": [
    "<a id=\"review\"></a>\n",
    "# Этап 1 - Обзор данных"
   ]
  },
  {
   "cell_type": "markdown",
   "metadata": {},
   "source": [
    "Прочитаем предоставленный файл. Сохраним в соотвествующую переменную."
   ]
  },
  {
   "cell_type": "code",
   "execution_count": 10,
   "metadata": {},
   "outputs": [],
   "source": [
    "Path('datasets').mkdir(parents=True, exist_ok=True)\n",
    "#Создаем функцию для чтения файла\n",
    "def get_file(file_name, url):\n",
    "    # Проверяем есть ли файл\n",
    "    if not os.path.exists(file_name):\n",
    "        print(file_name,'файл не найден, будет загружен из сети')\n",
    "        # качаем файл по ссылке url, кладем по пути file_name\n",
    "        # загружаем с помощью библиотеки urllib\n",
    "        _ = urllib.request.urlretrieve(url, file_name)\n",
    "        \n",
    "# Словарь с именем файла и ссылкой на него\n",
    "urls = {\n",
    "    'autos': ('datasets/autos.csv', '________________'),\n",
    "}\n",
    "[get_file(*urls[k]) for k in urls]\n",
    "[get_file(urls[k][0], urls[k][1]) for k in urls]\n",
    "\n",
    "# сохраним полученный из файла датафрейм в соответствующую переменную\n",
    "raw_autos = pd.read_csv(urls['autos'][0],sep=',')"
   ]
  },
  {
   "cell_type": "markdown",
   "metadata": {},
   "source": [
    "Посмотрим на данные. Выведем первые 10 строк таблицы."
   ]
  },
  {
   "cell_type": "code",
   "execution_count": 11,
   "metadata": {},
   "outputs": [
    {
     "data": {
      "text/html": [
       "<div>\n",
       "<style scoped>\n",
       "    .dataframe tbody tr th:only-of-type {\n",
       "        vertical-align: middle;\n",
       "    }\n",
       "\n",
       "    .dataframe tbody tr th {\n",
       "        vertical-align: top;\n",
       "    }\n",
       "\n",
       "    .dataframe thead th {\n",
       "        text-align: right;\n",
       "    }\n",
       "</style>\n",
       "<table border=\"1\" class=\"dataframe\">\n",
       "  <thead>\n",
       "    <tr style=\"text-align: right;\">\n",
       "      <th></th>\n",
       "      <th>DateCrawled</th>\n",
       "      <th>Price</th>\n",
       "      <th>VehicleType</th>\n",
       "      <th>RegistrationYear</th>\n",
       "      <th>Gearbox</th>\n",
       "      <th>Power</th>\n",
       "      <th>Model</th>\n",
       "      <th>Kilometer</th>\n",
       "      <th>RegistrationMonth</th>\n",
       "      <th>FuelType</th>\n",
       "      <th>Brand</th>\n",
       "      <th>NotRepaired</th>\n",
       "      <th>DateCreated</th>\n",
       "      <th>NumberOfPictures</th>\n",
       "      <th>PostalCode</th>\n",
       "      <th>LastSeen</th>\n",
       "    </tr>\n",
       "  </thead>\n",
       "  <tbody>\n",
       "    <tr>\n",
       "      <td>0</td>\n",
       "      <td>2016-03-24 11:52:17</td>\n",
       "      <td>480</td>\n",
       "      <td>NaN</td>\n",
       "      <td>1993</td>\n",
       "      <td>manual</td>\n",
       "      <td>0</td>\n",
       "      <td>golf</td>\n",
       "      <td>150000</td>\n",
       "      <td>0</td>\n",
       "      <td>petrol</td>\n",
       "      <td>volkswagen</td>\n",
       "      <td>NaN</td>\n",
       "      <td>2016-03-24 00:00:00</td>\n",
       "      <td>0</td>\n",
       "      <td>70435</td>\n",
       "      <td>2016-04-07 03:16:57</td>\n",
       "    </tr>\n",
       "    <tr>\n",
       "      <td>1</td>\n",
       "      <td>2016-03-24 10:58:45</td>\n",
       "      <td>18300</td>\n",
       "      <td>coupe</td>\n",
       "      <td>2011</td>\n",
       "      <td>manual</td>\n",
       "      <td>190</td>\n",
       "      <td>NaN</td>\n",
       "      <td>125000</td>\n",
       "      <td>5</td>\n",
       "      <td>gasoline</td>\n",
       "      <td>audi</td>\n",
       "      <td>yes</td>\n",
       "      <td>2016-03-24 00:00:00</td>\n",
       "      <td>0</td>\n",
       "      <td>66954</td>\n",
       "      <td>2016-04-07 01:46:50</td>\n",
       "    </tr>\n",
       "    <tr>\n",
       "      <td>2</td>\n",
       "      <td>2016-03-14 12:52:21</td>\n",
       "      <td>9800</td>\n",
       "      <td>suv</td>\n",
       "      <td>2004</td>\n",
       "      <td>auto</td>\n",
       "      <td>163</td>\n",
       "      <td>grand</td>\n",
       "      <td>125000</td>\n",
       "      <td>8</td>\n",
       "      <td>gasoline</td>\n",
       "      <td>jeep</td>\n",
       "      <td>NaN</td>\n",
       "      <td>2016-03-14 00:00:00</td>\n",
       "      <td>0</td>\n",
       "      <td>90480</td>\n",
       "      <td>2016-04-05 12:47:46</td>\n",
       "    </tr>\n",
       "    <tr>\n",
       "      <td>3</td>\n",
       "      <td>2016-03-17 16:54:04</td>\n",
       "      <td>1500</td>\n",
       "      <td>small</td>\n",
       "      <td>2001</td>\n",
       "      <td>manual</td>\n",
       "      <td>75</td>\n",
       "      <td>golf</td>\n",
       "      <td>150000</td>\n",
       "      <td>6</td>\n",
       "      <td>petrol</td>\n",
       "      <td>volkswagen</td>\n",
       "      <td>no</td>\n",
       "      <td>2016-03-17 00:00:00</td>\n",
       "      <td>0</td>\n",
       "      <td>91074</td>\n",
       "      <td>2016-03-17 17:40:17</td>\n",
       "    </tr>\n",
       "    <tr>\n",
       "      <td>4</td>\n",
       "      <td>2016-03-31 17:25:20</td>\n",
       "      <td>3600</td>\n",
       "      <td>small</td>\n",
       "      <td>2008</td>\n",
       "      <td>manual</td>\n",
       "      <td>69</td>\n",
       "      <td>fabia</td>\n",
       "      <td>90000</td>\n",
       "      <td>7</td>\n",
       "      <td>gasoline</td>\n",
       "      <td>skoda</td>\n",
       "      <td>no</td>\n",
       "      <td>2016-03-31 00:00:00</td>\n",
       "      <td>0</td>\n",
       "      <td>60437</td>\n",
       "      <td>2016-04-06 10:17:21</td>\n",
       "    </tr>\n",
       "    <tr>\n",
       "      <td>5</td>\n",
       "      <td>2016-04-04 17:36:23</td>\n",
       "      <td>650</td>\n",
       "      <td>sedan</td>\n",
       "      <td>1995</td>\n",
       "      <td>manual</td>\n",
       "      <td>102</td>\n",
       "      <td>3er</td>\n",
       "      <td>150000</td>\n",
       "      <td>10</td>\n",
       "      <td>petrol</td>\n",
       "      <td>bmw</td>\n",
       "      <td>yes</td>\n",
       "      <td>2016-04-04 00:00:00</td>\n",
       "      <td>0</td>\n",
       "      <td>33775</td>\n",
       "      <td>2016-04-06 19:17:07</td>\n",
       "    </tr>\n",
       "    <tr>\n",
       "      <td>6</td>\n",
       "      <td>2016-04-01 20:48:51</td>\n",
       "      <td>2200</td>\n",
       "      <td>convertible</td>\n",
       "      <td>2004</td>\n",
       "      <td>manual</td>\n",
       "      <td>109</td>\n",
       "      <td>2_reihe</td>\n",
       "      <td>150000</td>\n",
       "      <td>8</td>\n",
       "      <td>petrol</td>\n",
       "      <td>peugeot</td>\n",
       "      <td>no</td>\n",
       "      <td>2016-04-01 00:00:00</td>\n",
       "      <td>0</td>\n",
       "      <td>67112</td>\n",
       "      <td>2016-04-05 18:18:39</td>\n",
       "    </tr>\n",
       "    <tr>\n",
       "      <td>7</td>\n",
       "      <td>2016-03-21 18:54:38</td>\n",
       "      <td>0</td>\n",
       "      <td>sedan</td>\n",
       "      <td>1980</td>\n",
       "      <td>manual</td>\n",
       "      <td>50</td>\n",
       "      <td>other</td>\n",
       "      <td>40000</td>\n",
       "      <td>7</td>\n",
       "      <td>petrol</td>\n",
       "      <td>volkswagen</td>\n",
       "      <td>no</td>\n",
       "      <td>2016-03-21 00:00:00</td>\n",
       "      <td>0</td>\n",
       "      <td>19348</td>\n",
       "      <td>2016-03-25 16:47:58</td>\n",
       "    </tr>\n",
       "    <tr>\n",
       "      <td>8</td>\n",
       "      <td>2016-04-04 23:42:13</td>\n",
       "      <td>14500</td>\n",
       "      <td>bus</td>\n",
       "      <td>2014</td>\n",
       "      <td>manual</td>\n",
       "      <td>125</td>\n",
       "      <td>c_max</td>\n",
       "      <td>30000</td>\n",
       "      <td>8</td>\n",
       "      <td>petrol</td>\n",
       "      <td>ford</td>\n",
       "      <td>NaN</td>\n",
       "      <td>2016-04-04 00:00:00</td>\n",
       "      <td>0</td>\n",
       "      <td>94505</td>\n",
       "      <td>2016-04-04 23:42:13</td>\n",
       "    </tr>\n",
       "    <tr>\n",
       "      <td>9</td>\n",
       "      <td>2016-03-17 10:53:50</td>\n",
       "      <td>999</td>\n",
       "      <td>small</td>\n",
       "      <td>1998</td>\n",
       "      <td>manual</td>\n",
       "      <td>101</td>\n",
       "      <td>golf</td>\n",
       "      <td>150000</td>\n",
       "      <td>0</td>\n",
       "      <td>NaN</td>\n",
       "      <td>volkswagen</td>\n",
       "      <td>NaN</td>\n",
       "      <td>2016-03-17 00:00:00</td>\n",
       "      <td>0</td>\n",
       "      <td>27472</td>\n",
       "      <td>2016-03-31 17:17:06</td>\n",
       "    </tr>\n",
       "  </tbody>\n",
       "</table>\n",
       "</div>"
      ],
      "text/plain": [
       "           DateCrawled  Price  VehicleType  RegistrationYear Gearbox  Power  \\\n",
       "0  2016-03-24 11:52:17    480          NaN              1993  manual      0   \n",
       "1  2016-03-24 10:58:45  18300        coupe              2011  manual    190   \n",
       "2  2016-03-14 12:52:21   9800          suv              2004    auto    163   \n",
       "3  2016-03-17 16:54:04   1500        small              2001  manual     75   \n",
       "4  2016-03-31 17:25:20   3600        small              2008  manual     69   \n",
       "5  2016-04-04 17:36:23    650        sedan              1995  manual    102   \n",
       "6  2016-04-01 20:48:51   2200  convertible              2004  manual    109   \n",
       "7  2016-03-21 18:54:38      0        sedan              1980  manual     50   \n",
       "8  2016-04-04 23:42:13  14500          bus              2014  manual    125   \n",
       "9  2016-03-17 10:53:50    999        small              1998  manual    101   \n",
       "\n",
       "     Model  Kilometer  RegistrationMonth  FuelType       Brand NotRepaired  \\\n",
       "0     golf     150000                  0    petrol  volkswagen         NaN   \n",
       "1      NaN     125000                  5  gasoline        audi         yes   \n",
       "2    grand     125000                  8  gasoline        jeep         NaN   \n",
       "3     golf     150000                  6    petrol  volkswagen          no   \n",
       "4    fabia      90000                  7  gasoline       skoda          no   \n",
       "5      3er     150000                 10    petrol         bmw         yes   \n",
       "6  2_reihe     150000                  8    petrol     peugeot          no   \n",
       "7    other      40000                  7    petrol  volkswagen          no   \n",
       "8    c_max      30000                  8    petrol        ford         NaN   \n",
       "9     golf     150000                  0       NaN  volkswagen         NaN   \n",
       "\n",
       "           DateCreated  NumberOfPictures  PostalCode             LastSeen  \n",
       "0  2016-03-24 00:00:00                 0       70435  2016-04-07 03:16:57  \n",
       "1  2016-03-24 00:00:00                 0       66954  2016-04-07 01:46:50  \n",
       "2  2016-03-14 00:00:00                 0       90480  2016-04-05 12:47:46  \n",
       "3  2016-03-17 00:00:00                 0       91074  2016-03-17 17:40:17  \n",
       "4  2016-03-31 00:00:00                 0       60437  2016-04-06 10:17:21  \n",
       "5  2016-04-04 00:00:00                 0       33775  2016-04-06 19:17:07  \n",
       "6  2016-04-01 00:00:00                 0       67112  2016-04-05 18:18:39  \n",
       "7  2016-03-21 00:00:00                 0       19348  2016-03-25 16:47:58  \n",
       "8  2016-04-04 00:00:00                 0       94505  2016-04-04 23:42:13  \n",
       "9  2016-03-17 00:00:00                 0       27472  2016-03-31 17:17:06  "
      ]
     },
     "execution_count": 11,
     "metadata": {},
     "output_type": "execute_result"
    }
   ],
   "source": [
    "raw_autos.head(10)"
   ]
  },
  {
   "cell_type": "markdown",
   "metadata": {},
   "source": [
    "Сразу можем увидеть, что у нас есть пропущенные значения в столбцах *VehicleType, Model, FuelType, NotRepaired*. Также заметим, у нас есть нулевые значения в *Price, NumberOfPictures*."
   ]
  },
  {
   "cell_type": "markdown",
   "metadata": {},
   "source": [
    "Выведем общую информацию"
   ]
  },
  {
   "cell_type": "code",
   "execution_count": 12,
   "metadata": {},
   "outputs": [
    {
     "name": "stdout",
     "output_type": "stream",
     "text": [
      "<class 'pandas.core.frame.DataFrame'>\n",
      "RangeIndex: 354369 entries, 0 to 354368\n",
      "Data columns (total 16 columns):\n",
      "DateCrawled          354369 non-null object\n",
      "Price                354369 non-null int64\n",
      "VehicleType          316879 non-null object\n",
      "RegistrationYear     354369 non-null int64\n",
      "Gearbox              334536 non-null object\n",
      "Power                354369 non-null int64\n",
      "Model                334664 non-null object\n",
      "Kilometer            354369 non-null int64\n",
      "RegistrationMonth    354369 non-null int64\n",
      "FuelType             321474 non-null object\n",
      "Brand                354369 non-null object\n",
      "NotRepaired          283215 non-null object\n",
      "DateCreated          354369 non-null object\n",
      "NumberOfPictures     354369 non-null int64\n",
      "PostalCode           354369 non-null int64\n",
      "LastSeen             354369 non-null object\n",
      "dtypes: int64(7), object(9)\n",
      "memory usage: 43.3+ MB\n"
     ]
    }
   ],
   "source": [
    "raw_autos.info()"
   ]
  },
  {
   "cell_type": "markdown",
   "metadata": {},
   "source": [
    "354369 обьекта в датафрейме. 16 столбцов. Большинство столбцов имеют тип *object*. Количество обьектов в каждом столбце различается. У нас есть пропущенные значения. Следовательно, необходимо предобработать данные. Также стоит заметить, что некоторые столбцы будут не нужны в постройке моделей, такие как: *DateCrawled, DateCreated, NumberOfPictures, PostalCode, LastSeen*. "
   ]
  },
  {
   "cell_type": "markdown",
   "metadata": {},
   "source": [
    "Посмотрим на значения, распределения в нашем DataFrame."
   ]
  },
  {
   "cell_type": "code",
   "execution_count": 13,
   "metadata": {},
   "outputs": [
    {
     "data": {
      "text/html": [
       "<div>\n",
       "<style scoped>\n",
       "    .dataframe tbody tr th:only-of-type {\n",
       "        vertical-align: middle;\n",
       "    }\n",
       "\n",
       "    .dataframe tbody tr th {\n",
       "        vertical-align: top;\n",
       "    }\n",
       "\n",
       "    .dataframe thead th {\n",
       "        text-align: right;\n",
       "    }\n",
       "</style>\n",
       "<table border=\"1\" class=\"dataframe\">\n",
       "  <thead>\n",
       "    <tr style=\"text-align: right;\">\n",
       "      <th></th>\n",
       "      <th>count</th>\n",
       "      <th>mean</th>\n",
       "      <th>std</th>\n",
       "      <th>min</th>\n",
       "      <th>25%</th>\n",
       "      <th>50%</th>\n",
       "      <th>75%</th>\n",
       "      <th>max</th>\n",
       "    </tr>\n",
       "  </thead>\n",
       "  <tbody>\n",
       "    <tr>\n",
       "      <td>Price</td>\n",
       "      <td>354369.000</td>\n",
       "      <td>4416.657</td>\n",
       "      <td>4514.159</td>\n",
       "      <td>0.000</td>\n",
       "      <td>1050.000</td>\n",
       "      <td>2700.000</td>\n",
       "      <td>6400.000</td>\n",
       "      <td>20000.000</td>\n",
       "    </tr>\n",
       "    <tr>\n",
       "      <td>RegistrationYear</td>\n",
       "      <td>354369.000</td>\n",
       "      <td>2004.234</td>\n",
       "      <td>90.228</td>\n",
       "      <td>1000.000</td>\n",
       "      <td>1999.000</td>\n",
       "      <td>2003.000</td>\n",
       "      <td>2008.000</td>\n",
       "      <td>9999.000</td>\n",
       "    </tr>\n",
       "    <tr>\n",
       "      <td>Power</td>\n",
       "      <td>354369.000</td>\n",
       "      <td>110.094</td>\n",
       "      <td>189.850</td>\n",
       "      <td>0.000</td>\n",
       "      <td>69.000</td>\n",
       "      <td>105.000</td>\n",
       "      <td>143.000</td>\n",
       "      <td>20000.000</td>\n",
       "    </tr>\n",
       "    <tr>\n",
       "      <td>Kilometer</td>\n",
       "      <td>354369.000</td>\n",
       "      <td>128211.173</td>\n",
       "      <td>37905.342</td>\n",
       "      <td>5000.000</td>\n",
       "      <td>125000.000</td>\n",
       "      <td>150000.000</td>\n",
       "      <td>150000.000</td>\n",
       "      <td>150000.000</td>\n",
       "    </tr>\n",
       "    <tr>\n",
       "      <td>RegistrationMonth</td>\n",
       "      <td>354369.000</td>\n",
       "      <td>5.715</td>\n",
       "      <td>3.726</td>\n",
       "      <td>0.000</td>\n",
       "      <td>3.000</td>\n",
       "      <td>6.000</td>\n",
       "      <td>9.000</td>\n",
       "      <td>12.000</td>\n",
       "    </tr>\n",
       "    <tr>\n",
       "      <td>NumberOfPictures</td>\n",
       "      <td>354369.000</td>\n",
       "      <td>0.000</td>\n",
       "      <td>0.000</td>\n",
       "      <td>0.000</td>\n",
       "      <td>0.000</td>\n",
       "      <td>0.000</td>\n",
       "      <td>0.000</td>\n",
       "      <td>0.000</td>\n",
       "    </tr>\n",
       "    <tr>\n",
       "      <td>PostalCode</td>\n",
       "      <td>354369.000</td>\n",
       "      <td>50508.689</td>\n",
       "      <td>25783.096</td>\n",
       "      <td>1067.000</td>\n",
       "      <td>30165.000</td>\n",
       "      <td>49413.000</td>\n",
       "      <td>71083.000</td>\n",
       "      <td>99998.000</td>\n",
       "    </tr>\n",
       "  </tbody>\n",
       "</table>\n",
       "</div>"
      ],
      "text/plain": [
       "                       count       mean       std      min        25%  \\\n",
       "Price             354369.000   4416.657  4514.159    0.000   1050.000   \n",
       "RegistrationYear  354369.000   2004.234    90.228 1000.000   1999.000   \n",
       "Power             354369.000    110.094   189.850    0.000     69.000   \n",
       "Kilometer         354369.000 128211.173 37905.342 5000.000 125000.000   \n",
       "RegistrationMonth 354369.000      5.715     3.726    0.000      3.000   \n",
       "NumberOfPictures  354369.000      0.000     0.000    0.000      0.000   \n",
       "PostalCode        354369.000  50508.689 25783.096 1067.000  30165.000   \n",
       "\n",
       "                         50%        75%        max  \n",
       "Price               2700.000   6400.000  20000.000  \n",
       "RegistrationYear    2003.000   2008.000   9999.000  \n",
       "Power                105.000    143.000  20000.000  \n",
       "Kilometer         150000.000 150000.000 150000.000  \n",
       "RegistrationMonth      6.000      9.000     12.000  \n",
       "NumberOfPictures       0.000      0.000      0.000  \n",
       "PostalCode         49413.000  71083.000  99998.000  "
      ]
     },
     "execution_count": 13,
     "metadata": {},
     "output_type": "execute_result"
    }
   ],
   "source": [
    "raw_autos.describe().T"
   ]
  },
  {
   "cell_type": "markdown",
   "metadata": {},
   "source": [
    "|Столбец            |Описание          |Комментарий\n",
    " |:---------------|:------------------------|:-------------|\n",
    " |DateCrawled     | дата скачивания анкеты из базы|      |\n",
    " |VehicleType     | тип автомобильного кузова   |     |\n",
    " |RegistrationYear       | год регистрации автомобиля|Заметим максимальное значение - 9999 год и минимальное значение 1000 год. Следовательно, есть аномальные значения. Сообщим разработчикам о пробелеме. |\n",
    " |Gearbox       | тип коробки передач|     |\n",
    " |Power       | мощность (л. с.)|Есть аномальные значения: минимальное значение - 0 л.c и максимальное значение 20000 л.с  |\n",
    " |Model      | модель автомобиля | |\n",
    " |Kilometer      | пробег (км)| В среднем пробег составляет 128 тыс. км. Обратим внимание на значение 50% и 75% персентиль и на максимальное значение - 150 тыс. км. Ошибка ли это в записи данных? Может в форме, где заполняли информацию, было зафиксировано максимальное значиние равно 150 тыс. км?  |\n",
    " |RegistrationMonth      | месяц регистрации автомобиля| Обратим внимание на минимальное и максимальное значения, 0 и 12 соответственно. Несоответствие количества месяцев.  |\n",
    " |FuelType       | тип топлива|  |\n",
    " |Brand       | марка автомобиля|    |\n",
    " |NotRepaired       | была машина в ремонте или нет|   |\n",
    " |DateCreated      | дата создания анкеты|    |\n",
    " |NumberOfPictures | количество фотографий автомобиля| Нету информации по фотографиям. Ошибка ли это в загрузке данных? Сообщим о проблеме.  |\n",
    " |PostalCode      | почтовый индекс владельца анкеты (пользователя)|  |\n",
    " |LastSeen    | дата последней активности пользователя|  |\n",
    " |Price       | цена (евро)    |Есть нулевые значения.| "
   ]
  },
  {
   "cell_type": "markdown",
   "metadata": {},
   "source": [
    "Создадим вспомогательные функции, например функции отрисовки графиков."
   ]
  },
  {
   "cell_type": "code",
   "execution_count": 14,
   "metadata": {},
   "outputs": [],
   "source": [
    "def drawDistributionPlot(df,column, title,x_label, y_label):\n",
    "    \"\"\"\n",
    "    Функция отрисовки графика распределений\n",
    "    df - данные (выборки) \n",
    "    title - заголовок\n",
    "    x_label - название оси x\n",
    "    y_label - название оси y\n",
    "    \"\"\"\n",
    "    # KDE plot\n",
    "    plt.figure(figsize=(14,5))\n",
    "    plot  = sns.distplot(df[column],bins=30, kde=True)\n",
    "    # Заголовок\n",
    "    plt.title(title)\n",
    "    plt.xlabel(x_label)\n",
    "    plt.ylabel(y_label)\n",
    "    plt.show()"
   ]
  },
  {
   "cell_type": "code",
   "execution_count": 15,
   "metadata": {},
   "outputs": [],
   "source": [
    "def drawBoxPlot(df,column,title, x_label, y_label,showOutliers=False):\n",
    "    \"\"\"\n",
    "    Функция отрисовки boxplot\n",
    "    df - данные (выборки)\n",
    "    title - заголовок\n",
    "    x_label - название оси x\n",
    "    y_label - название оси y\n",
    "    \"\"\"\n",
    "    ax = sns.boxplot(data=df, y = column,width=0.5,showfliers=showOutliers)\n",
    "    plt.title(title)\n",
    "    plt.xlabel(x_label)\n",
    "    plt.ylabel(y_label)\n",
    "    plt.show()"
   ]
  },
  {
   "cell_type": "markdown",
   "metadata": {},
   "source": [
    "### Цена"
   ]
  },
  {
   "cell_type": "code",
   "execution_count": 16,
   "metadata": {},
   "outputs": [
    {
     "data": {
      "image/png": "[encoded data removed]",
      "text/plain": [
       "<Figure size 1008x360 with 1 Axes>"
      ]
     },
     "metadata": {
      "image/png": {
       "height": 342,
       "width": 878
      },
      "needs_background": "light"
     },
     "output_type": "display_data"
    }
   ],
   "source": [
    "drawDistributionPlot(raw_autos, 'Price', \"Распределение цены автомобилей\", \"Цена\", \"Количесто автомобилей\")"
   ]
  },
  {
   "cell_type": "markdown",
   "metadata": {},
   "source": [
    "Наблюдаем, что с повышением цены, количество моделей уменьшается. Большинство значений в диапазоне от 0 до ~2500 евро. Узнаем характерный разброс."
   ]
  },
  {
   "cell_type": "code",
   "execution_count": 17,
   "metadata": {},
   "outputs": [
    {
     "data": {
      "image/png": "[encoded data removed]",
      "text/plain": [
       "<Figure size 1008x360 with 1 Axes>"
      ]
     },
     "metadata": {
      "image/png": {
       "height": 328,
       "width": 865
      },
      "needs_background": "light"
     },
     "output_type": "display_data"
    }
   ],
   "source": [
    "drawBoxPlot(raw_autos, 'Price', \"Распределение цены автомобилей\", \"Цена\", \"Количесто автомобилей\",True)"
   ]
  },
  {
   "cell_type": "markdown",
   "metadata": {},
   "source": [
    "Посмотрим какое количество автомобилей имеет цену больше 15 тыс. евро."
   ]
  },
  {
   "cell_type": "code",
   "execution_count": 18,
   "metadata": {},
   "outputs": [
    {
     "data": {
      "text/html": [
       "<div>\n",
       "<style scoped>\n",
       "    .dataframe tbody tr th:only-of-type {\n",
       "        vertical-align: middle;\n",
       "    }\n",
       "\n",
       "    .dataframe tbody tr th {\n",
       "        vertical-align: top;\n",
       "    }\n",
       "\n",
       "    .dataframe thead th {\n",
       "        text-align: right;\n",
       "    }\n",
       "</style>\n",
       "<table border=\"1\" class=\"dataframe\">\n",
       "  <thead>\n",
       "    <tr style=\"text-align: right;\">\n",
       "      <th></th>\n",
       "      <th>DateCrawled</th>\n",
       "      <th>Price</th>\n",
       "      <th>VehicleType</th>\n",
       "      <th>RegistrationYear</th>\n",
       "      <th>Gearbox</th>\n",
       "      <th>Power</th>\n",
       "      <th>Model</th>\n",
       "      <th>Kilometer</th>\n",
       "      <th>RegistrationMonth</th>\n",
       "      <th>FuelType</th>\n",
       "      <th>Brand</th>\n",
       "      <th>NotRepaired</th>\n",
       "      <th>DateCreated</th>\n",
       "      <th>NumberOfPictures</th>\n",
       "      <th>PostalCode</th>\n",
       "      <th>LastSeen</th>\n",
       "    </tr>\n",
       "  </thead>\n",
       "  <tbody>\n",
       "    <tr>\n",
       "      <td>1</td>\n",
       "      <td>2016-03-24 10:58:45</td>\n",
       "      <td>18300</td>\n",
       "      <td>coupe</td>\n",
       "      <td>2011</td>\n",
       "      <td>manual</td>\n",
       "      <td>190</td>\n",
       "      <td>NaN</td>\n",
       "      <td>125000</td>\n",
       "      <td>5</td>\n",
       "      <td>gasoline</td>\n",
       "      <td>audi</td>\n",
       "      <td>yes</td>\n",
       "      <td>2016-03-24 00:00:00</td>\n",
       "      <td>0</td>\n",
       "      <td>66954</td>\n",
       "      <td>2016-04-07 01:46:50</td>\n",
       "    </tr>\n",
       "    <tr>\n",
       "      <td>14</td>\n",
       "      <td>2016-03-21 12:57:01</td>\n",
       "      <td>17999</td>\n",
       "      <td>suv</td>\n",
       "      <td>2011</td>\n",
       "      <td>manual</td>\n",
       "      <td>190</td>\n",
       "      <td>navara</td>\n",
       "      <td>70000</td>\n",
       "      <td>3</td>\n",
       "      <td>gasoline</td>\n",
       "      <td>nissan</td>\n",
       "      <td>no</td>\n",
       "      <td>2016-03-21 00:00:00</td>\n",
       "      <td>0</td>\n",
       "      <td>4177</td>\n",
       "      <td>2016-04-06 07:45:42</td>\n",
       "    </tr>\n",
       "    <tr>\n",
       "      <td>33</td>\n",
       "      <td>2016-03-25 21:48:47</td>\n",
       "      <td>18000</td>\n",
       "      <td>sedan</td>\n",
       "      <td>2007</td>\n",
       "      <td>auto</td>\n",
       "      <td>218</td>\n",
       "      <td>3er</td>\n",
       "      <td>20000</td>\n",
       "      <td>5</td>\n",
       "      <td>petrol</td>\n",
       "      <td>bmw</td>\n",
       "      <td>no</td>\n",
       "      <td>2016-03-25 00:00:00</td>\n",
       "      <td>0</td>\n",
       "      <td>39179</td>\n",
       "      <td>2016-04-07 04:45:21</td>\n",
       "    </tr>\n",
       "    <tr>\n",
       "      <td>172</td>\n",
       "      <td>2016-03-07 12:38:19</td>\n",
       "      <td>19750</td>\n",
       "      <td>convertible</td>\n",
       "      <td>2006</td>\n",
       "      <td>manual</td>\n",
       "      <td>305</td>\n",
       "      <td>mustang</td>\n",
       "      <td>50000</td>\n",
       "      <td>7</td>\n",
       "      <td>petrol</td>\n",
       "      <td>ford</td>\n",
       "      <td>no</td>\n",
       "      <td>2016-03-07 00:00:00</td>\n",
       "      <td>0</td>\n",
       "      <td>38350</td>\n",
       "      <td>2016-03-12 20:18:29</td>\n",
       "    </tr>\n",
       "    <tr>\n",
       "      <td>179</td>\n",
       "      <td>2016-03-08 20:58:31</td>\n",
       "      <td>16449</td>\n",
       "      <td>wagon</td>\n",
       "      <td>2015</td>\n",
       "      <td>auto</td>\n",
       "      <td>110</td>\n",
       "      <td>fabia</td>\n",
       "      <td>10000</td>\n",
       "      <td>8</td>\n",
       "      <td>petrol</td>\n",
       "      <td>skoda</td>\n",
       "      <td>no</td>\n",
       "      <td>2016-03-08 00:00:00</td>\n",
       "      <td>0</td>\n",
       "      <td>95502</td>\n",
       "      <td>2016-04-06 01:17:03</td>\n",
       "    </tr>\n",
       "  </tbody>\n",
       "</table>\n",
       "</div>"
      ],
      "text/plain": [
       "             DateCrawled  Price  VehicleType  RegistrationYear Gearbox  Power  \\\n",
       "1    2016-03-24 10:58:45  18300        coupe              2011  manual    190   \n",
       "14   2016-03-21 12:57:01  17999          suv              2011  manual    190   \n",
       "33   2016-03-25 21:48:47  18000        sedan              2007    auto    218   \n",
       "172  2016-03-07 12:38:19  19750  convertible              2006  manual    305   \n",
       "179  2016-03-08 20:58:31  16449        wagon              2015    auto    110   \n",
       "\n",
       "       Model  Kilometer  RegistrationMonth  FuelType   Brand NotRepaired  \\\n",
       "1        NaN     125000                  5  gasoline    audi         yes   \n",
       "14    navara      70000                  3  gasoline  nissan          no   \n",
       "33       3er      20000                  5    petrol     bmw          no   \n",
       "172  mustang      50000                  7    petrol    ford          no   \n",
       "179    fabia      10000                  8    petrol   skoda          no   \n",
       "\n",
       "             DateCreated  NumberOfPictures  PostalCode             LastSeen  \n",
       "1    2016-03-24 00:00:00                 0       66954  2016-04-07 01:46:50  \n",
       "14   2016-03-21 00:00:00                 0        4177  2016-04-06 07:45:42  \n",
       "33   2016-03-25 00:00:00                 0       39179  2016-04-07 04:45:21  \n",
       "172  2016-03-07 00:00:00                 0       38350  2016-03-12 20:18:29  \n",
       "179  2016-03-08 00:00:00                 0       95502  2016-04-06 01:17:03  "
      ]
     },
     "execution_count": 18,
     "metadata": {},
     "output_type": "execute_result"
    }
   ],
   "source": [
    "raw_autos_price_greater_15 = raw_autos.query('Price > 15000')\n",
    "raw_autos_price_greater_15.head()"
   ]
  },
  {
   "cell_type": "markdown",
   "metadata": {},
   "source": [
    "Посмотрим какое количество значений."
   ]
  },
  {
   "cell_type": "code",
   "execution_count": 19,
   "metadata": {},
   "outputs": [
    {
     "name": "stdout",
     "output_type": "stream",
     "text": [
      "Количество автомобилей с ценой больше 15 тыс. евро: 14881\n",
      "Доля автомобилей с ценой больше 15 тыс. евро от общего количества: 4.2%\n"
     ]
    }
   ],
   "source": [
    "print(f'Количество автомобилей с ценой больше 15 тыс. евро: {len(raw_autos_price_greater_15)}')\n",
    "print(f'Доля автомобилей с ценой больше 15 тыс. евро от общего количества: {round(len(raw_autos_price_greater_15) / len(raw_autos) * 100, 2)}%')"
   ]
  },
  {
   "cell_type": "markdown",
   "metadata": {},
   "source": [
    "В размах *усов* попадают нормальные значения, за пределами находятся выборсы. После 15 тыс. евро, идут выбросы. 4.2% выбросов, не так много. Мы их оставим чтобы модель Машинного Обучения определяла эти случаи."
   ]
  },
  {
   "cell_type": "markdown",
   "metadata": {},
   "source": [
    "Посмотрим какие автомобили имеют цену 0 рублей."
   ]
  },
  {
   "cell_type": "code",
   "execution_count": 20,
   "metadata": {},
   "outputs": [
    {
     "data": {
      "text/html": [
       "<div>\n",
       "<style scoped>\n",
       "    .dataframe tbody tr th:only-of-type {\n",
       "        vertical-align: middle;\n",
       "    }\n",
       "\n",
       "    .dataframe tbody tr th {\n",
       "        vertical-align: top;\n",
       "    }\n",
       "\n",
       "    .dataframe thead th {\n",
       "        text-align: right;\n",
       "    }\n",
       "</style>\n",
       "<table border=\"1\" class=\"dataframe\">\n",
       "  <thead>\n",
       "    <tr style=\"text-align: right;\">\n",
       "      <th></th>\n",
       "      <th>DateCrawled</th>\n",
       "      <th>Price</th>\n",
       "      <th>VehicleType</th>\n",
       "      <th>RegistrationYear</th>\n",
       "      <th>Gearbox</th>\n",
       "      <th>Power</th>\n",
       "      <th>Model</th>\n",
       "      <th>Kilometer</th>\n",
       "      <th>RegistrationMonth</th>\n",
       "      <th>FuelType</th>\n",
       "      <th>Brand</th>\n",
       "      <th>NotRepaired</th>\n",
       "      <th>DateCreated</th>\n",
       "      <th>NumberOfPictures</th>\n",
       "      <th>PostalCode</th>\n",
       "      <th>LastSeen</th>\n",
       "    </tr>\n",
       "  </thead>\n",
       "  <tbody>\n",
       "    <tr>\n",
       "      <td>7</td>\n",
       "      <td>2016-03-21 18:54:38</td>\n",
       "      <td>0</td>\n",
       "      <td>sedan</td>\n",
       "      <td>1980</td>\n",
       "      <td>manual</td>\n",
       "      <td>50</td>\n",
       "      <td>other</td>\n",
       "      <td>40000</td>\n",
       "      <td>7</td>\n",
       "      <td>petrol</td>\n",
       "      <td>volkswagen</td>\n",
       "      <td>no</td>\n",
       "      <td>2016-03-21 00:00:00</td>\n",
       "      <td>0</td>\n",
       "      <td>19348</td>\n",
       "      <td>2016-03-25 16:47:58</td>\n",
       "    </tr>\n",
       "    <tr>\n",
       "      <td>40</td>\n",
       "      <td>2016-03-26 22:06:17</td>\n",
       "      <td>0</td>\n",
       "      <td>NaN</td>\n",
       "      <td>1990</td>\n",
       "      <td>NaN</td>\n",
       "      <td>0</td>\n",
       "      <td>corsa</td>\n",
       "      <td>150000</td>\n",
       "      <td>1</td>\n",
       "      <td>petrol</td>\n",
       "      <td>opel</td>\n",
       "      <td>NaN</td>\n",
       "      <td>2016-03-26 00:00:00</td>\n",
       "      <td>0</td>\n",
       "      <td>56412</td>\n",
       "      <td>2016-03-27 17:43:34</td>\n",
       "    </tr>\n",
       "    <tr>\n",
       "      <td>111</td>\n",
       "      <td>2016-03-19 18:40:12</td>\n",
       "      <td>0</td>\n",
       "      <td>NaN</td>\n",
       "      <td>2017</td>\n",
       "      <td>manual</td>\n",
       "      <td>0</td>\n",
       "      <td>golf</td>\n",
       "      <td>5000</td>\n",
       "      <td>12</td>\n",
       "      <td>petrol</td>\n",
       "      <td>volkswagen</td>\n",
       "      <td>NaN</td>\n",
       "      <td>2016-03-19 00:00:00</td>\n",
       "      <td>0</td>\n",
       "      <td>21698</td>\n",
       "      <td>2016-04-01 08:47:05</td>\n",
       "    </tr>\n",
       "    <tr>\n",
       "      <td>115</td>\n",
       "      <td>2016-03-20 18:53:27</td>\n",
       "      <td>0</td>\n",
       "      <td>small</td>\n",
       "      <td>1999</td>\n",
       "      <td>NaN</td>\n",
       "      <td>0</td>\n",
       "      <td>NaN</td>\n",
       "      <td>5000</td>\n",
       "      <td>0</td>\n",
       "      <td>petrol</td>\n",
       "      <td>volkswagen</td>\n",
       "      <td>NaN</td>\n",
       "      <td>2016-03-20 00:00:00</td>\n",
       "      <td>0</td>\n",
       "      <td>37520</td>\n",
       "      <td>2016-04-07 02:45:22</td>\n",
       "    </tr>\n",
       "    <tr>\n",
       "      <td>152</td>\n",
       "      <td>2016-03-11 18:55:53</td>\n",
       "      <td>0</td>\n",
       "      <td>bus</td>\n",
       "      <td>2004</td>\n",
       "      <td>manual</td>\n",
       "      <td>101</td>\n",
       "      <td>meriva</td>\n",
       "      <td>150000</td>\n",
       "      <td>10</td>\n",
       "      <td>lpg</td>\n",
       "      <td>opel</td>\n",
       "      <td>yes</td>\n",
       "      <td>2016-03-11 00:00:00</td>\n",
       "      <td>0</td>\n",
       "      <td>27432</td>\n",
       "      <td>2016-03-12 23:47:10</td>\n",
       "    </tr>\n",
       "  </tbody>\n",
       "</table>\n",
       "</div>"
      ],
      "text/plain": [
       "             DateCrawled  Price VehicleType  RegistrationYear Gearbox  Power  \\\n",
       "7    2016-03-21 18:54:38      0       sedan              1980  manual     50   \n",
       "40   2016-03-26 22:06:17      0         NaN              1990     NaN      0   \n",
       "111  2016-03-19 18:40:12      0         NaN              2017  manual      0   \n",
       "115  2016-03-20 18:53:27      0       small              1999     NaN      0   \n",
       "152  2016-03-11 18:55:53      0         bus              2004  manual    101   \n",
       "\n",
       "      Model  Kilometer  RegistrationMonth FuelType       Brand NotRepaired  \\\n",
       "7     other      40000                  7   petrol  volkswagen          no   \n",
       "40    corsa     150000                  1   petrol        opel         NaN   \n",
       "111    golf       5000                 12   petrol  volkswagen         NaN   \n",
       "115     NaN       5000                  0   petrol  volkswagen         NaN   \n",
       "152  meriva     150000                 10      lpg        opel         yes   \n",
       "\n",
       "             DateCreated  NumberOfPictures  PostalCode             LastSeen  \n",
       "7    2016-03-21 00:00:00                 0       19348  2016-03-25 16:47:58  \n",
       "40   2016-03-26 00:00:00                 0       56412  2016-03-27 17:43:34  \n",
       "111  2016-03-19 00:00:00                 0       21698  2016-04-01 08:47:05  \n",
       "115  2016-03-20 00:00:00                 0       37520  2016-04-07 02:45:22  \n",
       "152  2016-03-11 00:00:00                 0       27432  2016-03-12 23:47:10  "
      ]
     },
     "execution_count": 20,
     "metadata": {},
     "output_type": "execute_result"
    }
   ],
   "source": [
    "raw_autos_price_zero = raw_autos.query('Price == 0')\n",
    "raw_autos_price_zero.head()"
   ]
  },
  {
   "cell_type": "markdown",
   "metadata": {},
   "source": [
    " Посмотрим какое количество значений."
   ]
  },
  {
   "cell_type": "code",
   "execution_count": 21,
   "metadata": {},
   "outputs": [
    {
     "name": "stdout",
     "output_type": "stream",
     "text": [
      "Количество автомобилей с ценой 0 евро: 10772\n",
      "Доля автомобилей с ценой 0 евро от общего количества: 3.04%\n"
     ]
    }
   ],
   "source": [
    "print(f'Количество автомобилей с ценой 0 евро: {len(raw_autos_price_zero)}')\n",
    "print(f'Доля автомобилей с ценой 0 евро от общего количества: {round(len(raw_autos_price_zero) / len(raw_autos) * 100, 2)}%')"
   ]
  },
  {
   "cell_type": "markdown",
   "metadata": {},
   "source": [
    "3.04% доля автомобилей с ценой 0 евро. Предполагаю, что либо это ошибка в системе, которую надо сообщить разработчикам или менеджеру. Думаю, мы уберём обьекты с ценой 0 евро на этапе предобработки данных."
   ]
  },
  {
   "cell_type": "markdown",
   "metadata": {},
   "source": [
    "### Пробег"
   ]
  },
  {
   "cell_type": "code",
   "execution_count": 22,
   "metadata": {},
   "outputs": [
    {
     "data": {
      "image/png": "[encoded data removed]",
      "text/plain": [
       "<Figure size 1008x360 with 1 Axes>"
      ]
     },
     "metadata": {
      "image/png": {
       "height": 342,
       "width": 878
      },
      "needs_background": "light"
     },
     "output_type": "display_data"
    }
   ],
   "source": [
    "drawDistributionPlot(raw_autos, \"Kilometer\", \"Распределение пробега автомобилей\", \"Пробег км.\", \"Количество автомобилей\")"
   ]
  },
  {
   "cell_type": "markdown",
   "metadata": {},
   "source": [
    "Заметим что, большинство автомоблией имеют пробег 140-150 тыс. км. Ошибка ли это в системе? Возможно, максимальное значение которое можно постать было 150 тыс. км не больше. Необходимо сообщить руководству об ошибке."
   ]
  },
  {
   "cell_type": "markdown",
   "metadata": {},
   "source": [
    "### Мощность"
   ]
  },
  {
   "cell_type": "markdown",
   "metadata": {},
   "source": [
    "Посмотрим на автомобили с мощностью 0 л.с"
   ]
  },
  {
   "cell_type": "code",
   "execution_count": 23,
   "metadata": {},
   "outputs": [],
   "source": [
    "raw_autos_power_zero = raw_autos.query('Power == 0')"
   ]
  },
  {
   "cell_type": "code",
   "execution_count": 24,
   "metadata": {},
   "outputs": [
    {
     "data": {
      "text/html": [
       "<div>\n",
       "<style scoped>\n",
       "    .dataframe tbody tr th:only-of-type {\n",
       "        vertical-align: middle;\n",
       "    }\n",
       "\n",
       "    .dataframe tbody tr th {\n",
       "        vertical-align: top;\n",
       "    }\n",
       "\n",
       "    .dataframe thead th {\n",
       "        text-align: right;\n",
       "    }\n",
       "</style>\n",
       "<table border=\"1\" class=\"dataframe\">\n",
       "  <thead>\n",
       "    <tr style=\"text-align: right;\">\n",
       "      <th></th>\n",
       "      <th>DateCrawled</th>\n",
       "      <th>Price</th>\n",
       "      <th>VehicleType</th>\n",
       "      <th>RegistrationYear</th>\n",
       "      <th>Gearbox</th>\n",
       "      <th>Power</th>\n",
       "      <th>Model</th>\n",
       "      <th>Kilometer</th>\n",
       "      <th>RegistrationMonth</th>\n",
       "      <th>FuelType</th>\n",
       "      <th>Brand</th>\n",
       "      <th>NotRepaired</th>\n",
       "      <th>DateCreated</th>\n",
       "      <th>NumberOfPictures</th>\n",
       "      <th>PostalCode</th>\n",
       "      <th>LastSeen</th>\n",
       "    </tr>\n",
       "  </thead>\n",
       "  <tbody>\n",
       "    <tr>\n",
       "      <td>0</td>\n",
       "      <td>2016-03-24 11:52:17</td>\n",
       "      <td>480</td>\n",
       "      <td>NaN</td>\n",
       "      <td>1993</td>\n",
       "      <td>manual</td>\n",
       "      <td>0</td>\n",
       "      <td>golf</td>\n",
       "      <td>150000</td>\n",
       "      <td>0</td>\n",
       "      <td>petrol</td>\n",
       "      <td>volkswagen</td>\n",
       "      <td>NaN</td>\n",
       "      <td>2016-03-24 00:00:00</td>\n",
       "      <td>0</td>\n",
       "      <td>70435</td>\n",
       "      <td>2016-04-07 03:16:57</td>\n",
       "    </tr>\n",
       "    <tr>\n",
       "      <td>15</td>\n",
       "      <td>2016-03-11 21:39:15</td>\n",
       "      <td>450</td>\n",
       "      <td>small</td>\n",
       "      <td>1910</td>\n",
       "      <td>NaN</td>\n",
       "      <td>0</td>\n",
       "      <td>ka</td>\n",
       "      <td>5000</td>\n",
       "      <td>0</td>\n",
       "      <td>petrol</td>\n",
       "      <td>ford</td>\n",
       "      <td>NaN</td>\n",
       "      <td>2016-03-11 00:00:00</td>\n",
       "      <td>0</td>\n",
       "      <td>24148</td>\n",
       "      <td>2016-03-19 08:46:47</td>\n",
       "    </tr>\n",
       "    <tr>\n",
       "      <td>32</td>\n",
       "      <td>2016-03-15 20:59:01</td>\n",
       "      <td>245</td>\n",
       "      <td>sedan</td>\n",
       "      <td>1994</td>\n",
       "      <td>NaN</td>\n",
       "      <td>0</td>\n",
       "      <td>golf</td>\n",
       "      <td>150000</td>\n",
       "      <td>2</td>\n",
       "      <td>petrol</td>\n",
       "      <td>volkswagen</td>\n",
       "      <td>no</td>\n",
       "      <td>2016-03-15 00:00:00</td>\n",
       "      <td>0</td>\n",
       "      <td>44145</td>\n",
       "      <td>2016-03-17 18:17:43</td>\n",
       "    </tr>\n",
       "    <tr>\n",
       "      <td>37</td>\n",
       "      <td>2016-03-28 17:50:15</td>\n",
       "      <td>1500</td>\n",
       "      <td>NaN</td>\n",
       "      <td>2016</td>\n",
       "      <td>NaN</td>\n",
       "      <td>0</td>\n",
       "      <td>kangoo</td>\n",
       "      <td>150000</td>\n",
       "      <td>1</td>\n",
       "      <td>gasoline</td>\n",
       "      <td>renault</td>\n",
       "      <td>no</td>\n",
       "      <td>2016-03-28 00:00:00</td>\n",
       "      <td>0</td>\n",
       "      <td>46483</td>\n",
       "      <td>2016-03-30 09:18:02</td>\n",
       "    </tr>\n",
       "    <tr>\n",
       "      <td>40</td>\n",
       "      <td>2016-03-26 22:06:17</td>\n",
       "      <td>0</td>\n",
       "      <td>NaN</td>\n",
       "      <td>1990</td>\n",
       "      <td>NaN</td>\n",
       "      <td>0</td>\n",
       "      <td>corsa</td>\n",
       "      <td>150000</td>\n",
       "      <td>1</td>\n",
       "      <td>petrol</td>\n",
       "      <td>opel</td>\n",
       "      <td>NaN</td>\n",
       "      <td>2016-03-26 00:00:00</td>\n",
       "      <td>0</td>\n",
       "      <td>56412</td>\n",
       "      <td>2016-03-27 17:43:34</td>\n",
       "    </tr>\n",
       "  </tbody>\n",
       "</table>\n",
       "</div>"
      ],
      "text/plain": [
       "            DateCrawled  Price VehicleType  RegistrationYear Gearbox  Power  \\\n",
       "0   2016-03-24 11:52:17    480         NaN              1993  manual      0   \n",
       "15  2016-03-11 21:39:15    450       small              1910     NaN      0   \n",
       "32  2016-03-15 20:59:01    245       sedan              1994     NaN      0   \n",
       "37  2016-03-28 17:50:15   1500         NaN              2016     NaN      0   \n",
       "40  2016-03-26 22:06:17      0         NaN              1990     NaN      0   \n",
       "\n",
       "     Model  Kilometer  RegistrationMonth  FuelType       Brand NotRepaired  \\\n",
       "0     golf     150000                  0    petrol  volkswagen         NaN   \n",
       "15      ka       5000                  0    petrol        ford         NaN   \n",
       "32    golf     150000                  2    petrol  volkswagen          no   \n",
       "37  kangoo     150000                  1  gasoline     renault          no   \n",
       "40   corsa     150000                  1    petrol        opel         NaN   \n",
       "\n",
       "            DateCreated  NumberOfPictures  PostalCode             LastSeen  \n",
       "0   2016-03-24 00:00:00                 0       70435  2016-04-07 03:16:57  \n",
       "15  2016-03-11 00:00:00                 0       24148  2016-03-19 08:46:47  \n",
       "32  2016-03-15 00:00:00                 0       44145  2016-03-17 18:17:43  \n",
       "37  2016-03-28 00:00:00                 0       46483  2016-03-30 09:18:02  \n",
       "40  2016-03-26 00:00:00                 0       56412  2016-03-27 17:43:34  "
      ]
     },
     "execution_count": 24,
     "metadata": {},
     "output_type": "execute_result"
    }
   ],
   "source": [
    "raw_autos_power_zero.head()"
   ]
  },
  {
   "cell_type": "markdown",
   "metadata": {},
   "source": [
    "Посмотрим какое количество значений."
   ]
  },
  {
   "cell_type": "code",
   "execution_count": 25,
   "metadata": {},
   "outputs": [
    {
     "name": "stdout",
     "output_type": "stream",
     "text": [
      "Количество автомобилей с мощностью 0 л.с: 40225\n",
      "Доля автомобилей с мощностью 0 л.с от общего количества: 11.35%\n"
     ]
    }
   ],
   "source": [
    "print(f'Количество автомобилей с мощностью 0 л.с: {len(raw_autos_power_zero)}')\n",
    "print(f'Доля автомобилей с мощностью 0 л.с от общего количества: {round(len(raw_autos_power_zero) / len(raw_autos) * 100, 2)}%')"
   ]
  },
  {
   "cell_type": "markdown",
   "metadata": {},
   "source": [
    "Доля составляет 11.35%. Скорее всего тут ошибка системы. Необходимо сообщить об этой ошибке руководству. Необходимо предобработать такие данные. Посмотрим на автомобиль с максимальным значением в мощности."
   ]
  },
  {
   "cell_type": "code",
   "execution_count": 26,
   "metadata": {},
   "outputs": [],
   "source": [
    "raw_autos_power_2000 = raw_autos.query('Power == 20000')"
   ]
  },
  {
   "cell_type": "code",
   "execution_count": 27,
   "metadata": {},
   "outputs": [
    {
     "data": {
      "text/html": [
       "<div>\n",
       "<style scoped>\n",
       "    .dataframe tbody tr th:only-of-type {\n",
       "        vertical-align: middle;\n",
       "    }\n",
       "\n",
       "    .dataframe tbody tr th {\n",
       "        vertical-align: top;\n",
       "    }\n",
       "\n",
       "    .dataframe thead th {\n",
       "        text-align: right;\n",
       "    }\n",
       "</style>\n",
       "<table border=\"1\" class=\"dataframe\">\n",
       "  <thead>\n",
       "    <tr style=\"text-align: right;\">\n",
       "      <th></th>\n",
       "      <th>DateCrawled</th>\n",
       "      <th>Price</th>\n",
       "      <th>VehicleType</th>\n",
       "      <th>RegistrationYear</th>\n",
       "      <th>Gearbox</th>\n",
       "      <th>Power</th>\n",
       "      <th>Model</th>\n",
       "      <th>Kilometer</th>\n",
       "      <th>RegistrationMonth</th>\n",
       "      <th>FuelType</th>\n",
       "      <th>Brand</th>\n",
       "      <th>NotRepaired</th>\n",
       "      <th>DateCreated</th>\n",
       "      <th>NumberOfPictures</th>\n",
       "      <th>PostalCode</th>\n",
       "      <th>LastSeen</th>\n",
       "    </tr>\n",
       "  </thead>\n",
       "  <tbody>\n",
       "    <tr>\n",
       "      <td>219584</td>\n",
       "      <td>2016-03-09 15:43:53</td>\n",
       "      <td>4300</td>\n",
       "      <td>coupe</td>\n",
       "      <td>1999</td>\n",
       "      <td>auto</td>\n",
       "      <td>20000</td>\n",
       "      <td>clk</td>\n",
       "      <td>150000</td>\n",
       "      <td>1</td>\n",
       "      <td>petrol</td>\n",
       "      <td>mercedes_benz</td>\n",
       "      <td>no</td>\n",
       "      <td>2016-03-09 00:00:00</td>\n",
       "      <td>0</td>\n",
       "      <td>19406</td>\n",
       "      <td>2016-03-30 08:47:08</td>\n",
       "    </tr>\n",
       "  </tbody>\n",
       "</table>\n",
       "</div>"
      ],
      "text/plain": [
       "                DateCrawled  Price VehicleType  RegistrationYear Gearbox  \\\n",
       "219584  2016-03-09 15:43:53   4300       coupe              1999    auto   \n",
       "\n",
       "        Power Model  Kilometer  RegistrationMonth FuelType          Brand  \\\n",
       "219584  20000   clk     150000                  1   petrol  mercedes_benz   \n",
       "\n",
       "       NotRepaired          DateCreated  NumberOfPictures  PostalCode  \\\n",
       "219584          no  2016-03-09 00:00:00                 0       19406   \n",
       "\n",
       "                   LastSeen  \n",
       "219584  2016-03-30 08:47:08  "
      ]
     },
     "execution_count": 27,
     "metadata": {},
     "output_type": "execute_result"
    }
   ],
   "source": [
    "raw_autos_power_2000"
   ]
  },
  {
   "cell_type": "markdown",
   "metadata": {},
   "source": [
    "Скорее всего пользователь тут опечатлся в поле мощности автомобиля при регистрации."
   ]
  },
  {
   "cell_type": "markdown",
   "metadata": {},
   "source": [
    "### Регистрация автомобиля"
   ]
  },
  {
   "cell_type": "code",
   "execution_count": 28,
   "metadata": {},
   "outputs": [
    {
     "data": {
      "text/html": [
       "<div>\n",
       "<style scoped>\n",
       "    .dataframe tbody tr th:only-of-type {\n",
       "        vertical-align: middle;\n",
       "    }\n",
       "\n",
       "    .dataframe tbody tr th {\n",
       "        vertical-align: top;\n",
       "    }\n",
       "\n",
       "    .dataframe thead th {\n",
       "        text-align: right;\n",
       "    }\n",
       "</style>\n",
       "<table border=\"1\" class=\"dataframe\">\n",
       "  <thead>\n",
       "    <tr style=\"text-align: right;\">\n",
       "      <th></th>\n",
       "      <th>DateCrawled</th>\n",
       "      <th>Price</th>\n",
       "      <th>VehicleType</th>\n",
       "      <th>RegistrationYear</th>\n",
       "      <th>Gearbox</th>\n",
       "      <th>Power</th>\n",
       "      <th>Model</th>\n",
       "      <th>Kilometer</th>\n",
       "      <th>RegistrationMonth</th>\n",
       "      <th>FuelType</th>\n",
       "      <th>Brand</th>\n",
       "      <th>NotRepaired</th>\n",
       "      <th>DateCreated</th>\n",
       "      <th>NumberOfPictures</th>\n",
       "      <th>PostalCode</th>\n",
       "      <th>LastSeen</th>\n",
       "    </tr>\n",
       "  </thead>\n",
       "  <tbody>\n",
       "    <tr>\n",
       "      <td>16062</td>\n",
       "      <td>2016-03-29 23:42:16</td>\n",
       "      <td>190</td>\n",
       "      <td>NaN</td>\n",
       "      <td>1000</td>\n",
       "      <td>NaN</td>\n",
       "      <td>0</td>\n",
       "      <td>mondeo</td>\n",
       "      <td>5000</td>\n",
       "      <td>0</td>\n",
       "      <td>NaN</td>\n",
       "      <td>ford</td>\n",
       "      <td>NaN</td>\n",
       "      <td>2016-03-29 00:00:00</td>\n",
       "      <td>0</td>\n",
       "      <td>47166</td>\n",
       "      <td>2016-04-06 10:44:58</td>\n",
       "    </tr>\n",
       "    <tr>\n",
       "      <td>53577</td>\n",
       "      <td>2016-03-20 11:44:28</td>\n",
       "      <td>330</td>\n",
       "      <td>NaN</td>\n",
       "      <td>1000</td>\n",
       "      <td>NaN</td>\n",
       "      <td>0</td>\n",
       "      <td>polo</td>\n",
       "      <td>5000</td>\n",
       "      <td>0</td>\n",
       "      <td>NaN</td>\n",
       "      <td>volkswagen</td>\n",
       "      <td>NaN</td>\n",
       "      <td>2016-03-20 00:00:00</td>\n",
       "      <td>0</td>\n",
       "      <td>45259</td>\n",
       "      <td>2016-04-04 08:17:15</td>\n",
       "    </tr>\n",
       "    <tr>\n",
       "      <td>55605</td>\n",
       "      <td>2016-03-10 19:50:17</td>\n",
       "      <td>500</td>\n",
       "      <td>NaN</td>\n",
       "      <td>1000</td>\n",
       "      <td>NaN</td>\n",
       "      <td>0</td>\n",
       "      <td>NaN</td>\n",
       "      <td>5000</td>\n",
       "      <td>0</td>\n",
       "      <td>NaN</td>\n",
       "      <td>citroen</td>\n",
       "      <td>yes</td>\n",
       "      <td>2016-03-10 00:00:00</td>\n",
       "      <td>0</td>\n",
       "      <td>24811</td>\n",
       "      <td>2016-04-06 03:45:53</td>\n",
       "    </tr>\n",
       "    <tr>\n",
       "      <td>60017</td>\n",
       "      <td>2016-03-10 12:38:01</td>\n",
       "      <td>80</td>\n",
       "      <td>NaN</td>\n",
       "      <td>1000</td>\n",
       "      <td>NaN</td>\n",
       "      <td>0</td>\n",
       "      <td>NaN</td>\n",
       "      <td>5000</td>\n",
       "      <td>0</td>\n",
       "      <td>NaN</td>\n",
       "      <td>volkswagen</td>\n",
       "      <td>NaN</td>\n",
       "      <td>2016-03-10 00:00:00</td>\n",
       "      <td>0</td>\n",
       "      <td>93107</td>\n",
       "      <td>2016-04-07 04:45:57</td>\n",
       "    </tr>\n",
       "    <tr>\n",
       "      <td>66198</td>\n",
       "      <td>2016-03-08 14:50:20</td>\n",
       "      <td>1300</td>\n",
       "      <td>NaN</td>\n",
       "      <td>1000</td>\n",
       "      <td>auto</td>\n",
       "      <td>0</td>\n",
       "      <td>NaN</td>\n",
       "      <td>5000</td>\n",
       "      <td>6</td>\n",
       "      <td>petrol</td>\n",
       "      <td>sonstige_autos</td>\n",
       "      <td>NaN</td>\n",
       "      <td>2016-03-08 00:00:00</td>\n",
       "      <td>0</td>\n",
       "      <td>13156</td>\n",
       "      <td>2016-03-17 08:17:42</td>\n",
       "    </tr>\n",
       "  </tbody>\n",
       "</table>\n",
       "</div>"
      ],
      "text/plain": [
       "               DateCrawled  Price VehicleType  RegistrationYear Gearbox  \\\n",
       "16062  2016-03-29 23:42:16    190         NaN              1000     NaN   \n",
       "53577  2016-03-20 11:44:28    330         NaN              1000     NaN   \n",
       "55605  2016-03-10 19:50:17    500         NaN              1000     NaN   \n",
       "60017  2016-03-10 12:38:01     80         NaN              1000     NaN   \n",
       "66198  2016-03-08 14:50:20   1300         NaN              1000    auto   \n",
       "\n",
       "       Power   Model  Kilometer  RegistrationMonth FuelType           Brand  \\\n",
       "16062      0  mondeo       5000                  0      NaN            ford   \n",
       "53577      0    polo       5000                  0      NaN      volkswagen   \n",
       "55605      0     NaN       5000                  0      NaN         citroen   \n",
       "60017      0     NaN       5000                  0      NaN      volkswagen   \n",
       "66198      0     NaN       5000                  6   petrol  sonstige_autos   \n",
       "\n",
       "      NotRepaired          DateCreated  NumberOfPictures  PostalCode  \\\n",
       "16062         NaN  2016-03-29 00:00:00                 0       47166   \n",
       "53577         NaN  2016-03-20 00:00:00                 0       45259   \n",
       "55605         yes  2016-03-10 00:00:00                 0       24811   \n",
       "60017         NaN  2016-03-10 00:00:00                 0       93107   \n",
       "66198         NaN  2016-03-08 00:00:00                 0       13156   \n",
       "\n",
       "                  LastSeen  \n",
       "16062  2016-04-06 10:44:58  \n",
       "53577  2016-04-04 08:17:15  \n",
       "55605  2016-04-06 03:45:53  \n",
       "60017  2016-04-07 04:45:57  \n",
       "66198  2016-03-17 08:17:42  "
      ]
     },
     "execution_count": 28,
     "metadata": {},
     "output_type": "execute_result"
    }
   ],
   "source": [
    "raw_autos.query('RegistrationYear == 1000').head()"
   ]
  },
  {
   "cell_type": "markdown",
   "metadata": {},
   "source": [
    "Ну тут уже точно плохие данные. Уберём их на этапе предобработки."
   ]
  },
  {
   "cell_type": "code",
   "execution_count": 29,
   "metadata": {},
   "outputs": [
    {
     "data": {
      "text/html": [
       "<div>\n",
       "<style scoped>\n",
       "    .dataframe tbody tr th:only-of-type {\n",
       "        vertical-align: middle;\n",
       "    }\n",
       "\n",
       "    .dataframe tbody tr th {\n",
       "        vertical-align: top;\n",
       "    }\n",
       "\n",
       "    .dataframe thead th {\n",
       "        text-align: right;\n",
       "    }\n",
       "</style>\n",
       "<table border=\"1\" class=\"dataframe\">\n",
       "  <thead>\n",
       "    <tr style=\"text-align: right;\">\n",
       "      <th></th>\n",
       "      <th>DateCrawled</th>\n",
       "      <th>Price</th>\n",
       "      <th>VehicleType</th>\n",
       "      <th>RegistrationYear</th>\n",
       "      <th>Gearbox</th>\n",
       "      <th>Power</th>\n",
       "      <th>Model</th>\n",
       "      <th>Kilometer</th>\n",
       "      <th>RegistrationMonth</th>\n",
       "      <th>FuelType</th>\n",
       "      <th>Brand</th>\n",
       "      <th>NotRepaired</th>\n",
       "      <th>DateCreated</th>\n",
       "      <th>NumberOfPictures</th>\n",
       "      <th>PostalCode</th>\n",
       "      <th>LastSeen</th>\n",
       "    </tr>\n",
       "  </thead>\n",
       "  <tbody>\n",
       "    <tr>\n",
       "      <td>15147</td>\n",
       "      <td>2016-03-14 00:52:02</td>\n",
       "      <td>0</td>\n",
       "      <td>NaN</td>\n",
       "      <td>9999</td>\n",
       "      <td>NaN</td>\n",
       "      <td>0</td>\n",
       "      <td>NaN</td>\n",
       "      <td>10000</td>\n",
       "      <td>0</td>\n",
       "      <td>NaN</td>\n",
       "      <td>sonstige_autos</td>\n",
       "      <td>NaN</td>\n",
       "      <td>2016-03-13 00:00:00</td>\n",
       "      <td>0</td>\n",
       "      <td>32689</td>\n",
       "      <td>2016-03-21 23:46:46</td>\n",
       "    </tr>\n",
       "    <tr>\n",
       "      <td>17271</td>\n",
       "      <td>2016-03-23 16:43:29</td>\n",
       "      <td>700</td>\n",
       "      <td>NaN</td>\n",
       "      <td>9999</td>\n",
       "      <td>NaN</td>\n",
       "      <td>0</td>\n",
       "      <td>other</td>\n",
       "      <td>10000</td>\n",
       "      <td>0</td>\n",
       "      <td>NaN</td>\n",
       "      <td>opel</td>\n",
       "      <td>NaN</td>\n",
       "      <td>2016-03-23 00:00:00</td>\n",
       "      <td>0</td>\n",
       "      <td>21769</td>\n",
       "      <td>2016-04-05 20:16:15</td>\n",
       "    </tr>\n",
       "    <tr>\n",
       "      <td>28390</td>\n",
       "      <td>2016-04-05 08:57:08</td>\n",
       "      <td>799</td>\n",
       "      <td>NaN</td>\n",
       "      <td>9999</td>\n",
       "      <td>NaN</td>\n",
       "      <td>0</td>\n",
       "      <td>3er</td>\n",
       "      <td>10000</td>\n",
       "      <td>4</td>\n",
       "      <td>petrol</td>\n",
       "      <td>bmw</td>\n",
       "      <td>NaN</td>\n",
       "      <td>2016-04-05 00:00:00</td>\n",
       "      <td>0</td>\n",
       "      <td>72116</td>\n",
       "      <td>2016-04-07 12:17:50</td>\n",
       "    </tr>\n",
       "    <tr>\n",
       "      <td>28965</td>\n",
       "      <td>2016-04-04 22:54:47</td>\n",
       "      <td>18000</td>\n",
       "      <td>NaN</td>\n",
       "      <td>9999</td>\n",
       "      <td>NaN</td>\n",
       "      <td>0</td>\n",
       "      <td>a_klasse</td>\n",
       "      <td>10000</td>\n",
       "      <td>0</td>\n",
       "      <td>petrol</td>\n",
       "      <td>mercedes_benz</td>\n",
       "      <td>NaN</td>\n",
       "      <td>2016-04-04 00:00:00</td>\n",
       "      <td>0</td>\n",
       "      <td>51379</td>\n",
       "      <td>2016-04-07 02:44:52</td>\n",
       "    </tr>\n",
       "    <tr>\n",
       "      <td>29426</td>\n",
       "      <td>2016-03-23 21:52:25</td>\n",
       "      <td>7999</td>\n",
       "      <td>NaN</td>\n",
       "      <td>9999</td>\n",
       "      <td>NaN</td>\n",
       "      <td>0</td>\n",
       "      <td>kaefer</td>\n",
       "      <td>10000</td>\n",
       "      <td>0</td>\n",
       "      <td>NaN</td>\n",
       "      <td>volkswagen</td>\n",
       "      <td>NaN</td>\n",
       "      <td>2016-03-23 00:00:00</td>\n",
       "      <td>0</td>\n",
       "      <td>47638</td>\n",
       "      <td>2016-04-06 03:46:40</td>\n",
       "    </tr>\n",
       "  </tbody>\n",
       "</table>\n",
       "</div>"
      ],
      "text/plain": [
       "               DateCrawled  Price VehicleType  RegistrationYear Gearbox  \\\n",
       "15147  2016-03-14 00:52:02      0         NaN              9999     NaN   \n",
       "17271  2016-03-23 16:43:29    700         NaN              9999     NaN   \n",
       "28390  2016-04-05 08:57:08    799         NaN              9999     NaN   \n",
       "28965  2016-04-04 22:54:47  18000         NaN              9999     NaN   \n",
       "29426  2016-03-23 21:52:25   7999         NaN              9999     NaN   \n",
       "\n",
       "       Power     Model  Kilometer  RegistrationMonth FuelType           Brand  \\\n",
       "15147      0       NaN      10000                  0      NaN  sonstige_autos   \n",
       "17271      0     other      10000                  0      NaN            opel   \n",
       "28390      0       3er      10000                  4   petrol             bmw   \n",
       "28965      0  a_klasse      10000                  0   petrol   mercedes_benz   \n",
       "29426      0    kaefer      10000                  0      NaN      volkswagen   \n",
       "\n",
       "      NotRepaired          DateCreated  NumberOfPictures  PostalCode  \\\n",
       "15147         NaN  2016-03-13 00:00:00                 0       32689   \n",
       "17271         NaN  2016-03-23 00:00:00                 0       21769   \n",
       "28390         NaN  2016-04-05 00:00:00                 0       72116   \n",
       "28965         NaN  2016-04-04 00:00:00                 0       51379   \n",
       "29426         NaN  2016-03-23 00:00:00                 0       47638   \n",
       "\n",
       "                  LastSeen  \n",
       "15147  2016-03-21 23:46:46  \n",
       "17271  2016-04-05 20:16:15  \n",
       "28390  2016-04-07 12:17:50  \n",
       "28965  2016-04-07 02:44:52  \n",
       "29426  2016-04-06 03:46:40  "
      ]
     },
     "execution_count": 29,
     "metadata": {},
     "output_type": "execute_result"
    }
   ],
   "source": [
    "raw_autos.query('RegistrationYear == 9999').head()"
   ]
  },
  {
   "cell_type": "markdown",
   "metadata": {},
   "source": [
    "Тоже самое и с максимальным значением."
   ]
  },
  {
   "cell_type": "markdown",
   "metadata": {},
   "source": [
    "## Вывод"
   ]
  },
  {
   "cell_type": "markdown",
   "metadata": {},
   "source": [
    "354369 обьекта в датафрейме. 16 столбцов. Большинство столбцов имеют тип *object*. Количество обьектов в каждом столбце различается. У нас есть пропущенные значения. Следовательно, необходимо предобработать данные. Также стоит заметить, что некоторые столбцы будут не нужны в постройке моделей, такие как: *DateCrawled, DateCreated, NumberOfPictures, PostalCode, LastSeen*. Есть аномальные значения в столбцах: *RegistrationYear, Power, Kilometer*. Также есть нулевые значения: *NumberOfPictures, Price* и пропущенные значения в столбцах *VehicleType, Model, FuelType, NotRepaired*. Данные сырые, надо их тщательно предобработать. Также, у нас есть столбцы с датой, нам нужно перевести их в правильный тип данных *datetime*. Нам необходимо:\n",
    "1. Предобработать данные\n",
    "2. Обучить разные модели\n",
    "3. Проанализировать скорость работы и точность моделей\n",
    "\n"
   ]
  },
  {
   "cell_type": "markdown",
   "metadata": {},
   "source": [
    "---"
   ]
  },
  {
   "cell_type": "markdown",
   "metadata": {},
   "source": [
    "<a id=\"dataPreprocessing\"></a>\n",
    "# Этап 2 - Предобработка данных"
   ]
  },
  {
   "cell_type": "markdown",
   "metadata": {},
   "source": [
    "На этом этапе нам необходимо предобработать данные. Данные сырые. Обработаем пропущенные значения. Проверим данные на дупликаты. Уберём ненужные признаки. Также, обработаем аномальные значения."
   ]
  },
  {
   "cell_type": "markdown",
   "metadata": {},
   "source": [
    "<a id=\"columnsProcessing\"></a>\n",
    "### Обработка столбцов"
   ]
  },
  {
   "cell_type": "markdown",
   "metadata": {},
   "source": [
    "Переведём все наименования столбцов в нижний регистр. Напишем функцию."
   ]
  },
  {
   "cell_type": "code",
   "execution_count": 30,
   "metadata": {},
   "outputs": [],
   "source": [
    "def snake_case(s):\n",
    "    \"\"\"\n",
    "    Преобразование строк из camelCase в snake_case.\n",
    "    s - строка имя столбца\n",
    "    \"\"\"\n",
    "    return ''.join('_' + c.lower()\n",
    "                   if all([i != 0,\n",
    "                           c.isupper(),\n",
    "                           s[i - 1].islower()])\n",
    "                   else c.lower()\n",
    "                   for i, c in enumerate(s))"
   ]
  },
  {
   "cell_type": "code",
   "execution_count": 31,
   "metadata": {},
   "outputs": [
    {
     "data": {
      "text/plain": [
       "Index(['date_crawled', 'price', 'vehicle_type', 'registration_year', 'gearbox',\n",
       "       'power', 'model', 'kilometer', 'registration_month', 'fuel_type',\n",
       "       'brand', 'not_repaired', 'date_created', 'number_of_pictures',\n",
       "       'postal_code', 'last_seen'],\n",
       "      dtype='object')"
      ]
     },
     "execution_count": 31,
     "metadata": {},
     "output_type": "execute_result"
    }
   ],
   "source": [
    "# Преобразуем колонки в snake_case\n",
    "raw_autos.columns = map(snake_case, raw_autos.columns)\n",
    "raw_autos.columns"
   ]
  },
  {
   "cell_type": "markdown",
   "metadata": {},
   "source": [
    "<a id=\"removeColumns\"></a>\n",
    "## Удаление лишних столбцов"
   ]
  },
  {
   "cell_type": "markdown",
   "metadata": {},
   "source": [
    "Уберём лишние столбцы: *DateCrawled, DateCreated, NumberOfPictures, PostalCode, LastSeen*. "
   ]
  },
  {
   "cell_type": "code",
   "execution_count": 32,
   "metadata": {},
   "outputs": [
    {
     "data": {
      "text/html": [
       "<div>\n",
       "<style scoped>\n",
       "    .dataframe tbody tr th:only-of-type {\n",
       "        vertical-align: middle;\n",
       "    }\n",
       "\n",
       "    .dataframe tbody tr th {\n",
       "        vertical-align: top;\n",
       "    }\n",
       "\n",
       "    .dataframe thead th {\n",
       "        text-align: right;\n",
       "    }\n",
       "</style>\n",
       "<table border=\"1\" class=\"dataframe\">\n",
       "  <thead>\n",
       "    <tr style=\"text-align: right;\">\n",
       "      <th></th>\n",
       "      <th>price</th>\n",
       "      <th>vehicle_type</th>\n",
       "      <th>registration_year</th>\n",
       "      <th>gearbox</th>\n",
       "      <th>power</th>\n",
       "      <th>model</th>\n",
       "      <th>kilometer</th>\n",
       "      <th>registration_month</th>\n",
       "      <th>fuel_type</th>\n",
       "      <th>brand</th>\n",
       "      <th>not_repaired</th>\n",
       "    </tr>\n",
       "  </thead>\n",
       "  <tbody>\n",
       "    <tr>\n",
       "      <td>0</td>\n",
       "      <td>480</td>\n",
       "      <td>NaN</td>\n",
       "      <td>1993</td>\n",
       "      <td>manual</td>\n",
       "      <td>0</td>\n",
       "      <td>golf</td>\n",
       "      <td>150000</td>\n",
       "      <td>0</td>\n",
       "      <td>petrol</td>\n",
       "      <td>volkswagen</td>\n",
       "      <td>NaN</td>\n",
       "    </tr>\n",
       "    <tr>\n",
       "      <td>1</td>\n",
       "      <td>18300</td>\n",
       "      <td>coupe</td>\n",
       "      <td>2011</td>\n",
       "      <td>manual</td>\n",
       "      <td>190</td>\n",
       "      <td>NaN</td>\n",
       "      <td>125000</td>\n",
       "      <td>5</td>\n",
       "      <td>gasoline</td>\n",
       "      <td>audi</td>\n",
       "      <td>yes</td>\n",
       "    </tr>\n",
       "    <tr>\n",
       "      <td>2</td>\n",
       "      <td>9800</td>\n",
       "      <td>suv</td>\n",
       "      <td>2004</td>\n",
       "      <td>auto</td>\n",
       "      <td>163</td>\n",
       "      <td>grand</td>\n",
       "      <td>125000</td>\n",
       "      <td>8</td>\n",
       "      <td>gasoline</td>\n",
       "      <td>jeep</td>\n",
       "      <td>NaN</td>\n",
       "    </tr>\n",
       "    <tr>\n",
       "      <td>3</td>\n",
       "      <td>1500</td>\n",
       "      <td>small</td>\n",
       "      <td>2001</td>\n",
       "      <td>manual</td>\n",
       "      <td>75</td>\n",
       "      <td>golf</td>\n",
       "      <td>150000</td>\n",
       "      <td>6</td>\n",
       "      <td>petrol</td>\n",
       "      <td>volkswagen</td>\n",
       "      <td>no</td>\n",
       "    </tr>\n",
       "    <tr>\n",
       "      <td>4</td>\n",
       "      <td>3600</td>\n",
       "      <td>small</td>\n",
       "      <td>2008</td>\n",
       "      <td>manual</td>\n",
       "      <td>69</td>\n",
       "      <td>fabia</td>\n",
       "      <td>90000</td>\n",
       "      <td>7</td>\n",
       "      <td>gasoline</td>\n",
       "      <td>skoda</td>\n",
       "      <td>no</td>\n",
       "    </tr>\n",
       "  </tbody>\n",
       "</table>\n",
       "</div>"
      ],
      "text/plain": [
       "   price vehicle_type  registration_year gearbox  power  model  kilometer  \\\n",
       "0    480          NaN               1993  manual      0   golf     150000   \n",
       "1  18300        coupe               2011  manual    190    NaN     125000   \n",
       "2   9800          suv               2004    auto    163  grand     125000   \n",
       "3   1500        small               2001  manual     75   golf     150000   \n",
       "4   3600        small               2008  manual     69  fabia      90000   \n",
       "\n",
       "   registration_month fuel_type       brand not_repaired  \n",
       "0                   0    petrol  volkswagen          NaN  \n",
       "1                   5  gasoline        audi          yes  \n",
       "2                   8  gasoline        jeep          NaN  \n",
       "3                   6    petrol  volkswagen           no  \n",
       "4                   7  gasoline       skoda           no  "
      ]
     },
     "execution_count": 32,
     "metadata": {},
     "output_type": "execute_result"
    }
   ],
   "source": [
    "raw_autos = raw_autos.drop(['date_crawled','date_created' ,'number_of_pictures', 'postal_code', 'last_seen'], axis=1)\n",
    "raw_autos.head()"
   ]
  },
  {
   "cell_type": "markdown",
   "metadata": {},
   "source": [
    "<a id=\"missingValues\"></a>\n",
    "## Обработка пропущенных значений"
   ]
  },
  {
   "cell_type": "markdown",
   "metadata": {},
   "source": [
    "Посмотрим сколько пропущенных значений в данных. Воспользуемся набором методов isna() и sum()."
   ]
  },
  {
   "cell_type": "code",
   "execution_count": 33,
   "metadata": {},
   "outputs": [
    {
     "data": {
      "text/plain": [
       "price                     0\n",
       "vehicle_type          37490\n",
       "registration_year         0\n",
       "gearbox               19833\n",
       "power                     0\n",
       "model                 19705\n",
       "kilometer                 0\n",
       "registration_month        0\n",
       "fuel_type             32895\n",
       "brand                     0\n",
       "not_repaired          71154\n",
       "dtype: int64"
      ]
     },
     "execution_count": 33,
     "metadata": {},
     "output_type": "execute_result"
    }
   ],
   "source": [
    "raw_autos.isna().sum()"
   ]
  },
  {
   "cell_type": "markdown",
   "metadata": {},
   "source": [
    "У нас есть пропущенные значения в следующих столбцах: *vehicle_type, gearbox, model, fuel_type, not_repaired*."
   ]
  },
  {
   "cell_type": "markdown",
   "metadata": {},
   "source": [
    "Создадим копию датафрейма"
   ]
  },
  {
   "cell_type": "code",
   "execution_count": 34,
   "metadata": {},
   "outputs": [],
   "source": [
    "raw_autos_copy = raw_autos.copy()"
   ]
  },
  {
   "cell_type": "markdown",
   "metadata": {},
   "source": [
    "Давайте удалим пропущенные значения."
   ]
  },
  {
   "cell_type": "code",
   "execution_count": 35,
   "metadata": {},
   "outputs": [
    {
     "data": {
      "text/plain": [
       "price                 0\n",
       "vehicle_type          0\n",
       "registration_year     0\n",
       "gearbox               0\n",
       "power                 0\n",
       "model                 0\n",
       "kilometer             0\n",
       "registration_month    0\n",
       "fuel_type             0\n",
       "brand                 0\n",
       "not_repaired          0\n",
       "dtype: int64"
      ]
     },
     "execution_count": 35,
     "metadata": {},
     "output_type": "execute_result"
    }
   ],
   "source": [
    "raw_autos_copy = raw_autos_copy.dropna(subset=['vehicle_type', 'gearbox', 'model', 'fuel_type', 'not_repaired'])\n",
    "raw_autos_copy.isna().sum()"
   ]
  },
  {
   "cell_type": "code",
   "execution_count": 36,
   "metadata": {},
   "outputs": [
    {
     "name": "stdout",
     "output_type": "stream",
     "text": [
      "Количество обьектов до удаления пропущенных значений: 354369\n",
      "Количество обьектов после удаления пропущенных значений: 245814\n",
      "Количество обьектов удалено: 108555\n",
      "Доля удаленных обьектов: 30.63%\n"
     ]
    }
   ],
   "source": [
    "print(f'Количество обьектов до удаления пропущенных значений: {len(raw_autos)}')\n",
    "print(f'Количество обьектов после удаления пропущенных значений: {len(raw_autos_copy)}')\n",
    "deleted_obj = len(raw_autos) - len(raw_autos_copy)\n",
    "print(f'Количество обьектов удалено: {deleted_obj}')\n",
    "print(f'Доля удаленных обьектов: {round(deleted_obj / len(raw_autos) * 100, 2)}%')"
   ]
  },
  {
   "cell_type": "markdown",
   "metadata": {},
   "source": [
    "Около 30% обьектов было удалено. Давайте попробуем восстановить данные."
   ]
  },
  {
   "cell_type": "markdown",
   "metadata": {},
   "source": [
    "Напишем функцию, которая будет выводить количество строк с пропущенными значениями."
   ]
  },
  {
   "cell_type": "code",
   "execution_count": 37,
   "metadata": {},
   "outputs": [],
   "source": [
    "def checkMissingValues(columnName,df):\n",
    "    print(columnName,\"проверка на пропущенные значения, кол-во строк с пропущенным значением: \",len(df[df[columnName].isna()]))"
   ]
  },
  {
   "cell_type": "markdown",
   "metadata": {},
   "source": [
    "### Vehicle Type"
   ]
  },
  {
   "cell_type": "markdown",
   "metadata": {},
   "source": [
    "Чтобы избежать искажения данных, предлагаю заполнить пропущенные значения \"unknown_type\"."
   ]
  },
  {
   "cell_type": "code",
   "execution_count": 38,
   "metadata": {},
   "outputs": [],
   "source": [
    "raw_autos['vehicle_type'] = raw_autos.vehicle_type.fillna(\"unknown_type\")"
   ]
  },
  {
   "cell_type": "code",
   "execution_count": 39,
   "metadata": {},
   "outputs": [
    {
     "name": "stdout",
     "output_type": "stream",
     "text": [
      "vehicle_type проверка на пропущенные значения, кол-во строк с пропущенным значением:  0\n"
     ]
    }
   ],
   "source": [
    "checkMissingValues('vehicle_type', raw_autos)"
   ]
  },
  {
   "cell_type": "markdown",
   "metadata": {},
   "source": [
    "### Gearbox"
   ]
  },
  {
   "cell_type": "markdown",
   "metadata": {},
   "source": [
    "Посмотрим на уникальные значения в столбце *gearbox*."
   ]
  },
  {
   "cell_type": "code",
   "execution_count": 40,
   "metadata": {},
   "outputs": [
    {
     "data": {
      "text/plain": [
       "manual    268251\n",
       "auto       66285\n",
       "Name: gearbox, dtype: int64"
      ]
     },
     "execution_count": 40,
     "metadata": {},
     "output_type": "execute_result"
    }
   ],
   "source": [
    "raw_autos['gearbox'].value_counts()"
   ]
  },
  {
   "cell_type": "markdown",
   "metadata": {},
   "source": [
    "Выведем распределение"
   ]
  },
  {
   "cell_type": "code",
   "execution_count": 41,
   "metadata": {},
   "outputs": [
    {
     "data": {
      "image/png": "[encoded data removed]",
      "text/plain": [
       "<Figure size 1008x360 with 1 Axes>"
      ]
     },
     "metadata": {
      "image/png": {
       "height": 325,
       "width": 860
      },
      "needs_background": "light"
     },
     "output_type": "display_data"
    }
   ],
   "source": [
    "# KDE plot\n",
    "plt.figure(figsize=(14,5))\n",
    "plot  = sns.distplot(raw_autos['registration_year'],bins=30, kde=True)\n",
    "plt.show()"
   ]
  },
  {
   "cell_type": "markdown",
   "metadata": {},
   "source": [
    "Возьмём адекватный интервал"
   ]
  },
  {
   "cell_type": "code",
   "execution_count": 42,
   "metadata": {},
   "outputs": [],
   "source": [
    "raw_autos_copy = raw_autos.query('registration_year > 1900 and registration_year < 2020')"
   ]
  },
  {
   "cell_type": "code",
   "execution_count": 43,
   "metadata": {},
   "outputs": [
    {
     "data": {
      "image/png": "[encoded data removed]",
      "text/plain": [
       "<Figure size 463.15x360 with 1 Axes>"
      ]
     },
     "metadata": {
      "image/png": {
       "height": 353,
       "width": 460
      },
      "needs_background": "light"
     },
     "output_type": "display_data"
    }
   ],
   "source": [
    "sns.displot(data = raw_autos_copy, x='registration_year',bins=30, kde=True, hue='gearbox')\n",
    "plt.show()"
   ]
  },
  {
   "cell_type": "markdown",
   "metadata": {},
   "source": [
    "Первая автоматическая коробка передач была установлена в [1947 году](https://akppoff.ru/korobka-avtomat/kto-pridumal). Можем смело предположить, что автомобили до 1947 года имели механическую коробку передач"
   ]
  },
  {
   "cell_type": "code",
   "execution_count": 44,
   "metadata": {},
   "outputs": [],
   "source": [
    "raw_autos.loc[raw_autos['registration_year'] < 1947, 'gearbox'] = raw_autos.loc[raw_autos['registration_year'] < 1947, 'gearbox'].fillna(\"manual\")"
   ]
  },
  {
   "cell_type": "markdown",
   "metadata": {},
   "source": [
    "Чтобы избежать искаженние в данных, заполним остальные пропущенные значения - \"unknown_gearbox\". "
   ]
  },
  {
   "cell_type": "code",
   "execution_count": 45,
   "metadata": {},
   "outputs": [],
   "source": [
    "raw_autos['gearbox'] = raw_autos.gearbox.fillna(\"unknown_gearbox\")"
   ]
  },
  {
   "cell_type": "code",
   "execution_count": 46,
   "metadata": {},
   "outputs": [
    {
     "name": "stdout",
     "output_type": "stream",
     "text": [
      "gearbox проверка на пропущенные значения, кол-во строк с пропущенным значением:  0\n"
     ]
    }
   ],
   "source": [
    "checkMissingValues('gearbox', raw_autos)"
   ]
  },
  {
   "cell_type": "markdown",
   "metadata": {},
   "source": [
    "### Model"
   ]
  },
  {
   "cell_type": "markdown",
   "metadata": {},
   "source": [
    "Чтобы избежать искажения в данных, заполним пропущенное значение - \"unknown_model\". "
   ]
  },
  {
   "cell_type": "code",
   "execution_count": 47,
   "metadata": {},
   "outputs": [],
   "source": [
    "raw_autos['model'] = raw_autos.model.fillna(\"unknown_model\")"
   ]
  },
  {
   "cell_type": "code",
   "execution_count": 48,
   "metadata": {},
   "outputs": [
    {
     "name": "stdout",
     "output_type": "stream",
     "text": [
      "model проверка на пропущенные значения, кол-во строк с пропущенным значением:  0\n"
     ]
    }
   ],
   "source": [
    "checkMissingValues('model', raw_autos)"
   ]
  },
  {
   "cell_type": "markdown",
   "metadata": {},
   "source": [
    "### Fuel type"
   ]
  },
  {
   "cell_type": "markdown",
   "metadata": {},
   "source": [
    "Тоже самое сделаем со столбцом *fuel type*"
   ]
  },
  {
   "cell_type": "code",
   "execution_count": 49,
   "metadata": {},
   "outputs": [],
   "source": [
    "raw_autos['fuel_type'] = raw_autos.fuel_type.fillna(\"unknown_fuel_type\")"
   ]
  },
  {
   "cell_type": "code",
   "execution_count": 50,
   "metadata": {},
   "outputs": [
    {
     "name": "stdout",
     "output_type": "stream",
     "text": [
      "fuel_type проверка на пропущенные значения, кол-во строк с пропущенным значением:  0\n"
     ]
    }
   ],
   "source": [
    "checkMissingValues('fuel_type', raw_autos)"
   ]
  },
  {
   "cell_type": "markdown",
   "metadata": {},
   "source": [
    "### Not repaired"
   ]
  },
  {
   "cell_type": "markdown",
   "metadata": {},
   "source": [
    "Предлагаю заменить пропущенные значения столбца *not_repaired* на значение *unknown_repair_status*. "
   ]
  },
  {
   "cell_type": "code",
   "execution_count": 51,
   "metadata": {},
   "outputs": [],
   "source": [
    "raw_autos['not_repaired'] = raw_autos['not_repaired'].fillna('unknown_repair_status')"
   ]
  },
  {
   "cell_type": "code",
   "execution_count": 52,
   "metadata": {},
   "outputs": [
    {
     "name": "stdout",
     "output_type": "stream",
     "text": [
      "not_repaired проверка на пропущенные значения, кол-во строк с пропущенным значением:  0\n"
     ]
    }
   ],
   "source": [
    "checkMissingValues('not_repaired', raw_autos)"
   ]
  },
  {
   "cell_type": "code",
   "execution_count": 53,
   "metadata": {},
   "outputs": [
    {
     "data": {
      "text/plain": [
       "price                 0\n",
       "vehicle_type          0\n",
       "registration_year     0\n",
       "gearbox               0\n",
       "power                 0\n",
       "model                 0\n",
       "kilometer             0\n",
       "registration_month    0\n",
       "fuel_type             0\n",
       "brand                 0\n",
       "not_repaired          0\n",
       "dtype: int64"
      ]
     },
     "execution_count": 53,
     "metadata": {},
     "output_type": "execute_result"
    }
   ],
   "source": [
    "raw_autos.isna().sum()"
   ]
  },
  {
   "cell_type": "markdown",
   "metadata": {},
   "source": [
    "Перейдём к обработке дупликатов"
   ]
  },
  {
   "cell_type": "markdown",
   "metadata": {},
   "source": [
    "<a id=\"duplicateValues\"></a>\n",
    "## Обработка дупликатов"
   ]
  },
  {
   "cell_type": "markdown",
   "metadata": {},
   "source": [
    "Необходимо установить наличие дупликатов. Если появятся дупликаты - удаляем их, иначе наше исследование может привести к некорректным результатам. Воспользуемся набором методов *duplicated()* и *sum()*."
   ]
  },
  {
   "cell_type": "code",
   "execution_count": 54,
   "metadata": {},
   "outputs": [
    {
     "name": "stdout",
     "output_type": "stream",
     "text": [
      "Количество дупликатов: 27543\n",
      "Доля дупликатов в датасете: 0.08%\n"
     ]
    }
   ],
   "source": [
    "print(f'Количество дупликатов: {raw_autos.duplicated().sum()}')\n",
    "print(f'Доля дупликатов в датасете: {round(raw_autos.duplicated().sum() / len(raw_autos),2)}%')"
   ]
  },
  {
   "cell_type": "markdown",
   "metadata": {},
   "source": [
    "27543 Дупликатов. Придётся их удалить."
   ]
  },
  {
   "cell_type": "code",
   "execution_count": 55,
   "metadata": {},
   "outputs": [],
   "source": [
    "raw_autos = raw_autos.drop_duplicates().reset_index(drop=True)"
   ]
  },
  {
   "cell_type": "markdown",
   "metadata": {},
   "source": [
    "<a id=\"abnormalValues\"></a>\n",
    "## Обработка аномальных значений"
   ]
  },
  {
   "cell_type": "markdown",
   "metadata": {},
   "source": [
    "Займемся обработкой аномальных значений. Ранее на этапе обзора данных, мы выделили некоторые столбцы, которые имеют аномальные значения."
   ]
  },
  {
   "cell_type": "markdown",
   "metadata": {},
   "source": [
    "### Registration Year"
   ]
  },
  {
   "cell_type": "markdown",
   "metadata": {},
   "source": [
    "Мы заметили максимальное значение - 9999 год и минимальное значение 1000 год."
   ]
  },
  {
   "cell_type": "code",
   "execution_count": 56,
   "metadata": {},
   "outputs": [
    {
     "data": {
      "text/html": [
       "<div>\n",
       "<style scoped>\n",
       "    .dataframe tbody tr th:only-of-type {\n",
       "        vertical-align: middle;\n",
       "    }\n",
       "\n",
       "    .dataframe tbody tr th {\n",
       "        vertical-align: top;\n",
       "    }\n",
       "\n",
       "    .dataframe thead th {\n",
       "        text-align: right;\n",
       "    }\n",
       "</style>\n",
       "<table border=\"1\" class=\"dataframe\">\n",
       "  <thead>\n",
       "    <tr style=\"text-align: right;\">\n",
       "      <th></th>\n",
       "      <th>price</th>\n",
       "      <th>vehicle_type</th>\n",
       "      <th>registration_year</th>\n",
       "      <th>gearbox</th>\n",
       "      <th>power</th>\n",
       "      <th>model</th>\n",
       "      <th>kilometer</th>\n",
       "      <th>registration_month</th>\n",
       "      <th>fuel_type</th>\n",
       "      <th>brand</th>\n",
       "      <th>not_repaired</th>\n",
       "    </tr>\n",
       "  </thead>\n",
       "  <tbody>\n",
       "    <tr>\n",
       "      <td>15962</td>\n",
       "      <td>190</td>\n",
       "      <td>unknown_type</td>\n",
       "      <td>1000</td>\n",
       "      <td>manual</td>\n",
       "      <td>0</td>\n",
       "      <td>mondeo</td>\n",
       "      <td>5000</td>\n",
       "      <td>0</td>\n",
       "      <td>unknown_fuel_type</td>\n",
       "      <td>ford</td>\n",
       "      <td>unknown_repair_status</td>\n",
       "    </tr>\n",
       "    <tr>\n",
       "      <td>52637</td>\n",
       "      <td>330</td>\n",
       "      <td>unknown_type</td>\n",
       "      <td>1000</td>\n",
       "      <td>manual</td>\n",
       "      <td>0</td>\n",
       "      <td>polo</td>\n",
       "      <td>5000</td>\n",
       "      <td>0</td>\n",
       "      <td>unknown_fuel_type</td>\n",
       "      <td>volkswagen</td>\n",
       "      <td>unknown_repair_status</td>\n",
       "    </tr>\n",
       "    <tr>\n",
       "      <td>54605</td>\n",
       "      <td>500</td>\n",
       "      <td>unknown_type</td>\n",
       "      <td>1000</td>\n",
       "      <td>manual</td>\n",
       "      <td>0</td>\n",
       "      <td>unknown_model</td>\n",
       "      <td>5000</td>\n",
       "      <td>0</td>\n",
       "      <td>unknown_fuel_type</td>\n",
       "      <td>citroen</td>\n",
       "      <td>yes</td>\n",
       "    </tr>\n",
       "    <tr>\n",
       "      <td>58886</td>\n",
       "      <td>80</td>\n",
       "      <td>unknown_type</td>\n",
       "      <td>1000</td>\n",
       "      <td>manual</td>\n",
       "      <td>0</td>\n",
       "      <td>unknown_model</td>\n",
       "      <td>5000</td>\n",
       "      <td>0</td>\n",
       "      <td>unknown_fuel_type</td>\n",
       "      <td>volkswagen</td>\n",
       "      <td>unknown_repair_status</td>\n",
       "    </tr>\n",
       "    <tr>\n",
       "      <td>64859</td>\n",
       "      <td>1300</td>\n",
       "      <td>unknown_type</td>\n",
       "      <td>1000</td>\n",
       "      <td>auto</td>\n",
       "      <td>0</td>\n",
       "      <td>unknown_model</td>\n",
       "      <td>5000</td>\n",
       "      <td>6</td>\n",
       "      <td>petrol</td>\n",
       "      <td>sonstige_autos</td>\n",
       "      <td>unknown_repair_status</td>\n",
       "    </tr>\n",
       "  </tbody>\n",
       "</table>\n",
       "</div>"
      ],
      "text/plain": [
       "       price  vehicle_type  registration_year gearbox  power          model  \\\n",
       "15962    190  unknown_type               1000  manual      0         mondeo   \n",
       "52637    330  unknown_type               1000  manual      0           polo   \n",
       "54605    500  unknown_type               1000  manual      0  unknown_model   \n",
       "58886     80  unknown_type               1000  manual      0  unknown_model   \n",
       "64859   1300  unknown_type               1000    auto      0  unknown_model   \n",
       "\n",
       "       kilometer  registration_month          fuel_type           brand  \\\n",
       "15962       5000                   0  unknown_fuel_type            ford   \n",
       "52637       5000                   0  unknown_fuel_type      volkswagen   \n",
       "54605       5000                   0  unknown_fuel_type         citroen   \n",
       "58886       5000                   0  unknown_fuel_type      volkswagen   \n",
       "64859       5000                   6             petrol  sonstige_autos   \n",
       "\n",
       "                not_repaired  \n",
       "15962  unknown_repair_status  \n",
       "52637  unknown_repair_status  \n",
       "54605                    yes  \n",
       "58886  unknown_repair_status  \n",
       "64859  unknown_repair_status  "
      ]
     },
     "execution_count": 56,
     "metadata": {},
     "output_type": "execute_result"
    }
   ],
   "source": [
    "reg_year_1000 = raw_autos.query('registration_year == 1000')\n",
    "reg_year_1000.head()"
   ]
  },
  {
   "cell_type": "code",
   "execution_count": 57,
   "metadata": {},
   "outputs": [
    {
     "data": {
      "text/html": [
       "<div>\n",
       "<style scoped>\n",
       "    .dataframe tbody tr th:only-of-type {\n",
       "        vertical-align: middle;\n",
       "    }\n",
       "\n",
       "    .dataframe tbody tr th {\n",
       "        vertical-align: top;\n",
       "    }\n",
       "\n",
       "    .dataframe thead th {\n",
       "        text-align: right;\n",
       "    }\n",
       "</style>\n",
       "<table border=\"1\" class=\"dataframe\">\n",
       "  <thead>\n",
       "    <tr style=\"text-align: right;\">\n",
       "      <th></th>\n",
       "      <th>price</th>\n",
       "      <th>vehicle_type</th>\n",
       "      <th>registration_year</th>\n",
       "      <th>gearbox</th>\n",
       "      <th>power</th>\n",
       "      <th>model</th>\n",
       "      <th>kilometer</th>\n",
       "      <th>registration_month</th>\n",
       "      <th>fuel_type</th>\n",
       "      <th>brand</th>\n",
       "      <th>not_repaired</th>\n",
       "    </tr>\n",
       "  </thead>\n",
       "  <tbody>\n",
       "    <tr>\n",
       "      <td>15063</td>\n",
       "      <td>0</td>\n",
       "      <td>unknown_type</td>\n",
       "      <td>9999</td>\n",
       "      <td>unknown_gearbox</td>\n",
       "      <td>0</td>\n",
       "      <td>unknown_model</td>\n",
       "      <td>10000</td>\n",
       "      <td>0</td>\n",
       "      <td>unknown_fuel_type</td>\n",
       "      <td>sonstige_autos</td>\n",
       "      <td>unknown_repair_status</td>\n",
       "    </tr>\n",
       "    <tr>\n",
       "      <td>17155</td>\n",
       "      <td>700</td>\n",
       "      <td>unknown_type</td>\n",
       "      <td>9999</td>\n",
       "      <td>unknown_gearbox</td>\n",
       "      <td>0</td>\n",
       "      <td>other</td>\n",
       "      <td>10000</td>\n",
       "      <td>0</td>\n",
       "      <td>unknown_fuel_type</td>\n",
       "      <td>opel</td>\n",
       "      <td>unknown_repair_status</td>\n",
       "    </tr>\n",
       "    <tr>\n",
       "      <td>28086</td>\n",
       "      <td>799</td>\n",
       "      <td>unknown_type</td>\n",
       "      <td>9999</td>\n",
       "      <td>unknown_gearbox</td>\n",
       "      <td>0</td>\n",
       "      <td>3er</td>\n",
       "      <td>10000</td>\n",
       "      <td>4</td>\n",
       "      <td>petrol</td>\n",
       "      <td>bmw</td>\n",
       "      <td>unknown_repair_status</td>\n",
       "    </tr>\n",
       "    <tr>\n",
       "      <td>28648</td>\n",
       "      <td>18000</td>\n",
       "      <td>unknown_type</td>\n",
       "      <td>9999</td>\n",
       "      <td>unknown_gearbox</td>\n",
       "      <td>0</td>\n",
       "      <td>a_klasse</td>\n",
       "      <td>10000</td>\n",
       "      <td>0</td>\n",
       "      <td>petrol</td>\n",
       "      <td>mercedes_benz</td>\n",
       "      <td>unknown_repair_status</td>\n",
       "    </tr>\n",
       "    <tr>\n",
       "      <td>29101</td>\n",
       "      <td>7999</td>\n",
       "      <td>unknown_type</td>\n",
       "      <td>9999</td>\n",
       "      <td>unknown_gearbox</td>\n",
       "      <td>0</td>\n",
       "      <td>kaefer</td>\n",
       "      <td>10000</td>\n",
       "      <td>0</td>\n",
       "      <td>unknown_fuel_type</td>\n",
       "      <td>volkswagen</td>\n",
       "      <td>unknown_repair_status</td>\n",
       "    </tr>\n",
       "  </tbody>\n",
       "</table>\n",
       "</div>"
      ],
      "text/plain": [
       "       price  vehicle_type  registration_year          gearbox  power  \\\n",
       "15063      0  unknown_type               9999  unknown_gearbox      0   \n",
       "17155    700  unknown_type               9999  unknown_gearbox      0   \n",
       "28086    799  unknown_type               9999  unknown_gearbox      0   \n",
       "28648  18000  unknown_type               9999  unknown_gearbox      0   \n",
       "29101   7999  unknown_type               9999  unknown_gearbox      0   \n",
       "\n",
       "               model  kilometer  registration_month          fuel_type  \\\n",
       "15063  unknown_model      10000                   0  unknown_fuel_type   \n",
       "17155          other      10000                   0  unknown_fuel_type   \n",
       "28086            3er      10000                   4             petrol   \n",
       "28648       a_klasse      10000                   0             petrol   \n",
       "29101         kaefer      10000                   0  unknown_fuel_type   \n",
       "\n",
       "                brand           not_repaired  \n",
       "15063  sonstige_autos  unknown_repair_status  \n",
       "17155            opel  unknown_repair_status  \n",
       "28086             bmw  unknown_repair_status  \n",
       "28648   mercedes_benz  unknown_repair_status  \n",
       "29101      volkswagen  unknown_repair_status  "
      ]
     },
     "execution_count": 57,
     "metadata": {},
     "output_type": "execute_result"
    }
   ],
   "source": [
    "reg_year_9999 = raw_autos.query('registration_year == 9999')\n",
    "reg_year_9999.head()"
   ]
  },
  {
   "cell_type": "code",
   "execution_count": 58,
   "metadata": {},
   "outputs": [
    {
     "name": "stdout",
     "output_type": "stream",
     "text": [
      "Количество автомобилей с регистрацией 1000 года: 35\n",
      "Количество автомобилей с регистрацией 9999 года: 24\n"
     ]
    }
   ],
   "source": [
    "print(f'Количество автомобилей с регистрацией 1000 года: {len(reg_year_1000)}')\n",
    "print(f'Количество автомобилей с регистрацией 9999 года: {len(reg_year_9999)}')"
   ]
  },
  {
   "cell_type": "markdown",
   "metadata": {},
   "source": [
    "Следовательно, отфильтруем автомобили c регистрацией от 1901 до 2016 года."
   ]
  },
  {
   "cell_type": "code",
   "execution_count": 59,
   "metadata": {},
   "outputs": [],
   "source": [
    "raw_autos_upd = raw_autos.query('registration_year > 1900 and registration_year < 2017').reset_index(drop=True)"
   ]
  },
  {
   "cell_type": "markdown",
   "metadata": {},
   "source": [
    "### Power"
   ]
  },
  {
   "cell_type": "code",
   "execution_count": 60,
   "metadata": {},
   "outputs": [
    {
     "data": {
      "image/png": "[encoded data removed]",
      "text/plain": [
       "<Figure size 1008x360 with 1 Axes>"
      ]
     },
     "metadata": {
      "image/png": {
       "height": 328,
       "width": 865
      },
      "needs_background": "light"
     },
     "output_type": "display_data"
    }
   ],
   "source": [
    "drawBoxPlot(raw_autos_upd, 'power', \"Распределение мощности автомобилей\", \"Мощность л.с\", \"Количесто автомобилей\",True)"
   ]
  },
  {
   "cell_type": "markdown",
   "metadata": {},
   "source": [
    "Посмотрим на количество строк, где power < 10 и сколько машин, у которых power > 700."
   ]
  },
  {
   "cell_type": "code",
   "execution_count": 61,
   "metadata": {},
   "outputs": [
    {
     "name": "stdout",
     "output_type": "stream",
     "text": [
      "Количество строк с power < 10: 33620\n",
      "Количество строк с power > 700: 316\n"
     ]
    }
   ],
   "source": [
    "num_of_cars_power_10 = len(raw_autos_upd.query('power < 10'))\n",
    "num_of_cars_power_greater_500= len(raw_autos_upd.query('power > 700'))\n",
    "print(f'Количество строк с power < 10: {num_of_cars_power_10}')\n",
    "print(f'Количество строк с power > 700: {num_of_cars_power_greater_500}')"
   ]
  },
  {
   "cell_type": "markdown",
   "metadata": {},
   "source": [
    "Посмотрим на строки, где power > 700. Может это какие-нибудь [суперкары](https://auto.drom.ru/used/all/?minpower=650&order=price&order_d=desc)? "
   ]
  },
  {
   "cell_type": "code",
   "execution_count": 62,
   "metadata": {},
   "outputs": [
    {
     "data": {
      "text/html": [
       "<div>\n",
       "<style scoped>\n",
       "    .dataframe tbody tr th:only-of-type {\n",
       "        vertical-align: middle;\n",
       "    }\n",
       "\n",
       "    .dataframe tbody tr th {\n",
       "        vertical-align: top;\n",
       "    }\n",
       "\n",
       "    .dataframe thead th {\n",
       "        text-align: right;\n",
       "    }\n",
       "</style>\n",
       "<table border=\"1\" class=\"dataframe\">\n",
       "  <thead>\n",
       "    <tr style=\"text-align: right;\">\n",
       "      <th></th>\n",
       "      <th>price</th>\n",
       "      <th>vehicle_type</th>\n",
       "      <th>registration_year</th>\n",
       "      <th>gearbox</th>\n",
       "      <th>power</th>\n",
       "      <th>model</th>\n",
       "      <th>kilometer</th>\n",
       "      <th>registration_month</th>\n",
       "      <th>fuel_type</th>\n",
       "      <th>brand</th>\n",
       "      <th>not_repaired</th>\n",
       "    </tr>\n",
       "  </thead>\n",
       "  <tbody>\n",
       "    <tr>\n",
       "      <td>78816</td>\n",
       "      <td>18550</td>\n",
       "      <td>sedan</td>\n",
       "      <td>2013</td>\n",
       "      <td>manual</td>\n",
       "      <td>1288</td>\n",
       "      <td>c_klasse</td>\n",
       "      <td>90000</td>\n",
       "      <td>11</td>\n",
       "      <td>gasoline</td>\n",
       "      <td>mercedes_benz</td>\n",
       "      <td>no</td>\n",
       "    </tr>\n",
       "    <tr>\n",
       "      <td>42513</td>\n",
       "      <td>15800</td>\n",
       "      <td>convertible</td>\n",
       "      <td>2014</td>\n",
       "      <td>auto</td>\n",
       "      <td>10218</td>\n",
       "      <td>fortwo</td>\n",
       "      <td>30000</td>\n",
       "      <td>3</td>\n",
       "      <td>petrol</td>\n",
       "      <td>smart</td>\n",
       "      <td>unknown_repair_status</td>\n",
       "    </tr>\n",
       "    <tr>\n",
       "      <td>206195</td>\n",
       "      <td>15499</td>\n",
       "      <td>wagon</td>\n",
       "      <td>2012</td>\n",
       "      <td>manual</td>\n",
       "      <td>13636</td>\n",
       "      <td>c_klasse</td>\n",
       "      <td>125000</td>\n",
       "      <td>4</td>\n",
       "      <td>gasoline</td>\n",
       "      <td>mercedes_benz</td>\n",
       "      <td>no</td>\n",
       "    </tr>\n",
       "    <tr>\n",
       "      <td>44277</td>\n",
       "      <td>15000</td>\n",
       "      <td>coupe</td>\n",
       "      <td>2013</td>\n",
       "      <td>auto</td>\n",
       "      <td>751</td>\n",
       "      <td>unknown_model</td>\n",
       "      <td>10000</td>\n",
       "      <td>1</td>\n",
       "      <td>petrol</td>\n",
       "      <td>sonstige_autos</td>\n",
       "      <td>no</td>\n",
       "    </tr>\n",
       "    <tr>\n",
       "      <td>175323</td>\n",
       "      <td>13200</td>\n",
       "      <td>small</td>\n",
       "      <td>2013</td>\n",
       "      <td>manual</td>\n",
       "      <td>871</td>\n",
       "      <td>other</td>\n",
       "      <td>20000</td>\n",
       "      <td>1</td>\n",
       "      <td>petrol</td>\n",
       "      <td>opel</td>\n",
       "      <td>no</td>\n",
       "    </tr>\n",
       "    <tr>\n",
       "      <td>231901</td>\n",
       "      <td>13000</td>\n",
       "      <td>wagon</td>\n",
       "      <td>2010</td>\n",
       "      <td>manual</td>\n",
       "      <td>9013</td>\n",
       "      <td>a3</td>\n",
       "      <td>5000</td>\n",
       "      <td>12</td>\n",
       "      <td>gasoline</td>\n",
       "      <td>audi</td>\n",
       "      <td>unknown_repair_status</td>\n",
       "    </tr>\n",
       "    <tr>\n",
       "      <td>239306</td>\n",
       "      <td>12800</td>\n",
       "      <td>suv</td>\n",
       "      <td>2008</td>\n",
       "      <td>manual</td>\n",
       "      <td>1701</td>\n",
       "      <td>tiguan</td>\n",
       "      <td>150000</td>\n",
       "      <td>12</td>\n",
       "      <td>gasoline</td>\n",
       "      <td>volkswagen</td>\n",
       "      <td>no</td>\n",
       "    </tr>\n",
       "    <tr>\n",
       "      <td>290463</td>\n",
       "      <td>12000</td>\n",
       "      <td>wagon</td>\n",
       "      <td>2008</td>\n",
       "      <td>manual</td>\n",
       "      <td>1700</td>\n",
       "      <td>c_klasse</td>\n",
       "      <td>150000</td>\n",
       "      <td>8</td>\n",
       "      <td>gasoline</td>\n",
       "      <td>mercedes_benz</td>\n",
       "      <td>no</td>\n",
       "    </tr>\n",
       "    <tr>\n",
       "      <td>197053</td>\n",
       "      <td>11950</td>\n",
       "      <td>convertible</td>\n",
       "      <td>2008</td>\n",
       "      <td>manual</td>\n",
       "      <td>16312</td>\n",
       "      <td>a4</td>\n",
       "      <td>20000</td>\n",
       "      <td>4</td>\n",
       "      <td>petrol</td>\n",
       "      <td>audi</td>\n",
       "      <td>no</td>\n",
       "    </tr>\n",
       "    <tr>\n",
       "      <td>277257</td>\n",
       "      <td>11900</td>\n",
       "      <td>wagon</td>\n",
       "      <td>2007</td>\n",
       "      <td>auto</td>\n",
       "      <td>16311</td>\n",
       "      <td>5er</td>\n",
       "      <td>150000</td>\n",
       "      <td>10</td>\n",
       "      <td>gasoline</td>\n",
       "      <td>bmw</td>\n",
       "      <td>no</td>\n",
       "    </tr>\n",
       "  </tbody>\n",
       "</table>\n",
       "</div>"
      ],
      "text/plain": [
       "        price vehicle_type  registration_year gearbox  power          model  \\\n",
       "78816   18550        sedan               2013  manual   1288       c_klasse   \n",
       "42513   15800  convertible               2014    auto  10218         fortwo   \n",
       "206195  15499        wagon               2012  manual  13636       c_klasse   \n",
       "44277   15000        coupe               2013    auto    751  unknown_model   \n",
       "175323  13200        small               2013  manual    871          other   \n",
       "231901  13000        wagon               2010  manual   9013             a3   \n",
       "239306  12800          suv               2008  manual   1701         tiguan   \n",
       "290463  12000        wagon               2008  manual   1700       c_klasse   \n",
       "197053  11950  convertible               2008  manual  16312             a4   \n",
       "277257  11900        wagon               2007    auto  16311            5er   \n",
       "\n",
       "        kilometer  registration_month fuel_type           brand  \\\n",
       "78816       90000                  11  gasoline   mercedes_benz   \n",
       "42513       30000                   3    petrol           smart   \n",
       "206195     125000                   4  gasoline   mercedes_benz   \n",
       "44277       10000                   1    petrol  sonstige_autos   \n",
       "175323      20000                   1    petrol            opel   \n",
       "231901       5000                  12  gasoline            audi   \n",
       "239306     150000                  12  gasoline      volkswagen   \n",
       "290463     150000                   8  gasoline   mercedes_benz   \n",
       "197053      20000                   4    petrol            audi   \n",
       "277257     150000                  10  gasoline             bmw   \n",
       "\n",
       "                 not_repaired  \n",
       "78816                      no  \n",
       "42513   unknown_repair_status  \n",
       "206195                     no  \n",
       "44277                      no  \n",
       "175323                     no  \n",
       "231901  unknown_repair_status  \n",
       "239306                     no  \n",
       "290463                     no  \n",
       "197053                     no  \n",
       "277257                     no  "
      ]
     },
     "execution_count": 62,
     "metadata": {},
     "output_type": "execute_result"
    }
   ],
   "source": [
    "raw_autos_upd.query('power > 700').sort_values(by='price', ascending=False).head(10)"
   ]
  },
  {
   "cell_type": "markdown",
   "metadata": {},
   "source": [
    "Суперкаров не оказалось, следовательно возьмем интервал 10 < power < 700"
   ]
  },
  {
   "cell_type": "code",
   "execution_count": 63,
   "metadata": {},
   "outputs": [],
   "source": [
    "raw_autos_upd = raw_autos.query('power > 10 and power < 700')"
   ]
  },
  {
   "cell_type": "code",
   "execution_count": 64,
   "metadata": {},
   "outputs": [
    {
     "data": {
      "image/png": "[encoded data removed]",
      "text/plain": [
       "<Figure size 1008x360 with 1 Axes>"
      ]
     },
     "metadata": {
      "image/png": {
       "height": 328,
       "width": 847
      },
      "needs_background": "light"
     },
     "output_type": "display_data"
    }
   ],
   "source": [
    "drawBoxPlot(raw_autos_upd, 'power', \"Распределение мощности автомобилей UPDATED\", \"Мощность л.с\", \"Количесто автомобилей\")"
   ]
  },
  {
   "cell_type": "markdown",
   "metadata": {},
   "source": [
    "### Kilometer"
   ]
  },
  {
   "cell_type": "code",
   "execution_count": 65,
   "metadata": {},
   "outputs": [
    {
     "data": {
      "text/plain": [
       "count   289215.000\n",
       "mean    128507.097\n",
       "std      36823.463\n",
       "min       5000.000\n",
       "25%     125000.000\n",
       "50%     150000.000\n",
       "75%     150000.000\n",
       "max     150000.000\n",
       "Name: kilometer, dtype: float64"
      ]
     },
     "execution_count": 65,
     "metadata": {},
     "output_type": "execute_result"
    }
   ],
   "source": [
    "raw_autos_upd.describe()['kilometer']"
   ]
  },
  {
   "cell_type": "markdown",
   "metadata": {},
   "source": [
    "В среднем пробег составляет 128 тыс. км. Обратим внимание на значение 50% и 75% персентиль и на максимальное значение - 150 тыс. км. Ошибка ли это в записи данных? Может в форме, где заполняли информацию, было зафиксировано максимальное значиние равно 150 тыс. км?"
   ]
  },
  {
   "cell_type": "markdown",
   "metadata": {},
   "source": [
    "### Registration Month"
   ]
  },
  {
   "cell_type": "code",
   "execution_count": 66,
   "metadata": {},
   "outputs": [
    {
     "data": {
      "text/plain": [
       "count   289215.000\n",
       "mean         5.913\n",
       "std          3.620\n",
       "min          0.000\n",
       "25%          3.000\n",
       "50%          6.000\n",
       "75%          9.000\n",
       "max         12.000\n",
       "Name: registration_month, dtype: float64"
      ]
     },
     "execution_count": 66,
     "metadata": {},
     "output_type": "execute_result"
    }
   ],
   "source": [
    "raw_autos_upd.describe()['registration_month']"
   ]
  },
  {
   "cell_type": "markdown",
   "metadata": {},
   "source": [
    "Обратим внимание на минимальное и максимальное значения, 0 и 12 соответственно. Несоответствие количества месяцев."
   ]
  },
  {
   "cell_type": "markdown",
   "metadata": {},
   "source": [
    "Думаю нам не понадобится этот столбец в постройке модели машинного обучения. Так что не будем предобрабатывать этот столбец."
   ]
  },
  {
   "cell_type": "markdown",
   "metadata": {},
   "source": [
    "### Price"
   ]
  },
  {
   "cell_type": "code",
   "execution_count": 67,
   "metadata": {},
   "outputs": [
    {
     "data": {
      "text/plain": [
       "count   289215.000\n",
       "mean      4688.245\n",
       "std       4594.241\n",
       "min          0.000\n",
       "25%       1200.000\n",
       "50%       2999.000\n",
       "75%       6800.000\n",
       "max      20000.000\n",
       "Name: price, dtype: float64"
      ]
     },
     "execution_count": 67,
     "metadata": {},
     "output_type": "execute_result"
    }
   ],
   "source": [
    "raw_autos_upd.describe()['price']"
   ]
  },
  {
   "cell_type": "markdown",
   "metadata": {},
   "source": [
    "Есть нулевые значения. Посмотрим на значения"
   ]
  },
  {
   "cell_type": "code",
   "execution_count": 68,
   "metadata": {},
   "outputs": [
    {
     "data": {
      "text/html": [
       "<div>\n",
       "<style scoped>\n",
       "    .dataframe tbody tr th:only-of-type {\n",
       "        vertical-align: middle;\n",
       "    }\n",
       "\n",
       "    .dataframe tbody tr th {\n",
       "        vertical-align: top;\n",
       "    }\n",
       "\n",
       "    .dataframe thead th {\n",
       "        text-align: right;\n",
       "    }\n",
       "</style>\n",
       "<table border=\"1\" class=\"dataframe\">\n",
       "  <thead>\n",
       "    <tr style=\"text-align: right;\">\n",
       "      <th></th>\n",
       "      <th>price</th>\n",
       "      <th>vehicle_type</th>\n",
       "      <th>registration_year</th>\n",
       "      <th>gearbox</th>\n",
       "      <th>power</th>\n",
       "      <th>model</th>\n",
       "      <th>kilometer</th>\n",
       "      <th>registration_month</th>\n",
       "      <th>fuel_type</th>\n",
       "      <th>brand</th>\n",
       "      <th>not_repaired</th>\n",
       "    </tr>\n",
       "  </thead>\n",
       "  <tbody>\n",
       "    <tr>\n",
       "      <td>7</td>\n",
       "      <td>0</td>\n",
       "      <td>sedan</td>\n",
       "      <td>1980</td>\n",
       "      <td>manual</td>\n",
       "      <td>50</td>\n",
       "      <td>other</td>\n",
       "      <td>40000</td>\n",
       "      <td>7</td>\n",
       "      <td>petrol</td>\n",
       "      <td>volkswagen</td>\n",
       "      <td>no</td>\n",
       "    </tr>\n",
       "    <tr>\n",
       "      <td>59</td>\n",
       "      <td>1</td>\n",
       "      <td>suv</td>\n",
       "      <td>1994</td>\n",
       "      <td>manual</td>\n",
       "      <td>286</td>\n",
       "      <td>unknown_model</td>\n",
       "      <td>150000</td>\n",
       "      <td>11</td>\n",
       "      <td>unknown_fuel_type</td>\n",
       "      <td>sonstige_autos</td>\n",
       "      <td>unknown_repair_status</td>\n",
       "    </tr>\n",
       "    <tr>\n",
       "      <td>89</td>\n",
       "      <td>1</td>\n",
       "      <td>sedan</td>\n",
       "      <td>1995</td>\n",
       "      <td>manual</td>\n",
       "      <td>113</td>\n",
       "      <td>e_klasse</td>\n",
       "      <td>150000</td>\n",
       "      <td>4</td>\n",
       "      <td>gasoline</td>\n",
       "      <td>mercedes_benz</td>\n",
       "      <td>no</td>\n",
       "    </tr>\n",
       "    <tr>\n",
       "      <td>152</td>\n",
       "      <td>0</td>\n",
       "      <td>bus</td>\n",
       "      <td>2004</td>\n",
       "      <td>manual</td>\n",
       "      <td>101</td>\n",
       "      <td>meriva</td>\n",
       "      <td>150000</td>\n",
       "      <td>10</td>\n",
       "      <td>lpg</td>\n",
       "      <td>opel</td>\n",
       "      <td>yes</td>\n",
       "    </tr>\n",
       "    <tr>\n",
       "      <td>231</td>\n",
       "      <td>0</td>\n",
       "      <td>wagon</td>\n",
       "      <td>2001</td>\n",
       "      <td>manual</td>\n",
       "      <td>115</td>\n",
       "      <td>mondeo</td>\n",
       "      <td>150000</td>\n",
       "      <td>0</td>\n",
       "      <td>unknown_fuel_type</td>\n",
       "      <td>ford</td>\n",
       "      <td>unknown_repair_status</td>\n",
       "    </tr>\n",
       "  </tbody>\n",
       "</table>\n",
       "</div>"
      ],
      "text/plain": [
       "     price vehicle_type  registration_year gearbox  power          model  \\\n",
       "7        0        sedan               1980  manual     50          other   \n",
       "59       1          suv               1994  manual    286  unknown_model   \n",
       "89       1        sedan               1995  manual    113       e_klasse   \n",
       "152      0          bus               2004  manual    101         meriva   \n",
       "231      0        wagon               2001  manual    115         mondeo   \n",
       "\n",
       "     kilometer  registration_month          fuel_type           brand  \\\n",
       "7        40000                   7             petrol      volkswagen   \n",
       "59      150000                  11  unknown_fuel_type  sonstige_autos   \n",
       "89      150000                   4           gasoline   mercedes_benz   \n",
       "152     150000                  10                lpg            opel   \n",
       "231     150000                   0  unknown_fuel_type            ford   \n",
       "\n",
       "              not_repaired  \n",
       "7                       no  \n",
       "59   unknown_repair_status  \n",
       "89                      no  \n",
       "152                    yes  \n",
       "231  unknown_repair_status  "
      ]
     },
     "execution_count": 68,
     "metadata": {},
     "output_type": "execute_result"
    }
   ],
   "source": [
    "raw_autos_upd.query('price < 2').head()"
   ]
  },
  {
   "cell_type": "code",
   "execution_count": 69,
   "metadata": {},
   "outputs": [
    {
     "name": "stdout",
     "output_type": "stream",
     "text": [
      "Количество автомобилей с ценой 0: 6200\n"
     ]
    }
   ],
   "source": [
    "print(f'Количество автомобилей с ценой 0: {len(raw_autos_upd.query(\"price == 0\"))}')"
   ]
  },
  {
   "cell_type": "markdown",
   "metadata": {},
   "source": [
    "Отфильтруем машины, цена которых равно 0 евро."
   ]
  },
  {
   "cell_type": "code",
   "execution_count": 70,
   "metadata": {},
   "outputs": [],
   "source": [
    "raw_autos_upd = raw_autos_upd.query('price > 0').reset_index(drop=True)"
   ]
  },
  {
   "cell_type": "code",
   "execution_count": 71,
   "metadata": {},
   "outputs": [
    {
     "name": "stdout",
     "output_type": "stream",
     "text": [
      "<class 'pandas.core.frame.DataFrame'>\n",
      "RangeIndex: 283015 entries, 0 to 283014\n",
      "Data columns (total 11 columns):\n",
      "price                 283015 non-null int64\n",
      "vehicle_type          283015 non-null object\n",
      "registration_year     283015 non-null int64\n",
      "gearbox               283015 non-null object\n",
      "power                 283015 non-null int64\n",
      "model                 283015 non-null object\n",
      "kilometer             283015 non-null int64\n",
      "registration_month    283015 non-null int64\n",
      "fuel_type             283015 non-null object\n",
      "brand                 283015 non-null object\n",
      "not_repaired          283015 non-null object\n",
      "dtypes: int64(5), object(6)\n",
      "memory usage: 23.8+ MB\n"
     ]
    }
   ],
   "source": [
    "raw_autos_upd.info()"
   ]
  },
  {
   "cell_type": "markdown",
   "metadata": {},
   "source": [
    "Напишем функцию которая проверит:\n",
    "1. Пропущенные значения\n",
    "2. Дупликаты\n",
    "3. Есть ли отрицательные значения\n",
    "4. Соответствующие типы данных float64"
   ]
  },
  {
   "cell_type": "code",
   "execution_count": 72,
   "metadata": {},
   "outputs": [],
   "source": [
    "def get_preprocessed_data(raw_data):\n",
    "    \"\"\"\n",
    "    Функция проверяет данные. Возвращает предобработанные данные для обучения.\n",
    "    raw_data - данные для проверки\n",
    "    \"\"\"\n",
    "    # проверяем данные\n",
    "    assert raw_data.isna().sum().sum() == 0, 'В данных не должно быть пропущенных значений!'\n",
    "    assert raw_data.select_dtypes(exclude=[np.float64, np.int64, np.object, np.datetime64]).size == 0, 'Данные должны иметь только численный тип данных!'\n",
    "    assert raw_data.duplicated().sum().sum() == 0, 'В данных не должно быть дупликатов!'\n",
    "    print('Данные проверку прошли!')\n",
    "    #создаем копию оригинального датафрейма\n",
    "    preprocessed_data = raw_data.copy()\n",
    "    \n",
    "    return preprocessed_data"
   ]
  },
  {
   "cell_type": "code",
   "execution_count": 73,
   "metadata": {},
   "outputs": [
    {
     "name": "stdout",
     "output_type": "stream",
     "text": [
      "Данные проверку прошли!\n"
     ]
    }
   ],
   "source": [
    "autos = get_preprocessed_data(raw_autos_upd)"
   ]
  },
  {
   "cell_type": "markdown",
   "metadata": {},
   "source": [
    "<a id=\"encoding\"></a>\n",
    "## Кодирование"
   ]
  },
  {
   "cell_type": "markdown",
   "metadata": {},
   "source": [
    "Столбцы *vehicle_type*, *model*, *fuel_type*, *brand*, *not_repaired*. - категориальные признаки. Необходимо их перевести в численные признаки. Используем технику кодирования [Ordinal Encoding](https://machinelearningmastery.com/one-hot-encoding-for-categorical-data/), так как у нас много значений в категориальных признаков."
   ]
  },
  {
   "cell_type": "code",
   "execution_count": 74,
   "metadata": {},
   "outputs": [],
   "source": [
    "# создаем обьект\n",
    "encoder = OrdinalEncoder()"
   ]
  },
  {
   "cell_type": "markdown",
   "metadata": {},
   "source": [
    "Используем функцию [fit_transform()](https://scikit-learn.org/stable/modules/generated/sklearn.preprocessing.OrdinalEncoder.html#sklearn.preprocessing.OrdinalEncoder.fit_transform), которая возьмет лист категориальных признаков и преобразует их. Создадим новый датафрейм с уже преобразоваными признаками. "
   ]
  },
  {
   "cell_type": "code",
   "execution_count": 75,
   "metadata": {},
   "outputs": [
    {
     "data": {
      "text/html": [
       "<div>\n",
       "<style scoped>\n",
       "    .dataframe tbody tr th:only-of-type {\n",
       "        vertical-align: middle;\n",
       "    }\n",
       "\n",
       "    .dataframe tbody tr th {\n",
       "        vertical-align: top;\n",
       "    }\n",
       "\n",
       "    .dataframe thead th {\n",
       "        text-align: right;\n",
       "    }\n",
       "</style>\n",
       "<table border=\"1\" class=\"dataframe\">\n",
       "  <thead>\n",
       "    <tr style=\"text-align: right;\">\n",
       "      <th></th>\n",
       "      <th>price</th>\n",
       "      <th>vehicle_type</th>\n",
       "      <th>registration_year</th>\n",
       "      <th>gearbox</th>\n",
       "      <th>power</th>\n",
       "      <th>model</th>\n",
       "      <th>kilometer</th>\n",
       "      <th>registration_month</th>\n",
       "      <th>fuel_type</th>\n",
       "      <th>brand</th>\n",
       "      <th>not_repaired</th>\n",
       "    </tr>\n",
       "  </thead>\n",
       "  <tbody>\n",
       "    <tr>\n",
       "      <td>0</td>\n",
       "      <td>18300</td>\n",
       "      <td>2.000</td>\n",
       "      <td>2011</td>\n",
       "      <td>1.000</td>\n",
       "      <td>190</td>\n",
       "      <td>227.000</td>\n",
       "      <td>125000</td>\n",
       "      <td>5</td>\n",
       "      <td>2.000</td>\n",
       "      <td>1.000</td>\n",
       "      <td>2.000</td>\n",
       "    </tr>\n",
       "    <tr>\n",
       "      <td>1</td>\n",
       "      <td>9800</td>\n",
       "      <td>6.000</td>\n",
       "      <td>2004</td>\n",
       "      <td>0.000</td>\n",
       "      <td>163</td>\n",
       "      <td>117.000</td>\n",
       "      <td>125000</td>\n",
       "      <td>8</td>\n",
       "      <td>2.000</td>\n",
       "      <td>14.000</td>\n",
       "      <td>1.000</td>\n",
       "    </tr>\n",
       "    <tr>\n",
       "      <td>2</td>\n",
       "      <td>1500</td>\n",
       "      <td>5.000</td>\n",
       "      <td>2001</td>\n",
       "      <td>1.000</td>\n",
       "      <td>75</td>\n",
       "      <td>116.000</td>\n",
       "      <td>150000</td>\n",
       "      <td>6</td>\n",
       "      <td>6.000</td>\n",
       "      <td>38.000</td>\n",
       "      <td>0.000</td>\n",
       "    </tr>\n",
       "    <tr>\n",
       "      <td>3</td>\n",
       "      <td>3600</td>\n",
       "      <td>5.000</td>\n",
       "      <td>2008</td>\n",
       "      <td>1.000</td>\n",
       "      <td>69</td>\n",
       "      <td>101.000</td>\n",
       "      <td>90000</td>\n",
       "      <td>7</td>\n",
       "      <td>2.000</td>\n",
       "      <td>31.000</td>\n",
       "      <td>0.000</td>\n",
       "    </tr>\n",
       "    <tr>\n",
       "      <td>4</td>\n",
       "      <td>650</td>\n",
       "      <td>4.000</td>\n",
       "      <td>1995</td>\n",
       "      <td>1.000</td>\n",
       "      <td>102</td>\n",
       "      <td>11.000</td>\n",
       "      <td>150000</td>\n",
       "      <td>10</td>\n",
       "      <td>6.000</td>\n",
       "      <td>2.000</td>\n",
       "      <td>2.000</td>\n",
       "    </tr>\n",
       "  </tbody>\n",
       "</table>\n",
       "</div>"
      ],
      "text/plain": [
       "   price  vehicle_type  registration_year  gearbox  power   model  kilometer  \\\n",
       "0  18300         2.000               2011    1.000    190 227.000     125000   \n",
       "1   9800         6.000               2004    0.000    163 117.000     125000   \n",
       "2   1500         5.000               2001    1.000     75 116.000     150000   \n",
       "3   3600         5.000               2008    1.000     69 101.000      90000   \n",
       "4    650         4.000               1995    1.000    102  11.000     150000   \n",
       "\n",
       "   registration_month  fuel_type  brand  not_repaired  \n",
       "0                   5      2.000  1.000         2.000  \n",
       "1                   8      2.000 14.000         1.000  \n",
       "2                   6      6.000 38.000         0.000  \n",
       "3                   7      2.000 31.000         0.000  \n",
       "4                  10      6.000  2.000         2.000  "
      ]
     },
     "execution_count": 75,
     "metadata": {},
     "output_type": "execute_result"
    }
   ],
   "source": [
    "autos_ordinal = autos.copy()\n",
    "autos_ordinal.loc[:,['vehicle_type', 'model', 'fuel_type', 'brand', 'not_repaired','gearbox']] = encoder.fit_transform(autos_ordinal.loc[:,['vehicle_type', 'model', 'fuel_type', 'brand', 'not_repaired','gearbox']])\n",
    "autos_ordinal.head()"
   ]
  },
  {
   "cell_type": "markdown",
   "metadata": {},
   "source": [
    "<a id=\"dataSeparation\"></a>\n",
    "## Разделение данных"
   ]
  },
  {
   "cell_type": "markdown",
   "metadata": {},
   "source": [
    "Нам необходимо проверить модель на правильные предсказания. Мы разделим выборку для кросс-валидации. Разделим исходные данные на 2 выборки: обучающую и тестовую в соотношениее (*75/25*). Валидационная выборка формируется во время кросс-валидации."
   ]
  },
  {
   "cell_type": "markdown",
   "metadata": {},
   "source": [
    "Для начала напишем функцию разделения целевого признака от остальных."
   ]
  },
  {
   "cell_type": "code",
   "execution_count": 76,
   "metadata": {},
   "outputs": [],
   "source": [
    "def target_features_split(data,column):\n",
    "    \"\"\"\n",
    "    Функция разделяет данные на целевой признак и признаки. Функция возвращает 1) целевой признак, 2) признаки без целевого\n",
    "    data - данные которые необходимо разделить.\n",
    "    column - целевой признак\n",
    "    \"\"\"\n",
    "    return data[column], data.drop(column,axis=1)"
   ]
  },
  {
   "cell_type": "markdown",
   "metadata": {},
   "source": [
    "Зафиксируем ***random_state***."
   ]
  },
  {
   "cell_type": "code",
   "execution_count": 77,
   "metadata": {},
   "outputs": [],
   "source": [
    "random_state_value = 42"
   ]
  },
  {
   "cell_type": "code",
   "execution_count": 78,
   "metadata": {},
   "outputs": [],
   "source": [
    "target, features = target_features_split(autos_ordinal, 'price')"
   ]
  },
  {
   "cell_type": "markdown",
   "metadata": {},
   "source": [
    "В sklearn есть функция для деления выборки *train_test_split()* воспользуемся ей. Напишем функцию для деления данных и печати размеров полученных наборов, чтобы избежать ошибок."
   ]
  },
  {
   "cell_type": "code",
   "execution_count": 79,
   "metadata": {},
   "outputs": [],
   "source": [
    "def sampleSize(original, train, test):\n",
    "    \"\"\"\n",
    "    Функция для печати полученных наборов.\n",
    "    original - исходные данные\n",
    "    train - обучающая выборка\n",
    "    valid - валидационная выборка\n",
    "    test - тестовая выборка\n",
    "    \"\"\"\n",
    "    print(f'Размер исходных данных {len(original)}')\n",
    "    print(f'Размер тренировочной выборки {len(train)}')\n",
    "    print(f'Размер тестовой выборки {len(test)}')"
   ]
  },
  {
   "cell_type": "code",
   "execution_count": 80,
   "metadata": {},
   "outputs": [],
   "source": [
    "def cross_val_splitting_data(target,features):\n",
    "    \"\"\"\n",
    "    Функция для разделения данных на обучающую и тестовую выборки. Функция возвращает признаки и целевой признак: обучающей и тестовой выборки\n",
    "    target - целевой признак\n",
    "    features - признаки без целевого\n",
    "    \"\"\"\n",
    "    features_train, features_test, target_train, target_test = train_test_split(features, target,random_state=random_state_value,test_size=0.25)\n",
    "    # проверяем размеры выборок\n",
    "    sampleSize(features,features_train,features_test)\n",
    "    return features_train,target_train, features_test, target_test"
   ]
  },
  {
   "cell_type": "code",
   "execution_count": 81,
   "metadata": {},
   "outputs": [
    {
     "name": "stdout",
     "output_type": "stream",
     "text": [
      "Размер исходных данных 283015\n",
      "Размер тренировочной выборки 212261\n",
      "Размер тестовой выборки 70754\n"
     ]
    }
   ],
   "source": [
    "features_train_cross, target_train_cross, features_test_cross, target_test_cross = cross_val_splitting_data(target, features)"
   ]
  },
  {
   "cell_type": "markdown",
   "metadata": {},
   "source": [
    "<a id=\"standardization\"></a>\n",
    "## Стандартизация"
   ]
  },
  {
   "cell_type": "markdown",
   "metadata": {},
   "source": [
    "У наших признаков разный масштаб. Необходимо привести признаки к одному масштабу."
   ]
  },
  {
   "cell_type": "markdown",
   "metadata": {},
   "source": [
    "Воспользуемся отдельной структурой библиотеки *sklearn* для стандартизирования - *Standard Scaler*."
   ]
  },
  {
   "cell_type": "code",
   "execution_count": 82,
   "metadata": {},
   "outputs": [],
   "source": [
    "def crossValStandardScaling(features_train, features_test):\n",
    "    \"\"\"\n",
    "    Функция для стандартизации данных. Возвращает стандартизированые данные из обучающей и тестовой выборки\n",
    "    features_train - признаки обучающей выборки\n",
    "    features_test - признаки тестовой выборки\n",
    "    \"\"\"\n",
    "    features_train_copy = features_train.copy()\n",
    "    features_test_copy = features_test.copy()\n",
    "    # Инициализируем scaler\n",
    "    scaler = StandardScaler()\n",
    "    # численные столбцы \n",
    "    numeric = ['power','registration_year', 'kilometer']\n",
    "    # настраиваем scaler на обучающей выборке\n",
    "    scaler.fit(features_train_copy.loc[:,numeric])\n",
    "    # преобразуем выборки с помощью transform() функции.\n",
    "    features_train_copy.loc[:,numeric] = scaler.transform(features_train_copy.loc[:,numeric])\n",
    "    features_test_copy.loc[:,numeric] = scaler.transform(features_test_copy.loc[:,numeric])\n",
    "    \n",
    "    return features_train_copy, features_test_copy"
   ]
  },
  {
   "cell_type": "code",
   "execution_count": 83,
   "metadata": {},
   "outputs": [],
   "source": [
    "features_train_cross, features_test_cross = crossValStandardScaling(features_train_cross, features_test_cross)"
   ]
  },
  {
   "cell_type": "markdown",
   "metadata": {},
   "source": [
    "## Вывод"
   ]
  },
  {
   "cell_type": "markdown",
   "metadata": {},
   "source": [
    "На этапе предобработки данных, мы:\n",
    "1. Обработали столбцы. Привели все столбцы к нижнему регистру.\n",
    "2. Обработали пропущенные значения.\n",
    "3. Сделали кодирование. \n",
    "4. Убрали ненужные столбцы.\n",
    "4. Сделали финальные проверки с помощью кастомной функции. Данные проверку прошли.\n",
    "5. Мы разделили выборку для кросс-валидации. Разделили исходные данные на 2 выборки: обучающую и тестовую в соотношениее (*75/25*).\n",
    "6. Привели признаки к одному масштабу с помощью стандартизации.\n",
    "\n",
    "Данные предобработаны и готовы к обучению моделей машинного обучения. "
   ]
  },
  {
   "cell_type": "markdown",
   "metadata": {},
   "source": [
    "<a id=\"MLmodelResearch\"></a>\n",
    "# Этап 3 - Исследование моделей машинного обучения"
   ]
  },
  {
   "cell_type": "markdown",
   "metadata": {},
   "source": [
    "На этом этапе нам необходимо исследовать модели машинного обучения. Найти лучшую модель."
   ]
  },
  {
   "cell_type": "markdown",
   "metadata": {},
   "source": [
    "Необходимо проверить некоторые модели регрессии. Переберём гиперпараметры, посмотрим значения метрик:\n",
    "- RMSE (квадратный корень из средней квадратичной ошибки)."
   ]
  },
  {
   "cell_type": "markdown",
   "metadata": {},
   "source": [
    "Мы будем вести учёт моделей машинного обучения. Создадим лист моделей с помощью словаря. Потом из словаря преобразуем таблицу моделей со всеми метриками."
   ]
  },
  {
   "cell_type": "code",
   "execution_count": 84,
   "metadata": {},
   "outputs": [],
   "source": [
    "ml_models_stats = dict()"
   ]
  },
  {
   "cell_type": "markdown",
   "metadata": {},
   "source": [
    "Напишем функцию для оценки моделей. "
   ]
  },
  {
   "cell_type": "code",
   "execution_count": 85,
   "metadata": {},
   "outputs": [],
   "source": [
    "def evaluate_model(model_name, model,training_time,features_test, target_test,features_train, target_train,parameters=None):\n",
    "    \"\"\"\n",
    "    Функция оценивает модель по метрике rmse, добавляет модель в таблицу с метрикой и временем обучения.\n",
    "    model_name - имя модели\n",
    "    model - сама модель\n",
    "    train_score - точность на обучающей выборке\n",
    "    features_test - признаки на тестовой выборке\n",
    "    target_test - целевой признак на тестовой выборке\n",
    "    parameters - параметры модели\n",
    "    \"\"\"\n",
    "    print(f'Оценка модели: {model_name}')\n",
    "    if parameters:\n",
    "        print(f'с параметрами: {parameters}')\n",
    "    print()\n",
    "    predict_start = datetime.datetime.now()\n",
    "    predicted_test = model.predict(features_test)\n",
    "    predict_time = datetime.datetime.now() - predict_start\n",
    "    # MSE - средняя квадратичная ошибка\n",
    "    mse_test = mean_squared_error(target_test, predicted_test)\n",
    "    # RMSE - квардратный корень из средней квадратичной ошибки\n",
    "    rmse_test = mse_test ** 0.5\n",
    "    predicted_train = model.predict(features_train)\n",
    "    # MSE - средняя квадратичная ошибка\n",
    "    mse_train = mean_squared_error(target_train, predicted_train)\n",
    "    # RMSE - квардратный корень из средней квадратичной ошибки\n",
    "    rmse_train = mse_train ** 0.5\n",
    "    \n",
    "    print(f'RMSE модели на обучающей выборке: {rmse_train}')\n",
    "    print(f'RMSE модели на тестовой выборке: {rmse_test}')\n",
    "    print(f'Время обучения модели: {training_time}')\n",
    "    print(f'Время предсказания модели: {predict_time}')\n",
    "    # добаляем модель\n",
    "    ml_models_stats[model_name] = {\n",
    "        'название': model_name,\n",
    "        'время_обучения': training_time,\n",
    "        'время_предсказания':predict_time,\n",
    "        'rmse_test':rmse_test,\n",
    "        'rmse_train':rmse_train\n",
    "    }\n",
    "    print()\n",
    "    print('Модель успешно добавлена в таблицу!')"
   ]
  },
  {
   "cell_type": "markdown",
   "metadata": {},
   "source": [
    "Подоберём параметры с помощью GridSearchCV, в которой встроена кросс-валидация."
   ]
  },
  {
   "cell_type": "markdown",
   "metadata": {},
   "source": [
    "Создадим scorer для GridSearch"
   ]
  },
  {
   "cell_type": "code",
   "execution_count": 86,
   "metadata": {},
   "outputs": [],
   "source": [
    "def rmse(target,predictions):\n",
    "    \"\"\"\n",
    "    Функция для вычисления RMSE\n",
    "    target - целевой признак\n",
    "    predictions - предсказания\n",
    "    \"\"\"\n",
    "    mse = mean_squared_error(target, predictions)\n",
    "    return mse ** 0.5"
   ]
  },
  {
   "cell_type": "code",
   "execution_count": 87,
   "metadata": {},
   "outputs": [],
   "source": [
    "# создадим scorer\n",
    "rmse_scorer = make_scorer(rmse, greater_is_better=False)"
   ]
  },
  {
   "cell_type": "markdown",
   "metadata": {},
   "source": [
    "Линейнейная регрессия не будет работать корректно с ordinal encoding. Следовательно, ее пропустим и начнём с дерева решений. Мы бы сделали OHE encoding, однако, у нас очень много значений в категориальных признаках. OHE encoding наплодить кучу столбцов, что затруднит предсказание модели. "
   ]
  },
  {
   "cell_type": "markdown",
   "metadata": {},
   "source": [
    "### Дерево Решений"
   ]
  },
  {
   "cell_type": "code",
   "execution_count": 88,
   "metadata": {},
   "outputs": [],
   "source": [
    "start = datetime.datetime.now()\n",
    "# создаем модель\n",
    "decision_tree_model = DecisionTreeRegressor()\n",
    "# параметры\n",
    "decision_parameters = {\n",
    "              \"max_depth\": range(1, 11),\n",
    "              \"min_samples_leaf\": range(1, 11)\n",
    "}\n",
    "\n",
    "decision_grid =  RandomizedSearchCV(estimator=decision_tree_model, param_distributions=decision_parameters, cv=5,scoring=rmse_scorer, n_iter = 20, n_jobs=-1)\n",
    "decision_grid.fit(features_train_cross,target_train_cross)\n",
    "training_time = datetime.datetime.now() - start"
   ]
  },
  {
   "cell_type": "code",
   "execution_count": 89,
   "metadata": {},
   "outputs": [
    {
     "name": "stdout",
     "output_type": "stream",
     "text": [
      "Оценка модели: Дерево решений\n",
      "с параметрами: {'min_samples_leaf': 10, 'max_depth': 10}\n",
      "\n",
      "RMSE модели на обучающей выборке: 1910.28843324776\n",
      "RMSE модели на тестовой выборке: 1992.7431056252549\n",
      "Время обучения модели: 0:00:30.442216\n",
      "Время предсказания модели: 0:00:00.032113\n",
      "\n",
      "Модель успешно добавлена в таблицу!\n"
     ]
    }
   ],
   "source": [
    "evaluate_model('Дерево решений', decision_grid,training_time,features_test_cross, target_test_cross,features_train_cross,target_train_cross,decision_grid.best_params_)"
   ]
  },
  {
   "cell_type": "markdown",
   "metadata": {},
   "source": [
    "У Дерева Решений получше результат. Модель также быстро обучилась. Ошибается на ~2000 евро"
   ]
  },
  {
   "cell_type": "markdown",
   "metadata": {},
   "source": [
    "### Рандомный лес"
   ]
  },
  {
   "cell_type": "code",
   "execution_count": 90,
   "metadata": {},
   "outputs": [],
   "source": [
    "start = datetime.datetime.now()\n",
    "# создаем модель\n",
    "random_forest_model = RandomForestRegressor()\n",
    "# Параметры, которые мы перебираем\n",
    "gs_params = {\n",
    "    'max_depth': range(1, 21),\n",
    "    'n_estimators':range(1,61,10)\n",
    "}\n",
    "# Создаем GridSearch для модели\n",
    "forest_rs = RandomizedSearchCV(estimator=random_forest_model,param_distributions=gs_params,scoring=rmse_scorer,cv=5,n_iter = 20,n_jobs=-1)\n",
    "# Обучаем модель\n",
    "forest_rs.fit(features_train_cross,target_train_cross)\n",
    "training_time = datetime.datetime.now() - start"
   ]
  },
  {
   "cell_type": "code",
   "execution_count": 91,
   "metadata": {},
   "outputs": [
    {
     "name": "stdout",
     "output_type": "stream",
     "text": [
      "Оценка модели: Рандомный лес\n",
      "с параметрами: {'n_estimators': 41, 'max_depth': 19}\n",
      "\n",
      "RMSE модели на обучающей выборке: 942.0961280178917\n",
      "RMSE модели на тестовой выборке: 1666.2973356709363\n",
      "Время обучения модели: 0:11:23.820245\n",
      "Время предсказания модели: 0:00:01.094765\n",
      "\n",
      "Модель успешно добавлена в таблицу!\n"
     ]
    }
   ],
   "source": [
    "evaluate_model('Рандомный лес', forest_rs,training_time,features_test_cross, target_test_cross,features_train_cross,target_train_cross,forest_rs.best_params_)"
   ]
  },
  {
   "cell_type": "markdown",
   "metadata": {},
   "source": [
    "Рандомный лес обучается долго чем остальные модели. Однако, он показал хороший результат на обучающей выборке и на тестовой. На обучающей ошибается ~ 942 евро. На тестовой выборке ошибается на 1666 евро."
   ]
  },
  {
   "cell_type": "markdown",
   "metadata": {},
   "source": [
    "### XGBoost"
   ]
  },
  {
   "cell_type": "code",
   "execution_count": 92,
   "metadata": {},
   "outputs": [],
   "source": [
    "start = datetime.datetime.now()\n",
    "xgb_params = {\n",
    "    \"max_depth\": range(3, 10,2),\n",
    "    \"min_child_weight\": range(1,6,2)\n",
    "}\n",
    "xgb = xgb.XGBRegressor(nthread=-1) \n",
    "xgb_gs = GridSearchCV(xgb, xgb_params, scoring=rmse_scorer,n_jobs=-1)\n",
    "xgb_gs.fit(features_train_cross,target_train_cross)\n",
    "training_time = datetime.datetime.now() - start"
   ]
  },
  {
   "cell_type": "code",
   "execution_count": 93,
   "metadata": {},
   "outputs": [
    {
     "name": "stdout",
     "output_type": "stream",
     "text": [
      "Оценка модели: XGBoost\n",
      "с параметрами: {'max_depth': 9, 'min_child_weight': 3}\n",
      "\n",
      "RMSE модели на обучающей выборке: 1256.132328678058\n",
      "RMSE модели на тестовой выборке: 1615.2797843676822\n",
      "Время обучения модели: 0:05:10.405977\n",
      "Время предсказания модели: 0:00:00.439887\n",
      "\n",
      "Модель успешно добавлена в таблицу!\n"
     ]
    }
   ],
   "source": [
    "evaluate_model('XGBoost', xgb_gs,training_time,features_test_cross, target_test_cross,features_train_cross,target_train_cross,xgb_gs.best_params_)"
   ]
  },
  {
   "cell_type": "markdown",
   "metadata": {},
   "source": [
    "XGBoost тоже показал хорошие результаты на обучающей и тестовой. Однако, обучение модели тоже заняло некоторое время. "
   ]
  },
  {
   "cell_type": "markdown",
   "metadata": {},
   "source": [
    "### LightGBM"
   ]
  },
  {
   "cell_type": "code",
   "execution_count": 94,
   "metadata": {},
   "outputs": [],
   "source": [
    "start = datetime.datetime.now()\n",
    "lgb_params = {\n",
    "    'objective': ['regression','binary'],\n",
    "    'boosting_type' : ['dart','gbdt','goss'],\n",
    "    'max_depth': [15,30],\n",
    "    'num_leaves': [10,200,250]\n",
    "}\n",
    "lgb_reg = lgb.LGBMRegressor()\n",
    "lgb_gs = GridSearchCV(lgb_reg, lgb_params,scoring=rmse_scorer,n_jobs=-1)\n",
    "lgb_gs.fit(features_train_cross,target_train_cross)\n",
    "training_time = datetime.datetime.now() - start"
   ]
  },
  {
   "cell_type": "code",
   "execution_count": 95,
   "metadata": {},
   "outputs": [
    {
     "name": "stdout",
     "output_type": "stream",
     "text": [
      "Оценка модели: LightGBM\n",
      "с параметрами: {'boosting_type': 'gbdt', 'max_depth': 30, 'num_leaves': 250, 'objective': 'regression'}\n",
      "\n",
      "RMSE модели на обучающей выборке: 1416.2791271046506\n",
      "RMSE модели на тестовой выборке: 1606.765772967259\n",
      "Время обучения модели: 0:03:59.303109\n",
      "Время предсказания модели: 0:00:00.790812\n",
      "\n",
      "Модель успешно добавлена в таблицу!\n"
     ]
    }
   ],
   "source": [
    "evaluate_model('LightGBM', lgb_gs,training_time,features_test_cross, target_test_cross,features_train_cross,target_train_cross,lgb_gs.best_params_)"
   ]
  },
  {
   "cell_type": "markdown",
   "metadata": {},
   "source": [
    "Лучший результат на тестовой выборке. Модель ошибаетсч на 1606 евро. Также, модель обучилась за ~4 минуты. "
   ]
  },
  {
   "cell_type": "markdown",
   "metadata": {},
   "source": [
    "### CatBoost"
   ]
  },
  {
   "cell_type": "code",
   "execution_count": 96,
   "metadata": {},
   "outputs": [],
   "source": [
    "start = datetime.datetime.now()\n",
    "catBoost_params = {\n",
    "    'learning_rate': [1],\n",
    "    'depth': [5, 6, 7, 8],\n",
    "    'l2_leaf_reg': [1, 2, 3]\n",
    "}\n",
    "catBoost_reg = CatBoostRegressor(loss_function='RMSE',random_state=random_state_value,silent=True,eval_metric=\"RMSE\")\n",
    "catBoost_gs = GridSearchCV(catBoost_reg, catBoost_params,scoring=rmse_scorer,n_jobs=-1)\n",
    "catBoost_gs.fit(features_train_cross,  target_train_cross)\n",
    "training_time = datetime.datetime.now() - start"
   ]
  },
  {
   "cell_type": "code",
   "execution_count": 97,
   "metadata": {},
   "outputs": [
    {
     "name": "stdout",
     "output_type": "stream",
     "text": [
      "Оценка модели: CatBoost\n",
      "с параметрами: {'depth': 5, 'l2_leaf_reg': 3, 'learning_rate': 1}\n",
      "\n",
      "RMSE модели на обучающей выборке: 1380.7964664998067\n",
      "RMSE модели на тестовой выборке: 1662.6493826463202\n",
      "Время обучения модели: 0:10:48.601729\n",
      "Время предсказания модели: 0:00:00.078539\n",
      "\n",
      "Модель успешно добавлена в таблицу!\n"
     ]
    }
   ],
   "source": [
    "evaluate_model('CatBoost', catBoost_gs,training_time, features_test_cross, target_test_cross,features_train_cross,target_train_cross,catBoost_gs.best_params_)"
   ]
  },
  {
   "cell_type": "markdown",
   "metadata": {},
   "source": [
    "20 минут 0_0 Очень долго обучилась. Модель показала неплохой результат на тесте."
   ]
  },
  {
   "cell_type": "markdown",
   "metadata": {},
   "source": [
    "Проведем проверку на вменяемость. Обучим Dummy модель."
   ]
  },
  {
   "cell_type": "markdown",
   "metadata": {},
   "source": [
    "### Dummy"
   ]
  },
  {
   "cell_type": "code",
   "execution_count": 98,
   "metadata": {},
   "outputs": [],
   "source": [
    "start = datetime.datetime.now()\n",
    "# создаем модель\n",
    "dummy_model = DummyRegressor(strategy=\"constant\", constant=target_train_cross.median())\n",
    "# тренируем модель\n",
    "dummy_model.fit(features_train_cross,target_train_cross)\n",
    "training_time = datetime.datetime.now() - start"
   ]
  },
  {
   "cell_type": "code",
   "execution_count": 99,
   "metadata": {},
   "outputs": [
    {
     "name": "stdout",
     "output_type": "stream",
     "text": [
      "Оценка модели: Дамми модель\n",
      "\n",
      "RMSE модели на обучающей выборке: 4925.31598536369\n",
      "RMSE модели на тестовой выборке: 4935.895636107522\n",
      "Время обучения модели: 0:00:00.010681\n",
      "Время предсказания модели: 0:00:00.000474\n",
      "\n",
      "Модель успешно добавлена в таблицу!\n"
     ]
    }
   ],
   "source": [
    "evaluate_model('Дамми модель', dummy_model, training_time, features_test_cross, target_test_cross,features_train_cross,target_train_cross)"
   ]
  },
  {
   "cell_type": "markdown",
   "metadata": {},
   "source": [
    "### Вывод"
   ]
  },
  {
   "cell_type": "markdown",
   "metadata": {},
   "source": [
    "На этом этапе мы исследовали разные ML модели: Линейная Регрессия, Дерево Решение, Рандомный Лес, XGBoost, LightGBM, CatBoost. Написали функцию для оценки моделей. "
   ]
  },
  {
   "cell_type": "markdown",
   "metadata": {},
   "source": [
    "<br>"
   ]
  },
  {
   "cell_type": "markdown",
   "metadata": {},
   "source": [
    "<a id=\"resultsRearchModel\"></a>\n",
    "# Этап 4 - Анализ скорость работы и качество моделей"
   ]
  },
  {
   "cell_type": "markdown",
   "metadata": {},
   "source": [
    "На этом этапе надо проанализировать скорость работы и качество моделей."
   ]
  },
  {
   "cell_type": "markdown",
   "metadata": {},
   "source": [
    "Мы проверили 6 моделей машинного обучения (*Linear Regression*, *Decision Tree*, *Random Forest*, *XGBoost*, *LightGBM*, *CatBoost*). Подобрали параметры с помощью *GridSearchCV*, в котором встроена *кросс-валидация*"
   ]
  },
  {
   "cell_type": "markdown",
   "metadata": {},
   "source": [
    "Для бизнеса важны следующие метрики: **точность, время обучения, время предсказания**. По этим метрикам будем выбирать лучшую модель."
   ]
  },
  {
   "cell_type": "markdown",
   "metadata": {},
   "source": [
    "Напишем дополнительную функцию для вывода графиков"
   ]
  },
  {
   "cell_type": "code",
   "execution_count": 100,
   "metadata": {},
   "outputs": [],
   "source": [
    "def drawPlot(df,x_axis, y_axis, x_label, y_label,plot_title, order_by=None):\n",
    "    \"\"\"\n",
    "    Функция отрисовки графика\n",
    "    df - данные\n",
    "    x_axis - ось x\n",
    "    y_axis - ось y\n",
    "    x_label - название оси x\n",
    "    y_label - название оси y\n",
    "    plot_title - заголовок\n",
    "    order - столбец по которому будет определяться порядок\n",
    "    \"\"\"\n",
    "    # Заголовок\n",
    "    plt.title(plot_title)\n",
    "    sns.barplot(x=x_axis,y=y_axis, data=df,order=df[order_by])\n",
    "    # подписать оси \n",
    "    plt.xlabel(x_label)\n",
    "    plt.ylabel(y_label)\n",
    "    plt.show()"
   ]
  },
  {
   "cell_type": "markdown",
   "metadata": {},
   "source": [
    "Создадим таблицу из полученных данных."
   ]
  },
  {
   "cell_type": "code",
   "execution_count": 101,
   "metadata": {},
   "outputs": [
    {
     "data": {
      "text/html": [
       "<div>\n",
       "<style scoped>\n",
       "    .dataframe tbody tr th:only-of-type {\n",
       "        vertical-align: middle;\n",
       "    }\n",
       "\n",
       "    .dataframe tbody tr th {\n",
       "        vertical-align: top;\n",
       "    }\n",
       "\n",
       "    .dataframe thead th {\n",
       "        text-align: right;\n",
       "    }\n",
       "</style>\n",
       "<table border=\"1\" class=\"dataframe\">\n",
       "  <thead>\n",
       "    <tr style=\"text-align: right;\">\n",
       "      <th></th>\n",
       "      <th>название</th>\n",
       "      <th>время_обучения</th>\n",
       "      <th>время_предсказания</th>\n",
       "      <th>rmse_test</th>\n",
       "      <th>rmse_train</th>\n",
       "    </tr>\n",
       "  </thead>\n",
       "  <tbody>\n",
       "    <tr>\n",
       "      <td>0</td>\n",
       "      <td>Дерево решений</td>\n",
       "      <td>00:00:30.442216</td>\n",
       "      <td>00:00:00.032113</td>\n",
       "      <td>1992.743</td>\n",
       "      <td>1910.288</td>\n",
       "    </tr>\n",
       "    <tr>\n",
       "      <td>1</td>\n",
       "      <td>Рандомный лес</td>\n",
       "      <td>00:11:23.820245</td>\n",
       "      <td>00:00:01.094765</td>\n",
       "      <td>1666.297</td>\n",
       "      <td>942.096</td>\n",
       "    </tr>\n",
       "    <tr>\n",
       "      <td>2</td>\n",
       "      <td>XGBoost</td>\n",
       "      <td>00:05:10.405977</td>\n",
       "      <td>00:00:00.439887</td>\n",
       "      <td>1615.280</td>\n",
       "      <td>1256.132</td>\n",
       "    </tr>\n",
       "    <tr>\n",
       "      <td>3</td>\n",
       "      <td>LightGBM</td>\n",
       "      <td>00:03:59.303109</td>\n",
       "      <td>00:00:00.790812</td>\n",
       "      <td>1606.766</td>\n",
       "      <td>1416.279</td>\n",
       "    </tr>\n",
       "    <tr>\n",
       "      <td>4</td>\n",
       "      <td>CatBoost</td>\n",
       "      <td>00:10:48.601729</td>\n",
       "      <td>00:00:00.078539</td>\n",
       "      <td>1662.649</td>\n",
       "      <td>1380.796</td>\n",
       "    </tr>\n",
       "    <tr>\n",
       "      <td>5</td>\n",
       "      <td>Дамми модель</td>\n",
       "      <td>00:00:00.010681</td>\n",
       "      <td>00:00:00.000474</td>\n",
       "      <td>4935.896</td>\n",
       "      <td>4925.316</td>\n",
       "    </tr>\n",
       "  </tbody>\n",
       "</table>\n",
       "</div>"
      ],
      "text/plain": [
       "         название  время_обучения время_предсказания  rmse_test  rmse_train\n",
       "0  Дерево решений 00:00:30.442216    00:00:00.032113   1992.743    1910.288\n",
       "1   Рандомный лес 00:11:23.820245    00:00:01.094765   1666.297     942.096\n",
       "2         XGBoost 00:05:10.405977    00:00:00.439887   1615.280    1256.132\n",
       "3        LightGBM 00:03:59.303109    00:00:00.790812   1606.766    1416.279\n",
       "4        CatBoost 00:10:48.601729    00:00:00.078539   1662.649    1380.796\n",
       "5    Дамми модель 00:00:00.010681    00:00:00.000474   4935.896    4925.316"
      ]
     },
     "execution_count": 101,
     "metadata": {},
     "output_type": "execute_result"
    }
   ],
   "source": [
    "ml_models = pd.DataFrame.from_dict(data=ml_models_stats, orient='index').reset_index(drop=True)\n",
    "ml_models"
   ]
  },
  {
   "cell_type": "markdown",
   "metadata": {},
   "source": [
    "Модели которые прошли проверку на вменяемость."
   ]
  },
  {
   "cell_type": "code",
   "execution_count": 102,
   "metadata": {},
   "outputs": [
    {
     "data": {
      "text/html": [
       "<div>\n",
       "<style scoped>\n",
       "    .dataframe tbody tr th:only-of-type {\n",
       "        vertical-align: middle;\n",
       "    }\n",
       "\n",
       "    .dataframe tbody tr th {\n",
       "        vertical-align: top;\n",
       "    }\n",
       "\n",
       "    .dataframe thead th {\n",
       "        text-align: right;\n",
       "    }\n",
       "</style>\n",
       "<table border=\"1\" class=\"dataframe\">\n",
       "  <thead>\n",
       "    <tr style=\"text-align: right;\">\n",
       "      <th></th>\n",
       "      <th>название</th>\n",
       "      <th>время_обучения</th>\n",
       "      <th>время_предсказания</th>\n",
       "      <th>rmse_test</th>\n",
       "      <th>rmse_train</th>\n",
       "    </tr>\n",
       "  </thead>\n",
       "  <tbody>\n",
       "    <tr>\n",
       "      <td>0</td>\n",
       "      <td>Дерево решений</td>\n",
       "      <td>00:00:30.442216</td>\n",
       "      <td>00:00:00.032113</td>\n",
       "      <td>1992.743</td>\n",
       "      <td>1910.288</td>\n",
       "    </tr>\n",
       "    <tr>\n",
       "      <td>1</td>\n",
       "      <td>Рандомный лес</td>\n",
       "      <td>00:11:23.820245</td>\n",
       "      <td>00:00:01.094765</td>\n",
       "      <td>1666.297</td>\n",
       "      <td>942.096</td>\n",
       "    </tr>\n",
       "    <tr>\n",
       "      <td>2</td>\n",
       "      <td>XGBoost</td>\n",
       "      <td>00:05:10.405977</td>\n",
       "      <td>00:00:00.439887</td>\n",
       "      <td>1615.280</td>\n",
       "      <td>1256.132</td>\n",
       "    </tr>\n",
       "    <tr>\n",
       "      <td>3</td>\n",
       "      <td>LightGBM</td>\n",
       "      <td>00:03:59.303109</td>\n",
       "      <td>00:00:00.790812</td>\n",
       "      <td>1606.766</td>\n",
       "      <td>1416.279</td>\n",
       "    </tr>\n",
       "    <tr>\n",
       "      <td>4</td>\n",
       "      <td>CatBoost</td>\n",
       "      <td>00:10:48.601729</td>\n",
       "      <td>00:00:00.078539</td>\n",
       "      <td>1662.649</td>\n",
       "      <td>1380.796</td>\n",
       "    </tr>\n",
       "  </tbody>\n",
       "</table>\n",
       "</div>"
      ],
      "text/plain": [
       "         название  время_обучения время_предсказания  rmse_test  rmse_train\n",
       "0  Дерево решений 00:00:30.442216    00:00:00.032113   1992.743    1910.288\n",
       "1   Рандомный лес 00:11:23.820245    00:00:01.094765   1666.297     942.096\n",
       "2         XGBoost 00:05:10.405977    00:00:00.439887   1615.280    1256.132\n",
       "3        LightGBM 00:03:59.303109    00:00:00.790812   1606.766    1416.279\n",
       "4        CatBoost 00:10:48.601729    00:00:00.078539   1662.649    1380.796"
      ]
     },
     "execution_count": 102,
     "metadata": {},
     "output_type": "execute_result"
    }
   ],
   "source": [
    "approved_models = ml_models.query(\"rmse_test < 4862.087\")\n",
    "approved_models"
   ]
  },
  {
   "cell_type": "markdown",
   "metadata": {},
   "source": [
    "Все модели прошли проверку на вменяемость"
   ]
  },
  {
   "cell_type": "markdown",
   "metadata": {},
   "source": [
    "Переведём время предсказания в милллисекунды"
   ]
  },
  {
   "cell_type": "code",
   "execution_count": 103,
   "metadata": {},
   "outputs": [],
   "source": [
    "def milliseconds_from_timedelta(timedelta):\n",
    "    \"\"\"Перевод в миллисекунды с обьекта timedelta\"\"\"\n",
    "    return timedelta.total_seconds() * 1e3"
   ]
  },
  {
   "cell_type": "code",
   "execution_count": 104,
   "metadata": {},
   "outputs": [],
   "source": [
    "approved_models['время_предсказания_миллисекунды'] = approved_models['время_предсказания'].apply(milliseconds_from_timedelta)"
   ]
  },
  {
   "cell_type": "markdown",
   "metadata": {},
   "source": [
    "Переведём время обучения в секунды"
   ]
  },
  {
   "cell_type": "code",
   "execution_count": 105,
   "metadata": {},
   "outputs": [],
   "source": [
    "def seconds_from_timedelta(timedelta):\n",
    "    \"\"\"Перевод в секунды с обьекта timedelta\"\"\"\n",
    "    return timedelta.total_seconds()"
   ]
  },
  {
   "cell_type": "code",
   "execution_count": 106,
   "metadata": {},
   "outputs": [],
   "source": [
    "approved_models['время_обучения_секунды'] = approved_models['время_обучения'].apply(seconds_from_timedelta)"
   ]
  },
  {
   "cell_type": "markdown",
   "metadata": {},
   "source": [
    "Найдём самую лучшую модель по метрике RMSE на тестовой выборке"
   ]
  },
  {
   "cell_type": "code",
   "execution_count": 107,
   "metadata": {},
   "outputs": [
    {
     "data": {
      "text/html": [
       "<div>\n",
       "<style scoped>\n",
       "    .dataframe tbody tr th:only-of-type {\n",
       "        vertical-align: middle;\n",
       "    }\n",
       "\n",
       "    .dataframe tbody tr th {\n",
       "        vertical-align: top;\n",
       "    }\n",
       "\n",
       "    .dataframe thead th {\n",
       "        text-align: right;\n",
       "    }\n",
       "</style>\n",
       "<table border=\"1\" class=\"dataframe\">\n",
       "  <thead>\n",
       "    <tr style=\"text-align: right;\">\n",
       "      <th></th>\n",
       "      <th>название</th>\n",
       "      <th>rmse_test</th>\n",
       "    </tr>\n",
       "  </thead>\n",
       "  <tbody>\n",
       "    <tr>\n",
       "      <td>0</td>\n",
       "      <td>LightGBM</td>\n",
       "      <td>1606.766</td>\n",
       "    </tr>\n",
       "    <tr>\n",
       "      <td>1</td>\n",
       "      <td>XGBoost</td>\n",
       "      <td>1615.280</td>\n",
       "    </tr>\n",
       "    <tr>\n",
       "      <td>2</td>\n",
       "      <td>CatBoost</td>\n",
       "      <td>1662.649</td>\n",
       "    </tr>\n",
       "    <tr>\n",
       "      <td>3</td>\n",
       "      <td>Рандомный лес</td>\n",
       "      <td>1666.297</td>\n",
       "    </tr>\n",
       "    <tr>\n",
       "      <td>4</td>\n",
       "      <td>Дерево решений</td>\n",
       "      <td>1992.743</td>\n",
       "    </tr>\n",
       "  </tbody>\n",
       "</table>\n",
       "</div>"
      ],
      "text/plain": [
       "         название  rmse_test\n",
       "0        LightGBM   1606.766\n",
       "1         XGBoost   1615.280\n",
       "2        CatBoost   1662.649\n",
       "3   Рандомный лес   1666.297\n",
       "4  Дерево решений   1992.743"
      ]
     },
     "metadata": {},
     "output_type": "display_data"
    },
    {
     "data": {
      "image/png": "[encoded data removed]",
      "text/plain": [
       "<Figure size 1008x360 with 1 Axes>"
      ]
     },
     "metadata": {
      "image/png": {
       "height": 342,
       "width": 856
      },
      "needs_background": "light"
     },
     "output_type": "display_data"
    }
   ],
   "source": [
    "rmse_test_sorted = approved_models.sort_values(by='rmse_test',ascending=True).reset_index()\n",
    "display(rmse_test_sorted[['название','rmse_test']])\n",
    "# Рисуем график\n",
    "drawPlot(rmse_test_sorted, 'название','rmse_test','Модели','RMSE','RMSE моделей на тестовой выборке','название' )"
   ]
  },
  {
   "cell_type": "markdown",
   "metadata": {},
   "source": [
    "На первом месте оказалась модель LightGBM с результатом - **1606.766**. Следом идет XGBoost с результатом - 1615.280"
   ]
  },
  {
   "cell_type": "markdown",
   "metadata": {},
   "source": [
    "Найдём самую быструю модель в обучении"
   ]
  },
  {
   "cell_type": "code",
   "execution_count": 108,
   "metadata": {},
   "outputs": [
    {
     "data": {
      "text/html": [
       "<div>\n",
       "<style scoped>\n",
       "    .dataframe tbody tr th:only-of-type {\n",
       "        vertical-align: middle;\n",
       "    }\n",
       "\n",
       "    .dataframe tbody tr th {\n",
       "        vertical-align: top;\n",
       "    }\n",
       "\n",
       "    .dataframe thead th {\n",
       "        text-align: right;\n",
       "    }\n",
       "</style>\n",
       "<table border=\"1\" class=\"dataframe\">\n",
       "  <thead>\n",
       "    <tr style=\"text-align: right;\">\n",
       "      <th></th>\n",
       "      <th>название</th>\n",
       "      <th>время_обучения</th>\n",
       "    </tr>\n",
       "  </thead>\n",
       "  <tbody>\n",
       "    <tr>\n",
       "      <td>0</td>\n",
       "      <td>Дерево решений</td>\n",
       "      <td>00:00:30.442216</td>\n",
       "    </tr>\n",
       "    <tr>\n",
       "      <td>1</td>\n",
       "      <td>LightGBM</td>\n",
       "      <td>00:03:59.303109</td>\n",
       "    </tr>\n",
       "    <tr>\n",
       "      <td>2</td>\n",
       "      <td>XGBoost</td>\n",
       "      <td>00:05:10.405977</td>\n",
       "    </tr>\n",
       "    <tr>\n",
       "      <td>3</td>\n",
       "      <td>CatBoost</td>\n",
       "      <td>00:10:48.601729</td>\n",
       "    </tr>\n",
       "    <tr>\n",
       "      <td>4</td>\n",
       "      <td>Рандомный лес</td>\n",
       "      <td>00:11:23.820245</td>\n",
       "    </tr>\n",
       "  </tbody>\n",
       "</table>\n",
       "</div>"
      ],
      "text/plain": [
       "         название  время_обучения\n",
       "0  Дерево решений 00:00:30.442216\n",
       "1        LightGBM 00:03:59.303109\n",
       "2         XGBoost 00:05:10.405977\n",
       "3        CatBoost 00:10:48.601729\n",
       "4   Рандомный лес 00:11:23.820245"
      ]
     },
     "metadata": {},
     "output_type": "display_data"
    },
    {
     "data": {
      "image/png": "[encoded data removed]",
      "text/plain": [
       "<Figure size 1008x360 with 1 Axes>"
      ]
     },
     "metadata": {
      "image/png": {
       "height": 342,
       "width": 944
      },
      "needs_background": "light"
     },
     "output_type": "display_data"
    }
   ],
   "source": [
    "train_time_sorted = approved_models.sort_values(by='время_обучения_секунды',ascending=True).reset_index()\n",
    "display(train_time_sorted[['название','время_обучения']])\n",
    "# Рисуем график\n",
    "drawPlot(train_time_sorted,'время_обучения_секунды','название','Время сек','Модели','Время обучения моделей','название' )"
   ]
  },
  {
   "cell_type": "markdown",
   "metadata": {},
   "source": [
    "Меньше всего времени потратило Дерево Решений. Следом идут LightGBM и XGBoost. Рандомный лес - 11 минут"
   ]
  },
  {
   "cell_type": "markdown",
   "metadata": {},
   "source": [
    "Найдём самую быструю модель в предсказании"
   ]
  },
  {
   "cell_type": "code",
   "execution_count": 109,
   "metadata": {},
   "outputs": [
    {
     "data": {
      "text/html": [
       "<div>\n",
       "<style scoped>\n",
       "    .dataframe tbody tr th:only-of-type {\n",
       "        vertical-align: middle;\n",
       "    }\n",
       "\n",
       "    .dataframe tbody tr th {\n",
       "        vertical-align: top;\n",
       "    }\n",
       "\n",
       "    .dataframe thead th {\n",
       "        text-align: right;\n",
       "    }\n",
       "</style>\n",
       "<table border=\"1\" class=\"dataframe\">\n",
       "  <thead>\n",
       "    <tr style=\"text-align: right;\">\n",
       "      <th></th>\n",
       "      <th>название</th>\n",
       "      <th>время_предсказания</th>\n",
       "    </tr>\n",
       "  </thead>\n",
       "  <tbody>\n",
       "    <tr>\n",
       "      <td>0</td>\n",
       "      <td>Дерево решений</td>\n",
       "      <td>00:00:00.032113</td>\n",
       "    </tr>\n",
       "    <tr>\n",
       "      <td>1</td>\n",
       "      <td>CatBoost</td>\n",
       "      <td>00:00:00.078539</td>\n",
       "    </tr>\n",
       "    <tr>\n",
       "      <td>2</td>\n",
       "      <td>XGBoost</td>\n",
       "      <td>00:00:00.439887</td>\n",
       "    </tr>\n",
       "    <tr>\n",
       "      <td>3</td>\n",
       "      <td>LightGBM</td>\n",
       "      <td>00:00:00.790812</td>\n",
       "    </tr>\n",
       "    <tr>\n",
       "      <td>4</td>\n",
       "      <td>Рандомный лес</td>\n",
       "      <td>00:00:01.094765</td>\n",
       "    </tr>\n",
       "  </tbody>\n",
       "</table>\n",
       "</div>"
      ],
      "text/plain": [
       "         название время_предсказания\n",
       "0  Дерево решений    00:00:00.032113\n",
       "1        CatBoost    00:00:00.078539\n",
       "2         XGBoost    00:00:00.439887\n",
       "3        LightGBM    00:00:00.790812\n",
       "4   Рандомный лес    00:00:01.094765"
      ]
     },
     "metadata": {},
     "output_type": "display_data"
    },
    {
     "data": {
      "image/png": "[encoded data removed]",
      "text/plain": [
       "<Figure size 1008x360 with 1 Axes>"
      ]
     },
     "metadata": {
      "image/png": {
       "height": 342,
       "width": 944
      },
      "needs_background": "light"
     },
     "output_type": "display_data"
    }
   ],
   "source": [
    "predict_time_sorted = approved_models.sort_values(by='время_предсказания_миллисекунды',ascending=True).reset_index()\n",
    "display(predict_time_sorted[['название','время_предсказания']])\n",
    "# Рисуем график\n",
    "drawPlot(predict_time_sorted,'время_предсказания_миллисекунды','название','Время, мсек','Модели','Время предсказания моделей','название' )"
   ]
  },
  {
   "cell_type": "markdown",
   "metadata": {},
   "source": [
    "Быстрое предсказание у Дерева Решений и CatBoost. Следом идет XGBoost. Самый последний - Рандомный Лес."
   ]
  },
  {
   "cell_type": "markdown",
   "metadata": {},
   "source": [
    "Основываясь на полученных результатах и графиках, выберем лучшую модель - **LightGBM**. У модели хороший показатель точности, среднее время обучения и предсказания."
   ]
  },
  {
   "cell_type": "markdown",
   "metadata": {},
   "source": [
    "<br>"
   ]
  },
  {
   "cell_type": "markdown",
   "metadata": {},
   "source": [
    "<a id=\"results\"></a>\n",
    "# Этап 5 - Результаты работы"
   ]
  },
  {
   "cell_type": "markdown",
   "metadata": {},
   "source": [
    "В ходе проекта мы успешно построили модели Машинного Обучения для быстрого определения стоимости автомобиля. Выбрали лучшую модель, которая соотвествует требованию бизнеса. В проекте мы сделали:\n",
    "- Предобработку данных: \n",
    "    1. Обработали столбцы. Привели все столбцы к нижнему регистру.\n",
    "    2. Обработали пропущенные значения.\n",
    "    3. Сделали кодирование. \n",
    "    4. Убрали ненужные столбцы.\n",
    "    4. Сделали финальные проверки с помощью кастомной функции. Данные проверку прошли.\n",
    "    5. Мы разделили выборку для кросс-валидации. Разделили исходные данные на 2 выборки: обучающую и тестовую в соотношениее (*75/25*).\n",
    "    6. Привели признаки к одному масштабу с помощью стандартизации.\n",
    "    \n",
    "- Исследовали модели Машинного обучения:\n",
    "    1. Подобрали параметры для каждой модели с помощью GridSearchCV, в которой встроена кросс-валидация.\n",
    "    2. Мы исследовали разные ML модели: Линейная Регрессия, Дерево Решение, Рандомный Лес, XGBoost, LightGBM, CatBoost.\n",
    "    \n",
    "- Провели анализ скорости и точности моделей: \n",
    "    1. Провели проверку на вменяемость. Все модели прошли тест.\n",
    "    2. Основываясь на метриках, которые соотвествуют требованию бизнеса, выбрали лучшую модель - **LightGBM**."
   ]
  },
  {
   "cell_type": "markdown",
   "metadata": {},
   "source": [
    "### Информации по модели"
   ]
  },
  {
   "cell_type": "code",
   "execution_count": 110,
   "metadata": {},
   "outputs": [
    {
     "data": {
      "text/html": [
       "<div>\n",
       "<style scoped>\n",
       "    .dataframe tbody tr th:only-of-type {\n",
       "        vertical-align: middle;\n",
       "    }\n",
       "\n",
       "    .dataframe tbody tr th {\n",
       "        vertical-align: top;\n",
       "    }\n",
       "\n",
       "    .dataframe thead th {\n",
       "        text-align: right;\n",
       "    }\n",
       "</style>\n",
       "<table border=\"1\" class=\"dataframe\">\n",
       "  <thead>\n",
       "    <tr style=\"text-align: right;\">\n",
       "      <th></th>\n",
       "      <th>название</th>\n",
       "      <th>время_обучения</th>\n",
       "      <th>время_предсказания</th>\n",
       "      <th>rmse_test</th>\n",
       "      <th>rmse_train</th>\n",
       "      <th>время_предсказания_миллисекунды</th>\n",
       "      <th>время_обучения_секунды</th>\n",
       "    </tr>\n",
       "  </thead>\n",
       "  <tbody>\n",
       "    <tr>\n",
       "      <td>3</td>\n",
       "      <td>LightGBM</td>\n",
       "      <td>00:03:59.303109</td>\n",
       "      <td>00:00:00.790812</td>\n",
       "      <td>1606.766</td>\n",
       "      <td>1416.279</td>\n",
       "      <td>790.812</td>\n",
       "      <td>239.303</td>\n",
       "    </tr>\n",
       "  </tbody>\n",
       "</table>\n",
       "</div>"
      ],
      "text/plain": [
       "   название  время_обучения время_предсказания  rmse_test  rmse_train  \\\n",
       "3  LightGBM 00:03:59.303109    00:00:00.790812   1606.766    1416.279   \n",
       "\n",
       "   время_предсказания_миллисекунды  время_обучения_секунды  \n",
       "3                          790.812                 239.303  "
      ]
     },
     "execution_count": 110,
     "metadata": {},
     "output_type": "execute_result"
    }
   ],
   "source": [
    "approved_models.query('название == \"LightGBM\"')"
   ]
  },
  {
   "cell_type": "code",
   "execution_count": null,
   "metadata": {},
   "outputs": [],
   "source": []
  }
 ],
 "metadata": {
  "kernelspec": {
   "display_name": "Python 3",
   "language": "python",
   "name": "python3"
  },
  "language_info": {
   "codemirror_mode": {
    "name": "ipython",
    "version": 3
   },
   "file_extension": ".py",
   "mimetype": "text/x-python",
   "name": "python",
   "nbconvert_exporter": "python",
   "pygments_lexer": "ipython3",
   "version": "3.7.8"
  },
  "toc": {
   "base_numbering": 1,
   "nav_menu": {},
   "number_sections": true,
   "sideBar": true,
   "skip_h1_title": true,
   "title_cell": "Table of Contents",
   "title_sidebar": "Contents",
   "toc_cell": false,
   "toc_position": {},
   "toc_section_display": true,
   "toc_window_display": false
  }
 },
 "nbformat": 4,
 "nbformat_minor": 4
}
