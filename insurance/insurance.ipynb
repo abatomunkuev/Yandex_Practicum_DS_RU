{
 "cells": [
  {
   "cell_type": "markdown",
   "metadata": {},
   "source": [
    "# Вступление"
   ]
  },
  {
   "cell_type": "markdown",
   "metadata": {},
   "source": [
    "Этот проект показывает: \n",
    "- способность писать структурированный код на Python. \n",
    "- возможность использования существующих утилит(библиотек) для обработки и анализа данных.\n",
    "- навыки анализа и предварительной обработки данных\n",
    "- визуализация данных\n",
    "- работа с векторами и матрицами\n",
    "- создание модели Linear Regression"
   ]
  },
  {
   "cell_type": "markdown",
   "metadata": {},
   "source": [
    "Проект включает в себя:\n",
    "1. Теоритическую часть: матрицы, матричное умножение\n",
    "2. Создание алгоритма преобразования данных и его применение\n",
    "3. Создание модели Linear Regression"
   ]
  },
  {
   "cell_type": "markdown",
   "metadata": {},
   "source": [
    "Проект из учебного курса \"[Специалист по Data Science](https://praktikum.yandex.ru/data-scientist)\" от [Яндекс Практикум](https://practicum.yandex.ru/)."
   ]
  },
  {
   "cell_type": "markdown",
   "metadata": {},
   "source": [
    "# Подготовка проекта"
   ]
  },
  {
   "cell_type": "code",
   "execution_count": 1,
   "metadata": {},
   "outputs": [
    {
     "data": {
      "text/html": [
       "<style>\n",
       "table {float:left}\n",
       "</style>\n"
      ],
      "text/plain": [
       "<IPython.core.display.HTML object>"
      ]
     },
     "metadata": {},
     "output_type": "display_data"
    }
   ],
   "source": [
    "%%html\n",
    "<style>\n",
    "table {float:left}\n",
    "</style>"
   ]
  },
  {
   "cell_type": "markdown",
   "metadata": {},
   "source": [
    "## Импорт библиотек"
   ]
  },
  {
   "cell_type": "code",
   "execution_count": 1,
   "metadata": {},
   "outputs": [],
   "source": [
    "import numpy as np\n",
    "import pandas as pd\n",
    "import random\n",
    "from scipy import stats as st\n",
    "import warnings\n",
    "# Для чтения файла\n",
    "import os \n",
    "from pathlib import Path\n",
    "import urllib\n",
    "# Модели машинного обучения для задач регрессии\n",
    "from sklearn.linear_model import LinearRegression\n",
    "# Метрики регрессии - оценка моделей\n",
    "from sklearn.metrics import mean_squared_error, r2_score, mean_absolute_error, make_scorer\n",
    "# Для визуализации графиков\n",
    "import matplotlib as mpl\n",
    "import matplotlib.pyplot as plt\n",
    "import matplotlib.ticker as ticker\n",
    "import seaborn as sns\n",
    "# Для разделения данных на обучающий, валидационный, тестовый набор данных. \n",
    "from sklearn.model_selection import train_test_split, cross_val_score"
   ]
  },
  {
   "cell_type": "markdown",
   "metadata": {},
   "source": [
    "## Настройка matplotlib"
   ]
  },
  {
   "cell_type": "code",
   "execution_count": 2,
   "metadata": {},
   "outputs": [],
   "source": [
    "%matplotlib inline\n",
    "small, medium, large = 14, 16, 22\n",
    "params = {'figure.figsize':   (14, 5),\n",
    "          'figure.titlesize': medium,\n",
    "          'legend.fontsize':  small,\n",
    "          'axes.titlesize':   small,\n",
    "          'axes.labelsize':   small,\n",
    "          'xtick.labelsize':  small,\n",
    "          'ytick.labelsize':  small,\n",
    "          'legend.loc':       'best'}\n",
    "plt.rcParams.update(params)"
   ]
  },
  {
   "cell_type": "code",
   "execution_count": 3,
   "metadata": {},
   "outputs": [],
   "source": [
    "# повышение четкости на больших экранах\n",
    "%config InlineBackend.figure_format = 'retina'"
   ]
  },
  {
   "cell_type": "code",
   "execution_count": 4,
   "metadata": {},
   "outputs": [],
   "source": [
    "# отключим всякие предупреждения Anaconda\n",
    "warnings.filterwarnings('ignore')"
   ]
  },
  {
   "cell_type": "code",
   "execution_count": 5,
   "metadata": {},
   "outputs": [],
   "source": [
    "# уберём экспоненциальную запись\n",
    "pd.options.display.float_format = '{:.3f}'.format"
   ]
  },
  {
   "cell_type": "code",
   "execution_count": 6,
   "metadata": {},
   "outputs": [],
   "source": [
    "# вывод всех столбцов\n",
    "pd.set_option('display.max_columns', None)"
   ]
  },
  {
   "cell_type": "markdown",
   "metadata": {},
   "source": [
    "# Линейная алгебра"
   ]
  },
  {
   "cell_type": "markdown",
   "metadata": {},
   "source": [
    "# Проект \"Защита пользовательских данных\""
   ]
  },
  {
   "cell_type": "markdown",
   "metadata": {},
   "source": [
    "## Описание проекта\n",
    "Страховая компания нуждается в защите пользовательских данных. \n",
    "## Описание данных\n",
    "Данные от страховой компании. Каждый обьект представляет информацию о пользователе страховой компании: пол, возраст, зарплата, количество членов его семьи, количество страховых выплат клиенту за последние 5 лет.\n",
    "\n",
    "|Столбец            |Описание          | Тип столбца |\n",
    " |:---------------|:------------------------|:-----------|\n",
    " |Пол| Пол клиента страховой компании | feature |\n",
    " |Возраст| Возраст клиента| feature |\n",
    " |Зарплата | Зарплата клиента| feature |\n",
    " |Члены семьи| Количество членов семьи у клиента | feature |\n",
    " |Страховые выплаты | Количество страховых выплат клиента | target feature |"
   ]
  },
  {
   "cell_type": "markdown",
   "metadata": {},
   "source": [
    "## Цель проекта \n",
    "Необходимо разработать такой метод [шифрования](https://ru.wikipedia.org/wiki/%D0%A8%D0%B8%D1%84%D1%80%D0%BE%D0%B2%D0%B0%D0%BD%D0%B8%D0%B5) данных, чтобы при преобразовании качество моделей машинного обучения не улучшилось."
   ]
  },
  {
   "cell_type": "markdown",
   "metadata": {},
   "source": [
    "## План работы\n",
    "\n",
    "1. [Обзор данных](#review)\n",
    "2. [Предобработка данных](#dataPreprocessing)\n",
    "    - [Обработка столбцов](#columnProcessing)\n",
    "    - [Проверка данных на дупликаты, отрицательные значения, пропущенные значения](#dataCheck)\n",
    "3. [Теоретическое доказательство](#theoryProof)\n",
    "4. [Алгоритм преобразования данных](#dataEncryptAlgorithm)\n",
    "    - [Создание модели](#modelCreation)\n",
    "5. [Применение алгоритма](#algorithmApplication)\n",
    "    - [Разделение данных](#dataSeparation)\n",
    "    - [Применение оригинального алгоритма](#originalAlgorithmApplication)\n",
    "        - [Модель из sklearn](#originalAlgoSklearnModel)\n",
    "        - [Кастомная модель](#originalAlgoCustomModel)\n",
    "    - [Применение предложенного алгоритма](#suggestedAlgorithmApplication)\n",
    "        - [Модель из sklearn](#suggestedAlgoSklearnModel)\n",
    "        - [Кастомная модель](#suggestedAlgoCustomModel)\n",
    "6. [Результаты работы](#results)"
   ]
  },
  {
   "cell_type": "markdown",
   "metadata": {},
   "source": [
    "<br>"
   ]
  },
  {
   "cell_type": "markdown",
   "metadata": {},
   "source": [
    "<a id=\"review\"></a>\n",
    "# Этап 1 - Обзор данных"
   ]
  },
  {
   "cell_type": "markdown",
   "metadata": {},
   "source": [
    "Прочитаем предоставленный файл. Сохраним данные в соотвествующую переменную."
   ]
  },
  {
   "cell_type": "code",
   "execution_count": 7,
   "metadata": {},
   "outputs": [],
   "source": [
    "Path('datasets').mkdir(parents=True, exist_ok=True)\n",
    "#Создаем функцию для чтения файла\n",
    "def get_file(file_name, url):\n",
    "    # Проверяем есть ли файл\n",
    "    if not os.path.exists(file_name):\n",
    "        print(file_name,'файл не найден, будет загружен из сети')\n",
    "        # качаем файл по ссылке url, кладем по пути file_name\n",
    "        # загружаем с помощью библиотеки urllib\n",
    "        _ = urllib.request.urlretrieve(url, file_name)\n",
    "\n",
    "# Словарь с именем файла и ссылкой на него\n",
    "urls = {\n",
    "    'insurance': ('datasets/insurance.csv', '___________'),\n",
    "}\n",
    "[get_file(*urls[k]) for k in urls]\n",
    "[get_file(urls[k][0], urls[k][1]) for k in urls]\n",
    "\n",
    "# сохраним полученные из файлов датафреймы в соответствующие переменные\n",
    "raw_insurance_data = pd.read_csv(urls['insurance'][0],sep=',')"
   ]
  },
  {
   "cell_type": "markdown",
   "metadata": {},
   "source": [
    "Напишем функцию для вывод общей информации"
   ]
  },
  {
   "cell_type": "code",
   "execution_count": 8,
   "metadata": {},
   "outputs": [],
   "source": [
    "def displayGeneralDataInfo(data):\n",
    "    \"\"\"\n",
    "    Функция для вывода общей информации\n",
    "    data - данные(датафреймы)\n",
    "    \"\"\"\n",
    "    print(\"Выведем первые 5 строк таблицы.\")\n",
    "    print()\n",
    "    # вывод первых 5 строк \n",
    "    display(data.head())\n",
    "    print(\"Выведем общую информацию \")\n",
    "    print()\n",
    "    # вывод общей информации\n",
    "    display(data.info())\n",
    "    print(\"Посмотрим на значения, распределения в нашем DataFrame.\")\n",
    "    print()\n",
    "    # вывод значений, распределений в нашем DataFrame.\n",
    "    display(data.describe().T)\n",
    "    print(\"Посмотрим на корреляцию.\")\n",
    "    print()\n",
    "    # вывод корелляции\n",
    "    display(data.corr())\n",
    "    print()"
   ]
  },
  {
   "cell_type": "code",
   "execution_count": 9,
   "metadata": {},
   "outputs": [
    {
     "name": "stdout",
     "output_type": "stream",
     "text": [
      "Выведем первые 5 строк таблицы.\n",
      "\n"
     ]
    },
    {
     "data": {
      "text/html": [
       "<div>\n",
       "<style scoped>\n",
       "    .dataframe tbody tr th:only-of-type {\n",
       "        vertical-align: middle;\n",
       "    }\n",
       "\n",
       "    .dataframe tbody tr th {\n",
       "        vertical-align: top;\n",
       "    }\n",
       "\n",
       "    .dataframe thead th {\n",
       "        text-align: right;\n",
       "    }\n",
       "</style>\n",
       "<table border=\"1\" class=\"dataframe\">\n",
       "  <thead>\n",
       "    <tr style=\"text-align: right;\">\n",
       "      <th></th>\n",
       "      <th>Пол</th>\n",
       "      <th>Возраст</th>\n",
       "      <th>Зарплата</th>\n",
       "      <th>Члены семьи</th>\n",
       "      <th>Страховые выплаты</th>\n",
       "    </tr>\n",
       "  </thead>\n",
       "  <tbody>\n",
       "    <tr>\n",
       "      <td>0</td>\n",
       "      <td>1</td>\n",
       "      <td>41.000</td>\n",
       "      <td>49600.000</td>\n",
       "      <td>1</td>\n",
       "      <td>0</td>\n",
       "    </tr>\n",
       "    <tr>\n",
       "      <td>1</td>\n",
       "      <td>0</td>\n",
       "      <td>46.000</td>\n",
       "      <td>38000.000</td>\n",
       "      <td>1</td>\n",
       "      <td>1</td>\n",
       "    </tr>\n",
       "    <tr>\n",
       "      <td>2</td>\n",
       "      <td>0</td>\n",
       "      <td>29.000</td>\n",
       "      <td>21000.000</td>\n",
       "      <td>0</td>\n",
       "      <td>0</td>\n",
       "    </tr>\n",
       "    <tr>\n",
       "      <td>3</td>\n",
       "      <td>0</td>\n",
       "      <td>21.000</td>\n",
       "      <td>41700.000</td>\n",
       "      <td>2</td>\n",
       "      <td>0</td>\n",
       "    </tr>\n",
       "    <tr>\n",
       "      <td>4</td>\n",
       "      <td>1</td>\n",
       "      <td>28.000</td>\n",
       "      <td>26100.000</td>\n",
       "      <td>0</td>\n",
       "      <td>0</td>\n",
       "    </tr>\n",
       "  </tbody>\n",
       "</table>\n",
       "</div>"
      ],
      "text/plain": [
       "   Пол  Возраст  Зарплата  Члены семьи  Страховые выплаты\n",
       "0    1   41.000 49600.000            1                  0\n",
       "1    0   46.000 38000.000            1                  1\n",
       "2    0   29.000 21000.000            0                  0\n",
       "3    0   21.000 41700.000            2                  0\n",
       "4    1   28.000 26100.000            0                  0"
      ]
     },
     "metadata": {},
     "output_type": "display_data"
    },
    {
     "name": "stdout",
     "output_type": "stream",
     "text": [
      "Выведем общую информацию \n",
      "\n",
      "<class 'pandas.core.frame.DataFrame'>\n",
      "RangeIndex: 5000 entries, 0 to 4999\n",
      "Data columns (total 5 columns):\n",
      "Пол                  5000 non-null int64\n",
      "Возраст              5000 non-null float64\n",
      "Зарплата             5000 non-null float64\n",
      "Члены семьи          5000 non-null int64\n",
      "Страховые выплаты    5000 non-null int64\n",
      "dtypes: float64(2), int64(3)\n",
      "memory usage: 195.4 KB\n"
     ]
    },
    {
     "data": {
      "text/plain": [
       "None"
      ]
     },
     "metadata": {},
     "output_type": "display_data"
    },
    {
     "name": "stdout",
     "output_type": "stream",
     "text": [
      "Посмотрим на значения, распределения в нашем DataFrame.\n",
      "\n"
     ]
    },
    {
     "data": {
      "text/html": [
       "<div>\n",
       "<style scoped>\n",
       "    .dataframe tbody tr th:only-of-type {\n",
       "        vertical-align: middle;\n",
       "    }\n",
       "\n",
       "    .dataframe tbody tr th {\n",
       "        vertical-align: top;\n",
       "    }\n",
       "\n",
       "    .dataframe thead th {\n",
       "        text-align: right;\n",
       "    }\n",
       "</style>\n",
       "<table border=\"1\" class=\"dataframe\">\n",
       "  <thead>\n",
       "    <tr style=\"text-align: right;\">\n",
       "      <th></th>\n",
       "      <th>count</th>\n",
       "      <th>mean</th>\n",
       "      <th>std</th>\n",
       "      <th>min</th>\n",
       "      <th>25%</th>\n",
       "      <th>50%</th>\n",
       "      <th>75%</th>\n",
       "      <th>max</th>\n",
       "    </tr>\n",
       "  </thead>\n",
       "  <tbody>\n",
       "    <tr>\n",
       "      <td>Пол</td>\n",
       "      <td>5000.000</td>\n",
       "      <td>0.499</td>\n",
       "      <td>0.500</td>\n",
       "      <td>0.000</td>\n",
       "      <td>0.000</td>\n",
       "      <td>0.000</td>\n",
       "      <td>1.000</td>\n",
       "      <td>1.000</td>\n",
       "    </tr>\n",
       "    <tr>\n",
       "      <td>Возраст</td>\n",
       "      <td>5000.000</td>\n",
       "      <td>30.953</td>\n",
       "      <td>8.441</td>\n",
       "      <td>18.000</td>\n",
       "      <td>24.000</td>\n",
       "      <td>30.000</td>\n",
       "      <td>37.000</td>\n",
       "      <td>65.000</td>\n",
       "    </tr>\n",
       "    <tr>\n",
       "      <td>Зарплата</td>\n",
       "      <td>5000.000</td>\n",
       "      <td>39916.360</td>\n",
       "      <td>9900.084</td>\n",
       "      <td>5300.000</td>\n",
       "      <td>33300.000</td>\n",
       "      <td>40200.000</td>\n",
       "      <td>46600.000</td>\n",
       "      <td>79000.000</td>\n",
       "    </tr>\n",
       "    <tr>\n",
       "      <td>Члены семьи</td>\n",
       "      <td>5000.000</td>\n",
       "      <td>1.194</td>\n",
       "      <td>1.091</td>\n",
       "      <td>0.000</td>\n",
       "      <td>0.000</td>\n",
       "      <td>1.000</td>\n",
       "      <td>2.000</td>\n",
       "      <td>6.000</td>\n",
       "    </tr>\n",
       "    <tr>\n",
       "      <td>Страховые выплаты</td>\n",
       "      <td>5000.000</td>\n",
       "      <td>0.148</td>\n",
       "      <td>0.463</td>\n",
       "      <td>0.000</td>\n",
       "      <td>0.000</td>\n",
       "      <td>0.000</td>\n",
       "      <td>0.000</td>\n",
       "      <td>5.000</td>\n",
       "    </tr>\n",
       "  </tbody>\n",
       "</table>\n",
       "</div>"
      ],
      "text/plain": [
       "                     count      mean      std      min       25%       50%  \\\n",
       "Пол               5000.000     0.499    0.500    0.000     0.000     0.000   \n",
       "Возраст           5000.000    30.953    8.441   18.000    24.000    30.000   \n",
       "Зарплата          5000.000 39916.360 9900.084 5300.000 33300.000 40200.000   \n",
       "Члены семьи       5000.000     1.194    1.091    0.000     0.000     1.000   \n",
       "Страховые выплаты 5000.000     0.148    0.463    0.000     0.000     0.000   \n",
       "\n",
       "                        75%       max  \n",
       "Пол                   1.000     1.000  \n",
       "Возраст              37.000    65.000  \n",
       "Зарплата          46600.000 79000.000  \n",
       "Члены семьи           2.000     6.000  \n",
       "Страховые выплаты     0.000     5.000  "
      ]
     },
     "metadata": {},
     "output_type": "display_data"
    },
    {
     "name": "stdout",
     "output_type": "stream",
     "text": [
      "Посмотрим на корреляцию.\n",
      "\n"
     ]
    },
    {
     "data": {
      "text/html": [
       "<div>\n",
       "<style scoped>\n",
       "    .dataframe tbody tr th:only-of-type {\n",
       "        vertical-align: middle;\n",
       "    }\n",
       "\n",
       "    .dataframe tbody tr th {\n",
       "        vertical-align: top;\n",
       "    }\n",
       "\n",
       "    .dataframe thead th {\n",
       "        text-align: right;\n",
       "    }\n",
       "</style>\n",
       "<table border=\"1\" class=\"dataframe\">\n",
       "  <thead>\n",
       "    <tr style=\"text-align: right;\">\n",
       "      <th></th>\n",
       "      <th>Пол</th>\n",
       "      <th>Возраст</th>\n",
       "      <th>Зарплата</th>\n",
       "      <th>Члены семьи</th>\n",
       "      <th>Страховые выплаты</th>\n",
       "    </tr>\n",
       "  </thead>\n",
       "  <tbody>\n",
       "    <tr>\n",
       "      <td>Пол</td>\n",
       "      <td>1.000</td>\n",
       "      <td>0.002</td>\n",
       "      <td>0.015</td>\n",
       "      <td>-0.009</td>\n",
       "      <td>0.010</td>\n",
       "    </tr>\n",
       "    <tr>\n",
       "      <td>Возраст</td>\n",
       "      <td>0.002</td>\n",
       "      <td>1.000</td>\n",
       "      <td>-0.019</td>\n",
       "      <td>-0.007</td>\n",
       "      <td>0.651</td>\n",
       "    </tr>\n",
       "    <tr>\n",
       "      <td>Зарплата</td>\n",
       "      <td>0.015</td>\n",
       "      <td>-0.019</td>\n",
       "      <td>1.000</td>\n",
       "      <td>-0.030</td>\n",
       "      <td>-0.015</td>\n",
       "    </tr>\n",
       "    <tr>\n",
       "      <td>Члены семьи</td>\n",
       "      <td>-0.009</td>\n",
       "      <td>-0.007</td>\n",
       "      <td>-0.030</td>\n",
       "      <td>1.000</td>\n",
       "      <td>-0.036</td>\n",
       "    </tr>\n",
       "    <tr>\n",
       "      <td>Страховые выплаты</td>\n",
       "      <td>0.010</td>\n",
       "      <td>0.651</td>\n",
       "      <td>-0.015</td>\n",
       "      <td>-0.036</td>\n",
       "      <td>1.000</td>\n",
       "    </tr>\n",
       "  </tbody>\n",
       "</table>\n",
       "</div>"
      ],
      "text/plain": [
       "                     Пол  Возраст  Зарплата  Члены семьи  Страховые выплаты\n",
       "Пол                1.000    0.002     0.015       -0.009              0.010\n",
       "Возраст            0.002    1.000    -0.019       -0.007              0.651\n",
       "Зарплата           0.015   -0.019     1.000       -0.030             -0.015\n",
       "Члены семьи       -0.009   -0.007    -0.030        1.000             -0.036\n",
       "Страховые выплаты  0.010    0.651    -0.015       -0.036              1.000"
      ]
     },
     "metadata": {},
     "output_type": "display_data"
    },
    {
     "name": "stdout",
     "output_type": "stream",
     "text": [
      "\n"
     ]
    }
   ],
   "source": [
    "displayGeneralDataInfo(raw_insurance_data)"
   ]
  },
  {
   "cell_type": "markdown",
   "metadata": {},
   "source": [
    "Комментарии: \n",
    "1. 5000 обьектов в датафрейме.  \n",
    "2. Пропущенных значений нету. Отрицательных значений нету. \n",
    "3. Столбцы: *Пол, Возраст, Зарплата, Члены семьи, Страховые выплаты*, по которым мы будем предсказывать целевой признак. Целевой признак - *Страховые выплаты* - количество страховых выплат.\n",
    "4. Столбцы записаны с заглавной буквы. Необходимо перевести столбцы к одному регистру для дальнейшей работы."
   ]
  },
  {
   "cell_type": "markdown",
   "metadata": {},
   "source": [
    "Посмотрим на распределения в данных. Напишем функцию для вывода распределения."
   ]
  },
  {
   "cell_type": "code",
   "execution_count": 10,
   "metadata": {},
   "outputs": [],
   "source": [
    "def dataDistribution(df,column,title,x_label, y_label):\n",
    "    \"\"\"\n",
    "    Функция выводит распределения в данных\n",
    "    df - dataframe, датафрейм\n",
    "    column - столбец\n",
    "    title - заголовок\n",
    "    x_label - название оси x\n",
    "    y_label - название оси y\n",
    "    \"\"\"\n",
    "    sns.kdeplot(data=df[column], label=column, shade=True)\n",
    "    plt.title(title)\n",
    "    plt.xlabel(x_label)\n",
    "    plt.ylabel(y_label)\n",
    "    plt.legend()\n",
    "    plt.show()"
   ]
  },
  {
   "cell_type": "markdown",
   "metadata": {},
   "source": [
    "### Возраст"
   ]
  },
  {
   "cell_type": "code",
   "execution_count": 11,
   "metadata": {},
   "outputs": [
    {
     "data": {
      "image/png": "[encoded data removed]",
      "text/plain": [
       "<Figure size 1008x360 with 1 Axes>"
      ]
     },
     "metadata": {
      "image/png": {
       "height": 342,
       "width": 860
      },
      "needs_background": "light"
     },
     "output_type": "display_data"
    }
   ],
   "source": [
    "dataDistribution(raw_insurance_data, 'Возраст', \"Распределение возраста\", \"возраст\", \"количество значений\")"
   ]
  },
  {
   "cell_type": "markdown",
   "metadata": {},
   "source": [
    "Большинство значений в диапазоне от 20 до 35-40 лет."
   ]
  },
  {
   "cell_type": "markdown",
   "metadata": {},
   "source": [
    "## Зарплата"
   ]
  },
  {
   "cell_type": "code",
   "execution_count": 12,
   "metadata": {},
   "outputs": [
    {
     "data": {
      "image/png": "[encoded data removed]",
      "text/plain": [
       "<Figure size 1008x360 with 1 Axes>"
      ]
     },
     "metadata": {
      "image/png": {
       "height": 342,
       "width": 887
      },
      "needs_background": "light"
     },
     "output_type": "display_data"
    }
   ],
   "source": [
    "dataDistribution(raw_insurance_data, 'Зарплата', \"Распределение зарплаты\", \"зарплата\", \"количество значений\")"
   ]
  },
  {
   "cell_type": "markdown",
   "metadata": {},
   "source": [
    "Мы видим нормальное распределение. В среднем, клиент получает около 40000 рублей. Большинство значений в диапазоне от 25 до 55 тыс. рублей."
   ]
  },
  {
   "cell_type": "markdown",
   "metadata": {},
   "source": [
    "## Члены семьи"
   ]
  },
  {
   "cell_type": "code",
   "execution_count": 13,
   "metadata": {},
   "outputs": [
    {
     "data": {
      "image/png": "[encoded data removed]",
      "text/plain": [
       "<Figure size 1008x360 with 1 Axes>"
      ]
     },
     "metadata": {
      "image/png": {
       "height": 342,
       "width": 842
      },
      "needs_background": "light"
     },
     "output_type": "display_data"
    }
   ],
   "source": [
    "dataDistribution(raw_insurance_data, 'Члены семьи', \"Распределение количества членов семьи\", \"количество членов семьи\", \"количество значений\")"
   ]
  },
  {
   "cell_type": "markdown",
   "metadata": {},
   "source": [
    "Большинство клиентов не имеют семьи, или же имеют семью,но без детей."
   ]
  },
  {
   "cell_type": "markdown",
   "metadata": {},
   "source": [
    "## Страховые выплаты"
   ]
  },
  {
   "cell_type": "code",
   "execution_count": 14,
   "metadata": {},
   "outputs": [
    {
     "data": {
      "image/png": "[encoded data removed]",
      "text/plain": [
       "<Figure size 1008x360 with 1 Axes>"
      ]
     },
     "metadata": {
      "image/png": {
       "height": 342,
       "width": 842
      },
      "needs_background": "light"
     },
     "output_type": "display_data"
    }
   ],
   "source": [
    "dataDistribution(raw_insurance_data, 'Страховые выплаты', \"Распределение страховых выплат\", \"страховые выплаты\", \"количество значений\")"
   ]
  },
  {
   "cell_type": "markdown",
   "metadata": {},
   "source": [
    "У большинства клиентов нет страховых выплат."
   ]
  },
  {
   "cell_type": "markdown",
   "metadata": {},
   "source": [
    "## Вывод"
   ]
  },
  {
   "cell_type": "markdown",
   "metadata": {},
   "source": [
    "1. 5000 обьектов в датафрейме.  \n",
    "2. Пропущенных значений нету. Отрицательных значений нету. \n",
    "3. Столбцы: *Пол, Возраст, Зарплата, Члены семьи, Страховые выплаты*, по которым мы будем предсказывать целевой признак. Целевой признак - *Страховые выплаты* - количество страховых выплат.\n",
    "4. Столбцы записаны с заглавной буквы. Необходимо перевести столбцы к одному регистру для дальнейшей работы.\n",
    "5. Распределения:\n",
    "    - Возраст: Большинство значений в диапазоне от 20 до 35-40 лет.\n",
    "    - Зарплата: Мы видим нормальное распределение. В среднем, клиент получает около 40000 рублей. Большинство значений в диапазоне от 25 до 55 тыс. рублей.\n",
    "    - Члены семьи: Большинство клиентов не имеют семьи или же имеют семью но без детей. \n",
    "    - Страховые выплаты: У большинства клиентов нет страховых выплат.\n",
    "    \n",
    "Нам необходимо: \n",
    "1. Предобработать данные:\n",
    "    - Перевести все столбцы в нижний регистр\n",
    "    - Поменять тип данных столбца возраст c *float* на *int*.\n",
    "    - Проверить данные на пропущенные, дупликаты, отрицательные значения\n",
    "2. Посмотреть если умножить матрицу признаков на обратимую матрицу, изменится ли качество линейной регрессии?\n",
    "3. Предложить алгоритм преобразования данных.\n",
    "4. Применить предложенный алгоритм и сравнить значения метрики *R2*."
   ]
  },
  {
   "cell_type": "markdown",
   "metadata": {},
   "source": [
    "<br>"
   ]
  },
  {
   "cell_type": "markdown",
   "metadata": {},
   "source": [
    "<a id=\"dataPreprocessing\"></a>\n",
    "# Этап 2 - Предобработка данных"
   ]
  },
  {
   "cell_type": "markdown",
   "metadata": {},
   "source": [
    "На этапе предобработки данных, нам необходимо: \n",
    "1. Перевести все столбцы в нижний регистр\n",
    "2. Проверка данных на дупликаты, отрицательные значения."
   ]
  },
  {
   "cell_type": "markdown",
   "metadata": {},
   "source": [
    "<a id=\"columnProcessing\"></a>\n",
    "## Обработка столбцов"
   ]
  },
  {
   "cell_type": "markdown",
   "metadata": {},
   "source": [
    "Переведём все наименования столбцов в нижний регистр. Напишем функцию."
   ]
  },
  {
   "cell_type": "code",
   "execution_count": 15,
   "metadata": {},
   "outputs": [],
   "source": [
    "def snake_case(s):\n",
    "    \"\"\"\n",
    "    Преобразование строк из camelCase в snake_case.\n",
    "    s - строка имя столбца\n",
    "    \"\"\"\n",
    "    return ''.join('_' + c.lower()\n",
    "                   if all([i != 0,\n",
    "                           c.isupper(),\n",
    "                           s[i - 1].islower()])\n",
    "                   else c.lower()\n",
    "                   for i, c in enumerate(s))"
   ]
  },
  {
   "cell_type": "code",
   "execution_count": 16,
   "metadata": {},
   "outputs": [
    {
     "data": {
      "text/plain": [
       "Index(['пол', 'возраст', 'зарплата', 'члены семьи', 'страховые выплаты'], dtype='object')"
      ]
     },
     "execution_count": 16,
     "metadata": {},
     "output_type": "execute_result"
    }
   ],
   "source": [
    "# Преобразуем колонки в snake_case\n",
    "raw_insurance_data.columns = map(snake_case, raw_insurance_data.columns)\n",
    "raw_insurance_data.columns"
   ]
  },
  {
   "cell_type": "markdown",
   "metadata": {},
   "source": [
    "Столбцы переведены, проведём проверку данных."
   ]
  },
  {
   "cell_type": "markdown",
   "metadata": {},
   "source": [
    "<a id=\"dataCheck\"></a>\n",
    "## Проверка данных на дупликаты, отрицательные значения, пропущенные значения."
   ]
  },
  {
   "cell_type": "markdown",
   "metadata": {},
   "source": [
    "Напишем функцию которая проверит:\n",
    "1. Пропущенные значения\n",
    "2. Дупликаты\n",
    "3. Есть ли отрицательные значения\n",
    "4. Соответствующие типы данных float64,int64"
   ]
  },
  {
   "cell_type": "code",
   "execution_count": 17,
   "metadata": {},
   "outputs": [],
   "source": [
    "def get_preprocessed_data(raw_data):\n",
    "    \"\"\"\n",
    "    Функция проверяет данные. Возвращает предобработанные данные для обучения.\n",
    "    raw_data - данные для проверки\n",
    "    \"\"\"\n",
    "    # проверяем данные\n",
    "    assert raw_data.isna().sum().sum() == 0, 'В данных не должно быть пропущенных значений!'\n",
    "    assert raw_data.select_dtypes(exclude=[np.float64,np.int64]).size == 0, 'Данные должны иметь только численный тип данных!'\n",
    "    assert raw_data.duplicated().sum().sum() == 0, 'В данных не должно быть дупликатов!'\n",
    "    assert raw_data.min().min() == 0,'В данных не должно быть отрицательных значений!'\n",
    "    print('Данные проверку прошли!')\n",
    "    #создаем копию оригинального датафрейма\n",
    "    preprocessed_data = raw_data.copy()\n",
    "    \n",
    "    try:\n",
    "        preprocessed_data['возраст'] = preprocessed_data['возраст'].astype('int')\n",
    "    except:\n",
    "        print('Check for missing values. Data type - NaN can not be converted to int')\n",
    "    \n",
    "    return preprocessed_data"
   ]
  },
  {
   "cell_type": "code",
   "execution_count": 18,
   "metadata": {},
   "outputs": [],
   "source": [
    "# insurance_data = get_preprocessed_data(raw_insurance_data)\n",
    "# появились дупликаты"
   ]
  },
  {
   "cell_type": "markdown",
   "metadata": {},
   "source": [
    "Посмотритм дупликаты."
   ]
  },
  {
   "cell_type": "code",
   "execution_count": 19,
   "metadata": {},
   "outputs": [
    {
     "data": {
      "text/plain": [
       "153"
      ]
     },
     "execution_count": 19,
     "metadata": {},
     "output_type": "execute_result"
    }
   ],
   "source": [
    "raw_insurance_data.duplicated().sum()"
   ]
  },
  {
   "cell_type": "markdown",
   "metadata": {},
   "source": [
    "153 обьекта - дупликатов. Удалим их методом *drop_duplicates()*."
   ]
  },
  {
   "cell_type": "code",
   "execution_count": 20,
   "metadata": {},
   "outputs": [],
   "source": [
    "raw_insurance_data = raw_insurance_data.drop_duplicates().reset_index(drop=True)"
   ]
  },
  {
   "cell_type": "code",
   "execution_count": 21,
   "metadata": {},
   "outputs": [
    {
     "name": "stdout",
     "output_type": "stream",
     "text": [
      "Данные проверку прошли!\n"
     ]
    }
   ],
   "source": [
    "insurance_data = get_preprocessed_data(raw_insurance_data)"
   ]
  },
  {
   "cell_type": "markdown",
   "metadata": {},
   "source": [
    "Посмотрим сколько обьектов у нас осталось."
   ]
  },
  {
   "cell_type": "code",
   "execution_count": 22,
   "metadata": {},
   "outputs": [
    {
     "name": "stdout",
     "output_type": "stream",
     "text": [
      "Количество обьектов: 4847\n"
     ]
    }
   ],
   "source": [
    "print(f'Количество обьектов: {insurance_data.shape[0]}')"
   ]
  },
  {
   "cell_type": "markdown",
   "metadata": {},
   "source": [
    "## Вывод"
   ]
  },
  {
   "cell_type": "markdown",
   "metadata": {},
   "source": [
    "На этапе предобработки данных, мы:\n",
    "1. Перевели все столбцы в нижний регистр\n",
    "2. Проверили данные на пропущенные значения, дупликаты, отрицательные значения. Обнаружилось 153 обьекта -  дупликатов. Удалили дупликаты. Данные проверку прошли.\n",
    "3. Количество обьектов: 4847"
   ]
  },
  {
   "cell_type": "markdown",
   "metadata": {},
   "source": [
    "<br>"
   ]
  },
  {
   "cell_type": "markdown",
   "metadata": {},
   "source": [
    "<a id=\"theoryProof\"></a>\n",
    "# Этап 3 - Теоретическое доказательство"
   ]
  },
  {
   "cell_type": "markdown",
   "metadata": {},
   "source": [
    "На этом этапе необходимо проверить: если умножить матрицу признаков на обратимую матрицу, изменится ли качество линейной регрессии? "
   ]
  },
  {
   "cell_type": "markdown",
   "metadata": {},
   "source": [
    "Для линейной регрессии необходимо найти параметры модели, при которых значение функции потерь (*loss function*) на обучающей выборке минимально. Формула задачи обучения линейной регрессии для функции потерь (*loss function*): "
   ]
  },
  {
   "cell_type": "markdown",
   "metadata": {},
   "source": [
    "\\begin{equation} w=argminMSE(Xw, y) \\end{equation}"
   ]
  },
  {
   "cell_type": "markdown",
   "metadata": {},
   "source": [
    "Минимальное значение *MSE* получается, когда веса равны этой величине:  "
   ]
  },
  {
   "cell_type": "markdown",
   "metadata": {},
   "source": [
    "\\begin{equation} w=(X^{T}*X)^{-1}*X^{T}*y \\end{equation}"
   ]
  },
  {
   "cell_type": "markdown",
   "metadata": {},
   "source": [
    "- Транспонированная матрица признаков умножается на себя. \n",
    "- Вычисляется обратная к результату матрица.\n",
    "- Полученная обратная матрица умножается на транспонированную матрицу признаков.\n",
    "- Результат умножается на вектор значений целевого признака"
   ]
  },
  {
   "cell_type": "markdown",
   "metadata": {},
   "source": [
    "Матрица **А** со степенью *-1* называется **обратной** к квадратной матрице **A**, если выполняются равенства:"
   ]
  },
  {
   "cell_type": "markdown",
   "metadata": {},
   "source": [
    "\\begin{equation} AA^{-1} = A^{-1}A = E \\end{equation}"
   ]
  },
  {
   "cell_type": "markdown",
   "metadata": {},
   "source": [
    "Квадратными матрицы, для которых можно найти обратные, называются *обратимые*. Необратимые матрицы встречаются редко."
   ]
  },
  {
   "cell_type": "markdown",
   "metadata": {},
   "source": [
    "Если сгенерировать случайную матрицу функцией *np.random().normal()*. Вероятность получить необратимую матрицу близка к 0. Пример:"
   ]
  },
  {
   "cell_type": "code",
   "execution_count": 23,
   "metadata": {},
   "outputs": [
    {
     "data": {
      "text/plain": [
       "array([[ 1.96238859, -1.5987327 , -1.12130383],\n",
       "       [-2.37879549,  0.67447175,  1.28956392],\n",
       "       [-0.47986604,  0.24903607, -1.09256396]])"
      ]
     },
     "execution_count": 23,
     "metadata": {},
     "output_type": "execute_result"
    }
   ],
   "source": [
    "# Генерируем случайную квадратную матрицу\n",
    "matrix_example = np.random.normal(size=(3,3))\n",
    "matrix_example"
   ]
  },
  {
   "cell_type": "code",
   "execution_count": 24,
   "metadata": {},
   "outputs": [
    {
     "data": {
      "text/plain": [
       "array([[-0.31401303, -0.6012739 , -0.38741633],\n",
       "       [-0.95499366, -0.79600826,  0.04057841],\n",
       "       [-0.07976071,  0.0826461 , -0.7358714 ]])"
      ]
     },
     "execution_count": 24,
     "metadata": {},
     "output_type": "execute_result"
    }
   ],
   "source": [
    "# Находим обратную матрицу\n",
    "matrix_example_invert = np.linalg.inv(matrix_example)\n",
    "matrix_example_invert"
   ]
  },
  {
   "cell_type": "markdown",
   "metadata": {},
   "source": [
    "Проверим:"
   ]
  },
  {
   "cell_type": "markdown",
   "metadata": {},
   "source": [
    "\\begin{equation} AA^{-1} = A^{-1}A = E \\end{equation}"
   ]
  },
  {
   "cell_type": "code",
   "execution_count": 25,
   "metadata": {},
   "outputs": [
    {
     "data": {
      "text/plain": [
       "array([[ 1.00000000e+00,  1.69340733e-16, -1.73383890e-17],\n",
       "       [ 3.44066301e-17,  1.00000000e+00,  2.04920933e-17],\n",
       "       [ 1.51420568e-17, -4.10309434e-18,  1.00000000e+00]])"
      ]
     },
     "execution_count": 25,
     "metadata": {},
     "output_type": "execute_result"
    }
   ],
   "source": [
    "identity_matrix = np.dot(matrix_example, matrix_example_invert)\n",
    "identity_matrix"
   ]
  },
  {
   "cell_type": "markdown",
   "metadata": {},
   "source": [
    "Пусть переменная ***P*** будет нашей обратимой матрицей. Нам необходимо доказать: "
   ]
  },
  {
   "cell_type": "markdown",
   "metadata": {},
   "source": [
    "\\begin{equation} MSE(X*w, y) = MSE(X*P*w_1, y) \\end{equation}"
   ]
  },
  {
   "cell_type": "markdown",
   "metadata": {},
   "source": [
    "**w** левой стороны равенства:"
   ]
  },
  {
   "cell_type": "markdown",
   "metadata": {},
   "source": [
    "\\begin{equation} w=(X^{T}*X)^{-1}*X^{T}*y \\end{equation}"
   ]
  },
  {
   "cell_type": "markdown",
   "metadata": {},
   "source": [
    "**w1** правой стороны равенства: "
   ]
  },
  {
   "cell_type": "markdown",
   "metadata": {},
   "source": [
    "\\begin{equation} w_1=((X*P)^{T}*(X*P))^{-1}(X*P)^{T}*y \\end{equation}"
   ]
  },
  {
   "cell_type": "markdown",
   "metadata": {},
   "source": [
    "Раскрываем скобки **w1**, при условиях:\n",
    "1. **X** и **P** должны быть квадртными\n",
    "2. $(XP)^T=P^TX^T$ Транспонированное произведение матриц равно произведению транспонированных матриц\n",
    "3. $(XP)^{-1}=P^{-1}X^{-1}$ Обратная матрица от произведения двух матриц равна обратной матрицы P(второй) к обратной матрице X(первой)"
   ]
  },
  {
   "cell_type": "markdown",
   "metadata": {},
   "source": [
    "\\begin{equation} w_1=((P^T*X^T) * (X * P))^{-1} * P^T*X^T * y \\end{equation}"
   ]
  },
  {
   "cell_type": "markdown",
   "metadata": {},
   "source": [
    "\\begin{equation} w_1=(X * P)^{-1} * (P^T*X^T)^{-1} * P^T*X^T * y \\end{equation}"
   ]
  },
  {
   "cell_type": "markdown",
   "metadata": {},
   "source": [
    "\\begin{equation} w_1= P^{-1} * X^{-1} * (X^T)^{-1} * (P^T)^{-1} * P^T*X^T * y \\end{equation}"
   ]
  },
  {
   "cell_type": "markdown",
   "metadata": {},
   "source": [
    "По свойству: $(XP)^{-1}=P^{-1}X^{-1}$ обратная матрица от произведения двух матриц равна обратной матрицы B(второй) к обратной матрице А(первой), сделаем преобразование."
   ]
  },
  {
   "cell_type": "markdown",
   "metadata": {},
   "source": [
    "\\begin{equation} w_1= P^{-1}  * (X^T*X)^{-1} * (P^T)^{-1} * P^T*X^T * y \\end{equation}"
   ]
  },
  {
   "cell_type": "markdown",
   "metadata": {},
   "source": [
    "Перестановим множители"
   ]
  },
  {
   "cell_type": "markdown",
   "metadata": {},
   "source": [
    "\\begin{equation} w_1= (X^T*X)^{-1} * X^T * y * P^{-1} * (P^T)^{-1} * P^T \\end{equation}"
   ]
  },
  {
   "cell_type": "markdown",
   "metadata": {},
   "source": [
    "Мы знаем что:"
   ]
  },
  {
   "cell_type": "markdown",
   "metadata": {},
   "source": [
    "\\begin{equation} w=(X^{T}*X)^{-1}*X^{T}*y \\end{equation}"
   ]
  },
  {
   "cell_type": "markdown",
   "metadata": {},
   "source": [
    "Подставим в наше уравнение и получим такой результат:"
   ]
  },
  {
   "cell_type": "markdown",
   "metadata": {},
   "source": [
    "\\begin{equation} w_1= (X^T*X)^{-1} * X^T * y * P^{-1} * (P^T)^{-1} * P^T \\end{equation}"
   ]
  },
  {
   "cell_type": "markdown",
   "metadata": {},
   "source": [
    "\\begin{equation} w_1= w * P^{-1} * (P^T)^{-1} * P^T  \\end{equation}"
   ]
  },
  {
   "cell_type": "markdown",
   "metadata": {},
   "source": [
    "Основываясь на:"
   ]
  },
  {
   "cell_type": "markdown",
   "metadata": {},
   "source": [
    "$PP^{-1} = P^{-1}P = E$ умножение матрицы на свою обратную - есть единичная матрица.\n",
    "\n",
    "$(P^T)^{-1} = (P^{-1})^T$ транспортированная оратная матрица есть обратная матрица транспортированная\n",
    "\n",
    "$(XP)^T=P^TX^T$ Транспонированное произведение матриц равно произведению транспонированных матриц\n"
   ]
  },
  {
   "cell_type": "markdown",
   "metadata": {},
   "source": [
    "Преобразуем наше уравнение"
   ]
  },
  {
   "cell_type": "markdown",
   "metadata": {},
   "source": [
    "\\begin{equation} w_1= w*(P^{T})^{-1}*P^{T}*P^{-1} \\end{equation}\n",
    "\\begin{equation} w_1= w*(P^{-1})^{T}*P^{T}*P^{-1} \\end{equation}\n",
    "\\begin{equation} w_1= w*(P*P^{-1})^{T}*P^{-1} \\end{equation}\n",
    "\\begin{equation} w_1= w*(E)^{T}*P^{-1} \\end{equation}"
   ]
  },
  {
   "cell_type": "markdown",
   "metadata": {},
   "source": [
    "$E^T = E$ Результатом транспонирования единичной матрицы Е является единичная матрица Е. \n",
    "\n",
    "$AE = EA = A$ Если любую матрицу A умножить на единичную (или наоборот), получится эта же матрица A"
   ]
  },
  {
   "cell_type": "markdown",
   "metadata": {},
   "source": [
    "\\begin{equation} w_1= w*P^{-1} \\end{equation}"
   ]
  },
  {
   "cell_type": "markdown",
   "metadata": {},
   "source": [
    "Подставим в наше первое равенство"
   ]
  },
  {
   "cell_type": "markdown",
   "metadata": {},
   "source": [
    "\\begin{equation} MSE(X*w, y) = MSE(X*P*w*P^{-1}, y) \\end{equation}"
   ]
  },
  {
   "cell_type": "markdown",
   "metadata": {},
   "source": [
    "Перестановим множители"
   ]
  },
  {
   "cell_type": "markdown",
   "metadata": {},
   "source": [
    "\\begin{equation} MSE(X*w, y) = MSE(X*P*P^{-1}*w, y) \\end{equation}"
   ]
  },
  {
   "cell_type": "markdown",
   "metadata": {},
   "source": [
    "Также, основываясь на:\n",
    "\n",
    "$PP^{-1} = P^{-1}P = E$ умножение матрицы на свою обратную - есть единичная матрица.\n",
    "\n",
    "$AE = EA = A$ Если любую матрицу A умножить на единичную (или наоборот), получится эта же матрица A"
   ]
  },
  {
   "cell_type": "markdown",
   "metadata": {},
   "source": [
    "Преобразуем уравнение"
   ]
  },
  {
   "cell_type": "markdown",
   "metadata": {},
   "source": [
    "\\begin{equation} MSE(X*w, y) = MSE(X*E*w, y) \\end{equation}"
   ]
  },
  {
   "cell_type": "markdown",
   "metadata": {},
   "source": [
    "\\begin{equation} MSE(X*w, y) = MSE(X*w, y) \\end{equation}"
   ]
  },
  {
   "cell_type": "markdown",
   "metadata": {},
   "source": [
    "Мы доказали, что ,умножив матрицу признаков на обратимую матрицу, качество модели не измениться."
   ]
  },
  {
   "cell_type": "markdown",
   "metadata": {},
   "source": [
    "## Вывод"
   ]
  },
  {
   "cell_type": "markdown",
   "metadata": {},
   "source": [
    "На этом этапе мы проверили: если умножить матрицу признаков на обратимую матрицу, изменится ли качество линейной регрессии? \n",
    "\n",
    "Мы доказали, что, **умножив матрицу признаков на обратимую матрицу, качество модели не измениться**."
   ]
  },
  {
   "cell_type": "markdown",
   "metadata": {},
   "source": [
    "<br>"
   ]
  },
  {
   "cell_type": "markdown",
   "metadata": {},
   "source": [
    "<a id=\"dataEncryptAlgorithm\"></a>\n",
    "# Этап 4 - Алгоритм преобразования данных"
   ]
  },
  {
   "cell_type": "markdown",
   "metadata": {},
   "source": [
    "На этом этапе нам необходимо создать алгоритм преобразования данных."
   ]
  },
  {
   "cell_type": "markdown",
   "metadata": {},
   "source": [
    "Ранее мы узнали, что **качество модели не измениться, умножив матрицу признаков на обратимую матрицу**."
   ]
  },
  {
   "cell_type": "markdown",
   "metadata": {},
   "source": [
    "Следовательно, предложим алгоритм с [симметричным шифрированием](https://ru.wikipedia.org/wiki/%D0%A1%D0%B8%D0%BC%D0%BC%D0%B5%D1%82%D1%80%D0%B8%D1%87%D0%BD%D1%8B%D0%B5_%D0%BA%D1%80%D0%B8%D0%BF%D1%82%D0%BE%D1%81%D0%B8%D1%81%D1%82%D0%B5%D0%BC%D1%8B):\n",
    "1. Генерируем ключ (нашу обратимую матрицу)\n",
    "2. Умножаем матрицу признаков на полученный ключ(обратимую матрицу)\n",
    "3. Создаем модель Линейной регрессии\n",
    "4. Тренируем модель на полученной матрице\n",
    "5. Делаем предсказание\n",
    "6. Смотрим на метрику *r2_score()* и полученный w вектор весов + w0 сдвиг предсказания\n",
    "\n",
    "Для сравнения, предложим оригинальный алгоритм без умножения на обратимую матрицу: \n",
    "1. Создаем модель Линейной регрессии\n",
    "2. Тренируем модель, не изменяя матрицу признаков\n",
    "3. Делаем предсказания\n",
    "4. Смотрим на метрику *r2_score()* и w вектор весов + w0 сдвиг предсказания"
   ]
  },
  {
   "cell_type": "markdown",
   "metadata": {},
   "source": [
    "<a id=\"modelCreation\"></a>\n",
    "## Создание модели"
   ]
  },
  {
   "cell_type": "markdown",
   "metadata": {},
   "source": [
    "Создадим нашу модель Линейной Регрессии. Сравним ее с моделью из библиотеки *sklearn*."
   ]
  },
  {
   "cell_type": "code",
   "execution_count": 27,
   "metadata": {},
   "outputs": [],
   "source": [
    "class LinearRegressionCustom:\n",
    "    def fit(self, train_features, train_target):\n",
    "        \"\"\"\n",
    "        Метод обучения модели\n",
    "        self - обьект класса\n",
    "        train_features - матрица признаков\n",
    "        train_target - вектор целевого признака\n",
    "        \"\"\"\n",
    "        # добавляем столбец состоящий из только единиц\n",
    "        X = np.concatenate((np.ones((train_features.shape[0], 1)), train_features),axis=1)\n",
    "        y = train_target\n",
    "        # функция потерь (loss function)\n",
    "        w = np.linalg.inv(X.T.dot(X)).dot(X.T).dot(y)\n",
    "        # сохраняем значения w - вектор весов\n",
    "        self.w = w[1:]\n",
    "        # сдвиг предсказания\n",
    "        self.w0 = w[0]\n",
    "    \n",
    "    def predict(self, features):\n",
    "        \"\"\"\n",
    "        Метод предсказания модели. Метод возвращает вектор предсказаний\n",
    "        self -  обьект класса\n",
    "        features - матрица признаков \n",
    "        \"\"\"\n",
    "        return features.dot(self.w) + self.w0"
   ]
  },
  {
   "cell_type": "markdown",
   "metadata": {},
   "source": [
    "## Вывод"
   ]
  },
  {
   "cell_type": "markdown",
   "metadata": {},
   "source": [
    "Основываясь на выводе, что **качество модели не измениться, умножив матрицу признаков на обратимую матрицу одинакового размера**, мы предложили алгоритм преобразования данных. Кроме того, мы создали нашу кастомную модель Линейной Регрессии. "
   ]
  },
  {
   "cell_type": "markdown",
   "metadata": {},
   "source": [
    "<br>"
   ]
  },
  {
   "cell_type": "markdown",
   "metadata": {},
   "source": [
    "<a id=\"algorithmApplication\"></a>\n",
    "# Этап 5 - Применение алгоритма"
   ]
  },
  {
   "cell_type": "markdown",
   "metadata": {},
   "source": [
    "На этом этапе нам необходимо применить предложенный алгоритм и посмотреть измениться ли качество модели от преобразований или нет. Кроме того, сравним нашу кастомную модель с модель из библиотеки *sklearn*."
   ]
  },
  {
   "cell_type": "markdown",
   "metadata": {},
   "source": [
    "<a id=\"dataSeparation\"></a>\n",
    "## Разделение данных "
   ]
  },
  {
   "cell_type": "markdown",
   "metadata": {},
   "source": [
    "Напишем функцию разделения целевого признака от остальных."
   ]
  },
  {
   "cell_type": "code",
   "execution_count": 28,
   "metadata": {},
   "outputs": [],
   "source": [
    "def target_features_split(data,column):\n",
    "    \"\"\"\n",
    "    Функция разделяет данные на целевой признак и признаки. Функция возвращает 1) целевой признак, 2) признаки без целевого\n",
    "    data - данные которые необходимо разделить.\n",
    "    column - целевой признак\n",
    "    \"\"\"\n",
    "    return data[column], data.drop(column,axis=1)"
   ]
  },
  {
   "cell_type": "code",
   "execution_count": 29,
   "metadata": {},
   "outputs": [],
   "source": [
    "train_target,train_features = target_features_split(insurance_data, 'страховые выплаты')"
   ]
  },
  {
   "cell_type": "markdown",
   "metadata": {},
   "source": [
    "<a id=\"originalAlgorithmApplication\"></a>\n",
    "## Применение оригинального алгоритма"
   ]
  },
  {
   "cell_type": "markdown",
   "metadata": {},
   "source": [
    "<a id=\"originalAlgoSklearnModel\"></a>\n",
    "### Модель из sklearn"
   ]
  },
  {
   "cell_type": "code",
   "execution_count": 30,
   "metadata": {},
   "outputs": [
    {
     "name": "stdout",
     "output_type": "stream",
     "text": [
      "Метрика r2_score: 0.4302010044852067\n",
      "Вектор весов w: [ 9.46018141e-03  3.61640081e-02 -1.38991363e-07 -1.42517371e-02]\n",
      "Cдвиг w0 -0.9517099946522036\n"
     ]
    }
   ],
   "source": [
    "# создаем модель\n",
    "model_1 = LinearRegression()\n",
    "# обучаем модель\n",
    "model_1.fit(train_features, train_target)\n",
    "# предсказания модели\n",
    "model_1_pred = model_1.predict(train_features)\n",
    "model_1_r2_score = r2_score(train_target,model_1_pred)\n",
    "print(f'Метрика r2_score: {model_1_r2_score}')\n",
    "print(f'Вектор весов w: {model_1.coef_}')\n",
    "print(f'Cдвиг w0 {model_1.intercept_}')"
   ]
  },
  {
   "cell_type": "markdown",
   "metadata": {},
   "source": [
    "<a id=\"originalAlgoCustomModel\"></a>\n",
    "### Кастомная модель"
   ]
  },
  {
   "cell_type": "code",
   "execution_count": 31,
   "metadata": {},
   "outputs": [
    {
     "name": "stdout",
     "output_type": "stream",
     "text": [
      "Метрика r2_score: 0.4302010044852068\n",
      "Вектор весов w: [ 9.46018141e-03  3.61640081e-02 -1.38991363e-07 -1.42517371e-02]\n",
      "Cдвиг w0 -0.95170999465196\n"
     ]
    }
   ],
   "source": [
    "# создаем модель\n",
    "model_2 = LinearRegressionCustom()\n",
    "# обучаем модель\n",
    "model_2.fit(train_features, train_target)\n",
    "# предсказания модели\n",
    "model_2_pred = model_2.predict(train_features)\n",
    "model_2_r2_score = r2_score(train_target,model_2_pred)\n",
    "print(f'Метрика r2_score: {model_2_r2_score}')\n",
    "print(f'Вектор весов w: {model_2.w}')\n",
    "print(f'Cдвиг w0 {model_2.w0}')"
   ]
  },
  {
   "cell_type": "markdown",
   "metadata": {},
   "source": [
    "Наша модель работает также как и модель из библиотеки *sklearn*!"
   ]
  },
  {
   "cell_type": "markdown",
   "metadata": {},
   "source": [
    "<a id=\"suggestedAlgorithmApplication\"></a>\n",
    "## Применение предложенного алгоритма"
   ]
  },
  {
   "cell_type": "markdown",
   "metadata": {},
   "source": [
    "Сгенерируем случайную матрицу функцией *np.random().normal()*. Вероятность получить необратимую матрицу близка к 0."
   ]
  },
  {
   "cell_type": "code",
   "execution_count": 32,
   "metadata": {},
   "outputs": [],
   "source": [
    "# Генерируем случайную квадратную матрицу\n",
    "size = train_features.shape[1]\n",
    "key = np.random.normal(size=(size,size))\n",
    "# Умножаем матрицу признаков на сгенерированную матрицу\n",
    "train_features_encrypted = train_features.dot(key)"
   ]
  },
  {
   "cell_type": "markdown",
   "metadata": {},
   "source": [
    "Проверяем зашифрованные данные"
   ]
  },
  {
   "cell_type": "code",
   "execution_count": 33,
   "metadata": {},
   "outputs": [
    {
     "data": {
      "text/html": [
       "<div>\n",
       "<style scoped>\n",
       "    .dataframe tbody tr th:only-of-type {\n",
       "        vertical-align: middle;\n",
       "    }\n",
       "\n",
       "    .dataframe tbody tr th {\n",
       "        vertical-align: top;\n",
       "    }\n",
       "\n",
       "    .dataframe thead th {\n",
       "        text-align: right;\n",
       "    }\n",
       "</style>\n",
       "<table border=\"1\" class=\"dataframe\">\n",
       "  <thead>\n",
       "    <tr style=\"text-align: right;\">\n",
       "      <th></th>\n",
       "      <th>0</th>\n",
       "      <th>1</th>\n",
       "      <th>2</th>\n",
       "      <th>3</th>\n",
       "    </tr>\n",
       "  </thead>\n",
       "  <tbody>\n",
       "    <tr>\n",
       "      <td>0</td>\n",
       "      <td>9813.238</td>\n",
       "      <td>-67140.278</td>\n",
       "      <td>-11231.966</td>\n",
       "      <td>21064.253</td>\n",
       "    </tr>\n",
       "    <tr>\n",
       "      <td>1</td>\n",
       "      <td>7491.968</td>\n",
       "      <td>-51433.005</td>\n",
       "      <td>-8608.897</td>\n",
       "      <td>16144.752</td>\n",
       "    </tr>\n",
       "    <tr>\n",
       "      <td>2</td>\n",
       "      <td>4133.285</td>\n",
       "      <td>-28421.722</td>\n",
       "      <td>-4758.586</td>\n",
       "      <td>8924.063</td>\n",
       "    </tr>\n",
       "    <tr>\n",
       "      <td>3</td>\n",
       "      <td>8275.356</td>\n",
       "      <td>-56453.026</td>\n",
       "      <td>-9440.768</td>\n",
       "      <td>17702.710</td>\n",
       "    </tr>\n",
       "    <tr>\n",
       "      <td>4</td>\n",
       "      <td>5151.896</td>\n",
       "      <td>-35326.765</td>\n",
       "      <td>-5911.323</td>\n",
       "      <td>11087.298</td>\n",
       "    </tr>\n",
       "  </tbody>\n",
       "</table>\n",
       "</div>"
      ],
      "text/plain": [
       "         0          1          2         3\n",
       "0 9813.238 -67140.278 -11231.966 21064.253\n",
       "1 7491.968 -51433.005  -8608.897 16144.752\n",
       "2 4133.285 -28421.722  -4758.586  8924.063\n",
       "3 8275.356 -56453.026  -9440.768 17702.710\n",
       "4 5151.896 -35326.765  -5911.323 11087.298"
      ]
     },
     "execution_count": 33,
     "metadata": {},
     "output_type": "execute_result"
    }
   ],
   "source": [
    "train_features_encrypted.head()"
   ]
  },
  {
   "cell_type": "markdown",
   "metadata": {},
   "source": [
    "Посмотрим на данные до шифрования и после. Попробуем восстановить зашифрованные данные с помощью ключа."
   ]
  },
  {
   "cell_type": "markdown",
   "metadata": {},
   "source": [
    "**До шифрования**"
   ]
  },
  {
   "cell_type": "code",
   "execution_count": 34,
   "metadata": {},
   "outputs": [
    {
     "data": {
      "text/html": [
       "<div>\n",
       "<style scoped>\n",
       "    .dataframe tbody tr th:only-of-type {\n",
       "        vertical-align: middle;\n",
       "    }\n",
       "\n",
       "    .dataframe tbody tr th {\n",
       "        vertical-align: top;\n",
       "    }\n",
       "\n",
       "    .dataframe thead th {\n",
       "        text-align: right;\n",
       "    }\n",
       "</style>\n",
       "<table border=\"1\" class=\"dataframe\">\n",
       "  <thead>\n",
       "    <tr style=\"text-align: right;\">\n",
       "      <th></th>\n",
       "      <th>пол</th>\n",
       "      <th>возраст</th>\n",
       "      <th>зарплата</th>\n",
       "      <th>члены семьи</th>\n",
       "    </tr>\n",
       "  </thead>\n",
       "  <tbody>\n",
       "    <tr>\n",
       "      <td>0</td>\n",
       "      <td>1</td>\n",
       "      <td>41</td>\n",
       "      <td>49600.000</td>\n",
       "      <td>1</td>\n",
       "    </tr>\n",
       "    <tr>\n",
       "      <td>1</td>\n",
       "      <td>0</td>\n",
       "      <td>46</td>\n",
       "      <td>38000.000</td>\n",
       "      <td>1</td>\n",
       "    </tr>\n",
       "    <tr>\n",
       "      <td>2</td>\n",
       "      <td>0</td>\n",
       "      <td>29</td>\n",
       "      <td>21000.000</td>\n",
       "      <td>0</td>\n",
       "    </tr>\n",
       "    <tr>\n",
       "      <td>3</td>\n",
       "      <td>0</td>\n",
       "      <td>21</td>\n",
       "      <td>41700.000</td>\n",
       "      <td>2</td>\n",
       "    </tr>\n",
       "    <tr>\n",
       "      <td>4</td>\n",
       "      <td>1</td>\n",
       "      <td>28</td>\n",
       "      <td>26100.000</td>\n",
       "      <td>0</td>\n",
       "    </tr>\n",
       "  </tbody>\n",
       "</table>\n",
       "</div>"
      ],
      "text/plain": [
       "   пол  возраст  зарплата  члены семьи\n",
       "0    1       41 49600.000            1\n",
       "1    0       46 38000.000            1\n",
       "2    0       29 21000.000            0\n",
       "3    0       21 41700.000            2\n",
       "4    1       28 26100.000            0"
      ]
     },
     "execution_count": 34,
     "metadata": {},
     "output_type": "execute_result"
    }
   ],
   "source": [
    "train_features.head()"
   ]
  },
  {
   "cell_type": "markdown",
   "metadata": {},
   "source": [
    "**После шифрования**"
   ]
  },
  {
   "cell_type": "code",
   "execution_count": 35,
   "metadata": {},
   "outputs": [
    {
     "data": {
      "text/html": [
       "<div>\n",
       "<style scoped>\n",
       "    .dataframe tbody tr th:only-of-type {\n",
       "        vertical-align: middle;\n",
       "    }\n",
       "\n",
       "    .dataframe tbody tr th {\n",
       "        vertical-align: top;\n",
       "    }\n",
       "\n",
       "    .dataframe thead th {\n",
       "        text-align: right;\n",
       "    }\n",
       "</style>\n",
       "<table border=\"1\" class=\"dataframe\">\n",
       "  <thead>\n",
       "    <tr style=\"text-align: right;\">\n",
       "      <th></th>\n",
       "      <th>0</th>\n",
       "      <th>1</th>\n",
       "      <th>2</th>\n",
       "      <th>3</th>\n",
       "    </tr>\n",
       "  </thead>\n",
       "  <tbody>\n",
       "    <tr>\n",
       "      <td>0</td>\n",
       "      <td>9813.238</td>\n",
       "      <td>-67140.278</td>\n",
       "      <td>-11231.966</td>\n",
       "      <td>21064.253</td>\n",
       "    </tr>\n",
       "    <tr>\n",
       "      <td>1</td>\n",
       "      <td>7491.968</td>\n",
       "      <td>-51433.005</td>\n",
       "      <td>-8608.897</td>\n",
       "      <td>16144.752</td>\n",
       "    </tr>\n",
       "    <tr>\n",
       "      <td>2</td>\n",
       "      <td>4133.285</td>\n",
       "      <td>-28421.722</td>\n",
       "      <td>-4758.586</td>\n",
       "      <td>8924.063</td>\n",
       "    </tr>\n",
       "    <tr>\n",
       "      <td>3</td>\n",
       "      <td>8275.356</td>\n",
       "      <td>-56453.026</td>\n",
       "      <td>-9440.768</td>\n",
       "      <td>17702.710</td>\n",
       "    </tr>\n",
       "    <tr>\n",
       "      <td>4</td>\n",
       "      <td>5151.896</td>\n",
       "      <td>-35326.765</td>\n",
       "      <td>-5911.323</td>\n",
       "      <td>11087.298</td>\n",
       "    </tr>\n",
       "  </tbody>\n",
       "</table>\n",
       "</div>"
      ],
      "text/plain": [
       "         0          1          2         3\n",
       "0 9813.238 -67140.278 -11231.966 21064.253\n",
       "1 7491.968 -51433.005  -8608.897 16144.752\n",
       "2 4133.285 -28421.722  -4758.586  8924.063\n",
       "3 8275.356 -56453.026  -9440.768 17702.710\n",
       "4 5151.896 -35326.765  -5911.323 11087.298"
      ]
     },
     "execution_count": 35,
     "metadata": {},
     "output_type": "execute_result"
    }
   ],
   "source": [
    "train_features_encrypted.head()"
   ]
  },
  {
   "cell_type": "markdown",
   "metadata": {},
   "source": [
    "Чтобы расшифровать признаки, умножим на обратную матрицу ключа"
   ]
  },
  {
   "cell_type": "code",
   "execution_count": 36,
   "metadata": {},
   "outputs": [
    {
     "data": {
      "text/html": [
       "<div>\n",
       "<style scoped>\n",
       "    .dataframe tbody tr th:only-of-type {\n",
       "        vertical-align: middle;\n",
       "    }\n",
       "\n",
       "    .dataframe tbody tr th {\n",
       "        vertical-align: top;\n",
       "    }\n",
       "\n",
       "    .dataframe thead th {\n",
       "        text-align: right;\n",
       "    }\n",
       "</style>\n",
       "<table border=\"1\" class=\"dataframe\">\n",
       "  <thead>\n",
       "    <tr style=\"text-align: right;\">\n",
       "      <th></th>\n",
       "      <th>0</th>\n",
       "      <th>1</th>\n",
       "      <th>2</th>\n",
       "      <th>3</th>\n",
       "    </tr>\n",
       "  </thead>\n",
       "  <tbody>\n",
       "    <tr>\n",
       "      <td>0</td>\n",
       "      <td>1.000</td>\n",
       "      <td>41.000</td>\n",
       "      <td>49600.000</td>\n",
       "      <td>1.000</td>\n",
       "    </tr>\n",
       "    <tr>\n",
       "      <td>1</td>\n",
       "      <td>-0.000</td>\n",
       "      <td>46.000</td>\n",
       "      <td>38000.000</td>\n",
       "      <td>1.000</td>\n",
       "    </tr>\n",
       "    <tr>\n",
       "      <td>2</td>\n",
       "      <td>0.000</td>\n",
       "      <td>29.000</td>\n",
       "      <td>21000.000</td>\n",
       "      <td>-0.000</td>\n",
       "    </tr>\n",
       "    <tr>\n",
       "      <td>3</td>\n",
       "      <td>-0.000</td>\n",
       "      <td>21.000</td>\n",
       "      <td>41700.000</td>\n",
       "      <td>2.000</td>\n",
       "    </tr>\n",
       "    <tr>\n",
       "      <td>4</td>\n",
       "      <td>1.000</td>\n",
       "      <td>28.000</td>\n",
       "      <td>26100.000</td>\n",
       "      <td>-0.000</td>\n",
       "    </tr>\n",
       "  </tbody>\n",
       "</table>\n",
       "</div>"
      ],
      "text/plain": [
       "       0      1         2      3\n",
       "0  1.000 41.000 49600.000  1.000\n",
       "1 -0.000 46.000 38000.000  1.000\n",
       "2  0.000 29.000 21000.000 -0.000\n",
       "3 -0.000 21.000 41700.000  2.000\n",
       "4  1.000 28.000 26100.000 -0.000"
      ]
     },
     "execution_count": 36,
     "metadata": {},
     "output_type": "execute_result"
    }
   ],
   "source": [
    "# находим обратну матрицу\n",
    "key_inv = np.linalg.inv(key)\n",
    "# умножаем матрицу зашифрованных признаков на обратную матрицу ключа\n",
    "train_features_decrypted = train_features_encrypted.dot(key_inv)\n",
    "train_features_decrypted.head()"
   ]
  },
  {
   "cell_type": "markdown",
   "metadata": {},
   "source": [
    "Как видим, данные восстановились. Перейдём к применению"
   ]
  },
  {
   "cell_type": "markdown",
   "metadata": {},
   "source": [
    "<a id=\"suggestedAlgoSklearnModel\"></a>\n",
    "### Модель из sklearn"
   ]
  },
  {
   "cell_type": "code",
   "execution_count": 37,
   "metadata": {},
   "outputs": [
    {
     "name": "stdout",
     "output_type": "stream",
     "text": [
      "Метрика r2_score: 0.4302010044852095\n",
      "Вектор весов w: [-0.02075655 -0.00342603  0.01605099  0.00737834]\n",
      "Cдвиг w0 -0.9517099946525505\n"
     ]
    }
   ],
   "source": [
    "# создаем модель\n",
    "model_3 = LinearRegression()\n",
    "# обучаем модель\n",
    "model_3.fit(train_features_encrypted, train_target)\n",
    "# предсказания\n",
    "model_3_pred = model_3.predict(train_features_encrypted)\n",
    "model_3_r2_score = r2_score(train_target,model_3_pred)\n",
    "print(f'Метрика r2_score: {model_3_r2_score}')\n",
    "print(f'Вектор весов w: {model_3.coef_}')\n",
    "print(f'Cдвиг w0 {model_3.intercept_}')"
   ]
  },
  {
   "cell_type": "markdown",
   "metadata": {},
   "source": [
    "<a id=\"suggestedAlgoCustomModel\"></a>\n",
    "### Кастомная модель"
   ]
  },
  {
   "cell_type": "code",
   "execution_count": 38,
   "metadata": {},
   "outputs": [
    {
     "name": "stdout",
     "output_type": "stream",
     "text": [
      "Метрика r2_score: 0.4302010044852004\n",
      "Вектор весов w: [-0.02075655 -0.00342604  0.01605098  0.00737833]\n",
      "Cдвиг w0 -0.9517099513049412\n"
     ]
    }
   ],
   "source": [
    "# создаем модель \n",
    "model_4 = LinearRegressionCustom()\n",
    "# обучаем модель\n",
    "model_4.fit(train_features_encrypted, train_target)\n",
    "# предсказания\n",
    "model_4_pred = model_4.predict(train_features_encrypted)\n",
    "model_4_r2_score = r2_score(train_target,model_4_pred)\n",
    "print(f'Метрика r2_score: {model_4_r2_score}')\n",
    "print(f'Вектор весов w: {model_4.w}')\n",
    "print(f'Cдвиг w0 {model_4.w0}')"
   ]
  },
  {
   "cell_type": "markdown",
   "metadata": {},
   "source": [
    "<a id=\"summary\"></a>\n",
    "## Итоги"
   ]
  },
  {
   "cell_type": "markdown",
   "metadata": {},
   "source": [
    "Метрики r2, векторы весов и сдвиг предсказаний моделей без шифрования данных"
   ]
  },
  {
   "cell_type": "markdown",
   "metadata": {},
   "source": [
    "Напишем функцию для вывода"
   ]
  },
  {
   "cell_type": "code",
   "execution_count": 39,
   "metadata": {},
   "outputs": [],
   "source": [
    "def results(model, r2_score, title, isCustom):\n",
    "    \"\"\"\n",
    "    Функция для вывода результатов\n",
    "    model - модель\n",
    "    r2_score - точность по метрике R2\n",
    "    title - заголовок\n",
    "    isCustom - кастомная ли модель\n",
    "    \"\"\"\n",
    "    if (isCustom):\n",
    "        print(title)\n",
    "        print(f'Метрика r2_score: {r2_score}')\n",
    "        print(f'Вектор весов w: {model.w}')\n",
    "        print(f'Сдвиг w0: {model.w0}')\n",
    "    else:\n",
    "        print(title)\n",
    "        print(f'Метрика r2_score: {r2_score}')\n",
    "        print(f'Вектор весов w: {model.coef_}')\n",
    "        print(f'Сдвиг w0: {model.intercept_}')"
   ]
  },
  {
   "cell_type": "code",
   "execution_count": 40,
   "metadata": {},
   "outputs": [
    {
     "name": "stdout",
     "output_type": "stream",
     "text": [
      "Модель sklearn без шифрования данных\n",
      "Метрика r2_score: 0.4302010044852067\n",
      "Вектор весов w: [ 9.46018141e-03  3.61640081e-02 -1.38991363e-07 -1.42517371e-02]\n",
      "Сдвиг w0: -0.9517099946522036\n"
     ]
    }
   ],
   "source": [
    "results(model_1, model_1_r2_score, \"Модель sklearn без шифрования данных\", False)"
   ]
  },
  {
   "cell_type": "code",
   "execution_count": 41,
   "metadata": {},
   "outputs": [
    {
     "name": "stdout",
     "output_type": "stream",
     "text": [
      "Кастомная модель без шифрования данных\n",
      "Метрика r2_score: 0.4302010044852068\n",
      "Вектор весов w: [ 9.46018141e-03  3.61640081e-02 -1.38991363e-07 -1.42517371e-02]\n",
      "Сдвиг w0: -0.95170999465196\n"
     ]
    }
   ],
   "source": [
    "results(model_2, model_2_r2_score, \"Кастомная модель без шифрования данных\", True)"
   ]
  },
  {
   "cell_type": "code",
   "execution_count": 42,
   "metadata": {},
   "outputs": [
    {
     "name": "stdout",
     "output_type": "stream",
     "text": [
      "Модель sklearn с шифрованием данных\n",
      "Метрика r2_score: 0.4302010044852095\n",
      "Вектор весов w: [-0.02075655 -0.00342603  0.01605099  0.00737834]\n",
      "Сдвиг w0: -0.9517099946525505\n"
     ]
    }
   ],
   "source": [
    "results(model_3,model_3_r2_score, \"Модель sklearn с шифрованием данных\", False)"
   ]
  },
  {
   "cell_type": "code",
   "execution_count": 43,
   "metadata": {},
   "outputs": [
    {
     "name": "stdout",
     "output_type": "stream",
     "text": [
      "Кастомная модель с шифрованием данных\n",
      "Метрика r2_score: 0.4302010044852004\n",
      "Вектор весов w: [-0.02075655 -0.00342604  0.01605098  0.00737833]\n",
      "Сдвиг w0: -0.9517099513049412\n"
     ]
    }
   ],
   "source": [
    "results(model_4, model_4_r2_score, \"Кастомная модель с шифрованием данных\", True)"
   ]
  },
  {
   "cell_type": "markdown",
   "metadata": {},
   "source": [
    "Как видим:\n",
    "- Качество моделей не изменилось, метрика r2 практически одинакова.\n",
    "- Вектора весов разные\n",
    "- Наша кастомная модель работает как и модель из библиотеки sklearn"
   ]
  },
  {
   "cell_type": "markdown",
   "metadata": {},
   "source": [
    "## Вывод"
   ]
  },
  {
   "cell_type": "markdown",
   "metadata": {},
   "source": [
    "На этом этапе мы: \n",
    "1. Применили предложенный алгоритм:\n",
    "    - Посмотрели на данные до шифрования и после. Данные зашифровались.\n",
    "    - Попробовали восстановить зашифрованные данные с помощью ключа. Данные восстановились.\n",
    "2. Посмотрели измениться ли качество модели от преобразований или нет:\n",
    "    - Качество моделей не изменилось, метрика r2 практически одинакова.\n",
    "    - Вектора весов разные.\n",
    "3. Сравнили нашу кастомную модель с модель из библиотеки sklearn:\n",
    "    - Наша кастомная модель работает как и модель из библиотеки sklearn."
   ]
  },
  {
   "cell_type": "markdown",
   "metadata": {},
   "source": [
    "<br>"
   ]
  },
  {
   "cell_type": "markdown",
   "metadata": {},
   "source": [
    "<a id=\"results\"></a>\n",
    "# Этап 6 - Результаты работы"
   ]
  },
  {
   "cell_type": "markdown",
   "metadata": {},
   "source": [
    "В ходе проекта мы успешно разработали метод [шифрования](https://ru.wikipedia.org/wiki/%D0%A8%D0%B8%D1%84%D1%80%D0%BE%D0%B2%D0%B0%D0%BD%D0%B8%D0%B5) данных, чтобы при преобразовании качество моделей машинного обучения не улучшилось. Тем самым помогли страховой компании защитить данные пользователей. \n",
    "1. Предобработали данные:\n",
    "    - Перевели все столбцы в нижний регистр\n",
    "    - Проверили данные на пропущенные значения, дупликаты, отрицательные значения. Обнаружилось 153 обьекта - дупликатов. Удалили дупликаты. Данные проверку прошли.\n",
    "    - Количество обьектов: 4847\n",
    "2. Посмотрели изменится ли качество линейной регрессии, если умножить матрицу признаков на обратимую матрицу:\n",
    "    - С помощью теории, мы доказали, что, **умножив матрицу признаков на обратимую матрицу, качество модели не измениться**.\n",
    "3. Предложили алгоритм преобразования данных:\n",
    "    1. Генерируем ключ (нашу обратимую матрицу)\n",
    "    2. Умножаем матрицу признаков на полученный ключ(обратимую матрицу)\n",
    "    3. Создаем модель Линейной регрессии\n",
    "    4. Тренируем модель на полученной матрице\n",
    "    5. Делаем предсказание\n",
    "    6. Смотрим на метрику *r2_score()* и полученный w вектор весов + w0 сдвиг предсказания\n",
    "4. Мы создали нашу кастомную модель Линейной Регрессии. \n",
    "5. Применили предложенный алгоритм и сравнили значения метрики *R2*:\n",
    "    - Посмотрели на данные до шифрования и после. Данные зашифровались.\n",
    "    - Попробовали восстановить зашифрованные данные с помощью ключа. Данные восстановились.\n",
    "    - Качество моделей не изменилось, метрика r2 практически одинакова.\n",
    "    - Вектора весов разные.\n",
    "    \n"
   ]
  },
  {
   "cell_type": "code",
   "execution_count": null,
   "metadata": {},
   "outputs": [],
   "source": []
  }
 ],
 "metadata": {
  "kernelspec": {
   "display_name": "Python 3",
   "language": "python",
   "name": "python3"
  },
  "language_info": {
   "codemirror_mode": {
    "name": "ipython",
    "version": 3
   },
   "file_extension": ".py",
   "mimetype": "text/x-python",
   "name": "python",
   "nbconvert_exporter": "python",
   "pygments_lexer": "ipython3",
   "version": "3.7.8"
  },
  "toc": {
   "base_numbering": 1,
   "nav_menu": {},
   "number_sections": true,
   "sideBar": true,
   "skip_h1_title": true,
   "title_cell": "Table of Contents",
   "title_sidebar": "Contents",
   "toc_cell": false,
   "toc_position": {},
   "toc_section_display": true,
   "toc_window_display": false
  }
 },
 "nbformat": 4,
 "nbformat_minor": 4
}
